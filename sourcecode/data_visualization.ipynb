{
 "cells": [
  {
   "cell_type": "markdown",
   "metadata": {},
   "source": [
    "<div style=\"font-family: Arial, Helvetica, sans-serif;\">\n",
    "    <div style=\"display: flex;padding-top: 20px\">\n",
    "        <div><strong>Môn học:</strong> Trực quan hóa dữ liệu</div>\n",
    "    </div>\n",
    "    <div style=\"display: flex;padding-top: 20px\">\n",
    "        <div style=\"padding-right: 10px;\"><strong>Lớp:</strong> 22KHDL</div>\n",
    "        <div></div>\n",
    "    </div>\n",
    "    <div>\n",
    "        <div style=\"display: flex;padding-top: 20px\">\n",
    "            <div style=\"padding-right: 10px;\"><strong>Thành viên:</strong></div>\n",
    "            <div></div>\n",
    "        </div>\n",
    "        <table style=\"font-size: 15px; display:flex;padding-top: 20px\">\n",
    "            <tr>\n",
    "                <th>No.</th>\n",
    "                <th>Student ID</th>\n",
    "                <th>Name</th>\n",
    "            </tr>\n",
    "            <tr>\n",
    "                <td>1</td>\n",
    "                <td>22127008</td>\n",
    "                <td style=\"text-align:left;\">Đặng Châu Anh</td>\n",
    "            </tr>\n",
    "            <tr>\n",
    "                <td>2</td>\n",
    "                <td>22127014</td>\n",
    "                <td style=\"text-align:left;\">Nguyễn Kim Anh</td>\n",
    "            </tr>\n",
    "            <tr>\n",
    "                <td>4</td>\n",
    "                <td>22127170</td>\n",
    "                <td style=\"text-align:left;\">Trần Dịu Huyền</td>\n",
    "            </tr>\n",
    "        </table>\n",
    "    </div>\n",
    "    <div style=\"font-size: 25px ;font-weight: 800; text-align: center;padding-top: 20px;\">LAB 01</div>\n",
    "    <div style=\"font-size: 20px ;font-weight: 800; text-align: center;padding-top: 20px;\">THU THẬP DỮ LIỆU VÀ TRỰC QUAN HÓA DỮ LIỆU</div>\n",
    "</div>"
   ]
  },
  {
   "cell_type": "markdown",
   "metadata": {},
   "source": [
    "# **Mục lục**\n",
    "\n",
    "- [**Giới thiệu**](#intro)\n",
    "    - [Mục tiêu đồ án](#objectives)\n",
    "    - [Thông tin dữ liệu](#data)\n",
    "- [**Thư viện sử dụng**](#packages)\n",
    "- [**Thu thập dữ liệu**](#collect)\n",
    "- [**Khám phá dữ liệu**](#eda)\n",
    "    - [Tổng quan về dữ liệu](#eda1)\n",
    "    - [EDA và tiền xử lí dữ liệu](#eda2)\n",
    "        - [Thống kê mô tả](#eda21)\n",
    "        - [Phân bố của dữ liệu dạng số](#eda22)\n",
    "        - [Phân bố của dữ liệu dạng phân loại](#eda23)\n",
    "    - [EDA và tiền xử lí dữ liệu](#eda3)\n",
    "- [**Phân tích dữ liệu và trực quan hóa**](#analysis)\n",
    "    - [1. Mức độ ảnh hưởng của thể loại âm nhạc đến sự thịnh hành của bài hát](#a1)\n",
    "        - [1.1. Các thể loại nhạc nào thịnh hành nhất ở Việt Nam](#a11)\n",
    "        - [1.2. Sự hiện diện của các thể loại âm nhạc trên thị trường âm nhạc Việt Nam](#a12)\n",
    "    - [2. Nhạc Việt hay Nhạc Ngoại: Tổng quan thị trường nhạc Việt hiện nay?](#a2)\n",
    "    - [3. Thời lượng như thế nào là tối ưu hiện tại?](#a3)\n",
    "    - [4. Nghệ sĩ nào đang thống trị thị trường âm nhạc Việt Nam?](#a4)\n",
    "        - [4.1. Nhạc Việt và nhạc ngoại: Xu hướng nghe nhạc nhghieeng về bên ngào ở thời điểm hiện tại? Và các nghệ sĩ nào đang thống trị nền âm nhạc?](#a41)\n",
    "    - [5. Colab hay Solo: Đâu là xu hướng hiện nay?](#a5)\n",
    "        - [5.1. So sánh giữa số lượng bài hát solo và bài hát hợp tác trên bảng xếp hạng](#a51)\n",
    "        - [5. 2. Có phải nghệ sĩ càng nổi tiếng thì càng nhiều người muốn hợp tác không?](#a52)\n",
    "    - [6. Xô đổ kỉ lục có khó không: Có phải càng về sau, thời gian để bức phá tiến vào bảng xếp hạng càng rút ngắn?](#a6)\n",
    "- [**Kết luận**](#conclusion)\n",
    "- [**Trích dẫn**](#references)\n"
   ]
  },
  {
   "cell_type": "markdown",
   "metadata": {},
   "source": [
    "<a id=\"intro\"></a>\n",
    "# **I. Giới thiệu**\n",
    "<a id=\"objectives\"></a>\n",
    "## **1. Mục tiêu phân tích:**\n",
    "- Thị hiếu âm nhạc của người nghe ở thị trường Việt Nam\n",
    "<a id=\"data\"></a>\n",
    "## **2. Thông tin dữ liệu:**\n"
   ]
  },
  {
   "cell_type": "markdown",
   "metadata": {},
   "source": [
    "<a id=\"packages\"></a>\n",
    "# **II. Thư viện sử dụng**"
   ]
  },
  {
   "cell_type": "code",
   "execution_count": null,
   "metadata": {},
   "outputs": [],
   "source": [
    "# Dùng để xuất svg cho plotly\n",
    "!pip install kaleido"
   ]
  },
  {
   "cell_type": "code",
   "execution_count": null,
   "metadata": {},
   "outputs": [],
   "source": [
    "from dotenv import load_dotenv\n",
    "from selenium import webdriver\n",
    "from selenium.webdriver.chrome.service import Service\n",
    "from selenium.webdriver.chrome.options import Options\n",
    "from selenium.webdriver.common.by import By\n",
    "from selenium.webdriver.support.ui import WebDriverWait\n",
    "from selenium.common.exceptions import NoSuchElementException, TimeoutException\n",
    "from selenium.webdriver.support import expected_conditions as EC\n",
    "from selenium.webdriver.common.keys import Keys\n",
    "from selenium.webdriver.common.action_chains import ActionChains\n",
    "import numpy as np\n",
    "import pandas as pd\n",
    "from bs4 import BeautifulSoup\n",
    "import requests\n",
    "import re\n",
    "import matplotlib.pyplot as plt\n",
    "import seaborn as sns\n",
    "import os\n",
    "import time\n",
    "import glob\n",
    "import plotly.express as px\n",
    "import matplotlib.patches as mpatches"
   ]
  },
  {
   "cell_type": "markdown",
   "metadata": {},
   "source": [
    "<a id=\"collect\"></a>\n",
    "# **III. Thu thập dữ liệu**"
   ]
  },
  {
   "cell_type": "markdown",
   "metadata": {},
   "source": [
    "Sau khi khảo sát và tìm hiểu về trình nghe nhạc trực tuyến **Spotify**, mục tiêu ban đầu mà nhóm xác định được cho việc thu thập dữ liệu là sẽ lấy tất cả các thông tin về bảng xếp hạng tại **Spotify chart** và bài hát mà có thể lấy được từ trang web **Spotify**, bao gồm:\n",
    "- URI\n",
    "- Tên bài hát `track_name`\n",
    "- Tên ca sĩ `artist_name`\n",
    "- Thể loại `genre`\n",
    "- Hãng đĩa/ Nhà phát hành `source`\n",
    "- Thời lượng `duration`\n",
    "- Số lượt nghe `streams`\n",
    "\n",
    "Với mục tiêu này, việc thu thập dữ liệu sẽ được thực hiện với sự hỗ trợ của thư viện `BeautifulSoup`, `requests` và `Selenium` vì đây là một trang web động cần yêu cầu đăng nhập. Biến `BASE_URL` sẽ được sử dụng để lưu trữ URL của route đầu tiên của **Spotify chart** cần sử dụng để thu thập dữ liệu.\n",
    "\n",
    "Đầu tiên chúng ta sẽ cài đặt ChromeDriver để sử dụng `Selenium`."
   ]
  },
  {
   "cell_type": "code",
   "execution_count": 3,
   "metadata": {},
   "outputs": [],
   "source": [
    "def initialize_chrome_driver():\n",
    "   \"\"\"\n",
    "   Initialize Chrome WebDriver with specific configurations\n",
    "   \n",
    "   Args:\n",
    "       user_name (str): Windows username for Chrome profile path\n",
    "       \n",
    "   Returns:\n",
    "       webdriver.Chrome: Configured Chrome WebDriver instance\n",
    "   \"\"\"\n",
    "   # Configure Chrome options\n",
    "   chrome_options = Options()\n",
    "   chrome_options.add_argument(\"--no-sandbox\")\n",
    "   chrome_options.add_argument(\"--start-maximized\")\n",
    "   \n",
    "   # Configure download preferences\n",
    "   chrome_options.add_experimental_option(\"prefs\", {\n",
    "       \"download.default_directory\": os.getcwd() + '.\\\\data',\n",
    "       \"download.prompt_for_download\": False,\n",
    "       \"profile.default_content_setting_values.automatic_downloads\": 1,\n",
    "       \"profile.default_content_setting_values.popups\": 0,\n",
    "   })\n",
    "   \n",
    "   # Initialize and return WebDriver\n",
    "   return webdriver.Chrome(\n",
    "       # Your path that contains chromedriver\n",
    "       service=Service(\"C:/Program Files/chromedriver/chromedriver.exe\"), \n",
    "       options=chrome_options\n",
    "   )"
   ]
  },
  {
   "cell_type": "markdown",
   "metadata": {},
   "source": [
    "Đây sẽ là phần xử lí login vào trang web Spotify chart, tên đăng nhập và mật khẩu sẽ được lưu trong file env để bảo mật thông tin."
   ]
  },
  {
   "cell_type": "code",
   "execution_count": 21,
   "metadata": {},
   "outputs": [],
   "source": [
    "def login (browser):    \n",
    "    load_dotenv('.env.test')\n",
    "    USER_NAME = os.getenv('USER_NAME')\n",
    "    PASS_WORD = os.getenv('PASS_WORD')   \n",
    "    \n",
    "    login_button = WebDriverWait(browser, 10).until(\n",
    "           EC.element_to_be_clickable((By.CSS_SELECTOR, \"[data-testid='charts-login']\"))\n",
    "    )\n",
    "    login_button.click()\n",
    "    \n",
    "    user_name = WebDriverWait(browser, 10).until(\n",
    "           EC.element_to_be_clickable((By.CSS_SELECTOR, \"[id='login-username']\"))\n",
    "    )\n",
    "    user_name.click()\n",
    "    user_name.send_keys(USER_NAME)\n",
    "    \n",
    "    pass_word = WebDriverWait(browser, 10).until(\n",
    "           EC.element_to_be_clickable((By.CSS_SELECTOR, \"[id='login-password']\"))\n",
    "    )\n",
    "    pass_word.click()\n",
    "    pass_word.send_keys(PASS_WORD)\n",
    "    \n",
    "    login = WebDriverWait(browser, 10).until(\n",
    "           EC.element_to_be_clickable((By.CSS_SELECTOR, \"[id='login-button']\"))\n",
    "    )\n",
    "    login.click()\n",
    "    \n",
    "    WebDriverWait(browser, 10).until(EC.url_contains(\"https://charts.spotify.com/charts/overview/global\"))"
   ]
  },
  {
   "cell_type": "markdown",
   "metadata": {},
   "source": [
    "Tiếp theo chúng ta sẽ xử lí phần cookies vì nó sẽ che mất nút download"
   ]
  },
  {
   "cell_type": "code",
   "execution_count": 9,
   "metadata": {},
   "outputs": [],
   "source": [
    "def handle_cookies_button(browser):\n",
    "    exit_button = WebDriverWait(browser, 10).until(\n",
    "           EC.element_to_be_clickable((By.CSS_SELECTOR, \"[id='onetrust-close-btn-container']\"))\n",
    "    )\n",
    "    \n",
    "    exit_button.click()"
   ]
  },
  {
   "cell_type": "markdown",
   "metadata": {},
   "source": [
    "Mục tiêu là thu thập dữ liệu top 200 mỗi tháng từ đầu năm 2018 đến nay, nhưng biến động giữa 1 tuần về việc ra nhạc là không nhiều nên nhóm quyết định lấy ngày đầu, ngày 15 và ngày cuối trong một tháng để thu thập dữ liệu, thời gian bắt đầu từ đầu năm 2018 đến cuối tháng 1 năm 2025."
   ]
  },
  {
   "cell_type": "markdown",
   "metadata": {},
   "source": [
    "Và cuối cùng chúng ta sẽ dùng Selenium để thu thập dữ liệu tự động từ trang web Spotify chart và dữ liệu sẽ được lưu tại địa chỉ `../data`"
   ]
  },
  {
   "cell_type": "code",
   "execution_count": null,
   "metadata": {},
   "outputs": [],
   "source": [
    "def download_spotify_charts(start_month=1, start_year=2018, end_month=1, end_year=2025):\n",
    "    \"\"\"\n",
    "    Download Spotify charts data for specified months\n",
    "    \n",
    "    Args:\n",
    "        start_month (int): Starting month (default: 1)\n",
    "        start_year (int): Starting year (default: 2024)\n",
    "        end_month (int): Ending month (default: 1)\n",
    "        end_year (int): Ending year (default: 2025)\n",
    "    \"\"\"\n",
    "    # Dictionary of days in each month\n",
    "    months = {1:31, 2:28, 3:31, 4:30, 5:31, 6:30, 7:31, 8:31, 9:30, 10:31, 11:30, 12:31}\n",
    "    \n",
    "    # Initialize Chrome\n",
    "    browser = initialize_chrome_driver()\n",
    "    browser.get(\"https://charts.spotify.com/home\")\n",
    "    login(browser)\n",
    "    \n",
    "    handle_cookies_button(browser)\n",
    "    \n",
    "    # Initialize tracking variables\n",
    "    current_month, current_year = start_month, start_year\n",
    "    \n",
    "    # Process charts from start month/year to end month/year\n",
    "    while (current_year < end_year) or (current_year == end_year and current_month <= end_month):\n",
    "        days_to_scrape = [1, 15, months[current_month]]\n",
    "        \n",
    "        for day in days_to_scrape:\n",
    "            url = f\"https://charts.spotify.com/charts/view/regional-vn-daily/{current_year}-{current_month:02d}-{day:02d}\"\n",
    "            browser.get(url)\n",
    "            \n",
    "            try:\n",
    "                download_button = WebDriverWait(browser, 10).until(\n",
    "                    EC.element_to_be_clickable((By.CSS_SELECTOR, 'button[data-encore-id=\"buttonTertiary\"]'))\n",
    "                )\n",
    "                download_button.click()\n",
    "            except Exception as e:\n",
    "                print(f\"Failed to download data for {current_year}-{current_month:02d}-{day:02d}: {e}\")\n",
    "        \n",
    "        # Update month and year tracking\n",
    "        if current_month == 12:\n",
    "            current_month = 1\n",
    "            current_year += 1\n",
    "        else:\n",
    "            current_month += 1\n",
    "    \n",
    "    time.sleep(2)\n",
    "    browser.quit()\n",
    "\n",
    "download_spotify_charts()"
   ]
  },
  {
   "cell_type": "markdown",
   "metadata": {},
   "source": [
    "Vậy là mỗi file csv đều có format tên là `regional-vn-weekly-2024-xx-xx.csv` với xx là ngày đầu, ngày 15 và ngày cuối của mỗi tháng. Tất cả các file này sẽ được lưu tại thư mục `../data` và tất cả sẽ được hợp lại thành file tên `spotify_chart.csv` và thêm cột `date` để biết được ngày thu thập dữ liệu."
   ]
  },
  {
   "cell_type": "code",
   "execution_count": null,
   "metadata": {},
   "outputs": [
    {
     "data": {
      "text/html": [
       "<div>\n",
       "<style scoped>\n",
       "    .dataframe tbody tr th:only-of-type {\n",
       "        vertical-align: middle;\n",
       "    }\n",
       "\n",
       "    .dataframe tbody tr th {\n",
       "        vertical-align: top;\n",
       "    }\n",
       "\n",
       "    .dataframe thead th {\n",
       "        text-align: right;\n",
       "    }\n",
       "</style>\n",
       "<table border=\"1\" class=\"dataframe\">\n",
       "  <thead>\n",
       "    <tr style=\"text-align: right;\">\n",
       "      <th></th>\n",
       "      <th>rank</th>\n",
       "      <th>uri</th>\n",
       "      <th>artist_names</th>\n",
       "      <th>track_name</th>\n",
       "      <th>source</th>\n",
       "      <th>peak_rank</th>\n",
       "      <th>previous_rank</th>\n",
       "      <th>days_on_chart</th>\n",
       "      <th>streams</th>\n",
       "    </tr>\n",
       "  </thead>\n",
       "  <tbody>\n",
       "    <tr>\n",
       "      <th>0</th>\n",
       "      <td>1</td>\n",
       "      <td>spotify:track:6XJsQ5nqCu8RUv9pv1iz1x</td>\n",
       "      <td>Mỹ Tâm</td>\n",
       "      <td>Người Hãy Quên Em Đi</td>\n",
       "      <td>MT Entertainment</td>\n",
       "      <td>1</td>\n",
       "      <td>1</td>\n",
       "      <td>2</td>\n",
       "      <td>22216</td>\n",
       "    </tr>\n",
       "    <tr>\n",
       "      <th>1</th>\n",
       "      <td>2</td>\n",
       "      <td>spotify:track:0ZP4bO2ywAv44HiEzzHaq5</td>\n",
       "      <td>Lê Hiếu, SOOBIN, Touliver</td>\n",
       "      <td>Ngày Mai Em Đi</td>\n",
       "      <td>Space Speakers</td>\n",
       "      <td>2</td>\n",
       "      <td>2</td>\n",
       "      <td>2</td>\n",
       "      <td>12878</td>\n",
       "    </tr>\n",
       "    <tr>\n",
       "      <th>2</th>\n",
       "      <td>3</td>\n",
       "      <td>spotify:track:08bNPGLD8AhKpnnERrAc6G</td>\n",
       "      <td>Marshmello, Anne-Marie</td>\n",
       "      <td>FRIENDS</td>\n",
       "      <td>Atlantic Records UK</td>\n",
       "      <td>3</td>\n",
       "      <td>4</td>\n",
       "      <td>2</td>\n",
       "      <td>9858</td>\n",
       "    </tr>\n",
       "    <tr>\n",
       "      <th>3</th>\n",
       "      <td>4</td>\n",
       "      <td>spotify:track:2ARqIya5NAuvFVHSN3bL0m</td>\n",
       "      <td>Zedd, Maren Morris, Grey</td>\n",
       "      <td>The Middle</td>\n",
       "      <td>UMGRI Interscope</td>\n",
       "      <td>3</td>\n",
       "      <td>3</td>\n",
       "      <td>2</td>\n",
       "      <td>9260</td>\n",
       "    </tr>\n",
       "    <tr>\n",
       "      <th>4</th>\n",
       "      <td>6</td>\n",
       "      <td>spotify:track:5yFSF6qQA1rcLsQRnBsZgb</td>\n",
       "      <td>Alan Walker, Noah Cyrus, Digital Farm Animals,...</td>\n",
       "      <td>All Falls Down (feat. Juliander)</td>\n",
       "      <td>Kreatell Music</td>\n",
       "      <td>6</td>\n",
       "      <td>7</td>\n",
       "      <td>2</td>\n",
       "      <td>8471</td>\n",
       "    </tr>\n",
       "    <tr>\n",
       "      <th>...</th>\n",
       "      <td>...</td>\n",
       "      <td>...</td>\n",
       "      <td>...</td>\n",
       "      <td>...</td>\n",
       "      <td>...</td>\n",
       "      <td>...</td>\n",
       "      <td>...</td>\n",
       "      <td>...</td>\n",
       "      <td>...</td>\n",
       "    </tr>\n",
       "    <tr>\n",
       "      <th>33937</th>\n",
       "      <td>196</td>\n",
       "      <td>spotify:track:0gzpqwLf1jhNjnSJEyweAX</td>\n",
       "      <td>Kuun Đức Nam, Linh Thộn</td>\n",
       "      <td>Tình cờ yêu em</td>\n",
       "      <td>MaiDao Music</td>\n",
       "      <td>9</td>\n",
       "      <td>167</td>\n",
       "      <td>523</td>\n",
       "      <td>17345</td>\n",
       "    </tr>\n",
       "    <tr>\n",
       "      <th>33938</th>\n",
       "      <td>197</td>\n",
       "      <td>spotify:track:0Lf0ydJp4nbcEkYgPtIUuD</td>\n",
       "      <td>Ronboogz</td>\n",
       "      <td>Khi Mà</td>\n",
       "      <td>MaiDao Music</td>\n",
       "      <td>122</td>\n",
       "      <td>180</td>\n",
       "      <td>170</td>\n",
       "      <td>17311</td>\n",
       "    </tr>\n",
       "    <tr>\n",
       "      <th>33939</th>\n",
       "      <td>198</td>\n",
       "      <td>spotify:track:5Ad2WBPQGCa9bPskbob5dN</td>\n",
       "      <td>VCC Left Hand</td>\n",
       "      <td>Mình Lượn Lờ Làm Wen (NOVINA)</td>\n",
       "      <td>VCC Left Hand</td>\n",
       "      <td>198</td>\n",
       "      <td>-1</td>\n",
       "      <td>1</td>\n",
       "      <td>17229</td>\n",
       "    </tr>\n",
       "    <tr>\n",
       "      <th>33940</th>\n",
       "      <td>199</td>\n",
       "      <td>spotify:track:37uug3gaq86yvFTjV6WkaV</td>\n",
       "      <td>Kay Chau Anh</td>\n",
       "      <td>Think About U</td>\n",
       "      <td>Yin Yang Media</td>\n",
       "      <td>89</td>\n",
       "      <td>195</td>\n",
       "      <td>78</td>\n",
       "      <td>17215</td>\n",
       "    </tr>\n",
       "    <tr>\n",
       "      <th>33941</th>\n",
       "      <td>200</td>\n",
       "      <td>spotify:track:3xRwKsEaxuxKtS3n9ZrWJ1</td>\n",
       "      <td>Bùi Công Nam</td>\n",
       "      <td>Tết Này Con Sẽ Về</td>\n",
       "      <td>BCN Entertainment</td>\n",
       "      <td>25</td>\n",
       "      <td>121</td>\n",
       "      <td>50</td>\n",
       "      <td>17183</td>\n",
       "    </tr>\n",
       "  </tbody>\n",
       "</table>\n",
       "<p>33942 rows × 9 columns</p>\n",
       "</div>"
      ],
      "text/plain": [
       "       rank                                   uri  \\\n",
       "0         1  spotify:track:6XJsQ5nqCu8RUv9pv1iz1x   \n",
       "1         2  spotify:track:0ZP4bO2ywAv44HiEzzHaq5   \n",
       "2         3  spotify:track:08bNPGLD8AhKpnnERrAc6G   \n",
       "3         4  spotify:track:2ARqIya5NAuvFVHSN3bL0m   \n",
       "4         6  spotify:track:5yFSF6qQA1rcLsQRnBsZgb   \n",
       "...     ...                                   ...   \n",
       "33937   196  spotify:track:0gzpqwLf1jhNjnSJEyweAX   \n",
       "33938   197  spotify:track:0Lf0ydJp4nbcEkYgPtIUuD   \n",
       "33939   198  spotify:track:5Ad2WBPQGCa9bPskbob5dN   \n",
       "33940   199  spotify:track:37uug3gaq86yvFTjV6WkaV   \n",
       "33941   200  spotify:track:3xRwKsEaxuxKtS3n9ZrWJ1   \n",
       "\n",
       "                                            artist_names  \\\n",
       "0                                                 Mỹ Tâm   \n",
       "1                              Lê Hiếu, SOOBIN, Touliver   \n",
       "2                                 Marshmello, Anne-Marie   \n",
       "3                               Zedd, Maren Morris, Grey   \n",
       "4      Alan Walker, Noah Cyrus, Digital Farm Animals,...   \n",
       "...                                                  ...   \n",
       "33937                            Kuun Đức Nam, Linh Thộn   \n",
       "33938                                           Ronboogz   \n",
       "33939                                      VCC Left Hand   \n",
       "33940                                       Kay Chau Anh   \n",
       "33941                                       Bùi Công Nam   \n",
       "\n",
       "                             track_name               source  peak_rank  \\\n",
       "0                  Người Hãy Quên Em Đi     MT Entertainment          1   \n",
       "1                        Ngày Mai Em Đi       Space Speakers          2   \n",
       "2                               FRIENDS  Atlantic Records UK          3   \n",
       "3                            The Middle     UMGRI Interscope          3   \n",
       "4      All Falls Down (feat. Juliander)       Kreatell Music          6   \n",
       "...                                 ...                  ...        ...   \n",
       "33937                    Tình cờ yêu em         MaiDao Music          9   \n",
       "33938                            Khi Mà         MaiDao Music        122   \n",
       "33939     Mình Lượn Lờ Làm Wen (NOVINA)        VCC Left Hand        198   \n",
       "33940                     Think About U       Yin Yang Media         89   \n",
       "33941                 Tết Này Con Sẽ Về    BCN Entertainment         25   \n",
       "\n",
       "       previous_rank  days_on_chart  streams  \n",
       "0                  1              2    22216  \n",
       "1                  2              2    12878  \n",
       "2                  4              2     9858  \n",
       "3                  3              2     9260  \n",
       "4                  7              2     8471  \n",
       "...              ...            ...      ...  \n",
       "33937            167            523    17345  \n",
       "33938            180            170    17311  \n",
       "33939             -1              1    17229  \n",
       "33940            195             78    17215  \n",
       "33941            121             50    17183  \n",
       "\n",
       "[33942 rows x 9 columns]"
      ]
     },
     "execution_count": 47,
     "metadata": {},
     "output_type": "execute_result"
    }
   ],
   "source": [
    "path = '../data'\n",
    "all_files = glob.glob(f\"{path}/*.csv\")\n",
    "\n",
    "df_list = []\n",
    "\n",
    "# Lấy ngày trong filename\n",
    "for file in all_files:\n",
    "    df = pd.read_csv(file)\n",
    "    df_list.append(df)\n",
    "\n",
    "# Hợp các dataframe lại\n",
    "raw_df = pd.concat(df_list, ignore_index=True)\n",
    "\n",
    "# Lưu dữ liệu vào file csv\n",
    "raw_df.to_csv('../data/spotify_chart.csv', index=False)\n",
    "\n",
    "raw_df"
   ]
  },
  {
   "cell_type": "markdown",
   "metadata": {},
   "source": [
    "Vậy là chúng ta đã thu thập xong được dữ liệu từ trang web Spotify chart, tiếp theo chúng ta sẽ tiếp thục thu thập các trường còn thiếu và các trường còn thiếu này sẽ được lấy từ Spotify. Việc liên kết giữa những bài hát này và chúng trên Spotify sẽ thông qua `uri` của bài hát, vì biết rằng mỗi bài hát chỉ có một URI duy nhất. Và trang web Spotify chart cũng được cung cấp thông tin từ API của Spotify.\n",
    "\n",
    "Đầu tiên, chúng ta sẽ lấy trích lấy URI của mỗi bài hát từ `raw_df` và lưu vào biến `track_id`."
   ]
  },
  {
   "cell_type": "code",
   "execution_count": 159,
   "metadata": {},
   "outputs": [],
   "source": [
    "def extract_id(uri):\n",
    "    return uri.split(':')[-1]\n",
    "\n",
    "track_id = []\n",
    "for uri in raw_df['uri']:\n",
    "    track_id.append(extract_id(uri))"
   ]
  },
  {
   "cell_type": "markdown",
   "metadata": {},
   "source": [
    "Tiếp theo, chúng ta sẽ sử dụng `track_id` này để lấy được thông tin bài hát từ Spotify, cụ thể là `duration` - thời lượng, `release_date` - ngày phát hành của bài hát và `streams` - tổng số lượt nghe đến thời điểm hiện tại. Nhưng trước đó chúng ta phải gom nhóm các `track_id` trùng nhau và lấy ra một `track_id` duy nhất. Đồng thời chúng ta cũng sẽ sử dụng cột `id` mới thay cho `uri` cũ với dữ liệu vừa mới được định dạng này."
   ]
  },
  {
   "cell_type": "code",
   "execution_count": null,
   "metadata": {},
   "outputs": [],
   "source": [
    "unique_tracks = raw_df.drop_duplicates(subset=['uri'])\n",
    "track_id = unique_tracks['uri'].tolist()\n",
    "track_id = [extract_id(uri) for uri in track_id]\n",
    "raw_df['id'] = raw_df['uri'].apply(extract_id)\n",
    "raw_df.drop(columns=['uri'], inplace=True)"
   ]
  },
  {
   "cell_type": "markdown",
   "metadata": {},
   "source": [
    "Đây là hàm lấy dữ liệu của mỗi bài hát từ Spotify, chúng ta sẽ sử dụng `Selenium` để tự động quá trình này: phân tích HTML để lấy `duration`, `release_date`, dùng XPath để lấy `streams` và trả về một dictionary chứa các thông tin này."
   ]
  },
  {
   "cell_type": "code",
   "execution_count": 7,
   "metadata": {},
   "outputs": [],
   "source": [
    "def get_track_info(track_id):\n",
    "    url = f\"https://open.spotify.com/track/{track_id}\"\n",
    "    fail_request = 1\n",
    "    browser = initialize_chrome_driver()\n",
    "    browser.get(url)\n",
    "    time.sleep(2)\n",
    "    try:\n",
    "        playcount_element = browser.find_element(By.CSS_SELECTOR, 'span[data-testid=\"playcount\"]')\n",
    "        \n",
    "        playcount = playcount_element.text if playcount_element else 'Request failed'\n",
    "    except Exception as e:\n",
    "        fail_request = track_id\n",
    "        print(f\"Failed to get play count\")\n",
    "    \n",
    "    browser.quit()\n",
    "    \n",
    "    time.sleep(1)\n",
    "    try:\n",
    "        response = requests.get(url)\n",
    "        if response.status_code == 200:\n",
    "            soup = BeautifulSoup(response.text, 'html.parser')\n",
    "            release_date_tag = soup.find('meta', {'name': 'music:release_date'})\n",
    "            duration_tag = soup.find('meta', {'name': 'music:duration'})\n",
    "            \n",
    "            release_date = release_date_tag['content'] if release_date_tag else 'Request failed'\n",
    "            duration = duration_tag['content'] if duration_tag else 'Request failed'\n",
    "            \n",
    "            return release_date, duration, playcount, 1\n",
    "        else:\n",
    "            return 'Request failed', 'Request failed', 'Request failed', track_id\n",
    "    except Exception as e:\n",
    "        return 'Request failed', 'Request failed', 'Request failed', track_id"
   ]
  },
  {
   "cell_type": "markdown",
   "metadata": {},
   "source": [
    "Tiếp theo, chúng ta sẽ lặp qua các `track_id` và gộp các thông tin vào DataFrame `raw_df`. Nhưng trong đó, như đã trình bày ở trên, chúng ta lấy dữ liệu hằng ngày nên `streams` hiện có trong `raw_df` vẫn là stream hằng ngày. Nên việc cần làm bây giờ là xóa cột `streams` và thêm cột `streams` mới với giá trị là stream cuối cùng của mỗi bài hát, tức tổng số lượt nghe đến thời điểm hiện tại. Mà thuộc tính này chúng ta sẽ thu thập ngay sau đây."
   ]
  },
  {
   "cell_type": "code",
   "execution_count": null,
   "metadata": {},
   "outputs": [],
   "source": [
    "# Xóa cột streams cũ\n",
    "raw_df.drop(columns=['streams'], inplace=True)\n",
    "\n",
    "# Bắt đầu thu thập dữ liệu\n",
    "release_dates = []\n",
    "durations = []\n",
    "streams = []\n",
    "fail_reqs = []\n",
    "\n",
    "for id in track_id:\n",
    "    release_date, duration, stream, fail_req = get_track_info(id)\n",
    "    time.sleep(2)\n",
    "    print(release_date, duration, stream)\n",
    "    release_dates.append(release_date)\n",
    "    durations.append(duration)\n",
    "    streams.append(stream)\n",
    "    fail_reqs.append(fail_req)\n",
    "    \n",
    "raw_df['release_date'] = release_dates\n",
    "raw_df['duration'] = durations\n",
    "raw_df['streams'] = streams"
   ]
  },
  {
   "cell_type": "code",
   "execution_count": 170,
   "metadata": {},
   "outputs": [
    {
     "data": {
      "text/html": [
       "<div>\n",
       "<style scoped>\n",
       "    .dataframe tbody tr th:only-of-type {\n",
       "        vertical-align: middle;\n",
       "    }\n",
       "\n",
       "    .dataframe tbody tr th {\n",
       "        vertical-align: top;\n",
       "    }\n",
       "\n",
       "    .dataframe thead th {\n",
       "        text-align: right;\n",
       "    }\n",
       "</style>\n",
       "<table border=\"1\" class=\"dataframe\">\n",
       "  <thead>\n",
       "    <tr style=\"text-align: right;\">\n",
       "      <th></th>\n",
       "      <th>rank</th>\n",
       "      <th>artist_names</th>\n",
       "      <th>track_name</th>\n",
       "      <th>source</th>\n",
       "      <th>peak_rank</th>\n",
       "      <th>previous_rank</th>\n",
       "      <th>days_on_chart</th>\n",
       "      <th>id</th>\n",
       "      <th>release_date</th>\n",
       "      <th>duration</th>\n",
       "      <th>streams</th>\n",
       "    </tr>\n",
       "  </thead>\n",
       "  <tbody>\n",
       "    <tr>\n",
       "      <th>19557</th>\n",
       "      <td>113</td>\n",
       "      <td>Sơn Tùng M-TP</td>\n",
       "      <td>Buông Đôi Tay Nhau Ra</td>\n",
       "      <td>Universal Music Indochina Distributed Labels</td>\n",
       "      <td>108</td>\n",
       "      <td>114</td>\n",
       "      <td>94</td>\n",
       "      <td>0YRtuiIMa3FM3LywGlJIii</td>\n",
       "      <td>2013-01-01</td>\n",
       "      <td>227</td>\n",
       "      <td>20,741,034</td>\n",
       "    </tr>\n",
       "    <tr>\n",
       "      <th>7790</th>\n",
       "      <td>95</td>\n",
       "      <td>Imagine Dragons</td>\n",
       "      <td>Believer</td>\n",
       "      <td>Kid Ina Korner / Interscope</td>\n",
       "      <td>72</td>\n",
       "      <td>96</td>\n",
       "      <td>284</td>\n",
       "      <td>0pqnGHJpmpxLKifKRmU6WP</td>\n",
       "      <td>2019-01-18</td>\n",
       "      <td>179</td>\n",
       "      <td>2,476,251,414</td>\n",
       "    </tr>\n",
       "    <tr>\n",
       "      <th>24443</th>\n",
       "      <td>185</td>\n",
       "      <td>BTS</td>\n",
       "      <td>Yet To Come (Hyundai Ver.)</td>\n",
       "      <td>BIGHIT MUSIC</td>\n",
       "      <td>3</td>\n",
       "      <td>139</td>\n",
       "      <td>23</td>\n",
       "      <td>4ncTUgTfUV3wrjTPzKvn01</td>\n",
       "      <td>2022-09-23</td>\n",
       "      <td>224</td>\n",
       "      <td>17,375,777</td>\n",
       "    </tr>\n",
       "    <tr>\n",
       "      <th>32861</th>\n",
       "      <td>186</td>\n",
       "      <td>Wxrdie</td>\n",
       "      <td>Đau Đầu</td>\n",
       "      <td>Universal Music Indochina Distributed Labels</td>\n",
       "      <td>186</td>\n",
       "      <td>-1</td>\n",
       "      <td>1</td>\n",
       "      <td>24vkxodYasYenh3U8TUqVy</td>\n",
       "      <td>2024-11-12</td>\n",
       "      <td>224</td>\n",
       "      <td>977,333</td>\n",
       "    </tr>\n",
       "    <tr>\n",
       "      <th>11477</th>\n",
       "      <td>20</td>\n",
       "      <td>Charlie Puth</td>\n",
       "      <td>I Warned Myself</td>\n",
       "      <td>Artist Partner</td>\n",
       "      <td>20</td>\n",
       "      <td>22</td>\n",
       "      <td>10</td>\n",
       "      <td>3707IBa4HnS3zDDoWfeUBl</td>\n",
       "      <td>2019-08-27</td>\n",
       "      <td>211</td>\n",
       "      <td>46,257,517</td>\n",
       "    </tr>\n",
       "  </tbody>\n",
       "</table>\n",
       "</div>"
      ],
      "text/plain": [
       "       rank     artist_names                  track_name  \\\n",
       "19557   113    Sơn Tùng M-TP       Buông Đôi Tay Nhau Ra   \n",
       "7790     95  Imagine Dragons                    Believer   \n",
       "24443   185              BTS  Yet To Come (Hyundai Ver.)   \n",
       "32861   186           Wxrdie                     Đau Đầu   \n",
       "11477    20     Charlie Puth             I Warned Myself   \n",
       "\n",
       "                                             source  peak_rank  previous_rank  \\\n",
       "19557  Universal Music Indochina Distributed Labels        108            114   \n",
       "7790                    Kid Ina Korner / Interscope         72             96   \n",
       "24443                                  BIGHIT MUSIC          3            139   \n",
       "32861  Universal Music Indochina Distributed Labels        186             -1   \n",
       "11477                                Artist Partner         20             22   \n",
       "\n",
       "       days_on_chart                      id release_date  duration  \\\n",
       "19557             94  0YRtuiIMa3FM3LywGlJIii   2013-01-01       227   \n",
       "7790             284  0pqnGHJpmpxLKifKRmU6WP   2019-01-18       179   \n",
       "24443             23  4ncTUgTfUV3wrjTPzKvn01   2022-09-23       224   \n",
       "32861              1  24vkxodYasYenh3U8TUqVy   2024-11-12       224   \n",
       "11477             10  3707IBa4HnS3zDDoWfeUBl   2019-08-27       211   \n",
       "\n",
       "             streams  \n",
       "19557     20,741,034  \n",
       "7790   2,476,251,414  \n",
       "24443     17,375,777  \n",
       "32861        977,333  \n",
       "11477     46,257,517  "
      ]
     },
     "execution_count": 170,
     "metadata": {},
     "output_type": "execute_result"
    }
   ],
   "source": [
    "raw_df.sample(5)"
   ]
  },
  {
   "cell_type": "markdown",
   "metadata": {},
   "source": [
    "Vậy là chúng ta đã hoàn thành việc thu thập dữ liệu còn thiếu từ Spotify, tiếp theo chúng ta sẽ lưu dữ liệu vào file `../data/spotify_chart_v1.csv` để tái sử dụng dữ liệu và tiến hành khám phá dữ liệu."
   ]
  },
  {
   "cell_type": "code",
   "execution_count": null,
   "metadata": {},
   "outputs": [],
   "source": [
    "raw_df.to_csv('../data/spotify_chart_v1.csv', index=False, encoding='utf-8')"
   ]
  },
  {
   "cell_type": "markdown",
   "metadata": {},
   "source": [
    "<a id=\"eda\"></a>\n",
    "# **IV. Khám phá dữ liệu**\n",
    "\n",
    "Trước khi đến phần khám phá dữ liệu, chúng ta sẽ đọc dữ liệu từ file `../data/spotify_chart_v1.csv` đã lưu ở phần trước và bắt đầu khám phá."
   ]
  },
  {
   "cell_type": "code",
   "execution_count": null,
   "metadata": {},
   "outputs": [
    {
     "data": {
      "text/html": [
       "<div>\n",
       "<style scoped>\n",
       "    .dataframe tbody tr th:only-of-type {\n",
       "        vertical-align: middle;\n",
       "    }\n",
       "\n",
       "    .dataframe tbody tr th {\n",
       "        vertical-align: top;\n",
       "    }\n",
       "\n",
       "    .dataframe thead th {\n",
       "        text-align: right;\n",
       "    }\n",
       "</style>\n",
       "<table border=\"1\" class=\"dataframe\">\n",
       "  <thead>\n",
       "    <tr style=\"text-align: right;\">\n",
       "      <th></th>\n",
       "      <th>rank</th>\n",
       "      <th>artist_names</th>\n",
       "      <th>track_name</th>\n",
       "      <th>source</th>\n",
       "      <th>peak_rank</th>\n",
       "      <th>previous_rank</th>\n",
       "      <th>days_on_chart</th>\n",
       "      <th>id</th>\n",
       "      <th>release_date</th>\n",
       "      <th>duration</th>\n",
       "      <th>streams</th>\n",
       "    </tr>\n",
       "  </thead>\n",
       "  <tbody>\n",
       "    <tr>\n",
       "      <th>0</th>\n",
       "      <td>1</td>\n",
       "      <td>Mỹ Tâm</td>\n",
       "      <td>Người Hãy Quên Em Đi</td>\n",
       "      <td>MT Entertainment</td>\n",
       "      <td>1</td>\n",
       "      <td>1</td>\n",
       "      <td>2</td>\n",
       "      <td>6XJsQ5nqCu8RUv9pv1iz1x</td>\n",
       "      <td>2017-08-02</td>\n",
       "      <td>218</td>\n",
       "      <td>23,041,707</td>\n",
       "    </tr>\n",
       "    <tr>\n",
       "      <th>1</th>\n",
       "      <td>1</td>\n",
       "      <td>Mỹ Tâm</td>\n",
       "      <td>Người Hãy Quên Em Đi</td>\n",
       "      <td>MT Entertainment</td>\n",
       "      <td>1</td>\n",
       "      <td>1</td>\n",
       "      <td>18</td>\n",
       "      <td>6XJsQ5nqCu8RUv9pv1iz1x</td>\n",
       "      <td>2017-08-02</td>\n",
       "      <td>218</td>\n",
       "      <td>23,041,707</td>\n",
       "    </tr>\n",
       "    <tr>\n",
       "      <th>2</th>\n",
       "      <td>1</td>\n",
       "      <td>Mỹ Tâm</td>\n",
       "      <td>Người Hãy Quên Em Đi</td>\n",
       "      <td>MT Entertainment</td>\n",
       "      <td>1</td>\n",
       "      <td>1</td>\n",
       "      <td>19</td>\n",
       "      <td>6XJsQ5nqCu8RUv9pv1iz1x</td>\n",
       "      <td>2017-08-02</td>\n",
       "      <td>218</td>\n",
       "      <td>23,041,707</td>\n",
       "    </tr>\n",
       "    <tr>\n",
       "      <th>3</th>\n",
       "      <td>1</td>\n",
       "      <td>Mỹ Tâm</td>\n",
       "      <td>Người Hãy Quên Em Đi</td>\n",
       "      <td>MT Entertainment</td>\n",
       "      <td>1</td>\n",
       "      <td>1</td>\n",
       "      <td>33</td>\n",
       "      <td>6XJsQ5nqCu8RUv9pv1iz1x</td>\n",
       "      <td>2017-08-02</td>\n",
       "      <td>218</td>\n",
       "      <td>23,041,707</td>\n",
       "    </tr>\n",
       "    <tr>\n",
       "      <th>4</th>\n",
       "      <td>1</td>\n",
       "      <td>Mỹ Tâm</td>\n",
       "      <td>Người Hãy Quên Em Đi</td>\n",
       "      <td>MT Entertainment</td>\n",
       "      <td>1</td>\n",
       "      <td>1</td>\n",
       "      <td>48</td>\n",
       "      <td>6XJsQ5nqCu8RUv9pv1iz1x</td>\n",
       "      <td>2017-08-02</td>\n",
       "      <td>218</td>\n",
       "      <td>23,041,707</td>\n",
       "    </tr>\n",
       "  </tbody>\n",
       "</table>\n",
       "</div>"
      ],
      "text/plain": [
       "   rank artist_names            track_name            source  peak_rank  \\\n",
       "0     1       Mỹ Tâm  Người Hãy Quên Em Đi  MT Entertainment          1   \n",
       "1     1       Mỹ Tâm  Người Hãy Quên Em Đi  MT Entertainment          1   \n",
       "2     1       Mỹ Tâm  Người Hãy Quên Em Đi  MT Entertainment          1   \n",
       "3     1       Mỹ Tâm  Người Hãy Quên Em Đi  MT Entertainment          1   \n",
       "4     1       Mỹ Tâm  Người Hãy Quên Em Đi  MT Entertainment          1   \n",
       "\n",
       "   previous_rank  days_on_chart                      id release_date  \\\n",
       "0              1              2  6XJsQ5nqCu8RUv9pv1iz1x   2017-08-02   \n",
       "1              1             18  6XJsQ5nqCu8RUv9pv1iz1x   2017-08-02   \n",
       "2              1             19  6XJsQ5nqCu8RUv9pv1iz1x   2017-08-02   \n",
       "3              1             33  6XJsQ5nqCu8RUv9pv1iz1x   2017-08-02   \n",
       "4              1             48  6XJsQ5nqCu8RUv9pv1iz1x   2017-08-02   \n",
       "\n",
       "   duration     streams  \n",
       "0       218  23,041,707  \n",
       "1       218  23,041,707  \n",
       "2       218  23,041,707  \n",
       "3       218  23,041,707  \n",
       "4       218  23,041,707  "
      ]
     },
     "execution_count": 179,
     "metadata": {},
     "output_type": "execute_result"
    }
   ],
   "source": [
    "raw_df = pd.read_csv('../data/spotify_chart_v1.csv', encoding='utf-8')\n",
    "raw_df.head(5)"
   ]
  },
  {
   "cell_type": "markdown",
   "metadata": {},
   "source": [
    "<a id=\"eda1\"></a>\n",
    "## **1. Tổng quan về dữ liệu**"
   ]
  },
  {
   "cell_type": "markdown",
   "metadata": {},
   "source": [
    "Ở phần này thì chúng ta sẽ khám phá về cấu trúc của dữ liệu. Đầu tiên, chúng ta sẽ kiểm tra số dòng và số cột của dữ liệu để chắc rằng dữ liệu phù hợp với yêu cầu về cấu trúc của bài (hơn 3000 dòng trước tiền xử lí).\n",
    "\n",
    "**Kích thước dữ liệu:**"
   ]
  },
  {
   "cell_type": "code",
   "execution_count": 6,
   "metadata": {},
   "outputs": [
    {
     "name": "stdout",
     "output_type": "stream",
     "text": [
      "Number of rows: 20276\n",
      "Number of columns: 8\n"
     ]
    }
   ],
   "source": [
    "print(f\"Number of rows: {raw_df.shape[0]}\")\n",
    "print(f\"Number of columns: {raw_df.shape[1]}\")"
   ]
  },
  {
   "cell_type": "markdown",
   "metadata": {},
   "source": [
    "Dữ liệu đã đạt yêu cầu của đề, tuy nhiên, ta thấy lặp khá nhiều dữ liệu của một bài hát (tức một record) do việc thu thập dữ liệu từ bảng xếp hạng hàng ngày. Vì vậy, chúng ta sẽ tiến hành xử lí dữ liệu trùng lặp này bằng cách giữ lại duy nhất một record cho mỗi `id` bài hát với `days_on_chart` lớn nhất, tức số ngày bài hát đứng trên bảng xếp hạng cuối cùng."
   ]
  },
  {
   "cell_type": "code",
   "execution_count": null,
   "metadata": {},
   "outputs": [
    {
     "name": "stdout",
     "output_type": "stream",
     "text": [
      "Number of rows: 3487\n",
      "Number of columns: 11\n"
     ]
    },
    {
     "data": {
      "text/html": [
       "<div>\n",
       "<style scoped>\n",
       "    .dataframe tbody tr th:only-of-type {\n",
       "        vertical-align: middle;\n",
       "    }\n",
       "\n",
       "    .dataframe tbody tr th {\n",
       "        vertical-align: top;\n",
       "    }\n",
       "\n",
       "    .dataframe thead th {\n",
       "        text-align: right;\n",
       "    }\n",
       "</style>\n",
       "<table border=\"1\" class=\"dataframe\">\n",
       "  <thead>\n",
       "    <tr style=\"text-align: right;\">\n",
       "      <th></th>\n",
       "      <th>rank</th>\n",
       "      <th>artist_names</th>\n",
       "      <th>track_name</th>\n",
       "      <th>source</th>\n",
       "      <th>peak_rank</th>\n",
       "      <th>previous_rank</th>\n",
       "      <th>days_on_chart</th>\n",
       "      <th>id</th>\n",
       "      <th>release_date</th>\n",
       "      <th>duration</th>\n",
       "      <th>streams</th>\n",
       "    </tr>\n",
       "  </thead>\n",
       "  <tbody>\n",
       "    <tr>\n",
       "      <th>0</th>\n",
       "      <td>73</td>\n",
       "      <td>Red Velvet</td>\n",
       "      <td>RBB (Really Bad Boy)</td>\n",
       "      <td>SM Entertainment</td>\n",
       "      <td>14</td>\n",
       "      <td>79</td>\n",
       "      <td>15</td>\n",
       "      <td>006LuHbY5Tt9dhbdSOnVq6</td>\n",
       "      <td>2018-12-14</td>\n",
       "      <td>212</td>\n",
       "      <td>646,798,750</td>\n",
       "    </tr>\n",
       "    <tr>\n",
       "      <th>1</th>\n",
       "      <td>68</td>\n",
       "      <td>Post Malone, The Weeknd</td>\n",
       "      <td>One Right Now (with The Weeknd)</td>\n",
       "      <td>Republic Records</td>\n",
       "      <td>39</td>\n",
       "      <td>60</td>\n",
       "      <td>27</td>\n",
       "      <td>00Blm7zeNqgYLPtW6zg8cj</td>\n",
       "      <td>2021-11-05</td>\n",
       "      <td>194</td>\n",
       "      <td>685,454,538</td>\n",
       "    </tr>\n",
       "    <tr>\n",
       "      <th>2</th>\n",
       "      <td>147</td>\n",
       "      <td>j-hope</td>\n",
       "      <td>Safety Zone</td>\n",
       "      <td>BIGHIT MUSIC</td>\n",
       "      <td>15</td>\n",
       "      <td>168</td>\n",
       "      <td>18</td>\n",
       "      <td>00I41xsW6SunZDJ5fB8KAd</td>\n",
       "      <td>2022-07-15</td>\n",
       "      <td>165</td>\n",
       "      <td>43,608,495</td>\n",
       "    </tr>\n",
       "    <tr>\n",
       "      <th>3</th>\n",
       "      <td>150</td>\n",
       "      <td>Chillies, SUNI, Rhymastic</td>\n",
       "      <td>Cứ Chill Thôi</td>\n",
       "      <td>WM Vietnam</td>\n",
       "      <td>4</td>\n",
       "      <td>86</td>\n",
       "      <td>1272</td>\n",
       "      <td>014DA3BdnmD3kI5pBogH7c</td>\n",
       "      <td>2020-07-24</td>\n",
       "      <td>240</td>\n",
       "      <td>1,574,927,209</td>\n",
       "    </tr>\n",
       "    <tr>\n",
       "      <th>4</th>\n",
       "      <td>119</td>\n",
       "      <td>Da LAB, JGKiD (Da LAB), MPaKK</td>\n",
       "      <td>CILU</td>\n",
       "      <td>Yin Yang Media</td>\n",
       "      <td>66</td>\n",
       "      <td>99</td>\n",
       "      <td>31</td>\n",
       "      <td>0167mYf0UIa3qBqy4NZgt5</td>\n",
       "      <td>2021-02-21</td>\n",
       "      <td>282</td>\n",
       "      <td>730,068</td>\n",
       "    </tr>\n",
       "  </tbody>\n",
       "</table>\n",
       "</div>"
      ],
      "text/plain": [
       "   rank                   artist_names                       track_name  \\\n",
       "0    73                     Red Velvet             RBB (Really Bad Boy)   \n",
       "1    68        Post Malone, The Weeknd  One Right Now (with The Weeknd)   \n",
       "2   147                         j-hope                      Safety Zone   \n",
       "3   150      Chillies, SUNI, Rhymastic                    Cứ Chill Thôi   \n",
       "4   119  Da LAB, JGKiD (Da LAB), MPaKK                             CILU   \n",
       "\n",
       "             source  peak_rank  previous_rank  days_on_chart  \\\n",
       "0  SM Entertainment         14             79             15   \n",
       "1  Republic Records         39             60             27   \n",
       "2      BIGHIT MUSIC         15            168             18   \n",
       "3        WM Vietnam          4             86           1272   \n",
       "4    Yin Yang Media         66             99             31   \n",
       "\n",
       "                       id release_date  duration        streams  \n",
       "0  006LuHbY5Tt9dhbdSOnVq6   2018-12-14       212    646,798,750  \n",
       "1  00Blm7zeNqgYLPtW6zg8cj   2021-11-05       194    685,454,538  \n",
       "2  00I41xsW6SunZDJ5fB8KAd   2022-07-15       165     43,608,495  \n",
       "3  014DA3BdnmD3kI5pBogH7c   2020-07-24       240  1,574,927,209  \n",
       "4  0167mYf0UIa3qBqy4NZgt5   2021-02-21       282        730,068  "
      ]
     },
     "metadata": {},
     "output_type": "display_data"
    }
   ],
   "source": [
    "raw_df = raw_df.loc[raw_df.groupby('id')['days_on_chart'].idxmax()].reset_index(drop=True)\n",
    "\n",
    "print(f\"Number of rows: {raw_df.shape[0]}\")\n",
    "print(f\"Number of columns: {raw_df.shape[1]}\")\n",
    "\n",
    "display(raw_df.head())"
   ]
  },
  {
   "cell_type": "markdown",
   "metadata": {},
   "source": [
    "Số lượng record sau khi xử lí trùng lặp sẽ giảm đi rất nhiều, nhưng vẫn đảm bảo đủ dữ liệu cho việc khám phá và trực quan hóa dữ liệu theo yêu cầu của đề."
   ]
  },
  {
   "cell_type": "markdown",
   "metadata": {},
   "source": [
    "Tiếp theo, chúng ta sẽ kiểm tra xem kiểu dữ liệu của các cột trong dữ liệu để biết được cần phải xử lí kiểu dữ liệu của các cột nào trong dữ liệu ở phần tiền xử lí.\n",
    "\n",
    "**Kiểu dữ liệu của các cột:**"
   ]
  },
  {
   "cell_type": "code",
   "execution_count": 183,
   "metadata": {},
   "outputs": [
    {
     "name": "stdout",
     "output_type": "stream",
     "text": [
      "<class 'pandas.core.frame.DataFrame'>\n",
      "RangeIndex: 3487 entries, 0 to 3486\n",
      "Data columns (total 11 columns):\n",
      " #   Column         Non-Null Count  Dtype \n",
      "---  ------         --------------  ----- \n",
      " 0   rank           3487 non-null   int64 \n",
      " 1   artist_names   3487 non-null   object\n",
      " 2   track_name     3487 non-null   object\n",
      " 3   source         3487 non-null   object\n",
      " 4   peak_rank      3487 non-null   int64 \n",
      " 5   previous_rank  3487 non-null   int64 \n",
      " 6   days_on_chart  3487 non-null   int64 \n",
      " 7   id             3487 non-null   object\n",
      " 8   release_date   3487 non-null   object\n",
      " 9   duration       3487 non-null   int64 \n",
      " 10  streams        3487 non-null   object\n",
      "dtypes: int64(5), object(6)\n",
      "memory usage: 299.8+ KB\n"
     ]
    }
   ],
   "source": [
    "raw_df.info()"
   ]
  },
  {
   "cell_type": "markdown",
   "metadata": {},
   "source": [
    "**Thông tin về các cột trong dữ liệu**\n",
    "\n",
    "Chúng ta có 11 cột trong dữ liệu, với tất cả các cột đều có kiểu dữ liệu khác nhau:\n",
    "Ý nghĩa của các cột trong dữ liệu như sau:\n",
    "| Tên cột     | Ý nghĩa                           | Kiểu dữ liệu       |\n",
    "|-----------------|---------------------------------------|-----------------|\n",
    "| rank            | Đường dẫn của bài hát                 | Numeric         |\n",
    "| artist_name     | Tên ca sĩ                             | Categorical     |\n",
    "| track_name      | Tên bài hát                           | Categorical     |\n",
    "| source          | Hãng đĩa/ Nhà phát hành               | Categorical     |\n",
    "| peak_rank       | Hạng cao nhất của bài hát             | Numeric         |\n",
    "| previous_rank   | Hạng trước đó của bài hát             | Numeric         |\n",
    "| days_on_chart   | Số ngày bài hát đứng trên bảng xếp hạng | Numeric         |\n",
    "| id              | Mã bài hát                            | Categorical     |\n",
    "| release_date    | Ngày phát hành bài hát                | Categorical     |\n",
    "| duration        | Thời lượng bài hát                    | Numeric         |\n",
    "| streams         | Số lượt nghe của bài hát              | Numeric         |\n",
    "\n",
    "Vậy cũng có nghĩa là, mỗi hàng trong dữ liệu sẽ chứa thông tin về một bài hát."
   ]
  },
  {
   "cell_type": "markdown",
   "metadata": {},
   "source": [
    "**Kiểm tra dữ liệu bị thiếu**\n",
    "\n",
    "Ở phần này, chúng ta sẽ kiểm tra xem dữ liệu có bị thiếu không, nếu có thì chúng ta sẽ xử lí dữ liệu bị thiếu ở phần tiền xử lí để làm sạch dữ liệu."
   ]
  },
  {
   "cell_type": "code",
   "execution_count": 184,
   "metadata": {},
   "outputs": [
    {
     "name": "stdout",
     "output_type": "stream",
     "text": [
      "Giá trị thiếu trong mỗi cột:\n",
      "rank             0\n",
      "artist_names     0\n",
      "track_name       0\n",
      "source           0\n",
      "peak_rank        0\n",
      "previous_rank    0\n",
      "days_on_chart    0\n",
      "id               0\n",
      "release_date     0\n",
      "duration         0\n",
      "streams          0\n",
      "dtype: int64\n"
     ]
    }
   ],
   "source": [
    "print('Giá trị thiếu trong mỗi cột:')\n",
    "print(raw_df.isnull().sum())"
   ]
  },
  {
   "cell_type": "markdown",
   "metadata": {},
   "source": [
    "Rất may mắn là chúng ta không có dữ liệu nào bị thiếu ở mỗi trường. Tuy nhiên do việc thu thập dữ liệu có thể gặp lỗi nên chúng ta sẽ kiểm tra xem các cột `release_date` và `duration` và `streams` có giá trị không hợp lý không ở phần sau."
   ]
  },
  {
   "cell_type": "markdown",
   "metadata": {},
   "source": [
    "**Kiểm tra dữ liệu bị trùng**\n",
    "\n",
    "Ở phần này, chúng ta sẽ kiểm tra xem dữ liệu có bị trùng không, nếu có thì chúng ta sẽ xóa dữ liệu trùng."
   ]
  },
  {
   "cell_type": "code",
   "execution_count": 185,
   "metadata": {},
   "outputs": [
    {
     "name": "stdout",
     "output_type": "stream",
     "text": [
      "Dữ liệu trùng lặp:\n",
      "0\n"
     ]
    }
   ],
   "source": [
    "print('Dữ liệu trùng lặp:')\n",
    "print(raw_df.duplicated().sum())"
   ]
  },
  {
   "cell_type": "markdown",
   "metadata": {},
   "source": [
    "Vậy là giai đoạn thu thập dữ liệu làm khá tốt, không có dữ liệu bị trùng. Tiếp theo, chúng ta sẽ tiến hành khám phá xem có bao nhiêu giá trị khác nhau trong mỗi cột. Điều này nhằm giúp chúng ta hiểu rõ hơn về dữ liệu, đặc biệt là về `artist_names`, `track_name`, `source` để có cái nhìn tổng quan về dữ liệu."
   ]
  },
  {
   "cell_type": "code",
   "execution_count": 186,
   "metadata": {},
   "outputs": [
    {
     "name": "stdout",
     "output_type": "stream",
     "text": [
      "artist_names: 1558 giá trị khác nhau\n",
      "track_name: 2911 giá trị khác nhau\n",
      "source: 572 giá trị khác nhau\n"
     ]
    }
   ],
   "source": [
    "for col in ['artist_names', 'track_name', 'source']:\n",
    "    print(f\"{col}: {raw_df[col].nunique()} giá trị khác nhau\")"
   ]
  },
  {
   "cell_type": "markdown",
   "metadata": {},
   "source": [
    "<a id=\"eda2\"></a>\n",
    "## **2. EDA và Tiền xử lí dữ liệu**"
   ]
  },
  {
   "cell_type": "markdown",
   "metadata": {},
   "source": [
    "Phần này chúng ta sẽ phân tích sâu hơn về tập dữ liệu để khám phá mẫu, phân phối và mối quan hệ giữa các biến.\n",
    "\n",
    "Đầu tiên, chúng ta sẽ đảm bảo rằng các trường dữ liệu được chuyển sang kiểu dữ liệu hợp lí của nó. Liệu tất cả các trường đều thích hợp với kiểu dữ liệu phân loại không? Để trả lời câu hỏi này, chúng ta sẽ xem lại dữ liệu."
   ]
  },
  {
   "cell_type": "code",
   "execution_count": 187,
   "metadata": {},
   "outputs": [
    {
     "data": {
      "text/html": [
       "<div>\n",
       "<style scoped>\n",
       "    .dataframe tbody tr th:only-of-type {\n",
       "        vertical-align: middle;\n",
       "    }\n",
       "\n",
       "    .dataframe tbody tr th {\n",
       "        vertical-align: top;\n",
       "    }\n",
       "\n",
       "    .dataframe thead th {\n",
       "        text-align: right;\n",
       "    }\n",
       "</style>\n",
       "<table border=\"1\" class=\"dataframe\">\n",
       "  <thead>\n",
       "    <tr style=\"text-align: right;\">\n",
       "      <th></th>\n",
       "      <th>rank</th>\n",
       "      <th>artist_names</th>\n",
       "      <th>track_name</th>\n",
       "      <th>source</th>\n",
       "      <th>peak_rank</th>\n",
       "      <th>previous_rank</th>\n",
       "      <th>days_on_chart</th>\n",
       "      <th>id</th>\n",
       "      <th>release_date</th>\n",
       "      <th>duration</th>\n",
       "      <th>streams</th>\n",
       "    </tr>\n",
       "  </thead>\n",
       "  <tbody>\n",
       "    <tr>\n",
       "      <th>0</th>\n",
       "      <td>73</td>\n",
       "      <td>Red Velvet</td>\n",
       "      <td>RBB (Really Bad Boy)</td>\n",
       "      <td>SM Entertainment</td>\n",
       "      <td>14</td>\n",
       "      <td>79</td>\n",
       "      <td>15</td>\n",
       "      <td>006LuHbY5Tt9dhbdSOnVq6</td>\n",
       "      <td>2018-12-14</td>\n",
       "      <td>212</td>\n",
       "      <td>646,798,750</td>\n",
       "    </tr>\n",
       "    <tr>\n",
       "      <th>1</th>\n",
       "      <td>68</td>\n",
       "      <td>Post Malone, The Weeknd</td>\n",
       "      <td>One Right Now (with The Weeknd)</td>\n",
       "      <td>Republic Records</td>\n",
       "      <td>39</td>\n",
       "      <td>60</td>\n",
       "      <td>27</td>\n",
       "      <td>00Blm7zeNqgYLPtW6zg8cj</td>\n",
       "      <td>2021-11-05</td>\n",
       "      <td>194</td>\n",
       "      <td>685,454,538</td>\n",
       "    </tr>\n",
       "    <tr>\n",
       "      <th>2</th>\n",
       "      <td>147</td>\n",
       "      <td>j-hope</td>\n",
       "      <td>Safety Zone</td>\n",
       "      <td>BIGHIT MUSIC</td>\n",
       "      <td>15</td>\n",
       "      <td>168</td>\n",
       "      <td>18</td>\n",
       "      <td>00I41xsW6SunZDJ5fB8KAd</td>\n",
       "      <td>2022-07-15</td>\n",
       "      <td>165</td>\n",
       "      <td>43,608,495</td>\n",
       "    </tr>\n",
       "    <tr>\n",
       "      <th>3</th>\n",
       "      <td>150</td>\n",
       "      <td>Chillies, SUNI, Rhymastic</td>\n",
       "      <td>Cứ Chill Thôi</td>\n",
       "      <td>WM Vietnam</td>\n",
       "      <td>4</td>\n",
       "      <td>86</td>\n",
       "      <td>1272</td>\n",
       "      <td>014DA3BdnmD3kI5pBogH7c</td>\n",
       "      <td>2020-07-24</td>\n",
       "      <td>240</td>\n",
       "      <td>1,574,927,209</td>\n",
       "    </tr>\n",
       "    <tr>\n",
       "      <th>4</th>\n",
       "      <td>119</td>\n",
       "      <td>Da LAB, JGKiD (Da LAB), MPaKK</td>\n",
       "      <td>CILU</td>\n",
       "      <td>Yin Yang Media</td>\n",
       "      <td>66</td>\n",
       "      <td>99</td>\n",
       "      <td>31</td>\n",
       "      <td>0167mYf0UIa3qBqy4NZgt5</td>\n",
       "      <td>2021-02-21</td>\n",
       "      <td>282</td>\n",
       "      <td>730,068</td>\n",
       "    </tr>\n",
       "  </tbody>\n",
       "</table>\n",
       "</div>"
      ],
      "text/plain": [
       "   rank                   artist_names                       track_name  \\\n",
       "0    73                     Red Velvet             RBB (Really Bad Boy)   \n",
       "1    68        Post Malone, The Weeknd  One Right Now (with The Weeknd)   \n",
       "2   147                         j-hope                      Safety Zone   \n",
       "3   150      Chillies, SUNI, Rhymastic                    Cứ Chill Thôi   \n",
       "4   119  Da LAB, JGKiD (Da LAB), MPaKK                             CILU   \n",
       "\n",
       "             source  peak_rank  previous_rank  days_on_chart  \\\n",
       "0  SM Entertainment         14             79             15   \n",
       "1  Republic Records         39             60             27   \n",
       "2      BIGHIT MUSIC         15            168             18   \n",
       "3        WM Vietnam          4             86           1272   \n",
       "4    Yin Yang Media         66             99             31   \n",
       "\n",
       "                       id release_date  duration        streams  \n",
       "0  006LuHbY5Tt9dhbdSOnVq6   2018-12-14       212    646,798,750  \n",
       "1  00Blm7zeNqgYLPtW6zg8cj   2021-11-05       194    685,454,538  \n",
       "2  00I41xsW6SunZDJ5fB8KAd   2022-07-15       165     43,608,495  \n",
       "3  014DA3BdnmD3kI5pBogH7c   2020-07-24       240  1,574,927,209  \n",
       "4  0167mYf0UIa3qBqy4NZgt5   2021-02-21       282        730,068  "
      ]
     },
     "execution_count": 187,
     "metadata": {},
     "output_type": "execute_result"
    }
   ],
   "source": [
    "raw_df.head(5)"
   ]
  },
  {
   "cell_type": "code",
   "execution_count": 194,
   "metadata": {},
   "outputs": [
    {
     "name": "stdout",
     "output_type": "stream",
     "text": [
      "rank                : \t\t<class 'numpy.int64'>\n",
      "artist_names        : \t\t<class 'str'>\n",
      "track_name          : \t\t<class 'str'>\n",
      "source              : \t\t<class 'str'>\n",
      "peak_rank           : \t\t<class 'numpy.int64'>\n",
      "previous_rank       : \t\t<class 'numpy.int64'>\n",
      "days_on_chart       : \t\t<class 'numpy.int64'>\n",
      "id                  : \t\t<class 'str'>\n",
      "release_date        : \t\t<class 'str'>\n",
      "duration            : \t\t<class 'numpy.int64'>\n",
      "streams             : \t\t<class 'str'>\n"
     ]
    }
   ],
   "source": [
    "for col in raw_df.columns:\n",
    "    print(f\"{col.ljust(20)}: \\t\\t{type(raw_df[col][0])}\")"
   ]
  },
  {
   "cell_type": "markdown",
   "metadata": {},
   "source": [
    "Chúng ta có thể phát hiện thấy có một số kiểu dữ liệu không hợp lí ở đây.\n",
    "- `rank`, `peak_rank`, `previous_rank` là dữ liệu dạng ordinal và không phải dạng số nên chúng ta sẽ chuyển chúng về dạng phân loại - object."
   ]
  },
  {
   "cell_type": "code",
   "execution_count": 196,
   "metadata": {},
   "outputs": [],
   "source": [
    "raw_df['rank'] = raw_df['rank'].astype('object')\n",
    "raw_df['peak_rank'] = raw_df['peak_rank'].astype('object')\n",
    "raw_df['previous_rank'] = raw_df['previous_rank'].astype('object')"
   ]
  },
  {
   "cell_type": "markdown",
   "metadata": {},
   "source": [
    "- `release_date` là dữ liệu dạng ngày tháng nên chúng ta sẽ chuyển nó về dạng datetime."
   ]
  },
  {
   "cell_type": "code",
   "execution_count": 197,
   "metadata": {},
   "outputs": [],
   "source": [
    "raw_df['release_date'] = pd.to_datetime(raw_df['release_date'])"
   ]
  },
  {
   "cell_type": "markdown",
   "metadata": {},
   "source": [
    "- `streams` là dữ liệu dạng số nguyên nhưng hiện tại đang là string nên chúng ta sẽ chuyển nó về dạng số nguyên."
   ]
  },
  {
   "cell_type": "code",
   "execution_count": null,
   "metadata": {},
   "outputs": [],
   "source": [
    "raw_df['streams'] = raw_df['streams'].str.replace(\",\", \"\").astype('int64')"
   ]
  },
  {
   "cell_type": "markdown",
   "metadata": {},
   "source": [
    "Nhìn lại các kiểu dữ liệu."
   ]
  },
  {
   "cell_type": "code",
   "execution_count": 203,
   "metadata": {},
   "outputs": [
    {
     "name": "stdout",
     "output_type": "stream",
     "text": [
      "<class 'pandas.core.frame.DataFrame'>\n",
      "RangeIndex: 3487 entries, 0 to 3486\n",
      "Data columns (total 11 columns):\n",
      " #   Column         Non-Null Count  Dtype         \n",
      "---  ------         --------------  -----         \n",
      " 0   rank           3487 non-null   object        \n",
      " 1   artist_names   3487 non-null   object        \n",
      " 2   track_name     3487 non-null   object        \n",
      " 3   source         3487 non-null   object        \n",
      " 4   peak_rank      3487 non-null   object        \n",
      " 5   previous_rank  3487 non-null   object        \n",
      " 6   days_on_chart  3487 non-null   int64         \n",
      " 7   id             3487 non-null   object        \n",
      " 8   release_date   3487 non-null   datetime64[ns]\n",
      " 9   duration       3487 non-null   int64         \n",
      " 10  streams        3487 non-null   int64         \n",
      "dtypes: datetime64[ns](1), int64(3), object(7)\n",
      "memory usage: 299.8+ KB\n"
     ]
    }
   ],
   "source": [
    "raw_df.info()"
   ]
  },
  {
   "cell_type": "markdown",
   "metadata": {},
   "source": [
    "Vậy là mọi kiểu dữ liệu của mỗi trường đã hợp lí. Chúng sẽ tiếp tục khám phá về dữ liệu.\n",
    "\n",
    "Như đã trình bày ở trên, các trường `release_date`, `duration` và `streams` cần phải được kiểm tra giá trị không hợp lý do có thể không có dữ liệu ở một số record. Chúng ta sẽ kiểm tra giá trị của các trường này để xem xét cần phải xử lí dữ liệu không. Tuy nhiên dữ liệu bị thiếu không thể chỉ phát hiện bằng hàm `isna()` mà còn phải kiểm tra xem có giá trị `Request failed` hay không (đã được quy định khi thu thập dữ liệu, nếu không có dữ liệu thì sẽ trả về `Request failed`)."
   ]
  },
  {
   "cell_type": "code",
   "execution_count": 205,
   "metadata": {},
   "outputs": [
    {
     "name": "stdout",
     "output_type": "stream",
     "text": [
      "Số giá trị thiếu release_date: 0\n",
      "Số giá trị thiếu duration: 0\n",
      "Số giá trị thiếu streams: 0\n"
     ]
    }
   ],
   "source": [
    "missing_release_date = raw_df['release_date'].isna() | (raw_df['release_date'] == 'Request failed')\n",
    "missing_duration = raw_df['duration'].isna() | (raw_df['duration'] == 'Request failed')\n",
    "missing_streams = raw_df['streams'].isna() | (raw_df['streams'] == 'Request failed')\n",
    "\n",
    "print(f\"Số giá trị thiếu release_date: {missing_release_date.sum()}\")\n",
    "print(f\"Số giá trị thiếu duration: {missing_duration.sum()}\")\n",
    "print(f\"Số giá trị thiếu streams: {missing_streams.sum()}\")"
   ]
  },
  {
   "cell_type": "markdown",
   "metadata": {},
   "source": [
    "May mắn là không có dữ liệu bị thiếu ở các trường `release_date`, `duration` và `streams`. Vậy là chúng ta đã xử lí xong dữ liệu bị thiếu, theo như đã tìm hiểu ở trên thì bộ dữ liệu cũng không còn dữ liệu trùng nên chúng ta sẽ tiếp tục khám phá dữ liệu. Đầu tiên chúng ta sẽ xem lại dữ liệu sau khi xử lí."
   ]
  },
  {
   "cell_type": "code",
   "execution_count": 206,
   "metadata": {},
   "outputs": [
    {
     "data": {
      "text/html": [
       "<div>\n",
       "<style scoped>\n",
       "    .dataframe tbody tr th:only-of-type {\n",
       "        vertical-align: middle;\n",
       "    }\n",
       "\n",
       "    .dataframe tbody tr th {\n",
       "        vertical-align: top;\n",
       "    }\n",
       "\n",
       "    .dataframe thead th {\n",
       "        text-align: right;\n",
       "    }\n",
       "</style>\n",
       "<table border=\"1\" class=\"dataframe\">\n",
       "  <thead>\n",
       "    <tr style=\"text-align: right;\">\n",
       "      <th></th>\n",
       "      <th>rank</th>\n",
       "      <th>artist_names</th>\n",
       "      <th>track_name</th>\n",
       "      <th>source</th>\n",
       "      <th>peak_rank</th>\n",
       "      <th>previous_rank</th>\n",
       "      <th>days_on_chart</th>\n",
       "      <th>id</th>\n",
       "      <th>release_date</th>\n",
       "      <th>duration</th>\n",
       "      <th>streams</th>\n",
       "    </tr>\n",
       "  </thead>\n",
       "  <tbody>\n",
       "    <tr>\n",
       "      <th>2510</th>\n",
       "      <td>194</td>\n",
       "      <td>SUNI, Lou Hoàng</td>\n",
       "      <td>Không Sao Mà, Em Đây Rồi</td>\n",
       "      <td>Mustation Entertainment</td>\n",
       "      <td>193</td>\n",
       "      <td>-1</td>\n",
       "      <td>3</td>\n",
       "      <td>5SzRpDS2jfB3Zl6uQL5HCQ</td>\n",
       "      <td>2019-07-25</td>\n",
       "      <td>268</td>\n",
       "      <td>12677065</td>\n",
       "    </tr>\n",
       "    <tr>\n",
       "      <th>2864</th>\n",
       "      <td>92</td>\n",
       "      <td>The Chainsmokers, Kelsea Ballerini</td>\n",
       "      <td>This Feeling</td>\n",
       "      <td>Disruptor Records/Columbia</td>\n",
       "      <td>12</td>\n",
       "      <td>71</td>\n",
       "      <td>71</td>\n",
       "      <td>6LKYeyLt4G4SlZ6OJwFhVS</td>\n",
       "      <td>2017-03-18</td>\n",
       "      <td>220</td>\n",
       "      <td>3067631</td>\n",
       "    </tr>\n",
       "    <tr>\n",
       "      <th>3148</th>\n",
       "      <td>62</td>\n",
       "      <td>The Weeknd</td>\n",
       "      <td>Wasted Times</td>\n",
       "      <td>Universal Republic Records</td>\n",
       "      <td>62</td>\n",
       "      <td>92</td>\n",
       "      <td>3</td>\n",
       "      <td>72TyiiduRmczEbDIEtKQdR</td>\n",
       "      <td>2018-03-16</td>\n",
       "      <td>194</td>\n",
       "      <td>473113073</td>\n",
       "    </tr>\n",
       "    <tr>\n",
       "      <th>2217</th>\n",
       "      <td>193</td>\n",
       "      <td>Adele</td>\n",
       "      <td>Hello</td>\n",
       "      <td>XL Recordings</td>\n",
       "      <td>193</td>\n",
       "      <td>-1</td>\n",
       "      <td>1</td>\n",
       "      <td>4sPmO7WMQUAf45kwMOtONw</td>\n",
       "      <td>2016-06-09</td>\n",
       "      <td>221</td>\n",
       "      <td>230239772</td>\n",
       "    </tr>\n",
       "    <tr>\n",
       "      <th>2468</th>\n",
       "      <td>173</td>\n",
       "      <td>Jung Kook</td>\n",
       "      <td>Hate You</td>\n",
       "      <td>BIGHIT MUSIC</td>\n",
       "      <td>8</td>\n",
       "      <td>130</td>\n",
       "      <td>29</td>\n",
       "      <td>5ONOlTiqymhzwcFjqcIT6E</td>\n",
       "      <td>2023-11-03</td>\n",
       "      <td>154</td>\n",
       "      <td>147686642</td>\n",
       "    </tr>\n",
       "  </tbody>\n",
       "</table>\n",
       "</div>"
      ],
      "text/plain": [
       "     rank                        artist_names                track_name  \\\n",
       "2510  194                     SUNI, Lou Hoàng  Không Sao Mà, Em Đây Rồi   \n",
       "2864   92  The Chainsmokers, Kelsea Ballerini              This Feeling   \n",
       "3148   62                          The Weeknd              Wasted Times   \n",
       "2217  193                               Adele                     Hello   \n",
       "2468  173                           Jung Kook                  Hate You   \n",
       "\n",
       "                          source peak_rank previous_rank  days_on_chart  \\\n",
       "2510     Mustation Entertainment       193            -1              3   \n",
       "2864  Disruptor Records/Columbia        12            71             71   \n",
       "3148  Universal Republic Records        62            92              3   \n",
       "2217               XL Recordings       193            -1              1   \n",
       "2468                BIGHIT MUSIC         8           130             29   \n",
       "\n",
       "                          id release_date  duration    streams  \n",
       "2510  5SzRpDS2jfB3Zl6uQL5HCQ   2019-07-25       268   12677065  \n",
       "2864  6LKYeyLt4G4SlZ6OJwFhVS   2017-03-18       220    3067631  \n",
       "3148  72TyiiduRmczEbDIEtKQdR   2018-03-16       194  473113073  \n",
       "2217  4sPmO7WMQUAf45kwMOtONw   2016-06-09       221  230239772  \n",
       "2468  5ONOlTiqymhzwcFjqcIT6E   2023-11-03       154  147686642  "
      ]
     },
     "execution_count": 206,
     "metadata": {},
     "output_type": "execute_result"
    }
   ],
   "source": [
    "raw_df.sample(5)"
   ]
  },
  {
   "cell_type": "markdown",
   "metadata": {},
   "source": [
    "Có vẻ như dữ liệu hiện tại cần được đổi vị trí của các cột: cột `id` sẽ lên đầu tiên từ trái sang, cột `rank` sẽ đặt sau `days_on_chart` và `release_date`, `duration` sẽ dời lên trên các thứ hạng để có thể dễ quan sát hơn. Vậy chúng ta sẽ tiến hành đổi vị trí của các cột theo thứu tự: `id`, `track_name`, `artist_name`, `source`, `release_date`, `duration`, `peak_rank`, `previous_rank`, `days_on_chart`, `rank`, `streams`."
   ]
  },
  {
   "cell_type": "code",
   "execution_count": 208,
   "metadata": {},
   "outputs": [
    {
     "data": {
      "text/html": [
       "<div>\n",
       "<style scoped>\n",
       "    .dataframe tbody tr th:only-of-type {\n",
       "        vertical-align: middle;\n",
       "    }\n",
       "\n",
       "    .dataframe tbody tr th {\n",
       "        vertical-align: top;\n",
       "    }\n",
       "\n",
       "    .dataframe thead th {\n",
       "        text-align: right;\n",
       "    }\n",
       "</style>\n",
       "<table border=\"1\" class=\"dataframe\">\n",
       "  <thead>\n",
       "    <tr style=\"text-align: right;\">\n",
       "      <th></th>\n",
       "      <th>id</th>\n",
       "      <th>track_name</th>\n",
       "      <th>artist_names</th>\n",
       "      <th>source</th>\n",
       "      <th>release_date</th>\n",
       "      <th>duration</th>\n",
       "      <th>peak_rank</th>\n",
       "      <th>previous_rank</th>\n",
       "      <th>days_on_chart</th>\n",
       "      <th>rank</th>\n",
       "      <th>streams</th>\n",
       "    </tr>\n",
       "  </thead>\n",
       "  <tbody>\n",
       "    <tr>\n",
       "      <th>218</th>\n",
       "      <td>0VWHhUe3OxsnLDFnMMhjJM</td>\n",
       "      <td>Lonely Stonie</td>\n",
       "      <td>Wxrdie</td>\n",
       "      <td>Universal Music Indochina Distributed Labels</td>\n",
       "      <td>2024-11-12</td>\n",
       "      <td>186</td>\n",
       "      <td>138</td>\n",
       "      <td>164</td>\n",
       "      <td>3</td>\n",
       "      <td>180</td>\n",
       "      <td>1045378</td>\n",
       "    </tr>\n",
       "    <tr>\n",
       "      <th>1865</th>\n",
       "      <td>460WMeltK2dxce4qhcaCF7</td>\n",
       "      <td>Normal No More</td>\n",
       "      <td>TYSM</td>\n",
       "      <td>EFFESS</td>\n",
       "      <td>2020-04-17</td>\n",
       "      <td>200</td>\n",
       "      <td>68</td>\n",
       "      <td>164</td>\n",
       "      <td>73</td>\n",
       "      <td>157</td>\n",
       "      <td>16700731</td>\n",
       "    </tr>\n",
       "    <tr>\n",
       "      <th>1157</th>\n",
       "      <td>2YlZnw2ikdb837oKMKjBkW</td>\n",
       "      <td>Like I'm Gonna Lose You (feat. John Legend)</td>\n",
       "      <td>Meghan Trainor, John Legend</td>\n",
       "      <td>Epic</td>\n",
       "      <td>2012-05-01</td>\n",
       "      <td>282</td>\n",
       "      <td>87</td>\n",
       "      <td>-1</td>\n",
       "      <td>32</td>\n",
       "      <td>184</td>\n",
       "      <td>207169</td>\n",
       "    </tr>\n",
       "    <tr>\n",
       "      <th>1850</th>\n",
       "      <td>44ADyYoY5liaRa3EOAl4uf</td>\n",
       "      <td>Slide Away</td>\n",
       "      <td>Miley Cyrus</td>\n",
       "      <td>RCA/Legacy</td>\n",
       "      <td>2019-08-23</td>\n",
       "      <td>287</td>\n",
       "      <td>29</td>\n",
       "      <td>-1</td>\n",
       "      <td>45</td>\n",
       "      <td>177</td>\n",
       "      <td>382453045</td>\n",
       "    </tr>\n",
       "    <tr>\n",
       "      <th>2773</th>\n",
       "      <td>69CA72t8PPWgEFExXhuqII</td>\n",
       "      <td>Trống Cơm</td>\n",
       "      <td>Cường Seven, SOOBIN, Tự Long</td>\n",
       "      <td>Universal Music Indochina Distributed Labels</td>\n",
       "      <td>2024-07-27</td>\n",
       "      <td>254</td>\n",
       "      <td>64</td>\n",
       "      <td>112</td>\n",
       "      <td>18</td>\n",
       "      <td>131</td>\n",
       "      <td>2680851</td>\n",
       "    </tr>\n",
       "  </tbody>\n",
       "</table>\n",
       "</div>"
      ],
      "text/plain": [
       "                          id                                   track_name  \\\n",
       "218   0VWHhUe3OxsnLDFnMMhjJM                                Lonely Stonie   \n",
       "1865  460WMeltK2dxce4qhcaCF7                               Normal No More   \n",
       "1157  2YlZnw2ikdb837oKMKjBkW  Like I'm Gonna Lose You (feat. John Legend)   \n",
       "1850  44ADyYoY5liaRa3EOAl4uf                                   Slide Away   \n",
       "2773  69CA72t8PPWgEFExXhuqII                                    Trống Cơm   \n",
       "\n",
       "                      artist_names  \\\n",
       "218                         Wxrdie   \n",
       "1865                          TYSM   \n",
       "1157   Meghan Trainor, John Legend   \n",
       "1850                   Miley Cyrus   \n",
       "2773  Cường Seven, SOOBIN, Tự Long   \n",
       "\n",
       "                                            source release_date  duration  \\\n",
       "218   Universal Music Indochina Distributed Labels   2024-11-12       186   \n",
       "1865                                        EFFESS   2020-04-17       200   \n",
       "1157                                          Epic   2012-05-01       282   \n",
       "1850                                    RCA/Legacy   2019-08-23       287   \n",
       "2773  Universal Music Indochina Distributed Labels   2024-07-27       254   \n",
       "\n",
       "     peak_rank previous_rank  days_on_chart rank    streams  \n",
       "218        138           164              3  180    1045378  \n",
       "1865        68           164             73  157   16700731  \n",
       "1157        87            -1             32  184     207169  \n",
       "1850        29            -1             45  177  382453045  \n",
       "2773        64           112             18  131    2680851  "
      ]
     },
     "execution_count": 208,
     "metadata": {},
     "output_type": "execute_result"
    }
   ],
   "source": [
    "col_order = ['id', 'track_name', 'artist_names', 'source', 'release_date', 'duration', 'peak_rank', 'previous_rank', 'days_on_chart', 'rank', 'streams']\n",
    "raw_df = raw_df[col_order]\n",
    "raw_df.sample(5)"
   ]
  },
  {
   "cell_type": "markdown",
   "metadata": {},
   "source": [
    "<a id=\"eda21\"></a>\n",
    "### **2.1. Thống kê mô tả**\n",
    "\n",
    "Tiếp theo, chúng ta sẽ phân tích sâu hơn về tập dữ liệu để khám phá mẫu, phân phối và mối quan hệ giữa các biến.\n",
    "\n",
    "Đầu tiên, chúng ta sẽ xem xét các thống kê mô tả cho các cột để có các giá trị: trung bình (mean), trung vị (median), giá trị nhỏ nhất (min), giá trị lớn nhất (max), tứ phân vị (quartile) của các cột dạng số. Chúng ta không cần lo lắng về giá trị bị thiếu ở các trường này vì đã xử lí ở phần trên."
   ]
  },
  {
   "cell_type": "code",
   "execution_count": 210,
   "metadata": {},
   "outputs": [
    {
     "data": {
      "text/html": [
       "<div>\n",
       "<style scoped>\n",
       "    .dataframe tbody tr th:only-of-type {\n",
       "        vertical-align: middle;\n",
       "    }\n",
       "\n",
       "    .dataframe tbody tr th {\n",
       "        vertical-align: top;\n",
       "    }\n",
       "\n",
       "    .dataframe thead th {\n",
       "        text-align: right;\n",
       "    }\n",
       "</style>\n",
       "<table border=\"1\" class=\"dataframe\">\n",
       "  <thead>\n",
       "    <tr style=\"text-align: right;\">\n",
       "      <th></th>\n",
       "      <th>count</th>\n",
       "      <th>mean</th>\n",
       "      <th>std</th>\n",
       "      <th>min</th>\n",
       "      <th>25%</th>\n",
       "      <th>50%</th>\n",
       "      <th>75%</th>\n",
       "      <th>max</th>\n",
       "    </tr>\n",
       "  </thead>\n",
       "  <tbody>\n",
       "    <tr>\n",
       "      <th>duration</th>\n",
       "      <td>3487.0</td>\n",
       "      <td>2.141764e+02</td>\n",
       "      <td>4.627432e+01</td>\n",
       "      <td>35.0</td>\n",
       "      <td>185.0</td>\n",
       "      <td>209.0</td>\n",
       "      <td>238.0</td>\n",
       "      <td>6.130000e+02</td>\n",
       "    </tr>\n",
       "    <tr>\n",
       "      <th>days_on_chart</th>\n",
       "      <td>3487.0</td>\n",
       "      <td>1.521517e+02</td>\n",
       "      <td>2.658278e+02</td>\n",
       "      <td>1.0</td>\n",
       "      <td>11.0</td>\n",
       "      <td>44.0</td>\n",
       "      <td>162.0</td>\n",
       "      <td>2.483000e+03</td>\n",
       "    </tr>\n",
       "    <tr>\n",
       "      <th>streams</th>\n",
       "      <td>3487.0</td>\n",
       "      <td>3.671169e+08</td>\n",
       "      <td>6.274778e+08</td>\n",
       "      <td>16502.0</td>\n",
       "      <td>7478557.5</td>\n",
       "      <td>65682180.0</td>\n",
       "      <td>425674096.0</td>\n",
       "      <td>4.727747e+09</td>\n",
       "    </tr>\n",
       "  </tbody>\n",
       "</table>\n",
       "</div>"
      ],
      "text/plain": [
       "                count          mean           std      min        25%  \\\n",
       "duration       3487.0  2.141764e+02  4.627432e+01     35.0      185.0   \n",
       "days_on_chart  3487.0  1.521517e+02  2.658278e+02      1.0       11.0   \n",
       "streams        3487.0  3.671169e+08  6.274778e+08  16502.0  7478557.5   \n",
       "\n",
       "                      50%          75%           max  \n",
       "duration            209.0        238.0  6.130000e+02  \n",
       "days_on_chart        44.0        162.0  2.483000e+03  \n",
       "streams        65682180.0  425674096.0  4.727747e+09  "
      ]
     },
     "execution_count": 210,
     "metadata": {},
     "output_type": "execute_result"
    }
   ],
   "source": [
    "# Trích các cột số\n",
    "num_cols = raw_df.select_dtypes(include=np.number).columns\n",
    "\n",
    "# Xem thống kê mô tả\n",
    "raw_df[num_cols].describe().T"
   ]
  },
  {
   "cell_type": "markdown",
   "metadata": {},
   "source": [
    "<a id=\"eda22\"></a>\n",
    "### **2.2. Phân bố của dữ liệu dạng số**"
   ]
  },
  {
   "cell_type": "code",
   "execution_count": 215,
   "metadata": {},
   "outputs": [
    {
     "data": {
      "image/png": "[encoded data removed]",
      "text/plain": [
       "<Figure size 1000x600 with 1 Axes>"
      ]
     },
     "metadata": {},
     "output_type": "display_data"
    },
    {
     "data": {
      "image/png": "[encoded data removed]",
      "text/plain": [
       "<Figure size 1000x600 with 1 Axes>"
      ]
     },
     "metadata": {},
     "output_type": "display_data"
    },
    {
     "data": {
      "image/png": "[encoded data removed]",
      "text/plain": [
       "<Figure size 1000x600 with 1 Axes>"
      ]
     },
     "metadata": {},
     "output_type": "display_data"
    }
   ],
   "source": [
    "for col in num_cols:\n",
    "    plt.figure(figsize=(10, 6))\n",
    "    sns.boxplot(x=raw_df[col], color='lightgreen')\n",
    "    plt.title(f'Boxplot của {col}')\n",
    "    plt.show()\n",
    "\n",
    "    # Tính toán IQR cho từng cột\n",
    "    Q1 = raw_df[col].quantile(0.25)\n",
    "    Q3 = raw_df[col].quantile(0.75)\n",
    "    IQR = Q3 - Q1\n",
    "\n",
    "    lower_bound = Q1 - 1.5 * IQR\n",
    "    upper_bound = Q3 + 1.5 * IQR\n",
    "\n",
    "    outliers = raw_df[(raw_df[col] < lower_bound) | (raw_df[col] > upper_bound)]\n",
    "    if outliers.empty:\n",
    "        print(f\"Không có giá trị ngoại lai nào tìm được cho {col}\")"
   ]
  },
  {
   "cell_type": "markdown",
   "metadata": {},
   "source": [
    "Chúng ta có thể thấy dữ liệu dạng số có nhiều giá trị ngoại lai nhất là với `streams` và `days_on_chart`. Với các giá trị ngoại lai như trên ta có thể thấy được các giá trị ngoại lai này có thể ảnh hưởng đến phân bố. Tuy nhiên là chúng ta sẽ không xử lí các giá trị ngoại lai (loại bỏ nó hay scale lại) này ở đây mà sẽ phân tích kĩ hơn ở phần sau."
   ]
  },
  {
   "cell_type": "markdown",
   "metadata": {},
   "source": [
    "<a id=\"eda23\"></a>\n",
    "### **2.3. Phân bố của dữ liệu dạng phân loại**"
   ]
  },
  {
   "cell_type": "markdown",
   "metadata": {},
   "source": [
    "Chúng ta đã kiểm tra dữ liệu thiếu ở phần trước nên phần này không phải bận tâm về nó nữa (missing_ratio = 0%). Đầu tiên chúng ta sẽ tính các giá trị như sau:\n",
    "- Số lượng giá trị khác nhau trong mỗi trường, không tính giá trị thiếu: `num_values`\n",
    "- Tỉ lệ các giá trị khác nhau trong mỗi trường, không tính giá trị thiếu: `value_ratios`"
   ]
  },
  {
   "cell_type": "code",
   "execution_count": 216,
   "metadata": {},
   "outputs": [
    {
     "data": {
      "text/html": [
       "<div>\n",
       "<style scoped>\n",
       "    .dataframe tbody tr th:only-of-type {\n",
       "        vertical-align: middle;\n",
       "    }\n",
       "\n",
       "    .dataframe tbody tr th {\n",
       "        vertical-align: top;\n",
       "    }\n",
       "\n",
       "    .dataframe thead th {\n",
       "        text-align: right;\n",
       "    }\n",
       "</style>\n",
       "<table border=\"1\" class=\"dataframe\">\n",
       "  <thead>\n",
       "    <tr style=\"text-align: right;\">\n",
       "      <th></th>\n",
       "      <th>num_values</th>\n",
       "      <th>value_ratio</th>\n",
       "    </tr>\n",
       "  </thead>\n",
       "  <tbody>\n",
       "    <tr>\n",
       "      <th>id</th>\n",
       "      <td>3487</td>\n",
       "      <td>{'006LuHbY5Tt9dhbdSOnVq6': 0.0, '569B75eNRVDAB...</td>\n",
       "    </tr>\n",
       "    <tr>\n",
       "      <th>track_name</th>\n",
       "      <td>2911</td>\n",
       "      <td>{'Mượn Rượu Tỏ Tình': 0.1, 'Sunflower - Spider...</td>\n",
       "    </tr>\n",
       "    <tr>\n",
       "      <th>artist_names</th>\n",
       "      <td>1558</td>\n",
       "      <td>{'BTS': 3.8, 'Taylor Swift': 2.6, 'BLACKPINK':...</td>\n",
       "    </tr>\n",
       "    <tr>\n",
       "      <th>source</th>\n",
       "      <td>572</td>\n",
       "      <td>{'BIGHIT MUSIC': 7.3, 'Yin Yang Media': 6.2, '...</td>\n",
       "    </tr>\n",
       "    <tr>\n",
       "      <th>peak_rank</th>\n",
       "      <td>199</td>\n",
       "      <td>{1: 7.0, 2: 3.8, 5: 3.0, 3: 2.5, 4: 2.0, 7: 2....</td>\n",
       "    </tr>\n",
       "    <tr>\n",
       "      <th>previous_rank</th>\n",
       "      <td>201</td>\n",
       "      <td>{-1: 15.6, 180: 1.0, 177: 0.9, 168: 0.9, 182: ...</td>\n",
       "    </tr>\n",
       "    <tr>\n",
       "      <th>rank</th>\n",
       "      <td>200</td>\n",
       "      <td>{191: 1.6, 199: 1.5, 200: 1.5, 196: 1.5, 195: ...</td>\n",
       "    </tr>\n",
       "  </tbody>\n",
       "</table>\n",
       "</div>"
      ],
      "text/plain": [
       "              num_values                                        value_ratio\n",
       "id                  3487  {'006LuHbY5Tt9dhbdSOnVq6': 0.0, '569B75eNRVDAB...\n",
       "track_name          2911  {'Mượn Rượu Tỏ Tình': 0.1, 'Sunflower - Spider...\n",
       "artist_names        1558  {'BTS': 3.8, 'Taylor Swift': 2.6, 'BLACKPINK':...\n",
       "source               572  {'BIGHIT MUSIC': 7.3, 'Yin Yang Media': 6.2, '...\n",
       "peak_rank            199  {1: 7.0, 2: 3.8, 5: 3.0, 3: 2.5, 4: 2.0, 7: 2....\n",
       "previous_rank        201  {-1: 15.6, 180: 1.0, 177: 0.9, 168: 0.9, 182: ...\n",
       "rank                 200  {191: 1.6, 199: 1.5, 200: 1.5, 196: 1.5, 195: ..."
      ]
     },
     "execution_count": 216,
     "metadata": {},
     "output_type": "execute_result"
    }
   ],
   "source": [
    "# Tìm các trường thuộc kiểu phân loại\n",
    "categorical_cols = raw_df.select_dtypes(include=['object']).columns.tolist()\n",
    "\n",
    "cat_col_info = {}\n",
    "\n",
    "# Tính toán\n",
    "for col in categorical_cols:    \n",
    "    num_values = raw_df[col].nunique(dropna = True)\n",
    "    \n",
    "    # Tính số các giá trị và tỉ lệ giá trị\n",
    "    value_ratio = (np.round(raw_df[col].value_counts(normalize=True, ascending=False) * 100, 1)).to_dict()\n",
    "    \n",
    "    cat_col_info[col] = {\n",
    "        \"num_values\": num_values,\n",
    "        \"value_ratio\": value_ratio\n",
    "    }\n",
    "    \n",
    "cat_col_info_df = pd.DataFrame(cat_col_info)\n",
    "cat_col_info_df.T"
   ]
  },
  {
   "cell_type": "markdown",
   "metadata": {},
   "source": [
    "Có vẻ như có một số bất thường trong dữ liệu. Từ dataframe trên, chúng ta có thể có được một số thông tin về bộ dữ liệu như sau:\n",
    "- Bất thường là có 3487 id khác nhau nhưng chỉ có 2911 tên bài hát.\n",
    "- Có 1558 nghệ sĩ trong bộ dữ liệu với tần suất xuất hiện cao nhất là \"BTS\" với 3.8%.\n",
    "- Có nhiều hãng đĩa (572 hãng), nhưng hãng đĩa sản xuất cho nhiều bài hát nhất thuộc về \"BIGHIT MUSIC\" với 7.3% cho `value_ratios`.\n",
    "- Có quá nhiều thứ hạng trùng nhau trong `rank`. Lưu ý là chúng ta đã sử dụng tổng số lượt nghe `streams` thay vì lượt nghe hàng ngày ban đầu. Nên trường `rank` này không còn ý nghĩa nữa. Vậy nên chúng ta sẽ định nghĩa lại trường `rank` theo thứ hạng cuối cùng của mỗi bài hát, trức là theo `streams` hiện tại."
   ]
  },
  {
   "cell_type": "markdown",
   "metadata": {},
   "source": [
    "**Kiểm tra bất thường:**\n",
    "\n",
    "Ta có thể đoán rằng có lẽ là do có các bài hát trùng tên với nhau dẫn đến việc có số các tên bài khác nhau khác với số các url. Để kiểm tra giả thuyết này, chúng ta sẽ kiểm tra xem có bài hát nào trùng tên với nhau không."
   ]
  },
  {
   "cell_type": "code",
   "execution_count": 218,
   "metadata": {},
   "outputs": [
    {
     "name": "stdout",
     "output_type": "stream",
     "text": [
      "Tổng số các bài hát trùng tên: 1061\n",
      "Bài hát trùng tên và số lần trùng:\n",
      "                           track_name  count\n",
      "8                00:00 (Zero O’Clock)      2\n",
      "18                             1 Phút      3\n",
      "22                        10 Ngàn Năm      2\n",
      "36                               2002      2\n",
      "40                                24h      2\n",
      "...                               ...    ...\n",
      "2862            Để Mị Nói Cho Mà Nghe      2\n",
      "2868                         Độ Tộc 2      2\n",
      "2888                   đưa em về nhàa      2\n",
      "2890  để tôi ôm em bằng giai điệu này      2\n",
      "2903                               是你      2\n",
      "\n",
      "[485 rows x 2 columns]\n"
     ]
    }
   ],
   "source": [
    "duplicate_names = raw_df[raw_df.duplicated('track_name', keep=False)]\n",
    "print(\"Tổng số các bài hát trùng tên:\", len(duplicate_names))\n",
    "\n",
    "duplicate_num = raw_df.groupby('track_name').size().reset_index(name='count')\n",
    "duplicate_num = duplicate_num[duplicate_num['count'] > 1]\n",
    "\n",
    "print(\"Bài hát trùng tên và số lần trùng:\")\n",
    "print(duplicate_num)"
   ]
  },
  {
   "cell_type": "markdown",
   "metadata": {},
   "source": [
    "Kiểm tra lại số liệu xem có khớp không"
   ]
  },
  {
   "cell_type": "code",
   "execution_count": 220,
   "metadata": {},
   "outputs": [
    {
     "name": "stdout",
     "output_type": "stream",
     "text": [
      "3487\n"
     ]
    }
   ],
   "source": [
    "print(len(duplicate_names) + 2911 - len(duplicate_num)) # 2911 là số bài hát khác nhau"
   ]
  },
  {
   "cell_type": "markdown",
   "metadata": {},
   "source": [
    "Vậy lí do là do có nhiều bài hát trùng tên (`num_values` của `track_name` bằng 3487). Nên không có gì bất thường ở đây. Tiếp theo chúng ta sẽ đi đến bất thường ở cột `streams`"
   ]
  },
  {
   "cell_type": "markdown",
   "metadata": {},
   "source": [
    "**Xử lí bất thường:**\n",
    "\n",
    "Chúng ta sẽ dùng trường `streams` để xác định thứ hạng cuối cùng của mỗi bài hát. Thông qua việc giá trị của `rank` sẽ theo thứ tự tăng dần theo giá trị của `streams`. Vậy nên chúng ta sẽ sắp xếp lại dữ liệu theo thứ tự giảm dần của `streams` và lấy giá trị cuối cùng của `rank` của mỗi bài hát. Vậy là chúng ta đã xử lí xong bất thường ở trường `rank`."
   ]
  },
  {
   "cell_type": "code",
   "execution_count": 231,
   "metadata": {},
   "outputs": [
    {
     "data": {
      "text/html": [
       "<div>\n",
       "<style scoped>\n",
       "    .dataframe tbody tr th:only-of-type {\n",
       "        vertical-align: middle;\n",
       "    }\n",
       "\n",
       "    .dataframe tbody tr th {\n",
       "        vertical-align: top;\n",
       "    }\n",
       "\n",
       "    .dataframe thead th {\n",
       "        text-align: right;\n",
       "    }\n",
       "</style>\n",
       "<table border=\"1\" class=\"dataframe\">\n",
       "  <thead>\n",
       "    <tr style=\"text-align: right;\">\n",
       "      <th></th>\n",
       "      <th>id</th>\n",
       "      <th>track_name</th>\n",
       "      <th>artist_names</th>\n",
       "      <th>source</th>\n",
       "      <th>release_date</th>\n",
       "      <th>duration</th>\n",
       "      <th>peak_rank</th>\n",
       "      <th>previous_rank</th>\n",
       "      <th>days_on_chart</th>\n",
       "      <th>rank</th>\n",
       "      <th>streams</th>\n",
       "    </tr>\n",
       "  </thead>\n",
       "  <tbody>\n",
       "    <tr>\n",
       "      <th>0</th>\n",
       "      <td>3Z0oQ8r78OUaHvGPiDBR3W</td>\n",
       "      <td>Into the Unknown</td>\n",
       "      <td>Idina Menzel, AURORA</td>\n",
       "      <td>Walt Disney Records</td>\n",
       "      <td>2019-11-29</td>\n",
       "      <td>202</td>\n",
       "      <td>50</td>\n",
       "      <td>145</td>\n",
       "      <td>23</td>\n",
       "      <td>1</td>\n",
       "      <td>4727746591</td>\n",
       "    </tr>\n",
       "    <tr>\n",
       "      <th>1</th>\n",
       "      <td>3AzjcOeAmA57TIOr9zF1ZW</td>\n",
       "      <td>Physical</td>\n",
       "      <td>Dua Lipa</td>\n",
       "      <td>Warner Records</td>\n",
       "      <td>2020-03-20</td>\n",
       "      <td>200</td>\n",
       "      <td>15</td>\n",
       "      <td>149</td>\n",
       "      <td>105</td>\n",
       "      <td>2</td>\n",
       "      <td>4726263786</td>\n",
       "    </tr>\n",
       "    <tr>\n",
       "      <th>2</th>\n",
       "      <td>5CLGzJsGqhCEECcpnFQA8x</td>\n",
       "      <td>These Days (feat. Jess Glynne, Macklemore &amp; Da...</td>\n",
       "      <td>Rudimental, Jess Glynne, Macklemore, Dan Caplen</td>\n",
       "      <td>Atlantic Records UK</td>\n",
       "      <td>2017-03-03</td>\n",
       "      <td>234</td>\n",
       "      <td>14</td>\n",
       "      <td>-1</td>\n",
       "      <td>86</td>\n",
       "      <td>3</td>\n",
       "      <td>4238338469</td>\n",
       "    </tr>\n",
       "    <tr>\n",
       "      <th>3</th>\n",
       "      <td>42zePe03Iq8tvFcJAIKkp8</td>\n",
       "      <td>D.R.E.A.M. (feat. Ghostface Killah)</td>\n",
       "      <td>Miley Cyrus, Ghostface Killah</td>\n",
       "      <td>RCA/Legacy</td>\n",
       "      <td>2019-05-17</td>\n",
       "      <td>182</td>\n",
       "      <td>59</td>\n",
       "      <td>59</td>\n",
       "      <td>2</td>\n",
       "      <td>4</td>\n",
       "      <td>3812743107</td>\n",
       "    </tr>\n",
       "    <tr>\n",
       "      <th>4</th>\n",
       "      <td>34ODRRWSsRbiB6sGI9R9Te</td>\n",
       "      <td>Badadu</td>\n",
       "      <td>MONSTAR</td>\n",
       "      <td>ST.319 Entertainment</td>\n",
       "      <td>2018-11-08</td>\n",
       "      <td>182</td>\n",
       "      <td>45</td>\n",
       "      <td>179</td>\n",
       "      <td>40</td>\n",
       "      <td>5</td>\n",
       "      <td>3811491910</td>\n",
       "    </tr>\n",
       "  </tbody>\n",
       "</table>\n",
       "</div>"
      ],
      "text/plain": [
       "                       id                                         track_name  \\\n",
       "0  3Z0oQ8r78OUaHvGPiDBR3W                                   Into the Unknown   \n",
       "1  3AzjcOeAmA57TIOr9zF1ZW                                           Physical   \n",
       "2  5CLGzJsGqhCEECcpnFQA8x  These Days (feat. Jess Glynne, Macklemore & Da...   \n",
       "3  42zePe03Iq8tvFcJAIKkp8                D.R.E.A.M. (feat. Ghostface Killah)   \n",
       "4  34ODRRWSsRbiB6sGI9R9Te                                             Badadu   \n",
       "\n",
       "                                      artist_names                source  \\\n",
       "0                             Idina Menzel, AURORA   Walt Disney Records   \n",
       "1                                         Dua Lipa        Warner Records   \n",
       "2  Rudimental, Jess Glynne, Macklemore, Dan Caplen   Atlantic Records UK   \n",
       "3                    Miley Cyrus, Ghostface Killah            RCA/Legacy   \n",
       "4                                          MONSTAR  ST.319 Entertainment   \n",
       "\n",
       "  release_date  duration peak_rank previous_rank  days_on_chart rank  \\\n",
       "0   2019-11-29       202        50           145             23    1   \n",
       "1   2020-03-20       200        15           149            105    2   \n",
       "2   2017-03-03       234        14            -1             86    3   \n",
       "3   2019-05-17       182        59            59              2    4   \n",
       "4   2018-11-08       182        45           179             40    5   \n",
       "\n",
       "      streams  \n",
       "0  4727746591  \n",
       "1  4726263786  \n",
       "2  4238338469  \n",
       "3  3812743107  \n",
       "4  3811491910  "
      ]
     },
     "execution_count": 231,
     "metadata": {},
     "output_type": "execute_result"
    }
   ],
   "source": [
    "raw_df = raw_df.sort_values(by='streams', ascending=False).reset_index(drop=True)\n",
    "raw_df['rank'] = raw_df['streams'].rank(method='first', ascending=False).astype('int64').astype('object')\n",
    "raw_df.head()"
   ]
  },
  {
   "cell_type": "markdown",
   "metadata": {},
   "source": [
    "Vậy là chúng đã xử lí các bất thường và cũng như là khám phá và tiền xử lí dữ liệu xong. Bộ dữ liệu mới sẽ được lưu vào file csv để sử dụng ở phần tiếp theo."
   ]
  },
  {
   "cell_type": "code",
   "execution_count": null,
   "metadata": {},
   "outputs": [
    {
     "data": {
      "text/html": [
       "<div>\n",
       "<style scoped>\n",
       "    .dataframe tbody tr th:only-of-type {\n",
       "        vertical-align: middle;\n",
       "    }\n",
       "\n",
       "    .dataframe tbody tr th {\n",
       "        vertical-align: top;\n",
       "    }\n",
       "\n",
       "    .dataframe thead th {\n",
       "        text-align: right;\n",
       "    }\n",
       "</style>\n",
       "<table border=\"1\" class=\"dataframe\">\n",
       "  <thead>\n",
       "    <tr style=\"text-align: right;\">\n",
       "      <th></th>\n",
       "      <th>id</th>\n",
       "      <th>track_name</th>\n",
       "      <th>artist_names</th>\n",
       "      <th>source</th>\n",
       "      <th>release_date</th>\n",
       "      <th>duration</th>\n",
       "      <th>peak_rank</th>\n",
       "      <th>previous_rank</th>\n",
       "      <th>days_on_chart</th>\n",
       "      <th>rank</th>\n",
       "      <th>streams</th>\n",
       "    </tr>\n",
       "  </thead>\n",
       "  <tbody>\n",
       "    <tr>\n",
       "      <th>1799</th>\n",
       "      <td>5kRTXjVcdAHNCCbiUtJZTR</td>\n",
       "      <td>Tình Đắng Như Ly Cà Phê</td>\n",
       "      <td>Ngơ, NÂN</td>\n",
       "      <td>12 trái lê</td>\n",
       "      <td>2019-09-12</td>\n",
       "      <td>163</td>\n",
       "      <td>74</td>\n",
       "      <td>103</td>\n",
       "      <td>183</td>\n",
       "      <td>1800</td>\n",
       "      <td>52985474</td>\n",
       "    </tr>\n",
       "    <tr>\n",
       "      <th>114</th>\n",
       "      <td>6WbADFqMvR8N5u0BvtsWQE</td>\n",
       "      <td>Without You (feat. Sandro Cavazza)</td>\n",
       "      <td>Avicii, Sandro Cavazza</td>\n",
       "      <td>Universal Music AB</td>\n",
       "      <td>2018-04-27</td>\n",
       "      <td>231</td>\n",
       "      <td>1</td>\n",
       "      <td>109</td>\n",
       "      <td>36</td>\n",
       "      <td>115</td>\n",
       "      <td>2064219143</td>\n",
       "    </tr>\n",
       "    <tr>\n",
       "      <th>381</th>\n",
       "      <td>1Axzkl935WrIsBwDqk90yQ</td>\n",
       "      <td>Đưa Nhau Đi Trốn - Chill Version</td>\n",
       "      <td>Đen, Linh Cáo</td>\n",
       "      <td>Đen</td>\n",
       "      <td>2019-10-04</td>\n",
       "      <td>168</td>\n",
       "      <td>69</td>\n",
       "      <td>125</td>\n",
       "      <td>507</td>\n",
       "      <td>382</td>\n",
       "      <td>1125552324</td>\n",
       "    </tr>\n",
       "    <tr>\n",
       "      <th>2030</th>\n",
       "      <td>1nwdfbj4UyRMpa9L98a4Yi</td>\n",
       "      <td>Blue Side</td>\n",
       "      <td>j-hope</td>\n",
       "      <td>BIGHIT MUSIC</td>\n",
       "      <td>2021-03-02</td>\n",
       "      <td>199</td>\n",
       "      <td>7</td>\n",
       "      <td>190</td>\n",
       "      <td>9</td>\n",
       "      <td>2031</td>\n",
       "      <td>26746964</td>\n",
       "    </tr>\n",
       "    <tr>\n",
       "      <th>3411</th>\n",
       "      <td>42rme4MN6ki6mXgl4yaZtV</td>\n",
       "      <td>Tầng Thượng 102</td>\n",
       "      <td>Cá Hồi Hoang</td>\n",
       "      <td>Luke Record</td>\n",
       "      <td>2020-09-15</td>\n",
       "      <td>141</td>\n",
       "      <td>183</td>\n",
       "      <td>-1</td>\n",
       "      <td>9</td>\n",
       "      <td>3412</td>\n",
       "      <td>454534</td>\n",
       "    </tr>\n",
       "  </tbody>\n",
       "</table>\n",
       "</div>"
      ],
      "text/plain": [
       "                          id                          track_name  \\\n",
       "1799  5kRTXjVcdAHNCCbiUtJZTR             Tình Đắng Như Ly Cà Phê   \n",
       "114   6WbADFqMvR8N5u0BvtsWQE  Without You (feat. Sandro Cavazza)   \n",
       "381   1Axzkl935WrIsBwDqk90yQ    Đưa Nhau Đi Trốn - Chill Version   \n",
       "2030  1nwdfbj4UyRMpa9L98a4Yi                           Blue Side   \n",
       "3411  42rme4MN6ki6mXgl4yaZtV                     Tầng Thượng 102   \n",
       "\n",
       "                artist_names              source release_date  duration  \\\n",
       "1799                Ngơ, NÂN          12 trái lê   2019-09-12       163   \n",
       "114   Avicii, Sandro Cavazza  Universal Music AB   2018-04-27       231   \n",
       "381            Đen, Linh Cáo                 Đen   2019-10-04       168   \n",
       "2030                  j-hope        BIGHIT MUSIC   2021-03-02       199   \n",
       "3411            Cá Hồi Hoang         Luke Record   2020-09-15       141   \n",
       "\n",
       "     peak_rank previous_rank  days_on_chart  rank     streams  \n",
       "1799        74           103            183  1800    52985474  \n",
       "114          1           109             36   115  2064219143  \n",
       "381         69           125            507   382  1125552324  \n",
       "2030         7           190              9  2031    26746964  \n",
       "3411       183            -1              9  3412      454534  "
      ]
     },
     "execution_count": 232,
     "metadata": {},
     "output_type": "execute_result"
    }
   ],
   "source": [
    "raw_df.to_csv('../data/cleaned_data.csv', index=False, encoding='utf-8')\n",
    "raw_df.sample(5)"
   ]
  },
  {
   "cell_type": "markdown",
   "metadata": {},
   "source": [
    "<a id=\"analysis\"></a>\n",
    "\n",
    "# **V. Phân tích dữ liệu và trực quan hóa**"
   ]
  },
  {
   "cell_type": "code",
   "execution_count": null,
   "metadata": {},
   "outputs": [
    {
     "data": {
      "text/html": [
       "<div>\n",
       "<style scoped>\n",
       "    .dataframe tbody tr th:only-of-type {\n",
       "        vertical-align: middle;\n",
       "    }\n",
       "\n",
       "    .dataframe tbody tr th {\n",
       "        vertical-align: top;\n",
       "    }\n",
       "\n",
       "    .dataframe thead th {\n",
       "        text-align: right;\n",
       "    }\n",
       "</style>\n",
       "<table border=\"1\" class=\"dataframe\">\n",
       "  <thead>\n",
       "    <tr style=\"text-align: right;\">\n",
       "      <th></th>\n",
       "      <th>id</th>\n",
       "      <th>track_name</th>\n",
       "      <th>artist_names</th>\n",
       "      <th>source</th>\n",
       "      <th>release_date</th>\n",
       "      <th>duration</th>\n",
       "      <th>peak_rank</th>\n",
       "      <th>previous_rank</th>\n",
       "      <th>days_on_chart</th>\n",
       "      <th>rank</th>\n",
       "      <th>streams</th>\n",
       "    </tr>\n",
       "  </thead>\n",
       "  <tbody>\n",
       "    <tr>\n",
       "      <th>0</th>\n",
       "      <td>3Z0oQ8r78OUaHvGPiDBR3W</td>\n",
       "      <td>Into the Unknown</td>\n",
       "      <td>Idina Menzel, AURORA</td>\n",
       "      <td>Walt Disney Records</td>\n",
       "      <td>2019-11-29</td>\n",
       "      <td>202</td>\n",
       "      <td>50</td>\n",
       "      <td>145</td>\n",
       "      <td>23</td>\n",
       "      <td>1</td>\n",
       "      <td>4727746591</td>\n",
       "    </tr>\n",
       "    <tr>\n",
       "      <th>1</th>\n",
       "      <td>3AzjcOeAmA57TIOr9zF1ZW</td>\n",
       "      <td>Physical</td>\n",
       "      <td>Dua Lipa</td>\n",
       "      <td>Warner Records</td>\n",
       "      <td>2020-03-20</td>\n",
       "      <td>200</td>\n",
       "      <td>15</td>\n",
       "      <td>149</td>\n",
       "      <td>105</td>\n",
       "      <td>2</td>\n",
       "      <td>4726263786</td>\n",
       "    </tr>\n",
       "    <tr>\n",
       "      <th>2</th>\n",
       "      <td>5CLGzJsGqhCEECcpnFQA8x</td>\n",
       "      <td>These Days (feat. Jess Glynne, Macklemore &amp; Da...</td>\n",
       "      <td>Rudimental, Jess Glynne, Macklemore, Dan Caplen</td>\n",
       "      <td>Atlantic Records UK</td>\n",
       "      <td>2017-03-03</td>\n",
       "      <td>234</td>\n",
       "      <td>14</td>\n",
       "      <td>-1</td>\n",
       "      <td>86</td>\n",
       "      <td>3</td>\n",
       "      <td>4238338469</td>\n",
       "    </tr>\n",
       "    <tr>\n",
       "      <th>3</th>\n",
       "      <td>42zePe03Iq8tvFcJAIKkp8</td>\n",
       "      <td>D.R.E.A.M. (feat. Ghostface Killah)</td>\n",
       "      <td>Miley Cyrus, Ghostface Killah</td>\n",
       "      <td>RCA/Legacy</td>\n",
       "      <td>2019-05-17</td>\n",
       "      <td>182</td>\n",
       "      <td>59</td>\n",
       "      <td>59</td>\n",
       "      <td>2</td>\n",
       "      <td>4</td>\n",
       "      <td>3812743107</td>\n",
       "    </tr>\n",
       "    <tr>\n",
       "      <th>4</th>\n",
       "      <td>34ODRRWSsRbiB6sGI9R9Te</td>\n",
       "      <td>Badadu</td>\n",
       "      <td>MONSTAR</td>\n",
       "      <td>ST.319 Entertainment</td>\n",
       "      <td>2018-11-08</td>\n",
       "      <td>182</td>\n",
       "      <td>45</td>\n",
       "      <td>179</td>\n",
       "      <td>40</td>\n",
       "      <td>5</td>\n",
       "      <td>3811491910</td>\n",
       "    </tr>\n",
       "  </tbody>\n",
       "</table>\n",
       "</div>"
      ],
      "text/plain": [
       "                       id                                         track_name  \\\n",
       "0  3Z0oQ8r78OUaHvGPiDBR3W                                   Into the Unknown   \n",
       "1  3AzjcOeAmA57TIOr9zF1ZW                                           Physical   \n",
       "2  5CLGzJsGqhCEECcpnFQA8x  These Days (feat. Jess Glynne, Macklemore & Da...   \n",
       "3  42zePe03Iq8tvFcJAIKkp8                D.R.E.A.M. (feat. Ghostface Killah)   \n",
       "4  34ODRRWSsRbiB6sGI9R9Te                                             Badadu   \n",
       "\n",
       "                                      artist_names                source  \\\n",
       "0                             Idina Menzel, AURORA   Walt Disney Records   \n",
       "1                                         Dua Lipa        Warner Records   \n",
       "2  Rudimental, Jess Glynne, Macklemore, Dan Caplen   Atlantic Records UK   \n",
       "3                    Miley Cyrus, Ghostface Killah            RCA/Legacy   \n",
       "4                                          MONSTAR  ST.319 Entertainment   \n",
       "\n",
       "  release_date  duration  peak_rank  previous_rank  days_on_chart  rank  \\\n",
       "0   2019-11-29       202         50            145             23     1   \n",
       "1   2020-03-20       200         15            149            105     2   \n",
       "2   2017-03-03       234         14             -1             86     3   \n",
       "3   2019-05-17       182         59             59              2     4   \n",
       "4   2018-11-08       182         45            179             40     5   \n",
       "\n",
       "      streams  \n",
       "0  4727746591  \n",
       "1  4726263786  \n",
       "2  4238338469  \n",
       "3  3812743107  \n",
       "4  3811491910  "
      ]
     },
     "execution_count": 3,
     "metadata": {},
     "output_type": "execute_result"
    }
   ],
   "source": [
    "df = pd.read_csv('../data/cleaned_data.csv', encoding='utf-8')\n",
    "df.head(5)"
   ]
  },
  {
   "cell_type": "markdown",
   "metadata": {},
   "source": [
    "Mục tiêu phân tích của nhóm như đã nêu từ đầu là xu hướng thị hiếu âm nhạc của người nghe ở thị trường Việt Nam. Để có thể có cái nhìn đúng về thị trường âm nhạc trực tuyến ở Việt Nam hiện nay, chúng ta phải biết được mối quan hệ giữa các yếu tố âm nhạc dẫn đến sự thịnh hành của các bài hát, cũng như định hình xem sẽ phân tích các vấn đề gì. Vì vậy, trước tiên hết chúng ta sẽ cùng xem qua mối quan hệ giữa các trường có kiểu dữ liệu số với nhau, để có cái nhìn tổng quan về các yếu tố thời lượng - `duration`, thứ hạng - `rank` và lượt nghe - `streams`."
   ]
  },
  {
   "cell_type": "code",
   "execution_count": 4,
   "metadata": {},
   "outputs": [
    {
     "data": {
      "image/png": "[encoded data removed]",
      "text/plain": [
       "<Figure size 1000x800 with 2 Axes>"
      ]
     },
     "metadata": {},
     "output_type": "display_data"
    }
   ],
   "source": [
    "num_cols = ['duration', 'rank', 'streams']\n",
    "\n",
    "# Tính ma trận tương quan\n",
    "corr_matrix = df[num_cols].corr()\n",
    "\n",
    "# Heatmap\n",
    "plt.figure(figsize=(10, 8))\n",
    "sns.heatmap(corr_matrix, annot=True, cmap='Greens', fmt='.2f')\n",
    "plt.title('Tương quan giữa các thời lượng, xếp hạng và lượt nghe')\n",
    "plt.savefig('../images/heatmap.svg', format='svg')\n",
    "plt.show()"
   ]
  },
  {
   "cell_type": "markdown",
   "metadata": {},
   "source": [
    "Chúng ta có thể thấy không có gì bất thường. Heatmap cho thấy thứ hạng - `rank` và lượt nghe - `streams` có tương quan âm mạnh với nhau (-0.75), tức là khi lượt nghe tăng thì thứ hạng giảm, tương ứng với việc bài hát đó được nghe nhiều hơn thì sẽ đứng cao hơn trên bảng xếp hạng. Còn thời lượng - `duration` thì có tương quan âm nhẹ với `streams` (-0.15) và tương quan dương nhẹ với `rank` (0.27), tức là thời lượng bài hát không ảnh hưởng nhiều đến lượt nghe và thứ hạng của bài hát. Tuy nhiên điều này sẽ cần xem xét thêm ở phần vấn đề phía sau."
   ]
  },
  {
   "cell_type": "markdown",
   "metadata": {},
   "source": [
    "Đến với vấn đề đầu tiên chúng ta sẽ xem xét liệu đâu là các thể loại nhạc phổ biến nhất ở Việt Nam bằng cách xem xét số lượng bài hát của từng thể loại nhạc, để trả lời cho câu hỏi:"
   ]
  },
  {
   "cell_type": "markdown",
   "metadata": {},
   "source": [
    "<a id=\"a1\"></a>\n",
    "## **1. Mức độ ảnh hưởng của thể loại âm nhạc đến sự thịnh hành của bài hát**"
   ]
  },
  {
   "cell_type": "markdown",
   "metadata": {},
   "source": [
    "<a id=\"a11\"></a>\n",
    "### **1.1. Các thể loại nhạc nào thịnh hành nhất ở Việt Nam?**\n",
    "Để có thể làm điều này, chúng ta sẽ "
   ]
  },
  {
   "cell_type": "code",
   "execution_count": null,
   "metadata": {},
   "outputs": [
    {
     "name": "stdout",
     "output_type": "stream",
     "text": [
      "Số lượng bài hát của từng thể loại nhạc nằm trong top 50 thịnh hành:\n",
      "        genre  count\n",
      "0    Nhạc Trẻ     24\n",
      "1    Rap Việt     13\n",
      "2  Remix Việt      8\n",
      "3    Nhạc Hàn      3\n",
      "4         Pop      1\n"
     ]
    }
   ],
   "source": []
  },
  {
   "cell_type": "markdown",
   "metadata": {},
   "source": [
    "[Plot chart cho thể loại thịnh hành]"
   ]
  },
  {
   "cell_type": "markdown",
   "metadata": {},
   "source": [
    "Như đã thấy, các thể loại đang thịnh hành hiện nay là Nhạc Trẻ, Rap, Remix, Nhạc Hàn và Pop. Vậy liệu các thể loại này thịnh hành hơn do có nhiều bài hát trên các nền tảng trực tuyến hơn làm ảnh hưởng đến quyết định chọn nhạc của người nghe, hay là do thị hiếu chung của người nghe nhạc trực tuyến tại Việt Nam."
   ]
  },
  {
   "cell_type": "markdown",
   "metadata": {},
   "source": [
    "<a id=\"a12\"></a>\n",
    "### **1.2. Sự hiện diện của các thể loại âm nhạc trên thị trường âm nhạc Việt Nam**\n",
    "Để trả lời cho câu hỏi này, chúng ta sẽ xem xét số lượng bài hát của từng thể loại nhạc trong `df`.\n",
    "\n",
    "[Tự thêm markdown và biểu đồ]"
   ]
  },
  {
   "cell_type": "code",
   "execution_count": 34,
   "metadata": {},
   "outputs": [
    {
     "data": {
      "text/plain": [
       "genre\n",
       "Rap Việt             1009\n",
       "Remix Việt           1004\n",
       "Nhạc Hàn             1001\n",
       "Blues/Jazz           1000\n",
       "Latin                1000\n",
       "Country              1000\n",
       "Trữ Tình             1000\n",
       "R&B/Hip Hop/Rap       999\n",
       "Nhạc Thái             999\n",
       "Thiếu Nhi             999\n",
       "Tiền Chiến            999\n",
       "Cách Mạng             998\n",
       "Nhạc Hoa              998\n",
       "Nhạc Nhật             998\n",
       "Rock Việt             997\n",
       "Nhạc Trịnh            996\n",
       "Indie                 931\n",
       "Rock                  775\n",
       "Beat                  714\n",
       "Electronica/Dance     630\n",
       "Không Lời             509\n",
       "Nhạc Trẻ              438\n",
       "Pop                   155\n",
       "Thể Loại Khác         120\n",
       "Name: count, dtype: int64"
      ]
     },
     "execution_count": 34,
     "metadata": {},
     "output_type": "execute_result"
    }
   ],
   "source": [
    "df['genre'].value_counts()"
   ]
  },
  {
   "cell_type": "markdown",
   "metadata": {},
   "source": [
    "[note: này chỉ là ví dụ nhận xét]\n",
    "Nhạc Trẻ là thể loại nằm trong bảng xếp hạng thịnh hành hiện nay nhiều nhất nhưng số lượng bài hát có trên trang web trực tuyến này ít hơn nhiều lần so với các thể loại như Rap Việt và Remix Việt. Vậy có nghĩa là người nghe không phải hoàn toàn chọn nhạc do ảnh hưởng từ số lượng bài hát của một bên nào áp đảo mà là do thị hiếu cá nhân của họ. Hoặc cũng có thể là do đây không phải là kênh nhạc trực tuyến người nghe chọn để nghe Rap Việt và Remix Việt nhiều.\n",
    "\n",
    "Tuy nhiên để có thể biết được rõ ràng hơn về thể loại nhạc ảnh hưởng thế nào đến thị hiếu của người nghe, chúng ta cần phải xem xét thêm ở một bang xếp hạng có thời gian dài hơn và có nhiều bài hát hơn và NhacCuaTui không cung cấp lượt nghe. Nên nhóm sẽ thu thập thêm dữ liệu từ trang Kworb (nơi cung cấp bảng xếp hạng âm nhạc trên nền tảng Spotify, Itunes, Youtube...) để có cái nhìn rõ hơn về điều này.\n",
    "\n",
    "[Scrape từ trang https://kworb.net/spotify/country/vn_daily_totals.html Đã có làm rồi ở project trước, đồng thời khi scrape đc về rồi lưu ý là id trên trang này tương đương id trên spotify nên là xử lí chuỗi để có thể dùng nó request đc cái thể loại nhạc luôn, xử lí lại thể loại cho nó fit lại với cái trên, vd V-Pop -> Nhạc Trẻ, K-Pop -> Nhạc Hàn]\n",
    "\n",
    "[Nhớ lưu cái cào về vào csv để trong file data]"
   ]
  },
  {
   "cell_type": "code",
   "execution_count": null,
   "metadata": {},
   "outputs": [],
   "source": []
  },
  {
   "cell_type": "markdown",
   "metadata": {},
   "source": [
    "[Ví dụ nhận xét] Nhưng từ đó chúng ta cũng thấy rằng có vẻ như thính giả Việt Nam vẫn thiên về nghe nhạc Việt. Nhưng bên cạnh đó vẫn có các bài hát quốc tế lọt vào bảng xếp hạng thịnh hành. Điều đó cho thấy có sự xuất hiện của âm nhạc quốc tế trong thị trường âm nhạc Việt Nam. Thậm chí kể cả trong các bài hát được cập nhật trên trang NhacCuaTui, số lượng Nhạc Hàn đứng top 3 thể loại được cập nhật bài hát nhiều nhất. Chứng tỏ rất nhiều người quan tâm đến thể loại này. Vậy trên thị trường âm nhạc Việt Nam, nhạc Việt hay nhạc ngoại quốc đang chiếm ưu thế?"
   ]
  },
  {
   "cell_type": "markdown",
   "metadata": {},
   "source": [
    "<a id=\"a2\"></a>\n",
    "## **2. Nhạc Việt hay Nhạc Ngoại: Tổng quan thị trường nhạc Việt hiện nay?**"
   ]
  },
  {
   "cell_type": "code",
   "execution_count": null,
   "metadata": {},
   "outputs": [],
   "source": []
  },
  {
   "cell_type": "markdown",
   "metadata": {},
   "source": [
    "Sau khi đã có cái nhìn nhất định về thị trường âm nhạc Việt Nam, chúng ta sẽ đi sâu hơn về phần cảm nhận của người nghe để biết thêm những yếu tố nào ảnh hưởng đến sự chọn lựa của họ. Câu hỏi đặt ra là những nguyên nhân nào cấu thành sự thành công của một bài hát mà thành công ở đây là được nhiều người đón nhận trên thước đo bảng xếp hạng? Để trả lời cho câu hỏi này, chúng ta sẽ xem xét các câu hỏi sau:"
   ]
  },
  {
   "cell_type": "markdown",
   "metadata": {},
   "source": [
    "<a id=\"a3\"></a>\n",
    "## **3. Thời lượng như thế nào là tối ưu hiện tại?**"
   ]
  },
  {
   "cell_type": "markdown",
   "metadata": {},
   "source": [
    "Thời lượng cũng là một thành phần được hiển thị khi người nghe chọn nghe nhạc trực tuyến. Vậy liệu thời lượng của bài hát có ảnh hưởng đến sự thành công của bài hát không và đâu là thời lượng tối ưu của một bài hát thành công? Tối ưu ở đây là khi bài hát đó đáp ứng được nhu cầu thị hiếu của người nghe và trở nên nổi tiếng. Để trả lời cho câu hỏi này, đầu tiên chúng ta sẽ xem xét thời lượng trung bình của các bài hát trên bảng xếp hạng là bao nhiêu."
   ]
  },
  {
   "cell_type": "code",
   "execution_count": 4,
   "metadata": {},
   "outputs": [
    {
     "name": "stdout",
     "output_type": "stream",
     "text": [
      "Thời lượng trung bình của các bài hát trên bảng xếp hạng là: 214.18 giây\n"
     ]
    },
    {
     "data": {
      "image/png": "[encoded data removed]",
      "text/plain": [
       "<Figure size 1000x600 with 1 Axes>"
      ]
     },
     "metadata": {},
     "output_type": "display_data"
    }
   ],
   "source": [
    "avg_dur = df['duration'].mean()\n",
    "print(f\"Thời lượng trung bình của các bài hát trên bảng xếp hạng là: {avg_dur:.2f} giây\")\n",
    "\n",
    "plt.figure(figsize=(10, 6))\n",
    "sns.scatterplot(x='duration', y='rank', data=df, alpha=0.5, color='green')\n",
    "plt.title('Phân bố thời lượng bài hát theo thứ hạng')\n",
    "plt.xlabel('Thời lượng (giây)')\n",
    "plt.ylabel('Thứ hạng')\n",
    "plt.gca().invert_yaxis() \n",
    "plt.savefig('../images/scatterplot.svg', format='svg')\n",
    "plt.show()"
   ]
  },
  {
   "cell_type": "code",
   "execution_count": null,
   "metadata": {},
   "outputs": [],
   "source": [
    "Vậy thời lượng trung bình của các bài hát trên bảng xếp hạng là 214.18 giây, tương đương với 3 phút 34 giây. Một thời lượng khá lý tưởng cho một bài hát. Đồng thời dựa vào biểu đồ, ta thấy thời lượng của bài hát tập trung nhiều ở khoảng 180 - 260 giây.\n",
    "\n",
    "Câu hỏi đặt ra là đâu là thời khoảng thời lượng thời lượng tối ưu cho một bài hát hiện nay? Để trả lời cho câu hỏi này, chúng ta sẽ xem xét xem các bài hát có thứ hạng cao nhất (top 20) gần nhất có thời lượng như thế nào?"
   ]
  },
  {
   "cell_type": "code",
   "execution_count": 5,
   "metadata": {},
   "outputs": [
    {
     "data": {
      "text/html": [
       "<div>\n",
       "<style scoped>\n",
       "    .dataframe tbody tr th:only-of-type {\n",
       "        vertical-align: middle;\n",
       "    }\n",
       "\n",
       "    .dataframe tbody tr th {\n",
       "        vertical-align: top;\n",
       "    }\n",
       "\n",
       "    .dataframe thead th {\n",
       "        text-align: right;\n",
       "    }\n",
       "</style>\n",
       "<table border=\"1\" class=\"dataframe\">\n",
       "  <thead>\n",
       "    <tr style=\"text-align: right;\">\n",
       "      <th></th>\n",
       "      <th>track_name</th>\n",
       "      <th>duration</th>\n",
       "      <th>rank</th>\n",
       "      <th>streams</th>\n",
       "    </tr>\n",
       "  </thead>\n",
       "  <tbody>\n",
       "    <tr>\n",
       "      <th>0</th>\n",
       "      <td>Into the Unknown</td>\n",
       "      <td>202</td>\n",
       "      <td>1</td>\n",
       "      <td>4727746591</td>\n",
       "    </tr>\n",
       "    <tr>\n",
       "      <th>1</th>\n",
       "      <td>Physical</td>\n",
       "      <td>200</td>\n",
       "      <td>2</td>\n",
       "      <td>4726263786</td>\n",
       "    </tr>\n",
       "    <tr>\n",
       "      <th>2</th>\n",
       "      <td>These Days (feat. Jess Glynne, Macklemore &amp; Da...</td>\n",
       "      <td>234</td>\n",
       "      <td>3</td>\n",
       "      <td>4238338469</td>\n",
       "    </tr>\n",
       "    <tr>\n",
       "      <th>3</th>\n",
       "      <td>D.R.E.A.M. (feat. Ghostface Killah)</td>\n",
       "      <td>182</td>\n",
       "      <td>4</td>\n",
       "      <td>3812743107</td>\n",
       "    </tr>\n",
       "    <tr>\n",
       "      <th>4</th>\n",
       "      <td>Badadu</td>\n",
       "      <td>182</td>\n",
       "      <td>5</td>\n",
       "      <td>3811491910</td>\n",
       "    </tr>\n",
       "    <tr>\n",
       "      <th>5</th>\n",
       "      <td>As It Was</td>\n",
       "      <td>167</td>\n",
       "      <td>6</td>\n",
       "      <td>3774211059</td>\n",
       "    </tr>\n",
       "    <tr>\n",
       "      <th>6</th>\n",
       "      <td>As It Was</td>\n",
       "      <td>167</td>\n",
       "      <td>7</td>\n",
       "      <td>3774211059</td>\n",
       "    </tr>\n",
       "    <tr>\n",
       "      <th>7</th>\n",
       "      <td>Starboy</td>\n",
       "      <td>230</td>\n",
       "      <td>8</td>\n",
       "      <td>3764936894</td>\n",
       "    </tr>\n",
       "    <tr>\n",
       "      <th>8</th>\n",
       "      <td>Hết Thương Cạn Nhớ</td>\n",
       "      <td>158</td>\n",
       "      <td>9</td>\n",
       "      <td>3721945430</td>\n",
       "    </tr>\n",
       "    <tr>\n",
       "      <th>9</th>\n",
       "      <td>Liar</td>\n",
       "      <td>158</td>\n",
       "      <td>10</td>\n",
       "      <td>3721945430</td>\n",
       "    </tr>\n",
       "    <tr>\n",
       "      <th>10</th>\n",
       "      <td>Ngày Chưa Giông Bão (Theme Song From \"Người Bấ...</td>\n",
       "      <td>158</td>\n",
       "      <td>11</td>\n",
       "      <td>3720760877</td>\n",
       "    </tr>\n",
       "    <tr>\n",
       "      <th>11</th>\n",
       "      <td>Going Bad (feat. Drake)</td>\n",
       "      <td>158</td>\n",
       "      <td>12</td>\n",
       "      <td>3720760877</td>\n",
       "    </tr>\n",
       "    <tr>\n",
       "      <th>12</th>\n",
       "      <td>DALLA DALLA</td>\n",
       "      <td>158</td>\n",
       "      <td>13</td>\n",
       "      <td>3720760877</td>\n",
       "    </tr>\n",
       "    <tr>\n",
       "      <th>13</th>\n",
       "      <td>Thức Giấc</td>\n",
       "      <td>142</td>\n",
       "      <td>14</td>\n",
       "      <td>3476727992</td>\n",
       "    </tr>\n",
       "    <tr>\n",
       "      <th>14</th>\n",
       "      <td>STAY (with Justin Bieber)</td>\n",
       "      <td>142</td>\n",
       "      <td>15</td>\n",
       "      <td>3476727992</td>\n",
       "    </tr>\n",
       "    <tr>\n",
       "      <th>15</th>\n",
       "      <td>STAY (with Justin Bieber)</td>\n",
       "      <td>142</td>\n",
       "      <td>16</td>\n",
       "      <td>3476727992</td>\n",
       "    </tr>\n",
       "    <tr>\n",
       "      <th>16</th>\n",
       "      <td>I'M OK</td>\n",
       "      <td>204</td>\n",
       "      <td>17</td>\n",
       "      <td>3338856236</td>\n",
       "    </tr>\n",
       "    <tr>\n",
       "      <th>17</th>\n",
       "      <td>Say You Do - 2nd Single 2015</td>\n",
       "      <td>263</td>\n",
       "      <td>18</td>\n",
       "      <td>3312142392</td>\n",
       "    </tr>\n",
       "    <tr>\n",
       "      <th>18</th>\n",
       "      <td>Heat Waves</td>\n",
       "      <td>239</td>\n",
       "      <td>19</td>\n",
       "      <td>3301944296</td>\n",
       "    </tr>\n",
       "    <tr>\n",
       "      <th>19</th>\n",
       "      <td>Phố Không Em</td>\n",
       "      <td>210</td>\n",
       "      <td>20</td>\n",
       "      <td>3220250553</td>\n",
       "    </tr>\n",
       "  </tbody>\n",
       "</table>\n",
       "</div>"
      ],
      "text/plain": [
       "                                           track_name  duration  rank  \\\n",
       "0                                    Into the Unknown       202     1   \n",
       "1                                            Physical       200     2   \n",
       "2   These Days (feat. Jess Glynne, Macklemore & Da...       234     3   \n",
       "3                 D.R.E.A.M. (feat. Ghostface Killah)       182     4   \n",
       "4                                              Badadu       182     5   \n",
       "5                                           As It Was       167     6   \n",
       "6                                           As It Was       167     7   \n",
       "7                                             Starboy       230     8   \n",
       "8                                  Hết Thương Cạn Nhớ       158     9   \n",
       "9                                                Liar       158    10   \n",
       "10  Ngày Chưa Giông Bão (Theme Song From \"Người Bấ...       158    11   \n",
       "11                            Going Bad (feat. Drake)       158    12   \n",
       "12                                        DALLA DALLA       158    13   \n",
       "13                                          Thức Giấc       142    14   \n",
       "14                          STAY (with Justin Bieber)       142    15   \n",
       "15                          STAY (with Justin Bieber)       142    16   \n",
       "16                                             I'M OK       204    17   \n",
       "17                       Say You Do - 2nd Single 2015       263    18   \n",
       "18                                         Heat Waves       239    19   \n",
       "19                                       Phố Không Em       210    20   \n",
       "\n",
       "       streams  \n",
       "0   4727746591  \n",
       "1   4726263786  \n",
       "2   4238338469  \n",
       "3   3812743107  \n",
       "4   3811491910  \n",
       "5   3774211059  \n",
       "6   3774211059  \n",
       "7   3764936894  \n",
       "8   3721945430  \n",
       "9   3721945430  \n",
       "10  3720760877  \n",
       "11  3720760877  \n",
       "12  3720760877  \n",
       "13  3476727992  \n",
       "14  3476727992  \n",
       "15  3476727992  \n",
       "16  3338856236  \n",
       "17  3312142392  \n",
       "18  3301944296  \n",
       "19  3220250553  "
      ]
     },
     "execution_count": 5,
     "metadata": {},
     "output_type": "execute_result"
    }
   ],
   "source": [
    "top_20_tracks = df[df['rank'] <= 20]\n",
    "top_20_tracks[['track_name', 'duration', 'rank', 'streams']]"
   ]
  },
  {
   "cell_type": "markdown",
   "metadata": {},
   "source": [
    "Một bất thường ở đây là có một sự trùng lặp giữa top 15 và top 16 cùng một lượt stream và cùng một bài hát. Nhưng chúng ta đã xóa `uri` trùng, nên đây là một bài hát nhưng khác `uri` vì tên `track_name`, nghệ sĩ `artist_names` của bài hát tương tự. Vậy nên chúng ta sẽ xóa một trong hai của các bài hát có cùng `track_name`, `artist_names` và `streams` để tránh sự trùng lặp này."
   ]
  },
  {
   "cell_type": "code",
   "execution_count": 6,
   "metadata": {},
   "outputs": [
    {
     "data": {
      "text/html": [
       "<div>\n",
       "<style scoped>\n",
       "    .dataframe tbody tr th:only-of-type {\n",
       "        vertical-align: middle;\n",
       "    }\n",
       "\n",
       "    .dataframe tbody tr th {\n",
       "        vertical-align: top;\n",
       "    }\n",
       "\n",
       "    .dataframe thead th {\n",
       "        text-align: right;\n",
       "    }\n",
       "</style>\n",
       "<table border=\"1\" class=\"dataframe\">\n",
       "  <thead>\n",
       "    <tr style=\"text-align: right;\">\n",
       "      <th></th>\n",
       "      <th>track_name</th>\n",
       "      <th>duration</th>\n",
       "      <th>rank</th>\n",
       "      <th>streams</th>\n",
       "    </tr>\n",
       "  </thead>\n",
       "  <tbody>\n",
       "    <tr>\n",
       "      <th>0</th>\n",
       "      <td>Into the Unknown</td>\n",
       "      <td>202</td>\n",
       "      <td>1</td>\n",
       "      <td>4727746591</td>\n",
       "    </tr>\n",
       "    <tr>\n",
       "      <th>1</th>\n",
       "      <td>Physical</td>\n",
       "      <td>200</td>\n",
       "      <td>2</td>\n",
       "      <td>4726263786</td>\n",
       "    </tr>\n",
       "    <tr>\n",
       "      <th>2</th>\n",
       "      <td>These Days (feat. Jess Glynne, Macklemore &amp; Da...</td>\n",
       "      <td>234</td>\n",
       "      <td>3</td>\n",
       "      <td>4238338469</td>\n",
       "    </tr>\n",
       "    <tr>\n",
       "      <th>3</th>\n",
       "      <td>D.R.E.A.M. (feat. Ghostface Killah)</td>\n",
       "      <td>182</td>\n",
       "      <td>4</td>\n",
       "      <td>3812743107</td>\n",
       "    </tr>\n",
       "    <tr>\n",
       "      <th>4</th>\n",
       "      <td>Badadu</td>\n",
       "      <td>182</td>\n",
       "      <td>5</td>\n",
       "      <td>3811491910</td>\n",
       "    </tr>\n",
       "    <tr>\n",
       "      <th>5</th>\n",
       "      <td>As It Was</td>\n",
       "      <td>167</td>\n",
       "      <td>6</td>\n",
       "      <td>3774211059</td>\n",
       "    </tr>\n",
       "    <tr>\n",
       "      <th>6</th>\n",
       "      <td>Starboy</td>\n",
       "      <td>230</td>\n",
       "      <td>7</td>\n",
       "      <td>3764936894</td>\n",
       "    </tr>\n",
       "    <tr>\n",
       "      <th>7</th>\n",
       "      <td>Hết Thương Cạn Nhớ</td>\n",
       "      <td>158</td>\n",
       "      <td>8</td>\n",
       "      <td>3721945430</td>\n",
       "    </tr>\n",
       "    <tr>\n",
       "      <th>8</th>\n",
       "      <td>Liar</td>\n",
       "      <td>158</td>\n",
       "      <td>9</td>\n",
       "      <td>3721945430</td>\n",
       "    </tr>\n",
       "    <tr>\n",
       "      <th>9</th>\n",
       "      <td>Ngày Chưa Giông Bão (Theme Song From \"Người Bấ...</td>\n",
       "      <td>158</td>\n",
       "      <td>10</td>\n",
       "      <td>3720760877</td>\n",
       "    </tr>\n",
       "    <tr>\n",
       "      <th>10</th>\n",
       "      <td>Going Bad (feat. Drake)</td>\n",
       "      <td>158</td>\n",
       "      <td>11</td>\n",
       "      <td>3720760877</td>\n",
       "    </tr>\n",
       "    <tr>\n",
       "      <th>11</th>\n",
       "      <td>DALLA DALLA</td>\n",
       "      <td>158</td>\n",
       "      <td>12</td>\n",
       "      <td>3720760877</td>\n",
       "    </tr>\n",
       "    <tr>\n",
       "      <th>12</th>\n",
       "      <td>Thức Giấc</td>\n",
       "      <td>142</td>\n",
       "      <td>13</td>\n",
       "      <td>3476727992</td>\n",
       "    </tr>\n",
       "    <tr>\n",
       "      <th>13</th>\n",
       "      <td>STAY (with Justin Bieber)</td>\n",
       "      <td>142</td>\n",
       "      <td>14</td>\n",
       "      <td>3476727992</td>\n",
       "    </tr>\n",
       "    <tr>\n",
       "      <th>14</th>\n",
       "      <td>I'M OK</td>\n",
       "      <td>204</td>\n",
       "      <td>15</td>\n",
       "      <td>3338856236</td>\n",
       "    </tr>\n",
       "    <tr>\n",
       "      <th>15</th>\n",
       "      <td>Say You Do - 2nd Single 2015</td>\n",
       "      <td>263</td>\n",
       "      <td>16</td>\n",
       "      <td>3312142392</td>\n",
       "    </tr>\n",
       "    <tr>\n",
       "      <th>16</th>\n",
       "      <td>Heat Waves</td>\n",
       "      <td>239</td>\n",
       "      <td>17</td>\n",
       "      <td>3301944296</td>\n",
       "    </tr>\n",
       "    <tr>\n",
       "      <th>17</th>\n",
       "      <td>Phố Không Em</td>\n",
       "      <td>210</td>\n",
       "      <td>18</td>\n",
       "      <td>3220250553</td>\n",
       "    </tr>\n",
       "    <tr>\n",
       "      <th>18</th>\n",
       "      <td>Ashes - from \"Deadpool 2\" Motion Picture Sound...</td>\n",
       "      <td>200</td>\n",
       "      <td>19</td>\n",
       "      <td>3209562664</td>\n",
       "    </tr>\n",
       "    <tr>\n",
       "      <th>19</th>\n",
       "      <td>Darkside</td>\n",
       "      <td>200</td>\n",
       "      <td>20</td>\n",
       "      <td>3209562664</td>\n",
       "    </tr>\n",
       "  </tbody>\n",
       "</table>\n",
       "</div>"
      ],
      "text/plain": [
       "                                           track_name  duration  rank  \\\n",
       "0                                    Into the Unknown       202     1   \n",
       "1                                            Physical       200     2   \n",
       "2   These Days (feat. Jess Glynne, Macklemore & Da...       234     3   \n",
       "3                 D.R.E.A.M. (feat. Ghostface Killah)       182     4   \n",
       "4                                              Badadu       182     5   \n",
       "5                                           As It Was       167     6   \n",
       "6                                             Starboy       230     7   \n",
       "7                                  Hết Thương Cạn Nhớ       158     8   \n",
       "8                                                Liar       158     9   \n",
       "9   Ngày Chưa Giông Bão (Theme Song From \"Người Bấ...       158    10   \n",
       "10                            Going Bad (feat. Drake)       158    11   \n",
       "11                                        DALLA DALLA       158    12   \n",
       "12                                          Thức Giấc       142    13   \n",
       "13                          STAY (with Justin Bieber)       142    14   \n",
       "14                                             I'M OK       204    15   \n",
       "15                       Say You Do - 2nd Single 2015       263    16   \n",
       "16                                         Heat Waves       239    17   \n",
       "17                                       Phố Không Em       210    18   \n",
       "18  Ashes - from \"Deadpool 2\" Motion Picture Sound...       200    19   \n",
       "19                                           Darkside       200    20   \n",
       "\n",
       "       streams  \n",
       "0   4727746591  \n",
       "1   4726263786  \n",
       "2   4238338469  \n",
       "3   3812743107  \n",
       "4   3811491910  \n",
       "5   3774211059  \n",
       "6   3764936894  \n",
       "7   3721945430  \n",
       "8   3721945430  \n",
       "9   3720760877  \n",
       "10  3720760877  \n",
       "11  3720760877  \n",
       "12  3476727992  \n",
       "13  3476727992  \n",
       "14  3338856236  \n",
       "15  3312142392  \n",
       "16  3301944296  \n",
       "17  3220250553  \n",
       "18  3209562664  \n",
       "19  3209562664  "
      ]
     },
     "execution_count": 6,
     "metadata": {},
     "output_type": "execute_result"
    }
   ],
   "source": [
    "# Xóa bài hát ở top 16 tức index 15\n",
    "df.drop_duplicates(subset=['track_name', 'artist_names', 'streams'], inplace=True)\n",
    "df.reset_index(drop=True, inplace=True)\n",
    "\n",
    "# Định lại thứ hạng cho các bài hát\n",
    "df = df.sort_values(by='streams', ascending=False).reset_index(drop=True)\n",
    "df['rank'] = df.index + 1\n",
    "\n",
    "# Lọc và hiển thị các bài hát có rank <= 20\n",
    "top_20_tracks = df[df['rank'] <= 20]\n",
    "top_20_tracks[['track_name', 'duration', 'rank', 'streams']]"
   ]
  },
  {
   "cell_type": "code",
   "execution_count": 8,
   "metadata": {},
   "outputs": [
    {
     "data": {
      "application/vnd.plotly.v1+json": {
       "config": {
        "plotlyServerURL": "https://plot.ly"
       },
       "data": [
        {
         "hovertemplate": "Thứ hạng=%{x}<br>Thời lượng (giây)=%{y}<extra></extra>",
         "legendgroup": "",
         "line": {
          "color": "green",
          "dash": "solid"
         },
         "marker": {
          "color": "pink",
          "size": 8,
          "symbol": "circle"
         },
         "mode": "lines+markers",
         "name": "",
         "orientation": "v",
         "showlegend": false,
         "type": "scatter",
         "x": {
          "bdata": "AQIDBAUGBwgJCgsMDQ4PEBESExQ=",
          "dtype": "i1"
         },
         "xaxis": "x",
         "y": {
          "bdata": "ygDIAOoAtgC2AKcA5gCeAJ4AngCeAJ4AjgCOAMwABwHvANIAyADIAA==",
          "dtype": "i2"
         },
         "yaxis": "y"
        }
       ],
       "layout": {
        "legend": {
         "tracegroupgap": 0
        },
        "shapes": [
         {
          "line": {
           "color": "blue",
           "dash": "dash"
          },
          "name": "Average Duration",
          "type": "line",
          "x0": 1,
          "x1": 20,
          "y0": 214.17636937195297,
          "y1": 214.17636937195297
         }
        ],
        "template": {
         "data": {
          "bar": [
           {
            "error_x": {
             "color": "#2a3f5f"
            },
            "error_y": {
             "color": "#2a3f5f"
            },
            "marker": {
             "line": {
              "color": "#E5ECF6",
              "width": 0.5
             },
             "pattern": {
              "fillmode": "overlay",
              "size": 10,
              "solidity": 0.2
             }
            },
            "type": "bar"
           }
          ],
          "barpolar": [
           {
            "marker": {
             "line": {
              "color": "#E5ECF6",
              "width": 0.5
             },
             "pattern": {
              "fillmode": "overlay",
              "size": 10,
              "solidity": 0.2
             }
            },
            "type": "barpolar"
           }
          ],
          "carpet": [
           {
            "aaxis": {
             "endlinecolor": "#2a3f5f",
             "gridcolor": "white",
             "linecolor": "white",
             "minorgridcolor": "white",
             "startlinecolor": "#2a3f5f"
            },
            "baxis": {
             "endlinecolor": "#2a3f5f",
             "gridcolor": "white",
             "linecolor": "white",
             "minorgridcolor": "white",
             "startlinecolor": "#2a3f5f"
            },
            "type": "carpet"
           }
          ],
          "choropleth": [
           {
            "colorbar": {
             "outlinewidth": 0,
             "ticks": ""
            },
            "type": "choropleth"
           }
          ],
          "contour": [
           {
            "colorbar": {
             "outlinewidth": 0,
             "ticks": ""
            },
            "colorscale": [
             [
              0,
              "#0d0887"
             ],
             [
              0.1111111111111111,
              "#46039f"
             ],
             [
              0.2222222222222222,
              "#7201a8"
             ],
             [
              0.3333333333333333,
              "#9c179e"
             ],
             [
              0.4444444444444444,
              "#bd3786"
             ],
             [
              0.5555555555555556,
              "#d8576b"
             ],
             [
              0.6666666666666666,
              "#ed7953"
             ],
             [
              0.7777777777777778,
              "#fb9f3a"
             ],
             [
              0.8888888888888888,
              "#fdca26"
             ],
             [
              1,
              "#f0f921"
             ]
            ],
            "type": "contour"
           }
          ],
          "contourcarpet": [
           {
            "colorbar": {
             "outlinewidth": 0,
             "ticks": ""
            },
            "type": "contourcarpet"
           }
          ],
          "heatmap": [
           {
            "colorbar": {
             "outlinewidth": 0,
             "ticks": ""
            },
            "colorscale": [
             [
              0,
              "#0d0887"
             ],
             [
              0.1111111111111111,
              "#46039f"
             ],
             [
              0.2222222222222222,
              "#7201a8"
             ],
             [
              0.3333333333333333,
              "#9c179e"
             ],
             [
              0.4444444444444444,
              "#bd3786"
             ],
             [
              0.5555555555555556,
              "#d8576b"
             ],
             [
              0.6666666666666666,
              "#ed7953"
             ],
             [
              0.7777777777777778,
              "#fb9f3a"
             ],
             [
              0.8888888888888888,
              "#fdca26"
             ],
             [
              1,
              "#f0f921"
             ]
            ],
            "type": "heatmap"
           }
          ],
          "histogram": [
           {
            "marker": {
             "pattern": {
              "fillmode": "overlay",
              "size": 10,
              "solidity": 0.2
             }
            },
            "type": "histogram"
           }
          ],
          "histogram2d": [
           {
            "colorbar": {
             "outlinewidth": 0,
             "ticks": ""
            },
            "colorscale": [
             [
              0,
              "#0d0887"
             ],
             [
              0.1111111111111111,
              "#46039f"
             ],
             [
              0.2222222222222222,
              "#7201a8"
             ],
             [
              0.3333333333333333,
              "#9c179e"
             ],
             [
              0.4444444444444444,
              "#bd3786"
             ],
             [
              0.5555555555555556,
              "#d8576b"
             ],
             [
              0.6666666666666666,
              "#ed7953"
             ],
             [
              0.7777777777777778,
              "#fb9f3a"
             ],
             [
              0.8888888888888888,
              "#fdca26"
             ],
             [
              1,
              "#f0f921"
             ]
            ],
            "type": "histogram2d"
           }
          ],
          "histogram2dcontour": [
           {
            "colorbar": {
             "outlinewidth": 0,
             "ticks": ""
            },
            "colorscale": [
             [
              0,
              "#0d0887"
             ],
             [
              0.1111111111111111,
              "#46039f"
             ],
             [
              0.2222222222222222,
              "#7201a8"
             ],
             [
              0.3333333333333333,
              "#9c179e"
             ],
             [
              0.4444444444444444,
              "#bd3786"
             ],
             [
              0.5555555555555556,
              "#d8576b"
             ],
             [
              0.6666666666666666,
              "#ed7953"
             ],
             [
              0.7777777777777778,
              "#fb9f3a"
             ],
             [
              0.8888888888888888,
              "#fdca26"
             ],
             [
              1,
              "#f0f921"
             ]
            ],
            "type": "histogram2dcontour"
           }
          ],
          "mesh3d": [
           {
            "colorbar": {
             "outlinewidth": 0,
             "ticks": ""
            },
            "type": "mesh3d"
           }
          ],
          "parcoords": [
           {
            "line": {
             "colorbar": {
              "outlinewidth": 0,
              "ticks": ""
             }
            },
            "type": "parcoords"
           }
          ],
          "pie": [
           {
            "automargin": true,
            "type": "pie"
           }
          ],
          "scatter": [
           {
            "fillpattern": {
             "fillmode": "overlay",
             "size": 10,
             "solidity": 0.2
            },
            "type": "scatter"
           }
          ],
          "scatter3d": [
           {
            "line": {
             "colorbar": {
              "outlinewidth": 0,
              "ticks": ""
             }
            },
            "marker": {
             "colorbar": {
              "outlinewidth": 0,
              "ticks": ""
             }
            },
            "type": "scatter3d"
           }
          ],
          "scattercarpet": [
           {
            "marker": {
             "colorbar": {
              "outlinewidth": 0,
              "ticks": ""
             }
            },
            "type": "scattercarpet"
           }
          ],
          "scattergeo": [
           {
            "marker": {
             "colorbar": {
              "outlinewidth": 0,
              "ticks": ""
             }
            },
            "type": "scattergeo"
           }
          ],
          "scattergl": [
           {
            "marker": {
             "colorbar": {
              "outlinewidth": 0,
              "ticks": ""
             }
            },
            "type": "scattergl"
           }
          ],
          "scattermap": [
           {
            "marker": {
             "colorbar": {
              "outlinewidth": 0,
              "ticks": ""
             }
            },
            "type": "scattermap"
           }
          ],
          "scattermapbox": [
           {
            "marker": {
             "colorbar": {
              "outlinewidth": 0,
              "ticks": ""
             }
            },
            "type": "scattermapbox"
           }
          ],
          "scatterpolar": [
           {
            "marker": {
             "colorbar": {
              "outlinewidth": 0,
              "ticks": ""
             }
            },
            "type": "scatterpolar"
           }
          ],
          "scatterpolargl": [
           {
            "marker": {
             "colorbar": {
              "outlinewidth": 0,
              "ticks": ""
             }
            },
            "type": "scatterpolargl"
           }
          ],
          "scatterternary": [
           {
            "marker": {
             "colorbar": {
              "outlinewidth": 0,
              "ticks": ""
             }
            },
            "type": "scatterternary"
           }
          ],
          "surface": [
           {
            "colorbar": {
             "outlinewidth": 0,
             "ticks": ""
            },
            "colorscale": [
             [
              0,
              "#0d0887"
             ],
             [
              0.1111111111111111,
              "#46039f"
             ],
             [
              0.2222222222222222,
              "#7201a8"
             ],
             [
              0.3333333333333333,
              "#9c179e"
             ],
             [
              0.4444444444444444,
              "#bd3786"
             ],
             [
              0.5555555555555556,
              "#d8576b"
             ],
             [
              0.6666666666666666,
              "#ed7953"
             ],
             [
              0.7777777777777778,
              "#fb9f3a"
             ],
             [
              0.8888888888888888,
              "#fdca26"
             ],
             [
              1,
              "#f0f921"
             ]
            ],
            "type": "surface"
           }
          ],
          "table": [
           {
            "cells": {
             "fill": {
              "color": "#EBF0F8"
             },
             "line": {
              "color": "white"
             }
            },
            "header": {
             "fill": {
              "color": "#C8D4E3"
             },
             "line": {
              "color": "white"
             }
            },
            "type": "table"
           }
          ]
         },
         "layout": {
          "annotationdefaults": {
           "arrowcolor": "#2a3f5f",
           "arrowhead": 0,
           "arrowwidth": 1
          },
          "autotypenumbers": "strict",
          "coloraxis": {
           "colorbar": {
            "outlinewidth": 0,
            "ticks": ""
           }
          },
          "colorscale": {
           "diverging": [
            [
             0,
             "#8e0152"
            ],
            [
             0.1,
             "#c51b7d"
            ],
            [
             0.2,
             "#de77ae"
            ],
            [
             0.3,
             "#f1b6da"
            ],
            [
             0.4,
             "#fde0ef"
            ],
            [
             0.5,
             "#f7f7f7"
            ],
            [
             0.6,
             "#e6f5d0"
            ],
            [
             0.7,
             "#b8e186"
            ],
            [
             0.8,
             "#7fbc41"
            ],
            [
             0.9,
             "#4d9221"
            ],
            [
             1,
             "#276419"
            ]
           ],
           "sequential": [
            [
             0,
             "#0d0887"
            ],
            [
             0.1111111111111111,
             "#46039f"
            ],
            [
             0.2222222222222222,
             "#7201a8"
            ],
            [
             0.3333333333333333,
             "#9c179e"
            ],
            [
             0.4444444444444444,
             "#bd3786"
            ],
            [
             0.5555555555555556,
             "#d8576b"
            ],
            [
             0.6666666666666666,
             "#ed7953"
            ],
            [
             0.7777777777777778,
             "#fb9f3a"
            ],
            [
             0.8888888888888888,
             "#fdca26"
            ],
            [
             1,
             "#f0f921"
            ]
           ],
           "sequentialminus": [
            [
             0,
             "#0d0887"
            ],
            [
             0.1111111111111111,
             "#46039f"
            ],
            [
             0.2222222222222222,
             "#7201a8"
            ],
            [
             0.3333333333333333,
             "#9c179e"
            ],
            [
             0.4444444444444444,
             "#bd3786"
            ],
            [
             0.5555555555555556,
             "#d8576b"
            ],
            [
             0.6666666666666666,
             "#ed7953"
            ],
            [
             0.7777777777777778,
             "#fb9f3a"
            ],
            [
             0.8888888888888888,
             "#fdca26"
            ],
            [
             1,
             "#f0f921"
            ]
           ]
          },
          "colorway": [
           "#636efa",
           "#EF553B",
           "#00cc96",
           "#ab63fa",
           "#FFA15A",
           "#19d3f3",
           "#FF6692",
           "#B6E880",
           "#FF97FF",
           "#FECB52"
          ],
          "font": {
           "color": "#2a3f5f"
          },
          "geo": {
           "bgcolor": "white",
           "lakecolor": "white",
           "landcolor": "#E5ECF6",
           "showlakes": true,
           "showland": true,
           "subunitcolor": "white"
          },
          "hoverlabel": {
           "align": "left"
          },
          "hovermode": "closest",
          "mapbox": {
           "style": "light"
          },
          "paper_bgcolor": "white",
          "plot_bgcolor": "#E5ECF6",
          "polar": {
           "angularaxis": {
            "gridcolor": "white",
            "linecolor": "white",
            "ticks": ""
           },
           "bgcolor": "#E5ECF6",
           "radialaxis": {
            "gridcolor": "white",
            "linecolor": "white",
            "ticks": ""
           }
          },
          "scene": {
           "xaxis": {
            "backgroundcolor": "#E5ECF6",
            "gridcolor": "white",
            "gridwidth": 2,
            "linecolor": "white",
            "showbackground": true,
            "ticks": "",
            "zerolinecolor": "white"
           },
           "yaxis": {
            "backgroundcolor": "#E5ECF6",
            "gridcolor": "white",
            "gridwidth": 2,
            "linecolor": "white",
            "showbackground": true,
            "ticks": "",
            "zerolinecolor": "white"
           },
           "zaxis": {
            "backgroundcolor": "#E5ECF6",
            "gridcolor": "white",
            "gridwidth": 2,
            "linecolor": "white",
            "showbackground": true,
            "ticks": "",
            "zerolinecolor": "white"
           }
          },
          "shapedefaults": {
           "line": {
            "color": "#2a3f5f"
           }
          },
          "ternary": {
           "aaxis": {
            "gridcolor": "white",
            "linecolor": "white",
            "ticks": ""
           },
           "baxis": {
            "gridcolor": "white",
            "linecolor": "white",
            "ticks": ""
           },
           "bgcolor": "#E5ECF6",
           "caxis": {
            "gridcolor": "white",
            "linecolor": "white",
            "ticks": ""
           }
          },
          "title": {
           "x": 0.05
          },
          "xaxis": {
           "automargin": true,
           "gridcolor": "white",
           "linecolor": "white",
           "ticks": "",
           "title": {
            "standoff": 15
           },
           "zerolinecolor": "white",
           "zerolinewidth": 2
          },
          "yaxis": {
           "automargin": true,
           "gridcolor": "white",
           "linecolor": "white",
           "ticks": "",
           "title": {
            "standoff": 15
           },
           "zerolinecolor": "white",
           "zerolinewidth": 2
          }
         }
        },
        "title": {
         "text": "Xu hướng giữa thời lượng và thứ hạng của top 20 bài hát"
        },
        "xaxis": {
         "anchor": "y",
         "domain": [
          0,
          1
         ],
         "title": {
          "text": "Thứ hạng"
         }
        },
        "yaxis": {
         "anchor": "x",
         "domain": [
          0,
          1
         ],
         "title": {
          "text": "Thời lượng (giây)"
         }
        }
       }
      }
     },
     "metadata": {},
     "output_type": "display_data"
    }
   ],
   "source": [
    "fig = px.line(\n",
    "    top_20_tracks, x='rank', y='duration', \n",
    "    title='Xu hướng giữa thời lượng và thứ hạng của top 20 bài hát', \n",
    "    labels={'duration': 'Thời lượng (giây)', 'rank': 'Thứ hạng'},\n",
    "    markers=True\n",
    ")\n",
    "fig.update_traces(line=dict(color='green'), marker=dict(color='pink', size=8))\n",
    "\n",
    "fig.add_shape(\n",
    "    type='line',\n",
    "    x0=top_20_tracks['rank'].min(),\n",
    "    x1=top_20_tracks['rank'].max(),\n",
    "    y0=avg_dur,\n",
    "    y1=avg_dur,\n",
    "    line=dict(color='blue', dash='dash'),\n",
    "    name='Average Duration'\n",
    ")\n",
    "\n",
    "fig.write_image('../images/line_chart_top20.svg', format='svg', engine='kaleido')\n",
    "\n",
    "fig.show()"
   ]
  },
  {
   "cell_type": "markdown",
   "metadata": {},
   "source": [
    "Chúng ta có thể thấy trong top 20 bài hát thịnh hành nhất hiện nay (thịnh hành ở đây là có lượt nghe cao nhất), thời lượng có sự biến động lớn, không đồng đều nhau về thời lượng, trừ từ top 9 đến top 12 có cùng một thời lượng là 158 giây dù rằng là các bài khác nhau. Điều đáng chú ý là, chỉ có 4 trên 20 bài hát có thời lượng trên thời lượng trung bình (tức 214.18 giây), còn lại đều dưới thời lượng trung bình này. Thậm chí từ top 9 đến top 14 đều có thời lượng dưới 160 giây (tức 2 phút 40 giây), nghĩa là rất ngắn, cách xa so với thời lượng trung bình tận gần 1 phút. Chưa kể đến hai bài hát dẫn đầu top 1, top 2 cũng có thời lượng ngắn hơn so với thời lượng trung bình (202 giây và 200 giây). \n",
    "\n",
    "Chúng ta lấy top 20, tức là chúng ta đã lấy những bài hát có độ nổi tiếng rất mạnh mẽ đến công chúng hiện nay, mà rõ ràng chúng ta thấy rằng là thời lượng đại bộ phận bài hát đều không dài hơn trung bình, vậy liệu công chúng thích các bài nhạc có thời lượng không dài và xu hướng sản xuất nhạc hiện tại là nhạc càng ngày càng ngắn chăng? Để có thể đưa ra một nhận định đúng đắn, nhóm đặt ra câu hỏi là liệu thời lượng của một bài hát hiện nay có càng ngày càng ngắn?"
   ]
  },
  {
   "cell_type": "code",
   "execution_count": 9,
   "metadata": {},
   "outputs": [
    {
     "data": {
      "application/vnd.plotly.v1+json": {
       "config": {
        "plotlyServerURL": "https://plot.ly"
       },
       "data": [
        {
         "hovertemplate": "Thời gian ra mắt=%{x}<br>Thời lượng (giây)=%{y}<extra></extra>",
         "legendgroup": "",
         "line": {
          "color": "lightgreen",
          "dash": "solid"
         },
         "marker": {
          "symbol": "circle"
         },
         "mode": "lines",
         "name": "",
         "orientation": "v",
         "showlegend": false,
         "type": "scatter",
         "x": [
          "1957-12-01T00:00:00",
          "1959-01-01T00:00:00",
          "1963-01-01T00:00:00",
          "1975-11-01T00:00:00",
          "1980-01-01T00:00:00",
          "1984-11-01T00:00:00",
          "1985-01-01T00:00:00",
          "1991-01-01T00:00:00",
          "1994-01-01T00:00:00",
          "1994-10-01T00:00:00",
          "1995-01-01T00:00:00",
          "1995-06-01T00:00:00",
          "2001-02-01T00:00:00",
          "2002-01-01T00:00:00",
          "2002-08-01T00:00:00",
          "2003-08-01T00:00:00",
          "2006-01-01T00:00:00",
          "2006-02-01T00:00:00",
          "2007-01-01T00:00:00",
          "2007-03-01T00:00:00",
          "2008-01-01T00:00:00",
          "2008-05-01T00:00:00",
          "2010-01-01T00:00:00",
          "2010-05-01T00:00:00",
          "2011-01-01T00:00:00",
          "2011-02-01T00:00:00",
          "2011-06-01T00:00:00",
          "2011-10-01T00:00:00",
          "2012-01-01T00:00:00",
          "2012-04-01T00:00:00",
          "2012-05-01T00:00:00",
          "2012-06-01T00:00:00",
          "2012-10-01T00:00:00",
          "2013-01-01T00:00:00",
          "2013-02-01T00:00:00",
          "2013-03-01T00:00:00",
          "2013-06-01T00:00:00",
          "2013-07-01T00:00:00",
          "2013-08-01T00:00:00",
          "2013-09-01T00:00:00",
          "2013-10-01T00:00:00",
          "2014-01-01T00:00:00",
          "2014-03-01T00:00:00",
          "2014-05-01T00:00:00",
          "2014-08-01T00:00:00",
          "2014-10-01T00:00:00",
          "2014-11-01T00:00:00",
          "2015-01-01T00:00:00",
          "2015-03-01T00:00:00",
          "2015-04-01T00:00:00",
          "2015-05-01T00:00:00",
          "2015-06-01T00:00:00",
          "2015-07-01T00:00:00",
          "2015-08-01T00:00:00",
          "2015-09-01T00:00:00",
          "2015-10-01T00:00:00",
          "2015-11-01T00:00:00",
          "2015-12-01T00:00:00",
          "2016-01-01T00:00:00",
          "2016-02-01T00:00:00",
          "2016-03-01T00:00:00",
          "2016-04-01T00:00:00",
          "2016-05-01T00:00:00",
          "2016-06-01T00:00:00",
          "2016-07-01T00:00:00",
          "2016-08-01T00:00:00",
          "2016-09-01T00:00:00",
          "2016-10-01T00:00:00",
          "2016-11-01T00:00:00",
          "2016-12-01T00:00:00",
          "2017-01-01T00:00:00",
          "2017-02-01T00:00:00",
          "2017-03-01T00:00:00",
          "2017-04-01T00:00:00",
          "2017-05-01T00:00:00",
          "2017-06-01T00:00:00",
          "2017-07-01T00:00:00",
          "2017-08-01T00:00:00",
          "2017-09-01T00:00:00",
          "2017-10-01T00:00:00",
          "2017-11-01T00:00:00",
          "2017-12-01T00:00:00",
          "2018-01-01T00:00:00",
          "2018-02-01T00:00:00",
          "2018-03-01T00:00:00",
          "2018-04-01T00:00:00",
          "2018-05-01T00:00:00",
          "2018-06-01T00:00:00",
          "2018-07-01T00:00:00",
          "2018-08-01T00:00:00",
          "2018-09-01T00:00:00",
          "2018-10-01T00:00:00",
          "2018-11-01T00:00:00",
          "2018-12-01T00:00:00",
          "2019-01-01T00:00:00",
          "2019-02-01T00:00:00",
          "2019-03-01T00:00:00",
          "2019-04-01T00:00:00",
          "2019-05-01T00:00:00",
          "2019-06-01T00:00:00",
          "2019-07-01T00:00:00",
          "2019-08-01T00:00:00",
          "2019-09-01T00:00:00",
          "2019-10-01T00:00:00",
          "2019-11-01T00:00:00",
          "2019-12-01T00:00:00",
          "2020-01-01T00:00:00",
          "2020-02-01T00:00:00",
          "2020-03-01T00:00:00",
          "2020-04-01T00:00:00",
          "2020-05-01T00:00:00",
          "2020-06-01T00:00:00",
          "2020-07-01T00:00:00",
          "2020-08-01T00:00:00",
          "2020-09-01T00:00:00",
          "2020-10-01T00:00:00",
          "2020-11-01T00:00:00",
          "2020-12-01T00:00:00",
          "2021-01-01T00:00:00",
          "2021-02-01T00:00:00",
          "2021-03-01T00:00:00",
          "2021-04-01T00:00:00",
          "2021-05-01T00:00:00",
          "2021-06-01T00:00:00",
          "2021-07-01T00:00:00",
          "2021-08-01T00:00:00",
          "2021-09-01T00:00:00",
          "2021-10-01T00:00:00",
          "2021-11-01T00:00:00",
          "2021-12-01T00:00:00",
          "2022-01-01T00:00:00",
          "2022-02-01T00:00:00",
          "2022-03-01T00:00:00",
          "2022-04-01T00:00:00",
          "2022-05-01T00:00:00",
          "2022-06-01T00:00:00",
          "2022-07-01T00:00:00",
          "2022-08-01T00:00:00",
          "2022-09-01T00:00:00",
          "2022-10-01T00:00:00",
          "2022-11-01T00:00:00",
          "2022-12-01T00:00:00",
          "2023-01-01T00:00:00",
          "2023-02-01T00:00:00",
          "2023-03-01T00:00:00",
          "2023-04-01T00:00:00",
          "2023-05-01T00:00:00",
          "2023-06-01T00:00:00",
          "2023-07-01T00:00:00",
          "2023-08-01T00:00:00",
          "2023-09-01T00:00:00",
          "2023-10-01T00:00:00",
          "2023-11-01T00:00:00",
          "2023-12-01T00:00:00",
          "2024-01-01T00:00:00",
          "2024-02-01T00:00:00",
          "2024-03-01T00:00:00",
          "2024-04-01T00:00:00",
          "2024-05-01T00:00:00",
          "2024-06-01T00:00:00",
          "2024-07-01T00:00:00",
          "2024-08-01T00:00:00",
          "2024-09-01T00:00:00",
          "2024-10-01T00:00:00",
          "2024-11-01T00:00:00",
          "2024-12-01T00:00:00",
          "2025-01-01T00:00:00"
         ],
         "xaxis": "x",
         "y": {
          "bdata": "AAAAAABgYEAAAAAAAEBdQAAAAAAA4GJAAAAAAAAgdkAAAAAAAIBwQAAAAAAAcHBAAAAAAACwckAAAAAAABBzQAAAAAAAAGdAAAAAAAAgbkAAAAAAAOBnQAAAAAAA0HZAAAAAAABwdUAAAAAAAOByQAAAAAAAYHNAAAAAAAAQdUBVVVVVVVVxQAAAAAAAoHJAAAAAAADAbkAAAAAAAKBsQAAAAAAAIG9AAAAAAAAQa0AAAAAAAAB2QAAAAAAA4HNAAAAAAADobkAAAAAAAOBpQAAAAAAAsHRAAAAAAADQcUAAAAAAAEBuQAAAAAAAgHNAAAAAAAD4cEAAAAAAAPBwQAAAAAAAgGtAt23btm3LbkAAAAAAAEBvQAAAAAAAgHBAAAAAAAAAbUAAAAAAACBzQAAAAAAA4HBAAAAAAABgbUAAAAAAAFBwQAAAAAAAtGpAAAAAAACgcEAAAAAAAKBlQAAAAAAAoGhAAAAAAAAgZ0BmZmZmZiZrQKuqqqqqSmxAAAAAAADIb0AAAAAAAOBpQAAAAAAAIHFAAAAAAABAbEAAAAAAAIBuQAAAAAAAqHBAAAAAAAAob0AAAAAAANBwQKuqqqqqSmtAAAAAAACgakBmZmZmZmZtQAAAAAAAWHBAAAAAAACYb0AAAAAAACBoQAAAAAAAoGhAAAAAAAB4bUAAAAAAAJBrQAAAAAAAgGtAAAAAAACgbEAAAAAAAExrQCVJkiRJcmpAAAAAAAAAa0CMLrroootrQAAAAAAAoG1A6aKLLroobUDbtm3btk1sQAAAAAAAoGtAMzMzMzODakDHcRzHcTxsQCd2Yid2YmlAG8prKK+hbEBiJ3ZiJxZqQM3MzMzMDGxAVVVVVVXFbUAAAAAAAPBpQAAAAAAAoGpA+oDq2FtbbUBu27Zt225rQEGnDXTaoGtAl5aWlpaWakBVVVVVVfVpQHNPIyz3hGtAvvfee++dakCrqqqqquJqQJIkSZIkjWpAntiJndiJakC0Ud/ZqA9rQLKQhSxkgWlAsdzTCMttaUCY0F5Ce7lpQNFFF110GWpANcJyTyPMaUBVVVVVVdVqQLW0tLS09GhAHdRBHdSBaUD3DWvfsFZqQLgehetRKGpAYbmnEZY7a0AzMzMzM8NqQCa0l9BeEmtA6wZT5LPuaUCO4ziO4xhpQAAAAAAAnGlAvelNb3qTakAhC1nIQoZrQGG5pxGWu2pAAAAAAABgaEDOOeecc05pQMdxHMdxHGtATsHLKXhZa0DoeZ7neZ5pQKuqqqqqSmpAvoT2EtoLaUARQgghhJBqQKuqqqqq1GlAMzMzMzM/aUBVVVVVVcVpQLdt27Zt+2pACe0ltJcwaUB7Ce0ltBdqQDDoC/qCvmxAchzHcRwHaUAZY4wxxjhrQDMzMzMza2lAxhhjjDFmaUD0PM/zPE9qQEmSJEmS/GpAq6qqqqp6bEDYUF5DeX1pQIiHh4eHN2pAXonalahda0Bw+ZZv+XZqQNu2bdu2PWxAhmEYhmGYakCe2Imd2AlpQA8PDw8PL2xAVVVVVVXLaEAAAAAAAK1oQEN5DeU1tGlAAAAAAABqakBRuxK1K5FnQBFCCCGEUGlAq6qqqqqKakAhC1nIQmZpQBaykIUsRGlAcT0K16OwakAAAAAAACpuQIiHh4eHx2pAq6qqqqquaUCXlpaWltZpQAAAAAAAYGpAhBBCCCGEakDsxE7sxO5oQKc3velNH25AoryG8hrKa0CamZmZmelnQCh90id98mhA3dMIyz1takCrqqqqqspsQA==",
          "dtype": "f8"
         },
         "yaxis": "y"
        }
       ],
       "layout": {
        "legend": {
         "tracegroupgap": 0
        },
        "template": {
         "data": {
          "bar": [
           {
            "error_x": {
             "color": "#2a3f5f"
            },
            "error_y": {
             "color": "#2a3f5f"
            },
            "marker": {
             "line": {
              "color": "#E5ECF6",
              "width": 0.5
             },
             "pattern": {
              "fillmode": "overlay",
              "size": 10,
              "solidity": 0.2
             }
            },
            "type": "bar"
           }
          ],
          "barpolar": [
           {
            "marker": {
             "line": {
              "color": "#E5ECF6",
              "width": 0.5
             },
             "pattern": {
              "fillmode": "overlay",
              "size": 10,
              "solidity": 0.2
             }
            },
            "type": "barpolar"
           }
          ],
          "carpet": [
           {
            "aaxis": {
             "endlinecolor": "#2a3f5f",
             "gridcolor": "white",
             "linecolor": "white",
             "minorgridcolor": "white",
             "startlinecolor": "#2a3f5f"
            },
            "baxis": {
             "endlinecolor": "#2a3f5f",
             "gridcolor": "white",
             "linecolor": "white",
             "minorgridcolor": "white",
             "startlinecolor": "#2a3f5f"
            },
            "type": "carpet"
           }
          ],
          "choropleth": [
           {
            "colorbar": {
             "outlinewidth": 0,
             "ticks": ""
            },
            "type": "choropleth"
           }
          ],
          "contour": [
           {
            "colorbar": {
             "outlinewidth": 0,
             "ticks": ""
            },
            "colorscale": [
             [
              0,
              "#0d0887"
             ],
             [
              0.1111111111111111,
              "#46039f"
             ],
             [
              0.2222222222222222,
              "#7201a8"
             ],
             [
              0.3333333333333333,
              "#9c179e"
             ],
             [
              0.4444444444444444,
              "#bd3786"
             ],
             [
              0.5555555555555556,
              "#d8576b"
             ],
             [
              0.6666666666666666,
              "#ed7953"
             ],
             [
              0.7777777777777778,
              "#fb9f3a"
             ],
             [
              0.8888888888888888,
              "#fdca26"
             ],
             [
              1,
              "#f0f921"
             ]
            ],
            "type": "contour"
           }
          ],
          "contourcarpet": [
           {
            "colorbar": {
             "outlinewidth": 0,
             "ticks": ""
            },
            "type": "contourcarpet"
           }
          ],
          "heatmap": [
           {
            "colorbar": {
             "outlinewidth": 0,
             "ticks": ""
            },
            "colorscale": [
             [
              0,
              "#0d0887"
             ],
             [
              0.1111111111111111,
              "#46039f"
             ],
             [
              0.2222222222222222,
              "#7201a8"
             ],
             [
              0.3333333333333333,
              "#9c179e"
             ],
             [
              0.4444444444444444,
              "#bd3786"
             ],
             [
              0.5555555555555556,
              "#d8576b"
             ],
             [
              0.6666666666666666,
              "#ed7953"
             ],
             [
              0.7777777777777778,
              "#fb9f3a"
             ],
             [
              0.8888888888888888,
              "#fdca26"
             ],
             [
              1,
              "#f0f921"
             ]
            ],
            "type": "heatmap"
           }
          ],
          "histogram": [
           {
            "marker": {
             "pattern": {
              "fillmode": "overlay",
              "size": 10,
              "solidity": 0.2
             }
            },
            "type": "histogram"
           }
          ],
          "histogram2d": [
           {
            "colorbar": {
             "outlinewidth": 0,
             "ticks": ""
            },
            "colorscale": [
             [
              0,
              "#0d0887"
             ],
             [
              0.1111111111111111,
              "#46039f"
             ],
             [
              0.2222222222222222,
              "#7201a8"
             ],
             [
              0.3333333333333333,
              "#9c179e"
             ],
             [
              0.4444444444444444,
              "#bd3786"
             ],
             [
              0.5555555555555556,
              "#d8576b"
             ],
             [
              0.6666666666666666,
              "#ed7953"
             ],
             [
              0.7777777777777778,
              "#fb9f3a"
             ],
             [
              0.8888888888888888,
              "#fdca26"
             ],
             [
              1,
              "#f0f921"
             ]
            ],
            "type": "histogram2d"
           }
          ],
          "histogram2dcontour": [
           {
            "colorbar": {
             "outlinewidth": 0,
             "ticks": ""
            },
            "colorscale": [
             [
              0,
              "#0d0887"
             ],
             [
              0.1111111111111111,
              "#46039f"
             ],
             [
              0.2222222222222222,
              "#7201a8"
             ],
             [
              0.3333333333333333,
              "#9c179e"
             ],
             [
              0.4444444444444444,
              "#bd3786"
             ],
             [
              0.5555555555555556,
              "#d8576b"
             ],
             [
              0.6666666666666666,
              "#ed7953"
             ],
             [
              0.7777777777777778,
              "#fb9f3a"
             ],
             [
              0.8888888888888888,
              "#fdca26"
             ],
             [
              1,
              "#f0f921"
             ]
            ],
            "type": "histogram2dcontour"
           }
          ],
          "mesh3d": [
           {
            "colorbar": {
             "outlinewidth": 0,
             "ticks": ""
            },
            "type": "mesh3d"
           }
          ],
          "parcoords": [
           {
            "line": {
             "colorbar": {
              "outlinewidth": 0,
              "ticks": ""
             }
            },
            "type": "parcoords"
           }
          ],
          "pie": [
           {
            "automargin": true,
            "type": "pie"
           }
          ],
          "scatter": [
           {
            "fillpattern": {
             "fillmode": "overlay",
             "size": 10,
             "solidity": 0.2
            },
            "type": "scatter"
           }
          ],
          "scatter3d": [
           {
            "line": {
             "colorbar": {
              "outlinewidth": 0,
              "ticks": ""
             }
            },
            "marker": {
             "colorbar": {
              "outlinewidth": 0,
              "ticks": ""
             }
            },
            "type": "scatter3d"
           }
          ],
          "scattercarpet": [
           {
            "marker": {
             "colorbar": {
              "outlinewidth": 0,
              "ticks": ""
             }
            },
            "type": "scattercarpet"
           }
          ],
          "scattergeo": [
           {
            "marker": {
             "colorbar": {
              "outlinewidth": 0,
              "ticks": ""
             }
            },
            "type": "scattergeo"
           }
          ],
          "scattergl": [
           {
            "marker": {
             "colorbar": {
              "outlinewidth": 0,
              "ticks": ""
             }
            },
            "type": "scattergl"
           }
          ],
          "scattermap": [
           {
            "marker": {
             "colorbar": {
              "outlinewidth": 0,
              "ticks": ""
             }
            },
            "type": "scattermap"
           }
          ],
          "scattermapbox": [
           {
            "marker": {
             "colorbar": {
              "outlinewidth": 0,
              "ticks": ""
             }
            },
            "type": "scattermapbox"
           }
          ],
          "scatterpolar": [
           {
            "marker": {
             "colorbar": {
              "outlinewidth": 0,
              "ticks": ""
             }
            },
            "type": "scatterpolar"
           }
          ],
          "scatterpolargl": [
           {
            "marker": {
             "colorbar": {
              "outlinewidth": 0,
              "ticks": ""
             }
            },
            "type": "scatterpolargl"
           }
          ],
          "scatterternary": [
           {
            "marker": {
             "colorbar": {
              "outlinewidth": 0,
              "ticks": ""
             }
            },
            "type": "scatterternary"
           }
          ],
          "surface": [
           {
            "colorbar": {
             "outlinewidth": 0,
             "ticks": ""
            },
            "colorscale": [
             [
              0,
              "#0d0887"
             ],
             [
              0.1111111111111111,
              "#46039f"
             ],
             [
              0.2222222222222222,
              "#7201a8"
             ],
             [
              0.3333333333333333,
              "#9c179e"
             ],
             [
              0.4444444444444444,
              "#bd3786"
             ],
             [
              0.5555555555555556,
              "#d8576b"
             ],
             [
              0.6666666666666666,
              "#ed7953"
             ],
             [
              0.7777777777777778,
              "#fb9f3a"
             ],
             [
              0.8888888888888888,
              "#fdca26"
             ],
             [
              1,
              "#f0f921"
             ]
            ],
            "type": "surface"
           }
          ],
          "table": [
           {
            "cells": {
             "fill": {
              "color": "#EBF0F8"
             },
             "line": {
              "color": "white"
             }
            },
            "header": {
             "fill": {
              "color": "#C8D4E3"
             },
             "line": {
              "color": "white"
             }
            },
            "type": "table"
           }
          ]
         },
         "layout": {
          "annotationdefaults": {
           "arrowcolor": "#2a3f5f",
           "arrowhead": 0,
           "arrowwidth": 1
          },
          "autotypenumbers": "strict",
          "coloraxis": {
           "colorbar": {
            "outlinewidth": 0,
            "ticks": ""
           }
          },
          "colorscale": {
           "diverging": [
            [
             0,
             "#8e0152"
            ],
            [
             0.1,
             "#c51b7d"
            ],
            [
             0.2,
             "#de77ae"
            ],
            [
             0.3,
             "#f1b6da"
            ],
            [
             0.4,
             "#fde0ef"
            ],
            [
             0.5,
             "#f7f7f7"
            ],
            [
             0.6,
             "#e6f5d0"
            ],
            [
             0.7,
             "#b8e186"
            ],
            [
             0.8,
             "#7fbc41"
            ],
            [
             0.9,
             "#4d9221"
            ],
            [
             1,
             "#276419"
            ]
           ],
           "sequential": [
            [
             0,
             "#0d0887"
            ],
            [
             0.1111111111111111,
             "#46039f"
            ],
            [
             0.2222222222222222,
             "#7201a8"
            ],
            [
             0.3333333333333333,
             "#9c179e"
            ],
            [
             0.4444444444444444,
             "#bd3786"
            ],
            [
             0.5555555555555556,
             "#d8576b"
            ],
            [
             0.6666666666666666,
             "#ed7953"
            ],
            [
             0.7777777777777778,
             "#fb9f3a"
            ],
            [
             0.8888888888888888,
             "#fdca26"
            ],
            [
             1,
             "#f0f921"
            ]
           ],
           "sequentialminus": [
            [
             0,
             "#0d0887"
            ],
            [
             0.1111111111111111,
             "#46039f"
            ],
            [
             0.2222222222222222,
             "#7201a8"
            ],
            [
             0.3333333333333333,
             "#9c179e"
            ],
            [
             0.4444444444444444,
             "#bd3786"
            ],
            [
             0.5555555555555556,
             "#d8576b"
            ],
            [
             0.6666666666666666,
             "#ed7953"
            ],
            [
             0.7777777777777778,
             "#fb9f3a"
            ],
            [
             0.8888888888888888,
             "#fdca26"
            ],
            [
             1,
             "#f0f921"
            ]
           ]
          },
          "colorway": [
           "#636efa",
           "#EF553B",
           "#00cc96",
           "#ab63fa",
           "#FFA15A",
           "#19d3f3",
           "#FF6692",
           "#B6E880",
           "#FF97FF",
           "#FECB52"
          ],
          "font": {
           "color": "#2a3f5f"
          },
          "geo": {
           "bgcolor": "white",
           "lakecolor": "white",
           "landcolor": "#E5ECF6",
           "showlakes": true,
           "showland": true,
           "subunitcolor": "white"
          },
          "hoverlabel": {
           "align": "left"
          },
          "hovermode": "closest",
          "mapbox": {
           "style": "light"
          },
          "paper_bgcolor": "white",
          "plot_bgcolor": "#E5ECF6",
          "polar": {
           "angularaxis": {
            "gridcolor": "white",
            "linecolor": "white",
            "ticks": ""
           },
           "bgcolor": "#E5ECF6",
           "radialaxis": {
            "gridcolor": "white",
            "linecolor": "white",
            "ticks": ""
           }
          },
          "scene": {
           "xaxis": {
            "backgroundcolor": "#E5ECF6",
            "gridcolor": "white",
            "gridwidth": 2,
            "linecolor": "white",
            "showbackground": true,
            "ticks": "",
            "zerolinecolor": "white"
           },
           "yaxis": {
            "backgroundcolor": "#E5ECF6",
            "gridcolor": "white",
            "gridwidth": 2,
            "linecolor": "white",
            "showbackground": true,
            "ticks": "",
            "zerolinecolor": "white"
           },
           "zaxis": {
            "backgroundcolor": "#E5ECF6",
            "gridcolor": "white",
            "gridwidth": 2,
            "linecolor": "white",
            "showbackground": true,
            "ticks": "",
            "zerolinecolor": "white"
           }
          },
          "shapedefaults": {
           "line": {
            "color": "#2a3f5f"
           }
          },
          "ternary": {
           "aaxis": {
            "gridcolor": "white",
            "linecolor": "white",
            "ticks": ""
           },
           "baxis": {
            "gridcolor": "white",
            "linecolor": "white",
            "ticks": ""
           },
           "bgcolor": "#E5ECF6",
           "caxis": {
            "gridcolor": "white",
            "linecolor": "white",
            "ticks": ""
           }
          },
          "title": {
           "x": 0.05
          },
          "xaxis": {
           "automargin": true,
           "gridcolor": "white",
           "linecolor": "white",
           "ticks": "",
           "title": {
            "standoff": 15
           },
           "zerolinecolor": "white",
           "zerolinewidth": 2
          },
          "yaxis": {
           "automargin": true,
           "gridcolor": "white",
           "linecolor": "white",
           "ticks": "",
           "title": {
            "standoff": 15
           },
           "zerolinecolor": "white",
           "zerolinewidth": 2
          }
         }
        },
        "title": {
         "text": "Xu hướng thời lượng bài hát theo thời gian"
        },
        "xaxis": {
         "anchor": "y",
         "domain": [
          0,
          1
         ],
         "title": {
          "text": "Thời gian ra mắt"
         }
        },
        "yaxis": {
         "anchor": "x",
         "domain": [
          0,
          1
         ],
         "title": {
          "text": "Thời lượng (giây)"
         }
        }
       }
      }
     },
     "metadata": {},
     "output_type": "display_data"
    }
   ],
   "source": [
    "# Chắc chắn rằng cột release_date là datetime\n",
    "df['release_date'] = pd.to_datetime(df['release_date'])\n",
    "\n",
    "# Lấy trung bình thời lượng bài hát theo thời gian\n",
    "avg_duration_overtime = df.groupby(df['release_date'].dt.to_period('M'))['duration'].mean().reset_index()\n",
    "avg_duration_overtime['release_date'] = avg_duration_overtime['release_date'].dt.to_timestamp()\n",
    "\n",
    "fig = px.line(\n",
    "    avg_duration_overtime,\n",
    "    x='release_date',\n",
    "    y='duration',\n",
    "    title='Xu hướng thời lượng bài hát theo thời gian',\n",
    "    labels={'release_date': 'Thời gian ra mắt', 'duration': 'Thời lượng (giây)'},\n",
    ")\n",
    "\n",
    "fig.update_traces(line=dict(color='lightgreen'))\n",
    "\n",
    "fig.write_image('../images/line_chart_overtime.svg', format='svg', engine='kaleido')\n",
    "\n",
    "fig.show()"
   ]
  },
  {
   "cell_type": "markdown",
   "metadata": {},
   "source": [
    "Ngoại trừ một vài ngoại lệ là ra mắt vào khoảng thời gian năm 1970 về trước có khoảng thời lượng khá ngắn là xấp xỉ 150 giây đổ xuống (tức 2 phút 30 giây), thì các bài hát trong tầm từ đó đến năm 2014 có trung bình thời lượng phân bố trong khoảng từ 180 giây đến hơn 350 giây (tức từ 3 phút đến hơn 5 phút). Tuy nhiên, từ năm 2015 đến nay, thời lượng của các bài hát giảm xuống, hầu như trung bình đều không vượt trên 250 giây (4 phút) và tập trung phân bố trong khoảng từ 180 giây đến 275 giây (tức từ 3 phút đến 4 phút 35 giây).\n",
    "\n",
    "Dựa vào biểu đồ xu hướng thời lượng của bài hát qua các năm cho thấy xu hướng sản xuất nhạc của thời gian gần đây là những bài nhạc có thời gian không quá dài cũng không quá ngắn, một độ dài vừa phải. Nhìn chung, \"thời lượng vàng\" của hiện tại là các bài hát không quá dài tầm từ 3 đến 4 phút. Tuy nhiên, thời lượng của các bài hát vẫn khá đa dạng, không phải bài hát ngắn thì mới xuất hiện trong bảng xếp hạng, tương tự với bài hát dài cũng vậy. Và hiển nhiên, người nghe cũng sẵn sàng nghe các bài hát khá ngắn từ 2 phút đến hơn 3 phút và thậm chí là những bài hát này còn trở nên thịnh hành nhất hiện nay (như đã thấy ở biểu đồ Xu hướng giữa thời lượng và thứ hạng trong top 20 bài hát thịnh hành). Điều đó chứng tỏ có sự đa dạng trong phong cách sản xuất nhạc và người nghe cũng có sở thích đa dạng trong việc lựa chọn âm nhạc với thời lượng khác nhau. Nhưng chúng ta có thể thấy là các bài hát ngắn tạm thời đang khá được lòng công chúng hiện nay."
   ]
  },
  {
   "cell_type": "markdown",
   "metadata": {},
   "source": [
    "Tuy nhiên là có vẻ như ngoài thời lượng của bài hát, còn có một yếu tố khác cũng ảnh hưởng đến sự thành công của một bài hát. Đây không hẳn là một yếu tố hoàn toàn quyết định thị hiếu của người nghe. Nhưng nó cũng giúp chúng ta thấy được một phần nào đó về xu thế âm nhạc hiện nay và hiển nhiên là chúng ta phải phân tích thêm. Nên tiếp theo sau đây chúng ta sẽ cùng tìm hiểu tiếp về vấn đề tiếp theo.\n",
    "\n",
    "Chúng ta không thể có một bài hát mà không có nghệ sĩ đằng sau nó. Có thể nói sự nghệ sĩ luôn đi kèm với sự xuất hiện và độ thành công của bài hát. Nhóm giả thiết rằng nghệ sĩ cũng ảnh hưởng đến xu thế thưởng thức âm nhạc của người nghe. Vậy nên chúng ta sẽ đi sâu vào vấn đề này sau đây:"
   ]
  },
  {
   "cell_type": "markdown",
   "metadata": {},
   "source": [
    "<a id=\"a4\"></a>\n",
    "## **4. Những nghệ sĩ nào đang thống trị thị trường âm nhạc Việt Nam?**"
   ]
  },
  {
   "cell_type": "markdown",
   "metadata": {},
   "source": [
    "Trước tiên hết, chúng ta sẽ cùng xem xem, các bài hát có số lượt nghe cao nhất hiện nay là của những nghệ sĩ nào (lấy top 30)?"
   ]
  },
  {
   "cell_type": "code",
   "execution_count": 78,
   "metadata": {},
   "outputs": [
    {
     "data": {
      "text/html": [
       "<div>\n",
       "<style scoped>\n",
       "    .dataframe tbody tr th:only-of-type {\n",
       "        vertical-align: middle;\n",
       "    }\n",
       "\n",
       "    .dataframe tbody tr th {\n",
       "        vertical-align: top;\n",
       "    }\n",
       "\n",
       "    .dataframe thead th {\n",
       "        text-align: right;\n",
       "    }\n",
       "</style>\n",
       "<table border=\"1\" class=\"dataframe\">\n",
       "  <thead>\n",
       "    <tr style=\"text-align: right;\">\n",
       "      <th></th>\n",
       "      <th>rank</th>\n",
       "      <th>track_name</th>\n",
       "      <th>artist_names</th>\n",
       "      <th>streams</th>\n",
       "    </tr>\n",
       "  </thead>\n",
       "  <tbody>\n",
       "    <tr>\n",
       "      <th>0</th>\n",
       "      <td>1</td>\n",
       "      <td>Into the Unknown</td>\n",
       "      <td>Idina Menzel, AURORA</td>\n",
       "      <td>4727746591</td>\n",
       "    </tr>\n",
       "    <tr>\n",
       "      <th>1</th>\n",
       "      <td>2</td>\n",
       "      <td>Physical</td>\n",
       "      <td>Dua Lipa</td>\n",
       "      <td>4726263786</td>\n",
       "    </tr>\n",
       "    <tr>\n",
       "      <th>2</th>\n",
       "      <td>3</td>\n",
       "      <td>These Days (feat. Jess Glynne, Macklemore &amp; Da...</td>\n",
       "      <td>Rudimental, Jess Glynne, Macklemore, Dan Caplen</td>\n",
       "      <td>4238338469</td>\n",
       "    </tr>\n",
       "    <tr>\n",
       "      <th>3</th>\n",
       "      <td>4</td>\n",
       "      <td>D.R.E.A.M. (feat. Ghostface Killah)</td>\n",
       "      <td>Miley Cyrus, Ghostface Killah</td>\n",
       "      <td>3812743107</td>\n",
       "    </tr>\n",
       "    <tr>\n",
       "      <th>4</th>\n",
       "      <td>5</td>\n",
       "      <td>Badadu</td>\n",
       "      <td>MONSTAR</td>\n",
       "      <td>3811491910</td>\n",
       "    </tr>\n",
       "    <tr>\n",
       "      <th>5</th>\n",
       "      <td>6</td>\n",
       "      <td>As It Was</td>\n",
       "      <td>Harry Styles</td>\n",
       "      <td>3774211059</td>\n",
       "    </tr>\n",
       "    <tr>\n",
       "      <th>6</th>\n",
       "      <td>7</td>\n",
       "      <td>Starboy</td>\n",
       "      <td>The Weeknd, Daft Punk</td>\n",
       "      <td>3764936894</td>\n",
       "    </tr>\n",
       "    <tr>\n",
       "      <th>7</th>\n",
       "      <td>8</td>\n",
       "      <td>Hết Thương Cạn Nhớ</td>\n",
       "      <td>Đức Phúc</td>\n",
       "      <td>3721945430</td>\n",
       "    </tr>\n",
       "    <tr>\n",
       "      <th>8</th>\n",
       "      <td>9</td>\n",
       "      <td>Liar</td>\n",
       "      <td>Camila Cabello</td>\n",
       "      <td>3721945430</td>\n",
       "    </tr>\n",
       "    <tr>\n",
       "      <th>9</th>\n",
       "      <td>10</td>\n",
       "      <td>Ngày Chưa Giông Bão (Theme Song From \"Người Bấ...</td>\n",
       "      <td>Bùi Lan Hương</td>\n",
       "      <td>3720760877</td>\n",
       "    </tr>\n",
       "    <tr>\n",
       "      <th>10</th>\n",
       "      <td>11</td>\n",
       "      <td>Going Bad (feat. Drake)</td>\n",
       "      <td>Meek Mill, Drake</td>\n",
       "      <td>3720760877</td>\n",
       "    </tr>\n",
       "    <tr>\n",
       "      <th>11</th>\n",
       "      <td>12</td>\n",
       "      <td>DALLA DALLA</td>\n",
       "      <td>ITZY</td>\n",
       "      <td>3720760877</td>\n",
       "    </tr>\n",
       "    <tr>\n",
       "      <th>12</th>\n",
       "      <td>13</td>\n",
       "      <td>Thức Giấc</td>\n",
       "      <td>Da LAB</td>\n",
       "      <td>3476727992</td>\n",
       "    </tr>\n",
       "    <tr>\n",
       "      <th>13</th>\n",
       "      <td>14</td>\n",
       "      <td>STAY (with Justin Bieber)</td>\n",
       "      <td>The Kid LAROI, Justin Bieber</td>\n",
       "      <td>3476727992</td>\n",
       "    </tr>\n",
       "    <tr>\n",
       "      <th>14</th>\n",
       "      <td>15</td>\n",
       "      <td>I'M OK</td>\n",
       "      <td>iKON</td>\n",
       "      <td>3338856236</td>\n",
       "    </tr>\n",
       "    <tr>\n",
       "      <th>15</th>\n",
       "      <td>16</td>\n",
       "      <td>Say You Do - 2nd Single 2015</td>\n",
       "      <td>Tiên Tiên</td>\n",
       "      <td>3312142392</td>\n",
       "    </tr>\n",
       "    <tr>\n",
       "      <th>16</th>\n",
       "      <td>17</td>\n",
       "      <td>Heat Waves</td>\n",
       "      <td>Glass Animals</td>\n",
       "      <td>3301944296</td>\n",
       "    </tr>\n",
       "    <tr>\n",
       "      <th>17</th>\n",
       "      <td>18</td>\n",
       "      <td>Phố Không Em</td>\n",
       "      <td>Thái Đinh</td>\n",
       "      <td>3220250553</td>\n",
       "    </tr>\n",
       "    <tr>\n",
       "      <th>18</th>\n",
       "      <td>19</td>\n",
       "      <td>Ashes - from \"Deadpool 2\" Motion Picture Sound...</td>\n",
       "      <td>Céline Dion</td>\n",
       "      <td>3209562664</td>\n",
       "    </tr>\n",
       "    <tr>\n",
       "      <th>19</th>\n",
       "      <td>20</td>\n",
       "      <td>Darkside</td>\n",
       "      <td>Alan Walker, Au/Ra, Tomine Harket</td>\n",
       "      <td>3209562664</td>\n",
       "    </tr>\n",
       "    <tr>\n",
       "      <th>20</th>\n",
       "      <td>21</td>\n",
       "      <td>Pray For Me</td>\n",
       "      <td>The Weeknd, Kendrick Lamar</td>\n",
       "      <td>3176204565</td>\n",
       "    </tr>\n",
       "    <tr>\n",
       "      <th>21</th>\n",
       "      <td>22</td>\n",
       "      <td>Naked</td>\n",
       "      <td>James Arthur</td>\n",
       "      <td>3162101862</td>\n",
       "    </tr>\n",
       "    <tr>\n",
       "      <th>22</th>\n",
       "      <td>23</td>\n",
       "      <td>The River</td>\n",
       "      <td>Axel Johansson</td>\n",
       "      <td>3126614456</td>\n",
       "    </tr>\n",
       "    <tr>\n",
       "      <th>23</th>\n",
       "      <td>24</td>\n",
       "      <td>Young Dumb &amp; Broke</td>\n",
       "      <td>Khalid</td>\n",
       "      <td>3126614456</td>\n",
       "    </tr>\n",
       "    <tr>\n",
       "      <th>24</th>\n",
       "      <td>25</td>\n",
       "      <td>Spring Day</td>\n",
       "      <td>BTS</td>\n",
       "      <td>3030510971</td>\n",
       "    </tr>\n",
       "    <tr>\n",
       "      <th>25</th>\n",
       "      <td>26</td>\n",
       "      <td>Blinding Lights</td>\n",
       "      <td>The Weeknd</td>\n",
       "      <td>2945482048</td>\n",
       "    </tr>\n",
       "    <tr>\n",
       "      <th>26</th>\n",
       "      <td>27</td>\n",
       "      <td>Adore You</td>\n",
       "      <td>Harry Styles</td>\n",
       "      <td>2944832336</td>\n",
       "    </tr>\n",
       "    <tr>\n",
       "      <th>27</th>\n",
       "      <td>28</td>\n",
       "      <td>It's You</td>\n",
       "      <td>Ali Gatie</td>\n",
       "      <td>2943698630</td>\n",
       "    </tr>\n",
       "    <tr>\n",
       "      <th>28</th>\n",
       "      <td>29</td>\n",
       "      <td>Nơi Mình Dừng Chân (Remix)</td>\n",
       "      <td>Mỹ Tâm</td>\n",
       "      <td>2943698630</td>\n",
       "    </tr>\n",
       "    <tr>\n",
       "      <th>29</th>\n",
       "      <td>30</td>\n",
       "      <td>Make It Right (feat. Lauv) (EDM Remix)</td>\n",
       "      <td>BTS, Lauv, Frants</td>\n",
       "      <td>2858350923</td>\n",
       "    </tr>\n",
       "  </tbody>\n",
       "</table>\n",
       "</div>"
      ],
      "text/plain": [
       "    rank                                         track_name  \\\n",
       "0      1                                   Into the Unknown   \n",
       "1      2                                           Physical   \n",
       "2      3  These Days (feat. Jess Glynne, Macklemore & Da...   \n",
       "3      4                D.R.E.A.M. (feat. Ghostface Killah)   \n",
       "4      5                                             Badadu   \n",
       "5      6                                          As It Was   \n",
       "6      7                                            Starboy   \n",
       "7      8                                 Hết Thương Cạn Nhớ   \n",
       "8      9                                               Liar   \n",
       "9     10  Ngày Chưa Giông Bão (Theme Song From \"Người Bấ...   \n",
       "10    11                            Going Bad (feat. Drake)   \n",
       "11    12                                        DALLA DALLA   \n",
       "12    13                                          Thức Giấc   \n",
       "13    14                          STAY (with Justin Bieber)   \n",
       "14    15                                             I'M OK   \n",
       "15    16                       Say You Do - 2nd Single 2015   \n",
       "16    17                                         Heat Waves   \n",
       "17    18                                       Phố Không Em   \n",
       "18    19  Ashes - from \"Deadpool 2\" Motion Picture Sound...   \n",
       "19    20                                           Darkside   \n",
       "20    21                                        Pray For Me   \n",
       "21    22                                              Naked   \n",
       "22    23                                          The River   \n",
       "23    24                                 Young Dumb & Broke   \n",
       "24    25                                         Spring Day   \n",
       "25    26                                    Blinding Lights   \n",
       "26    27                                          Adore You   \n",
       "27    28                                           It's You   \n",
       "28    29                         Nơi Mình Dừng Chân (Remix)   \n",
       "29    30             Make It Right (feat. Lauv) (EDM Remix)   \n",
       "\n",
       "                                       artist_names     streams  \n",
       "0                              Idina Menzel, AURORA  4727746591  \n",
       "1                                          Dua Lipa  4726263786  \n",
       "2   Rudimental, Jess Glynne, Macklemore, Dan Caplen  4238338469  \n",
       "3                     Miley Cyrus, Ghostface Killah  3812743107  \n",
       "4                                           MONSTAR  3811491910  \n",
       "5                                      Harry Styles  3774211059  \n",
       "6                             The Weeknd, Daft Punk  3764936894  \n",
       "7                                          Đức Phúc  3721945430  \n",
       "8                                    Camila Cabello  3721945430  \n",
       "9                                     Bùi Lan Hương  3720760877  \n",
       "10                                 Meek Mill, Drake  3720760877  \n",
       "11                                             ITZY  3720760877  \n",
       "12                                           Da LAB  3476727992  \n",
       "13                     The Kid LAROI, Justin Bieber  3476727992  \n",
       "14                                             iKON  3338856236  \n",
       "15                                        Tiên Tiên  3312142392  \n",
       "16                                    Glass Animals  3301944296  \n",
       "17                                        Thái Đinh  3220250553  \n",
       "18                                      Céline Dion  3209562664  \n",
       "19                Alan Walker, Au/Ra, Tomine Harket  3209562664  \n",
       "20                       The Weeknd, Kendrick Lamar  3176204565  \n",
       "21                                     James Arthur  3162101862  \n",
       "22                                   Axel Johansson  3126614456  \n",
       "23                                           Khalid  3126614456  \n",
       "24                                              BTS  3030510971  \n",
       "25                                       The Weeknd  2945482048  \n",
       "26                                     Harry Styles  2944832336  \n",
       "27                                        Ali Gatie  2943698630  \n",
       "28                                           Mỹ Tâm  2943698630  \n",
       "29                                BTS, Lauv, Frants  2858350923  "
      ]
     },
     "execution_count": 78,
     "metadata": {},
     "output_type": "execute_result"
    }
   ],
   "source": [
    "top_30_tracks = df[df['rank'] <= 30][['rank', 'track_name', 'artist_names', 'streams']]\n",
    "top_30_tracks"
   ]
  },
  {
   "cell_type": "markdown",
   "metadata": {},
   "source": [
    "Đây chính là thứ hạng top 30 trên tổng số lượt nghe từ 2018 đến nay. Có vẻ có khá nhiều nghệ sĩ nước ngoài ở đây và rất ít nghệ sĩ Việt Nam (6 nghệ sĩ): Đức Phúc, Bùi Lan Hương, DaLAB, Tiên Tiên, Thái Đinh, Mỹ Tâm. Để có thể biết được rõ ràng hơn về các nghệ sĩ đang có số lượng lượt nghe nhạc của mình cao nhất từ năm 2018 đến nay ở thị trường âm nhạc Việt Nam, cũng như là số lượng bài hát của họ và thứ hạng của chúng trên bảng xếp hạng top 30, chúng ta sẽ xem xét biểu đồ dưới đây:"
   ]
  },
  {
   "cell_type": "code",
   "execution_count": 80,
   "metadata": {},
   "outputs": [
    {
     "data": {
      "image/png": "[encoded data removed]",
      "text/plain": [
       "<Figure size 1000x800 with 1 Axes>"
      ]
     },
     "metadata": {},
     "output_type": "display_data"
    }
   ],
   "source": [
    "# Tách tên nghệ sĩ\n",
    "df_exploded = top_30_tracks.assign(artist_names=df['artist_names'].str.split(',')).explode('artist_names')\n",
    "\n",
    "# Đảm bảo rằng không có khoảng trắng thừa ở đầu hoặc cuối tên nghệ sĩ\n",
    "df_exploded['artist_names'] = df_exploded['artist_names'].str.strip()\n",
    "# Nhóm theo nghệ sĩ và xếp hạng, sau đó đếm số lượng bài hát\n",
    "rank_counts = df_exploded.groupby(['artist_names', 'rank']).size().unstack(fill_value=0)\n",
    "\n",
    "# Sắp xếp các nghệ sĩ theo tổng số bài\n",
    "rank_counts['Total'] = rank_counts.sum(axis=1)\n",
    "rank_counts = rank_counts.sort_values(by='Total', ascending=False)\n",
    "rank_counts = rank_counts[::-1]\n",
    "\n",
    "rank_colors = {\n",
    "    'Top3': '#FF6347',  \n",
    "    'Top4-10': '#8A2BE2', \n",
    "    'Top11-20': '#32CD32', \n",
    "    'Top21-30': '#D3D3D3' \n",
    "}\n",
    "\n",
    "# Ánh xạ màu cho từng xếp hạng\n",
    "color_mapping = []\n",
    "for rank in rank_counts.columns[:-1]:  # Loại trừ cột 'Total'\n",
    "    if int(rank) <= 3:\n",
    "        color_mapping.append(rank_colors['Top3'])\n",
    "    elif 4 <= int(rank) <= 10:\n",
    "        color_mapping.append(rank_colors['Top4-10'])\n",
    "    elif 11 <= int(rank) <= 20:\n",
    "        color_mapping.append(rank_colors['Top11-20'])\n",
    "    else:\n",
    "        color_mapping.append(rank_colors['Top21-30'])\n",
    "\n",
    "# Vẽ biểu đồ\n",
    "fig, ax = plt.subplots(figsize=(10, 8))\n",
    "bars = rank_counts.drop(columns='Total').plot(kind='barh', stacked=True, ax=ax, color=color_mapping)\n",
    "\n",
    "ax.set_xlabel('Số lượng bài hát')\n",
    "ax.set_ylabel('Nghệ sĩ')\n",
    "ax.set_title('Nghệ sĩ và bài hát của họ trong Top 30 theo xếp hạng')\n",
    "\n",
    "legend_handles = [\n",
    "    mpatches.Patch(color=rank_colors['Top3'], label='Top 3'),\n",
    "    mpatches.Patch(color=rank_colors['Top4-10'], label='Top 4-10'),\n",
    "    mpatches.Patch(color=rank_colors['Top11-20'], label='Top 11-20'),\n",
    "    mpatches.Patch(color=rank_colors['Top21-30'], label='Top 21-30')\n",
    "]\n",
    "\n",
    "ax.grid(True, which='both', linestyle='--', linewidth=0.5)\n",
    "\n",
    "ax.legend(handles=legend_handles, title='Đỉnh cao (nhóm)', loc='lower right', bbox_to_anchor=(1, 0), fontsize=11)\n",
    "\n",
    "plt.tight_layout()\n",
    "plt.show()"
   ]
  },
  {
   "cell_type": "markdown",
   "metadata": {},
   "source": [
    "Nhìn chung, đại đa số các nghệ sĩ chỉ có 1 bài hát lọt vào top 30, tuy nhiên có 3 ngoại lệ là: The Weeknd với 3 bài hát, Harry Styles và BTS với 2 bài hát.\n",
    "\n",
    "Có một sự bất ngờ được thể hiện trên biểu đồ là, dường như các nghệ sĩ nước ngoài đang chiếm ưu thế về độ nhận diện bài hát với gu của người nghe Việt Nam với sự xuất hiện 15/20 nghệ sĩ nắm các bài hát thuộc top 30 bảng xếp hạng lượt nghe trên Spotify và nắm gần như hoàn toàn các bài hát từ top 1 đến top 10, chỉ có Đức Phúc và Bùi Lan Hương là nghệ sĩ người Việt góp mặt vào. Việc thị trường nhạc Việt được phân chia như thế nào bởi nhạc Việt và nhạc ngoại chúng ta đã tìm hiểu ở phần trên nên sẽ không đề cập lại ở đây. Nhưng chúng ta cũng thấy rằng, rõ ràng nếu tính trên tổng số lượt nghe từ thời điểm chúng ta lấy dữ liệu đến nay, thì rõ ràng là các nghệ sĩ nước ngoài và các bài hát của họ đang chiếm ưu thế về lượt nghe, gây được sự ảnh hưởng lớn đến công chúng và giữ được sức nóng lâu trong thị hiếu của người nghe Việt Nam. Điều này làm nhóm tự hỏi rằng, vậy nếu xét ở thời điểm gần đây nhất, mà nhóm lựa chọn là từ năm 2024 đến nay, thì:"
   ]
  },
  {
   "cell_type": "markdown",
   "metadata": {},
   "source": [
    "<a id=\"a41\"></a>\n",
    "### **4.1. Nhạc Việt và nhạc ngoại: xu hướng nghe nhạc nghiêng về bên nào ở thời điểm hiện tại? Và các nghệ sĩ nào đang thống trị nền âm nhạc?**"
   ]
  },
  {
   "cell_type": "markdown",
   "metadata": {},
   "source": [
    "Để trả lời câu hỏi này, chúng ta sẽ lấy các bài hát từ 2024 trở đi đến nay và lấy các nghệ sĩ có số lượng bài hát vào bảng xếp hạng nhiều nhất (lấy 20 người). Sau đó sẽ trực quan hóa về tỉ lệ các bài hát của nghệ sĩ Việt và ngoại trong top 20 bảng xếp hạng lượt nghe trên Spotify."
   ]
  },
  {
   "cell_type": "code",
   "execution_count": 84,
   "metadata": {},
   "outputs": [
    {
     "data": {
      "image/png": "[encoded data removed]",
      "text/plain": [
       "<Figure size 1000x800 with 1 Axes>"
      ]
     },
     "metadata": {},
     "output_type": "display_data"
    }
   ],
   "source": [
    "# Chắc chắn rằng cột release_date là datetime\n",
    "df['release_date'] = pd.to_datetime(df['release_date'])\n",
    "\n",
    "# Lọc lấy bài hát từ năm 2024 trở đi\n",
    "df_2024_to_now = df[df['release_date'].dt.year >= 2024]\n",
    "\n",
    "# Sắp xếp theo số lượt nghe\n",
    "top_30_tracks = df_2024_to_now.sort_values(by='streams', ascending=False)\n",
    "\n",
    "# Phân loại rank lại\n",
    "top_30_tracks = top_30_tracks.sort_values(by='streams', ascending=False).reset_index(drop=True)\n",
    "top_30_tracks['rank'] = top_30_tracks.index + 1\n",
    "\n",
    "# Tách tên nghệ sĩ\n",
    "df_exploded = top_30_tracks.assign(artist_names=top_30_tracks['artist_names'].str.split(',')).explode('artist_names')\n",
    "\n",
    "# Đảm bảo rằng không có khoảng trắng thừa ở đầu hoặc cuối tên nghệ sĩ\n",
    "df_exploded['artist_names'] = df_exploded['artist_names'].str.strip()\n",
    "\n",
    "# Nhóm theo nghệ sĩ và xếp hạng, sau đó đếm số lượng bài hát\n",
    "rank_counts = df_exploded.drop_duplicates('track_name').groupby(['artist_names', 'rank']).size().unstack(fill_value=0)\n",
    "\n",
    "# Sắp xếp các nghệ sĩ theo tổng số bài\n",
    "rank_counts['Total'] = rank_counts.sum(axis=1)\n",
    "rank_counts = rank_counts.sort_values(by='Total', ascending=False).head(20)\n",
    "rank_counts = rank_counts[::-1]\n",
    "\n",
    "rank_colors = {\n",
    "    'Top3': '#FF6347',  \n",
    "    'Top4-10': '#8A2BE2', \n",
    "    'Top11-20': '#32CD32', \n",
    "    'Top21-30': '#D3D3D3' \n",
    "}\n",
    "\n",
    "# Ánh xạ màu cho từng xếp hạng\n",
    "color_mapping = []\n",
    "for rank in rank_counts.columns[:-1]:  # Loại trừ cột 'Total'\n",
    "    if int(rank) <= 3:\n",
    "        color_mapping.append(rank_colors['Top3'])\n",
    "    elif 4 <= int(rank) <= 10:\n",
    "        color_mapping.append(rank_colors['Top4-10'])\n",
    "    elif 11 <= int(rank) <= 20:\n",
    "        color_mapping.append(rank_colors['Top11-20'])\n",
    "    else:\n",
    "        color_mapping.append(rank_colors['Top21-30'])\n",
    "\n",
    "# Vẽ biểu đồ\n",
    "fig, ax = plt.subplots(figsize=(10, 8))\n",
    "bars = rank_counts.drop(columns='Total').plot(kind='barh', stacked=True, ax=ax, color=color_mapping)\n",
    "\n",
    "ax.set_xlabel('Số lượng bài hát')\n",
    "ax.set_ylabel('Nghệ sĩ')\n",
    "ax.set_title('Nghệ sĩ và bài hát của họ trong Top 30 theo xếp hạng từ năm 2024 đến nay')\n",
    "\n",
    "legend_handles = [\n",
    "    mpatches.Patch(color=rank_colors['Top3'], label='Top 3'),\n",
    "    mpatches.Patch(color=rank_colors['Top4-10'], label='Top 4-10'),\n",
    "    mpatches.Patch(color=rank_colors['Top11-20'], label='Top 11-20'),\n",
    "    mpatches.Patch(color=rank_colors['Top21-30'], label='Top 21-30')\n",
    "]\n",
    "\n",
    "ax.legend(handles=legend_handles, title='Đỉnh cao (nhóm)', loc='lower right', bbox_to_anchor=(1, 0), fontsize=11)\n",
    "ax.grid(True, which='both', linestyle='--', linewidth=0.5)\n",
    "\n",
    "plt.tight_layout()\n",
    "plt.show()"
   ]
  },
  {
   "cell_type": "markdown",
   "metadata": {},
   "source": [
    "Chúng ta có thể thấy, nếu xét từ 2024 đến nay thì số lượng nghệ sĩ Việt Nam có nhiều bài hát nhất nằm trên bảng xếp hạng chiếm ưu thế hơn (21 trên 30 nghệ sĩ) so với nghệ sĩ nước ngoài (chỉ có 9 trên 30 nghệ sĩ). Đồng thời, không chỉ đa dạng về nghệ sĩ mà nghệ sĩ Việt Nam cũng vượt trội hơn về số lượng bài hát với \"ANH TRAI \"SAY HI\"\" tận 30 bài hát và Wxrdie với 16 bài hát, trong khi các nghệ sĩ khác chỉ có từ 12 bài hát trở xuống. Phần đông các nghệ sĩ có từ 3 - 5 bài hát lọt vào bảng xếp hạng. Tuy nhiên do khoảng thời gian xét ngắn nên khả năng vượt lên các bài hát vốn từ lâu đã ra mắt có trong bảng xếp hạng là chưa thể, nên ở khoảng thời gian gần đây xét, thì không có bài hát nào nằm ở top 3, nhưng top 4 - 10 thì có 3 bài hát của 3 nghệ sĩ nước ngoài: ROSÉ, Ariana Grande và Jimin, 3 bài top 11 - 20 của Ariana Grande và Taylor Swift. Còn lại thì đều nằm ở top 21 - 30.\n",
    "\n",
    "Điều đặc biệt là khi xem xét 3 nghệ sĩ Việt có độ phủ nhiều nhất trên bảng xếp hạng thì ta thấy được có 2 nghệ sĩ là \"\"ANH TRAI \"SAY HI\"\" và \"RAP VIỆT\" có số lượng bài hát nằm trong top rất nhiều (thứ nhất và thứ năm với 30 bài và 9 bài) và đây hoàn toàn không phải là nghệ sĩ, mà là 2 gameshow. Điều này cho thấy rằng, có vẻ như người nghe đang có xu hướng nghe nhạc từ các gameshow âm nhạc và chúng ta cũng thấy được rõ ràng sức ảnh hưởng cao của các gameshow âm nhạc hiện nay. Hiện nay thì các gameshow này đã hết thúc, tuy nhiên ta có thể thấy rằng các bài hát xuất phát từ gameshow có một sức hút nhất định đối với khán giả Việt Nam. Dù rằng gameshow chỉ diễn ra trong một thời gian ngắn nhưng vẫn có thể tạo ra những bài hát \"làm mưa làm gió\" kéo dài trong một khoảng thời gian sau đó và thậm chí là có thể cạnh tranh với các bài hát sản xuất bài bản, có chiến lược từ đầu từ các nghệ sĩ. Tuy nhiên, gameshow âm nhạc thì thường quy tụ nhiều nghệ sĩ trong một bài hát và trong cả gameshow. Điều đó làm nhóm đặt vấn đề rằng, có phải hay không số lượng các nghệ sĩ góp mặt vào một bài hát sẽ thu hút người nghe hơn? Điều này sẽ được phân tích ở phần sau (phần 5).\n",
    "\n",
    "Bên cạnh sự xuất hiện đầy bất ngờ của 2 gameshow đình đám, thì Wxrdie, tuy là đánh lẻ nhưng lại đứng top 2 về số lượng bài hát lọt vào bảng xếp hạng với tạn 16 bài hát. Điều này không bất ngờ lắm vì năm 2024 Wxrdie có dự án phát hành album đầu tay nên số lượng bài hát cao là hiển nhiên. Tuy thế, sự xuất hiện trong top 30 của các bài hát này đã chứng minh rằng Wxrdie đã tạo ra được sự ấn tượng với người nghe Việt Nam và thu hút được sự chú ý của khán giả."
   ]
  },
  {
   "cell_type": "markdown",
   "metadata": {},
   "source": [
    "Nhìn chung thì nếu xét toàn bộ bảng xếp hạng từ 2018 đến nay, thì có vẻ sức trụ hạng của các bài hát nước ngoài chiếm ưu thế hơn với độ phủ nhiều hơn. Cho thấy rằng các bài hát nước ngoài gây được tiếng vang lớn ở thị trường Việt Nam và khán giả Việt cũng có sự quan tâm đến âm nhạc quốc tế. Và độ duy trì sức hút của các bài hát quốc tế này là rất cao khi rất hiếm khi có trường hợp bài hát của các nghệ sĩ Việt Nam có thể cạnh tranh lại, cho thấy độ replay đối với khán giả Việt của các bài hát này rất cao mới có thể duy trì thứ hạng lâu như vậy. Tuy nhiên, nếu xét ở khoảng thời gian gần đây nhất, thì sự xuất hiện của các nghệ sĩ Việt Nam đang chiếm ưu thế hơn về số lượng bài hát và độ phủ trên bảng xếp hạng. Điều này cho thấy rằng, có vẻ như người nghe Việt đang có sự quay trở lại với âm nhạc Việt Nam và sự xuất hiện của các gameshow âm nhạc cũng như các nghệ sĩ Việt Nam đang tạo ra được sự chú ý của khán giả. Tuy nhiên, vẫn còn nhiều câu hỏi cần được trả lời như: Liệu sự xuất hiện của nhiều nghệ sĩ trong một bài hát có thu hút người nghe hơn hay không? Vấn đề này sẽ được phân tích ở tiếp theo:"
   ]
  },
  {
   "cell_type": "markdown",
   "metadata": {},
   "source": [
    "<a id=\"a5\"></a>\n",
    "## **5. Colab hay solo: Đâu là xu hướng hiện nay?**\n",
    "\n",
    "<a id=\"a51\"></a>\n",
    "### **5.1. So sánh giữa số lượng bài hát solo và bài hát hợp tác trên bảng xếp hạng**\n",
    "\n",
    "[Nhớ là nhận xét luôn là: Liệu việc hợp tác để sản xuất nhạc có phải là hiếm trên thị trường Việt Nam hay không]\n",
    "\n",
    "<a id=\"a52\"></a>\n",
    "### **5.2. Có phải nghệ sĩ càng nổi tiếng thì càng nhiều người muốn hợp tác không?**"
   ]
  },
  {
   "cell_type": "code",
   "execution_count": 35,
   "metadata": {},
   "outputs": [
    {
     "data": {
      "text/html": [
       "<div>\n",
       "<style scoped>\n",
       "    .dataframe tbody tr th:only-of-type {\n",
       "        vertical-align: middle;\n",
       "    }\n",
       "\n",
       "    .dataframe tbody tr th {\n",
       "        vertical-align: top;\n",
       "    }\n",
       "\n",
       "    .dataframe thead th {\n",
       "        text-align: right;\n",
       "    }\n",
       "</style>\n",
       "<table border=\"1\" class=\"dataframe\">\n",
       "  <thead>\n",
       "    <tr style=\"text-align: right;\">\n",
       "      <th></th>\n",
       "      <th>url</th>\n",
       "      <th>name</th>\n",
       "      <th>artist</th>\n",
       "      <th>composer</th>\n",
       "      <th>lyrics</th>\n",
       "      <th>duration</th>\n",
       "      <th>genre</th>\n",
       "      <th>origin</th>\n",
       "      <th>id</th>\n",
       "    </tr>\n",
       "  </thead>\n",
       "  <tbody>\n",
       "    <tr>\n",
       "      <th>0</th>\n",
       "      <td>https://www.nhaccuatui.com/bai-hat/re-ndm-wtra...</td>\n",
       "      <td>Rê NDM</td>\n",
       "      <td>Wtran</td>\n",
       "      <td>Wtran, Cà Nâu                                 ...</td>\n",
       "      <td>Rê NDM – WTran ft. Cà Nâu  WTran: Chú bé loắt ...</td>\n",
       "      <td>195</td>\n",
       "      <td>Nhạc Trẻ</td>\n",
       "      <td>VIỆT NAM</td>\n",
       "      <td>9gvVeiELZlKq</td>\n",
       "    </tr>\n",
       "    <tr>\n",
       "      <th>1</th>\n",
       "      <td>https://www.nhaccuatui.com/bai-hat/yeu-di-chau...</td>\n",
       "      <td>Yêu Đi</td>\n",
       "      <td>Châu Khải Phong</td>\n",
       "      <td>Unknown</td>\n",
       "      <td>Unknown</td>\n",
       "      <td>272</td>\n",
       "      <td>Nhạc Trẻ</td>\n",
       "      <td>VIỆT NAM</td>\n",
       "      <td>W3puBHmNLaTH</td>\n",
       "    </tr>\n",
       "    <tr>\n",
       "      <th>2</th>\n",
       "      <td>https://www.nhaccuatui.com/bai-hat/diem-xui-da...</td>\n",
       "      <td>Điềm Xui</td>\n",
       "      <td>Daduc</td>\n",
       "      <td>Daduc                                         ...</td>\n",
       "      <td>Daduc - Điềm Xui (We Broke Up Yesterday)  thôi...</td>\n",
       "      <td>205</td>\n",
       "      <td>Nhạc Trẻ</td>\n",
       "      <td>VIỆT NAM</td>\n",
       "      <td>9IQuJunOhc8Y</td>\n",
       "    </tr>\n",
       "    <tr>\n",
       "      <th>3</th>\n",
       "      <td>https://www.nhaccuatui.com/bai-hat/mashup-we-d...</td>\n",
       "      <td>Mashup We Don't Talk Anymore, Để Em Rời Xa (Bi...</td>\n",
       "      <td>Đức Phúc</td>\n",
       "      <td>Unknown</td>\n",
       "      <td>Unknown</td>\n",
       "      <td>298</td>\n",
       "      <td>Nhạc Trẻ</td>\n",
       "      <td>VIỆT NAM</td>\n",
       "      <td>WEMx8xJZYY4g</td>\n",
       "    </tr>\n",
       "    <tr>\n",
       "      <th>4</th>\n",
       "      <td>https://www.nhaccuatui.com/bai-hat/giu-em-that...</td>\n",
       "      <td>Giữ Em Thật Lâu</td>\n",
       "      <td>Naod</td>\n",
       "      <td>Naod                                          ...</td>\n",
       "      <td>Bài hát: Giữ Em Thật Lâu - Naod  Còn điều gì e...</td>\n",
       "      <td>254</td>\n",
       "      <td>Nhạc Trẻ</td>\n",
       "      <td>VIỆT NAM</td>\n",
       "      <td>TPDciU83yMeU</td>\n",
       "    </tr>\n",
       "    <tr>\n",
       "      <th>...</th>\n",
       "      <td>...</td>\n",
       "      <td>...</td>\n",
       "      <td>...</td>\n",
       "      <td>...</td>\n",
       "      <td>...</td>\n",
       "      <td>...</td>\n",
       "      <td>...</td>\n",
       "      <td>...</td>\n",
       "      <td>...</td>\n",
       "    </tr>\n",
       "    <tr>\n",
       "      <th>20265</th>\n",
       "      <td>https://www.nhaccuatui.com/bai-hat/kim-phut-ki...</td>\n",
       "      <td>KIM PHÚT, KIM GIỜ</td>\n",
       "      <td>Isaac</td>\n",
       "      <td>Unknown</td>\n",
       "      <td>Vậy đây là phút giây cuối thật sao Sau bao nhi...</td>\n",
       "      <td>295</td>\n",
       "      <td>Nhạc Trẻ</td>\n",
       "      <td>VIỆT NAM</td>\n",
       "      <td>I27zoLp2Ovzz</td>\n",
       "    </tr>\n",
       "    <tr>\n",
       "      <th>20266</th>\n",
       "      <td>https://www.nhaccuatui.com/bai-hat/hu-khong-kh...</td>\n",
       "      <td>Hư không</td>\n",
       "      <td>Kha</td>\n",
       "      <td>Kha                                           ...</td>\n",
       "      <td>Xin lỗi  Xin lỗi.. vì đã không hiểu về mình Xi...</td>\n",
       "      <td>354</td>\n",
       "      <td>NaN</td>\n",
       "      <td>NaN</td>\n",
       "      <td>zg8rqHWqlAkT</td>\n",
       "    </tr>\n",
       "    <tr>\n",
       "      <th>20267</th>\n",
       "      <td>https://www.nhaccuatui.com/bai-hat/sao-hang-a-...</td>\n",
       "      <td>SAO HẠNG A</td>\n",
       "      <td>ANH TRAI \"SAY HI\"</td>\n",
       "      <td>Unknown</td>\n",
       "      <td>Rảnh không baby Anh phi qua này Em thèm đồ tây...</td>\n",
       "      <td>252</td>\n",
       "      <td>Nhạc Trẻ</td>\n",
       "      <td>VIỆT NAM</td>\n",
       "      <td>9hVrZ2qY9XqD</td>\n",
       "    </tr>\n",
       "    <tr>\n",
       "      <th>20268</th>\n",
       "      <td>https://www.nhaccuatui.com/bai-hat/ngao-ngo-an...</td>\n",
       "      <td>NGÁO NGƠ</td>\n",
       "      <td>ANH TRAI \"SAY HI\"</td>\n",
       "      <td>Unknown</td>\n",
       "      <td>[Intro] Hey, Kewtiie  [Verse 1: HIEUTHUHAI, An...</td>\n",
       "      <td>252</td>\n",
       "      <td>Nhạc Trẻ</td>\n",
       "      <td>VIỆT NAM</td>\n",
       "      <td>gwkZrcqfbbOI</td>\n",
       "    </tr>\n",
       "    <tr>\n",
       "      <th>20269</th>\n",
       "      <td>https://www.nhaccuatui.com/bai-hat/regret-anh-...</td>\n",
       "      <td>REGRET</td>\n",
       "      <td>ANH TRAI \"SAY HI\"</td>\n",
       "      <td>Unknown</td>\n",
       "      <td>Chẳng cần thiết những đến những ký ức đôi ta C...</td>\n",
       "      <td>252</td>\n",
       "      <td>Nhạc Trẻ</td>\n",
       "      <td>VIỆT NAM</td>\n",
       "      <td>0U4Pr5esABDT</td>\n",
       "    </tr>\n",
       "  </tbody>\n",
       "</table>\n",
       "<p>20270 rows × 9 columns</p>\n",
       "</div>"
      ],
      "text/plain": [
       "                                                     url  \\\n",
       "0      https://www.nhaccuatui.com/bai-hat/re-ndm-wtra...   \n",
       "1      https://www.nhaccuatui.com/bai-hat/yeu-di-chau...   \n",
       "2      https://www.nhaccuatui.com/bai-hat/diem-xui-da...   \n",
       "3      https://www.nhaccuatui.com/bai-hat/mashup-we-d...   \n",
       "4      https://www.nhaccuatui.com/bai-hat/giu-em-that...   \n",
       "...                                                  ...   \n",
       "20265  https://www.nhaccuatui.com/bai-hat/kim-phut-ki...   \n",
       "20266  https://www.nhaccuatui.com/bai-hat/hu-khong-kh...   \n",
       "20267  https://www.nhaccuatui.com/bai-hat/sao-hang-a-...   \n",
       "20268  https://www.nhaccuatui.com/bai-hat/ngao-ngo-an...   \n",
       "20269  https://www.nhaccuatui.com/bai-hat/regret-anh-...   \n",
       "\n",
       "                                                    name             artist  \\\n",
       "0                                                 Rê NDM              Wtran   \n",
       "1                                                 Yêu Đi    Châu Khải Phong   \n",
       "2                                               Điềm Xui              Daduc   \n",
       "3      Mashup We Don't Talk Anymore, Để Em Rời Xa (Bi...           Đức Phúc   \n",
       "4                                        Giữ Em Thật Lâu               Naod   \n",
       "...                                                  ...                ...   \n",
       "20265                                  KIM PHÚT, KIM GIỜ              Isaac   \n",
       "20266                                           Hư không                Kha   \n",
       "20267                                         SAO HẠNG A  ANH TRAI \"SAY HI\"   \n",
       "20268                                           NGÁO NGƠ  ANH TRAI \"SAY HI\"   \n",
       "20269                                             REGRET  ANH TRAI \"SAY HI\"   \n",
       "\n",
       "                                                composer  \\\n",
       "0      Wtran, Cà Nâu                                 ...   \n",
       "1                                                Unknown   \n",
       "2      Daduc                                         ...   \n",
       "3                                                Unknown   \n",
       "4      Naod                                          ...   \n",
       "...                                                  ...   \n",
       "20265                                            Unknown   \n",
       "20266  Kha                                           ...   \n",
       "20267                                            Unknown   \n",
       "20268                                            Unknown   \n",
       "20269                                            Unknown   \n",
       "\n",
       "                                                  lyrics  duration     genre  \\\n",
       "0      Rê NDM – WTran ft. Cà Nâu  WTran: Chú bé loắt ...       195  Nhạc Trẻ   \n",
       "1                                                Unknown       272  Nhạc Trẻ   \n",
       "2      Daduc - Điềm Xui (We Broke Up Yesterday)  thôi...       205  Nhạc Trẻ   \n",
       "3                                                Unknown       298  Nhạc Trẻ   \n",
       "4      Bài hát: Giữ Em Thật Lâu - Naod  Còn điều gì e...       254  Nhạc Trẻ   \n",
       "...                                                  ...       ...       ...   \n",
       "20265  Vậy đây là phút giây cuối thật sao Sau bao nhi...       295  Nhạc Trẻ   \n",
       "20266  Xin lỗi  Xin lỗi.. vì đã không hiểu về mình Xi...       354       NaN   \n",
       "20267  Rảnh không baby Anh phi qua này Em thèm đồ tây...       252  Nhạc Trẻ   \n",
       "20268  [Intro] Hey, Kewtiie  [Verse 1: HIEUTHUHAI, An...       252  Nhạc Trẻ   \n",
       "20269  Chẳng cần thiết những đến những ký ức đôi ta C...       252  Nhạc Trẻ   \n",
       "\n",
       "         origin            id  \n",
       "0      VIỆT NAM  9gvVeiELZlKq  \n",
       "1      VIỆT NAM  W3puBHmNLaTH  \n",
       "2      VIỆT NAM  9IQuJunOhc8Y  \n",
       "3      VIỆT NAM  WEMx8xJZYY4g  \n",
       "4      VIỆT NAM  TPDciU83yMeU  \n",
       "...         ...           ...  \n",
       "20265  VIỆT NAM  I27zoLp2Ovzz  \n",
       "20266       NaN  zg8rqHWqlAkT  \n",
       "20267  VIỆT NAM  9hVrZ2qY9XqD  \n",
       "20268  VIỆT NAM  gwkZrcqfbbOI  \n",
       "20269  VIỆT NAM  0U4Pr5esABDT  \n",
       "\n",
       "[20270 rows x 9 columns]"
      ]
     },
     "execution_count": 35,
     "metadata": {},
     "output_type": "execute_result"
    }
   ],
   "source": [
    "df"
   ]
  },
  {
   "cell_type": "markdown",
   "metadata": {},
   "source": [
    "Chúng ta đã điểm qua nhiều yếu tố để một bài hát thành công, cũng như những yếu tố ảnh hưởng đến sự chọn lựa của người nghe. Tiếp sau đây, chúng ta sẽ đến với vấn đề cuối cùng phải xem xét. Đó chính là:"
   ]
  },
  {
   "cell_type": "markdown",
   "metadata": {},
   "source": [
    "<a id=\"a6\"></a>\n",
    "## **6. Xô đổ kỉ lục có khó không: Có phải càng về sau, thời gian để bức phá tiến vào bảng xếp hạng càng rút ngắn?**"
   ]
  },
  {
   "cell_type": "markdown",
   "metadata": {},
   "source": [
    "Chúng ta đều biết có những bài hát dù đã xuất hiện từ lâu trên bảng xếp hạng nhưng vẫn không thể bị xô đổ, cũng có những bài hát rất nhanh bức phá để lọt vào bảng xếp hạng. Tuy thế, tiến vào bảng xếp hạng đã khó, vào bảng xếp hạng rồi thì còn khó hơn để giữ vững vị trí của mình và thậm trí là bức phá các vị trí trên. Để có cái nhìn rõ ràng hơn về vấn đề này, chúng ta sẽ cùng đi tìm câu trả lời cho câu hỏi trên."
   ]
  },
  {
   "cell_type": "code",
   "execution_count": null,
   "metadata": {},
   "outputs": [],
   "source": []
  },
  {
   "cell_type": "markdown",
   "metadata": {},
   "source": [
    "<a id=\"conclusion\"></a>\n",
    "# **VII. Kết luận**"
   ]
  },
  {
   "cell_type": "markdown",
   "metadata": {},
   "source": []
  },
  {
   "cell_type": "markdown",
   "metadata": {},
   "source": [
    "<a id=\"references\"></a>\n",
    "# **VIII. Trích dẫn**"
   ]
  }
 ],
 "metadata": {
  "kernelspec": {
   "display_name": "Python 3",
   "language": "python",
   "name": "python3"
  },
  "language_info": {
   "codemirror_mode": {
    "name": "ipython",
    "version": 3
   },
   "file_extension": ".py",
   "mimetype": "text/x-python",
   "name": "python",
   "nbconvert_exporter": "python",
   "pygments_lexer": "ipython3",
   "version": "3.12.1"
  }
 },
 "nbformat": 4,
 "nbformat_minor": 2
}
