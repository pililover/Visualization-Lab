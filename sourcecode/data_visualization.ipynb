{
 "cells": [
  {
   "cell_type": "markdown",
   "metadata": {},
   "source": [
    "<div style=\"font-family: Arial, Helvetica, sans-serif;\">\n",
    "    <div style=\"display: flex;padding-top: 20px\">\n",
    "        <div><strong>Môn học:</strong> Trực quan hóa dữ liệu</div>\n",
    "    </div>\n",
    "    <div style=\"display: flex;padding-top: 20px\">\n",
    "        <div style=\"padding-right: 10px;\"><strong>Lớp:</strong> 22KHDL</div>\n",
    "        <div></div>\n",
    "    </div>\n",
    "    <div>\n",
    "        <div style=\"display: flex;padding-top: 20px\">\n",
    "            <div style=\"padding-right: 10px;\"><strong>Thành viên:</strong></div>\n",
    "            <div></div>\n",
    "        </div>\n",
    "        <table style=\"font-size: 15px; display:flex;padding-top: 20px\">\n",
    "            <tr>\n",
    "                <th>No.</th>\n",
    "                <th>Student ID</th>\n",
    "                <th>Name</th>\n",
    "            </tr>\n",
    "            <tr>\n",
    "                <td>1</td>\n",
    "                <td>22127008</td>\n",
    "                <td style=\"text-align:left;\">Đặng Châu Anh</td>\n",
    "            </tr>\n",
    "            <tr>\n",
    "                <td>2</td>\n",
    "                <td>22127014</td>\n",
    "                <td style=\"text-align:left;\">Nguyễn Kim Anh</td>\n",
    "            </tr>\n",
    "            <tr>\n",
    "                <td>4</td>\n",
    "                <td>22127170</td>\n",
    "                <td style=\"text-align:left;\">Trần Dịu Huyền</td>\n",
    "            </tr>\n",
    "        </table>\n",
    "    </div>\n",
    "    <div style=\"font-size: 25px ;font-weight: 800; text-align: center;padding-top: 20px;\">LAB 01</div>\n",
    "    <div style=\"font-size: 20px ;font-weight: 800; text-align: center;padding-top: 20px;\">THU THẬP DỮ LIỆU VÀ TRỰC QUAN HÓA DỮ LIỆU</div>\n",
    "</div>"
   ]
  },
  {
   "cell_type": "markdown",
   "metadata": {},
   "source": [
    "# **Mục lục**\n",
    "\n",
    "- [**Giới thiệu**](#intro)\n",
    "    - [Mục tiêu đồ án](#objectives)\n",
    "    - [Thông tin dữ liệu](#data)\n",
    "- [**Thư viện sử dụng**](#packages)\n",
    "- [**Thu thập dữ liệu**](#collect)\n",
    "- [**Khám phá dữ liệu**](#eda)\n",
    "    - [**Tổng quan về dữ liệu**](#eda1)\n",
    "        - [**Đối với `raw_df`**](#eda11)\n",
    "        - [**Đối với `top_50_df`**](#eda12)\n",
    "    - [**EDA và tiền xử lí dữ liệu - `raw_df`**](#eda2)\n",
    "        - [**Thống kê mô tả**](#eda21)\n",
    "        - [**Phân bố của dữ liệu dạng số**](#eda22)\n",
    "        - [**Phân bố của dữ liệu dạng phân loại**](#eda23)\n",
    "    - [**EDA và tiền xử lí dữ liệu -`top_50_df`**](#eda3)\n",
    "- [**Trực quan hóa dữ liệu**](#visual)\n"
   ]
  },
  {
   "cell_type": "markdown",
   "metadata": {},
   "source": [
    "<a id=\"intro\"></a>\n",
    "# **I. Giới thiệu**\n",
    "<a id=\"objectives\"></a>\n",
    "## **1. Mục tiêu phân tích:**\n",
    "- Thị hiếu âm nhạc của người nghe ở thị trường Việt Nam\n",
    "<a id=\"data\"></a>\n",
    "## **2. Thông tin dữ liệu:**\n"
   ]
  },
  {
   "cell_type": "markdown",
   "metadata": {},
   "source": [
    "<a id=\"packages\"></a>\n",
    "# **II. Thư viện sử dụng**"
   ]
  },
  {
   "cell_type": "code",
   "execution_count": 1,
   "metadata": {},
   "outputs": [],
   "source": [
    "import numpy as np\n",
    "import pandas as pd\n",
    "from bs4 import BeautifulSoup\n",
    "import requests\n",
    "import re\n",
    "import matplotlib.pyplot as plt\n",
    "import seaborn as sns"
   ]
  },
  {
   "cell_type": "markdown",
   "metadata": {},
   "source": [
    "<a id=\"collect\"></a>\n",
    "# **III. Thu thập dữ liệu**"
   ]
  },
  {
   "cell_type": "markdown",
   "metadata": {},
   "source": [
    "Với việc thu thập được dữ liệu về các bài hát trên ứng dụng nghe nhạc trực tuyến NhacCuaTui, sau khi nhóm đã khảo sát và tìm hiểu về NhacCuaTui, nhóm đã có mục tiêu ban đầu cho việc thu thập dữ liệu là sẽ lấy tất cả các thông tin về bài hát mà có thể lấy được từ trang web NhacCuaTui, bao gồm:\n",
    "- URL\n",
    "- Tên bài hát\n",
    "- Tên ca sĩ\n",
    "- Thể loại\n",
    "- Xuât xứ\n",
    "- Nhạc sĩ\n",
    "- Lời bài hát\n",
    "- Thời lượng\n",
    "- Chất lượng âm thanh\n",
    "\n",
    "Với mục tiêu này, việc thu thập dữ liệu sẽ được thực hiện với sự hỗ trợ của thư viện `BeautifulSoup` và `requests` trong Python vì đây là một trang web tĩnh, không yêu cầu đăng nhập. Biến `BASE_URL` sẽ được sử dụng để lưu trữ URL của route đầu tiên của NhacCuaTui cần sử dụng để thu thập dữ liệu. Tại route này chúng ta sẽ thu thập các thể loại nhạc có trên trang web, cũng như đường dẫn của mỗi thể loại và xuất xứ của các bài hát, để từ đó có thể lấy được các bài hát của mỗi thể loại khác nhau. Ở đây, chúng ta sẽ không lấy thể loại `Tui hát` vì thể loại này không phải là thể loại chính thức mà là thể loại mà người dùng tự tạo. Hàm `get_music_types` sẽ được sử dụng để làm điều này, hàm trả về một danh sách các thể loại nhạc có trên trang web, url và xuất xứ của thể loại đó."
   ]
  },
  {
   "cell_type": "code",
   "execution_count": 102,
   "metadata": {},
   "outputs": [],
   "source": [
    "BASE_URL = \"https://www.nhaccuatui.com/bai-hat/bai-hat-moi.html\"\n",
    "\n",
    "def get_music_types():\n",
    "    response = requests.get(BASE_URL)\n",
    "    soup = BeautifulSoup(response.content, 'html.parser')\n",
    "    \n",
    "    music_types = []\n",
    "    menu_browsing = soup.find_all('ul', class_='detail_menu_browsing_dashboard')\n",
    "    \n",
    "    for menu in menu_browsing:\n",
    "        categories = menu.find_all('li', class_='cate')\n",
    "        for category in categories:\n",
    "            origin = category.find('a').text.strip()\n",
    "            subcategories = category.find_next_siblings('li')\n",
    "            for subcategory in subcategories:\n",
    "                if subcategory.get('class') and 'line' in subcategory.get('class'):\n",
    "                    break\n",
    "                music_type = subcategory.find('a')\n",
    "                if music_type:\n",
    "                    title = music_type.text.strip()\n",
    "                    url = music_type.get('href')\n",
    "                    music_types.append((title, url, origin))\n",
    "    \n",
    "    return music_types"
   ]
  },
  {
   "cell_type": "markdown",
   "metadata": {},
   "source": [
    "Các thể loại nhạc, đường dẫn và xuất xứ tại trang web NhacCuaTui được lưu trữ trong biến `music_types` nhận giá trị trả về từ hàm `get_music_types()`."
   ]
  },
  {
   "cell_type": "code",
   "execution_count": 106,
   "metadata": {},
   "outputs": [
    {
     "data": {
      "text/html": [
       "<div>\n",
       "<style scoped>\n",
       "    .dataframe tbody tr th:only-of-type {\n",
       "        vertical-align: middle;\n",
       "    }\n",
       "\n",
       "    .dataframe tbody tr th {\n",
       "        vertical-align: top;\n",
       "    }\n",
       "\n",
       "    .dataframe thead th {\n",
       "        text-align: right;\n",
       "    }\n",
       "</style>\n",
       "<table border=\"1\" class=\"dataframe\">\n",
       "  <thead>\n",
       "    <tr style=\"text-align: right;\">\n",
       "      <th></th>\n",
       "      <th>genre</th>\n",
       "      <th>url</th>\n",
       "      <th>origin</th>\n",
       "    </tr>\n",
       "  </thead>\n",
       "  <tbody>\n",
       "    <tr>\n",
       "      <th>0</th>\n",
       "      <td>Nhạc Trẻ</td>\n",
       "      <td>https://www.nhaccuatui.com/bai-hat/nhac-tre-mo...</td>\n",
       "      <td>VIỆT NAM</td>\n",
       "    </tr>\n",
       "    <tr>\n",
       "      <th>1</th>\n",
       "      <td>Trữ Tình</td>\n",
       "      <td>https://www.nhaccuatui.com/bai-hat/tru-tinh-mo...</td>\n",
       "      <td>VIỆT NAM</td>\n",
       "    </tr>\n",
       "    <tr>\n",
       "      <th>2</th>\n",
       "      <td>Remix Việt</td>\n",
       "      <td>https://www.nhaccuatui.com/bai-hat/remix-viet-...</td>\n",
       "      <td>VIỆT NAM</td>\n",
       "    </tr>\n",
       "    <tr>\n",
       "      <th>3</th>\n",
       "      <td>Rap Việt</td>\n",
       "      <td>https://www.nhaccuatui.com/bai-hat/rap-viet-mo...</td>\n",
       "      <td>VIỆT NAM</td>\n",
       "    </tr>\n",
       "    <tr>\n",
       "      <th>4</th>\n",
       "      <td>Tiền Chiến</td>\n",
       "      <td>https://www.nhaccuatui.com/bai-hat/tien-chien-...</td>\n",
       "      <td>VIỆT NAM</td>\n",
       "    </tr>\n",
       "    <tr>\n",
       "      <th>5</th>\n",
       "      <td>Nhạc Trịnh</td>\n",
       "      <td>https://www.nhaccuatui.com/bai-hat/nhac-trinh-...</td>\n",
       "      <td>VIỆT NAM</td>\n",
       "    </tr>\n",
       "    <tr>\n",
       "      <th>6</th>\n",
       "      <td>Rock Việt</td>\n",
       "      <td>https://www.nhaccuatui.com/bai-hat/rock-viet-m...</td>\n",
       "      <td>VIỆT NAM</td>\n",
       "    </tr>\n",
       "    <tr>\n",
       "      <th>7</th>\n",
       "      <td>Cách Mạng</td>\n",
       "      <td>https://www.nhaccuatui.com/bai-hat/cach-mang-m...</td>\n",
       "      <td>VIỆT NAM</td>\n",
       "    </tr>\n",
       "    <tr>\n",
       "      <th>8</th>\n",
       "      <td>Pop</td>\n",
       "      <td>https://www.nhaccuatui.com/bai-hat/pop-moi.html</td>\n",
       "      <td>ÂU MỸ</td>\n",
       "    </tr>\n",
       "    <tr>\n",
       "      <th>9</th>\n",
       "      <td>Rock</td>\n",
       "      <td>https://www.nhaccuatui.com/bai-hat/rock-moi.html</td>\n",
       "      <td>ÂU MỸ</td>\n",
       "    </tr>\n",
       "    <tr>\n",
       "      <th>10</th>\n",
       "      <td>Electronica/Dance</td>\n",
       "      <td>https://www.nhaccuatui.com/bai-hat/electronica...</td>\n",
       "      <td>ÂU MỸ</td>\n",
       "    </tr>\n",
       "    <tr>\n",
       "      <th>11</th>\n",
       "      <td>R&amp;B/Hip Hop/Rap</td>\n",
       "      <td>https://www.nhaccuatui.com/bai-hat/rbhip-hopra...</td>\n",
       "      <td>ÂU MỸ</td>\n",
       "    </tr>\n",
       "    <tr>\n",
       "      <th>12</th>\n",
       "      <td>Blues/Jazz</td>\n",
       "      <td>https://www.nhaccuatui.com/bai-hat/bluesjazz-m...</td>\n",
       "      <td>ÂU MỸ</td>\n",
       "    </tr>\n",
       "    <tr>\n",
       "      <th>13</th>\n",
       "      <td>Country</td>\n",
       "      <td>https://www.nhaccuatui.com/bai-hat/country-moi...</td>\n",
       "      <td>ÂU MỸ</td>\n",
       "    </tr>\n",
       "    <tr>\n",
       "      <th>14</th>\n",
       "      <td>Latin</td>\n",
       "      <td>https://www.nhaccuatui.com/bai-hat/latin-moi.html</td>\n",
       "      <td>ÂU MỸ</td>\n",
       "    </tr>\n",
       "    <tr>\n",
       "      <th>15</th>\n",
       "      <td>Indie</td>\n",
       "      <td>https://www.nhaccuatui.com/bai-hat/indie-moi.html</td>\n",
       "      <td>ÂU MỸ</td>\n",
       "    </tr>\n",
       "    <tr>\n",
       "      <th>16</th>\n",
       "      <td>Nhạc Hàn</td>\n",
       "      <td>https://www.nhaccuatui.com/bai-hat/nhac-han-mo...</td>\n",
       "      <td>CHÂU Á</td>\n",
       "    </tr>\n",
       "    <tr>\n",
       "      <th>17</th>\n",
       "      <td>Nhạc Hoa</td>\n",
       "      <td>https://www.nhaccuatui.com/bai-hat/nhac-hoa-mo...</td>\n",
       "      <td>CHÂU Á</td>\n",
       "    </tr>\n",
       "    <tr>\n",
       "      <th>18</th>\n",
       "      <td>Nhạc Nhật</td>\n",
       "      <td>https://www.nhaccuatui.com/bai-hat/nhac-nhat-m...</td>\n",
       "      <td>CHÂU Á</td>\n",
       "    </tr>\n",
       "    <tr>\n",
       "      <th>19</th>\n",
       "      <td>Nhạc Thái</td>\n",
       "      <td>https://www.nhaccuatui.com/bai-hat/nhac-thai-m...</td>\n",
       "      <td>CHÂU Á</td>\n",
       "    </tr>\n",
       "    <tr>\n",
       "      <th>20</th>\n",
       "      <td>Thiếu Nhi</td>\n",
       "      <td>https://www.nhaccuatui.com/bai-hat/thieu-nhi-m...</td>\n",
       "      <td>KHÁC</td>\n",
       "    </tr>\n",
       "    <tr>\n",
       "      <th>21</th>\n",
       "      <td>Không Lời</td>\n",
       "      <td>https://www.nhaccuatui.com/bai-hat/khong-loi-m...</td>\n",
       "      <td>KHÁC</td>\n",
       "    </tr>\n",
       "    <tr>\n",
       "      <th>22</th>\n",
       "      <td>Beat</td>\n",
       "      <td>https://www.nhaccuatui.com/bai-hat/beat-moi.html</td>\n",
       "      <td>KHÁC</td>\n",
       "    </tr>\n",
       "    <tr>\n",
       "      <th>23</th>\n",
       "      <td>Thể Loại Khác</td>\n",
       "      <td>https://www.nhaccuatui.com/bai-hat/the-loai-kh...</td>\n",
       "      <td>KHÁC</td>\n",
       "    </tr>\n",
       "  </tbody>\n",
       "</table>\n",
       "</div>"
      ],
      "text/plain": [
       "                genre                                                url  \\\n",
       "0            Nhạc Trẻ  https://www.nhaccuatui.com/bai-hat/nhac-tre-mo...   \n",
       "1            Trữ Tình  https://www.nhaccuatui.com/bai-hat/tru-tinh-mo...   \n",
       "2          Remix Việt  https://www.nhaccuatui.com/bai-hat/remix-viet-...   \n",
       "3            Rap Việt  https://www.nhaccuatui.com/bai-hat/rap-viet-mo...   \n",
       "4          Tiền Chiến  https://www.nhaccuatui.com/bai-hat/tien-chien-...   \n",
       "5          Nhạc Trịnh  https://www.nhaccuatui.com/bai-hat/nhac-trinh-...   \n",
       "6           Rock Việt  https://www.nhaccuatui.com/bai-hat/rock-viet-m...   \n",
       "7           Cách Mạng  https://www.nhaccuatui.com/bai-hat/cach-mang-m...   \n",
       "8                 Pop    https://www.nhaccuatui.com/bai-hat/pop-moi.html   \n",
       "9                Rock   https://www.nhaccuatui.com/bai-hat/rock-moi.html   \n",
       "10  Electronica/Dance  https://www.nhaccuatui.com/bai-hat/electronica...   \n",
       "11    R&B/Hip Hop/Rap  https://www.nhaccuatui.com/bai-hat/rbhip-hopra...   \n",
       "12         Blues/Jazz  https://www.nhaccuatui.com/bai-hat/bluesjazz-m...   \n",
       "13            Country  https://www.nhaccuatui.com/bai-hat/country-moi...   \n",
       "14              Latin  https://www.nhaccuatui.com/bai-hat/latin-moi.html   \n",
       "15              Indie  https://www.nhaccuatui.com/bai-hat/indie-moi.html   \n",
       "16           Nhạc Hàn  https://www.nhaccuatui.com/bai-hat/nhac-han-mo...   \n",
       "17           Nhạc Hoa  https://www.nhaccuatui.com/bai-hat/nhac-hoa-mo...   \n",
       "18          Nhạc Nhật  https://www.nhaccuatui.com/bai-hat/nhac-nhat-m...   \n",
       "19          Nhạc Thái  https://www.nhaccuatui.com/bai-hat/nhac-thai-m...   \n",
       "20          Thiếu Nhi  https://www.nhaccuatui.com/bai-hat/thieu-nhi-m...   \n",
       "21          Không Lời  https://www.nhaccuatui.com/bai-hat/khong-loi-m...   \n",
       "22               Beat   https://www.nhaccuatui.com/bai-hat/beat-moi.html   \n",
       "23      Thể Loại Khác  https://www.nhaccuatui.com/bai-hat/the-loai-kh...   \n",
       "\n",
       "      origin  \n",
       "0   VIỆT NAM  \n",
       "1   VIỆT NAM  \n",
       "2   VIỆT NAM  \n",
       "3   VIỆT NAM  \n",
       "4   VIỆT NAM  \n",
       "5   VIỆT NAM  \n",
       "6   VIỆT NAM  \n",
       "7   VIỆT NAM  \n",
       "8      ÂU MỸ  \n",
       "9      ÂU MỸ  \n",
       "10     ÂU MỸ  \n",
       "11     ÂU MỸ  \n",
       "12     ÂU MỸ  \n",
       "13     ÂU MỸ  \n",
       "14     ÂU MỸ  \n",
       "15     ÂU MỸ  \n",
       "16    CHÂU Á  \n",
       "17    CHÂU Á  \n",
       "18    CHÂU Á  \n",
       "19    CHÂU Á  \n",
       "20      KHÁC  \n",
       "21      KHÁC  \n",
       "22      KHÁC  \n",
       "23      KHÁC  "
      ]
     },
     "execution_count": 106,
     "metadata": {},
     "output_type": "execute_result"
    }
   ],
   "source": [
    "music_types = get_music_types()\n",
    "pd.DataFrame(music_types, columns=['genre', 'url', 'origin'])"
   ]
  },
  {
   "cell_type": "markdown",
   "metadata": {},
   "source": [
    "Theo kiểm tra từ trước thì với mỗi thể loại khác nhau, trang NhacCuaTui sẽ có 25 trang chứa các bài hát của thể loại đó. Nên để thu thập dữ liệu, chúng ta sẽ cần lặp qua từng trang của mỗi thể loại nhạc để lấy được url của các bài hát thuộc thể loại đó biết rằng url của mỗi trang thuộc mỗi thể loại có cấu trúc `https://www.nhaccuatui.com/bai-hat/{thể loại}.{page}.html` với `page` là thứ tự trang. Hàm `get_song_links` sẽ được sử dụng để xử lí điều này, hàm trả về một danh sách các url của các bài hát thuộc thể loại nhạc đang xét."
   ]
  },
  {
   "cell_type": "code",
   "execution_count": 115,
   "metadata": {},
   "outputs": [],
   "source": [
    "def get_song_links(music_type_url, pages=25):\n",
    "    song_links = []\n",
    "    for page in range(1, pages + 1):\n",
    "        url = f\"{music_type_url[:-5]}.{page}.html\"\n",
    "        response = requests.get(url)\n",
    "        soup = BeautifulSoup(response.content, 'html.parser')\n",
    "        \n",
    "        for a in soup.select('.list_music_full .info_song a.name_song'):\n",
    "            song_links.append(a.get('href'))\n",
    "    \n",
    "    return song_links"
   ]
  },
  {
   "cell_type": "markdown",
   "metadata": {},
   "source": [
    "Tiếp theo, ta sẽ lấy thông tin của mỗi bài hát từ url của bài hát đó. Cụ thể, ta sẽ lấy thông tin về tên bài hát, tên ca sĩ, thể loại, xuất xứ, nhạc sĩ, lời bài hát, thời lượng và chất lượng âm thanh của bài hát. Trong hàm `scrape_song_data`, ta sẽ sử dụng thư viện `BeautifulSoup` để phân tích pháp HTML của trang web và lấy thông tin cần thiết từ trang web. Hàm trả về thông tin của từng bài hát."
   ]
  },
  {
   "cell_type": "code",
   "execution_count": 159,
   "metadata": {},
   "outputs": [],
   "source": [
    "def scrape_song_data(song_url):\n",
    "    response = requests.get(song_url)\n",
    "    soup = BeautifulSoup(response.content, 'html.parser')\n",
    "    \n",
    "    name = soup.select_one('.detail_info_playing_now b').text\n",
    "    artist = soup.select_one('.detail_info_playing_now .name_singer').text if soup.select_one('.detail_info_playing_now .name_singer') else 'N/A'\n",
    "\n",
    "    composer_element = soup.find('p', string=lambda x: x and 'Nhạc sĩ:' in x)\n",
    "    composer = composer_element.text.split(': ')[1] if composer_element else 'N/A'\n",
    "    \n",
    "    lyrics = soup.select_one('#divLyric').text.strip() if soup.select_one('#divLyric') else 'N/A'\n",
    "    \n",
    "    duration = soup.select_one('meta[itemprop=\"duration\"]').get('content')\n",
    "\n",
    "    return {\n",
    "        'url': song_url,\n",
    "        'name': name,\n",
    "        'artist': artist,\n",
    "        'composer': composer,\n",
    "        'lyrics': lyrics,\n",
    "        'duration': duration,\n",
    "    }"
   ]
  },
  {
   "cell_type": "markdown",
   "metadata": {},
   "source": [
    "Bây giờ, chúng ta sẽ thực hiện thu thập dữ liệu từ trang web NhacCuaTui bằng cách sử dụng các hàm đã được xây dựng với các logic đã đề cập ở trên. Song, để tránh việc bị ngắt kết nối với trang web hay bị chặn IP, chúng ta sẽ sử dụng try-except để xử lí các trường hợp này, tránh phải thu thập lại từ đầu. Đồng thời trong lúc lặp qua các thể loại nhạc, chúng ta sẽ thêm các trường `genre`, `origin` vào dữ liệu để biết được bài hát thuộc thể loại và xuất xứ nào. Tất cả thông tin về bài hát sẽ được lưu vào biến `all_songs`."
   ]
  },
  {
   "cell_type": "code",
   "execution_count": null,
   "metadata": {},
   "outputs": [],
   "source": [
    "all_songs = []\n",
    "\n",
    "for title, url, origin in music_types:\n",
    "    try:\n",
    "        song_links = get_song_links(url)\n",
    "        for song_link in song_links:\n",
    "            song_data = scrape_song_data(song_link)\n",
    "            song_data['genre'] = title\n",
    "            song_data['origin'] = origin\n",
    "            all_songs.append(song_data)\n",
    "            print(len(all_songs))\n",
    "    except Exception as e:\n",
    "        print(f\"Error: {e}\")"
   ]
  },
  {
   "cell_type": "markdown",
   "metadata": {},
   "source": [
    "Vậy là chúng ta đã thu thập xong được dữ liệu từ trang web NhacCuaTui, trước khi chuyển đến phần tiếp theo - Khám phá dữ liệu, chúng ta sẽ chuyển `all_songs` thành DataFrame và lưu dữ liệu vào file `song_data.csv` để sử dụng sau này, tranh việc phải thu thập lại từ đầu."
   ]
  },
  {
   "cell_type": "code",
   "execution_count": 200,
   "metadata": {},
   "outputs": [
    {
     "data": {
      "text/html": [
       "<div>\n",
       "<style scoped>\n",
       "    .dataframe tbody tr th:only-of-type {\n",
       "        vertical-align: middle;\n",
       "    }\n",
       "\n",
       "    .dataframe tbody tr th {\n",
       "        vertical-align: top;\n",
       "    }\n",
       "\n",
       "    .dataframe thead th {\n",
       "        text-align: right;\n",
       "    }\n",
       "</style>\n",
       "<table border=\"1\" class=\"dataframe\">\n",
       "  <thead>\n",
       "    <tr style=\"text-align: right;\">\n",
       "      <th></th>\n",
       "      <th>url</th>\n",
       "      <th>name</th>\n",
       "      <th>artist</th>\n",
       "      <th>composer</th>\n",
       "      <th>lyrics</th>\n",
       "      <th>duration</th>\n",
       "      <th>genre</th>\n",
       "      <th>origin</th>\n",
       "    </tr>\n",
       "  </thead>\n",
       "  <tbody>\n",
       "    <tr>\n",
       "      <th>12968</th>\n",
       "      <td>https://www.nhaccuatui.com/bai-hat/valori-aggi...</td>\n",
       "      <td>Valori aggiunti</td>\n",
       "      <td>Tutti Fenomeni</td>\n",
       "      <td>N/A</td>\n",
       "      <td>- Hiện chưa có lời bài hát nào cho Valori aggi...</td>\n",
       "      <td>PT2M54S</td>\n",
       "      <td>Indie</td>\n",
       "      <td>ÂU MỸ</td>\n",
       "    </tr>\n",
       "    <tr>\n",
       "      <th>9342</th>\n",
       "      <td>https://www.nhaccuatui.com/bai-hat/private-isl...</td>\n",
       "      <td>Private Island</td>\n",
       "      <td>Gunna</td>\n",
       "      <td>N/A</td>\n",
       "      <td>I'm just kickin' it with a baddie, smokin' on ...</td>\n",
       "      <td>PT2M12S</td>\n",
       "      <td>R&amp;B/Hip Hop/Rap</td>\n",
       "      <td>ÂU MỸ</td>\n",
       "    </tr>\n",
       "    <tr>\n",
       "      <th>3896</th>\n",
       "      <td>https://www.nhaccuatui.com/bai-hat/mot-trai-ti...</td>\n",
       "      <td>Một Trái Tim Một Quê Hương</td>\n",
       "      <td>Trần Hồng Kiệt</td>\n",
       "      <td>N/A</td>\n",
       "      <td>Bài hát: Một Trái Tim Một Quê Hương - Trần Hồn...</td>\n",
       "      <td>PT5M6S</td>\n",
       "      <td>Tiền Chiến</td>\n",
       "      <td>VIỆT NAM</td>\n",
       "    </tr>\n",
       "    <tr>\n",
       "      <th>3493</th>\n",
       "      <td>https://www.nhaccuatui.com/bai-hat/con-thuyen-...</td>\n",
       "      <td>Con Thuyền Không Bến</td>\n",
       "      <td>Ái Xuân (NSƯT)</td>\n",
       "      <td>N/A</td>\n",
       "      <td>Bài hát: Con Thuyền Không Bến - Ái Xuân\\n\\nĐêm...</td>\n",
       "      <td>PT6M15S</td>\n",
       "      <td>Tiền Chiến</td>\n",
       "      <td>VIỆT NAM</td>\n",
       "    </tr>\n",
       "    <tr>\n",
       "      <th>14785</th>\n",
       "      <td>https://www.nhaccuatui.com/bai-hat/twenty-five...</td>\n",
       "      <td>Twenty-five, Twenty-one</td>\n",
       "      <td>Jaurim</td>\n",
       "      <td>N/A</td>\n",
       "      <td>- Hiện chưa có lời bài hát nào cho Twenty-five...</td>\n",
       "      <td>PT4M47S</td>\n",
       "      <td>Nhạc Hàn</td>\n",
       "      <td>CHÂU Á</td>\n",
       "    </tr>\n",
       "  </tbody>\n",
       "</table>\n",
       "</div>"
      ],
      "text/plain": [
       "                                                     url  \\\n",
       "12968  https://www.nhaccuatui.com/bai-hat/valori-aggi...   \n",
       "9342   https://www.nhaccuatui.com/bai-hat/private-isl...   \n",
       "3896   https://www.nhaccuatui.com/bai-hat/mot-trai-ti...   \n",
       "3493   https://www.nhaccuatui.com/bai-hat/con-thuyen-...   \n",
       "14785  https://www.nhaccuatui.com/bai-hat/twenty-five...   \n",
       "\n",
       "                             name          artist composer  \\\n",
       "12968             Valori aggiunti  Tutti Fenomeni      N/A   \n",
       "9342               Private Island           Gunna      N/A   \n",
       "3896   Một Trái Tim Một Quê Hương  Trần Hồng Kiệt      N/A   \n",
       "3493         Con Thuyền Không Bến  Ái Xuân (NSƯT)      N/A   \n",
       "14785     Twenty-five, Twenty-one          Jaurim      N/A   \n",
       "\n",
       "                                                  lyrics duration  \\\n",
       "12968  - Hiện chưa có lời bài hát nào cho Valori aggi...  PT2M54S   \n",
       "9342   I'm just kickin' it with a baddie, smokin' on ...  PT2M12S   \n",
       "3896   Bài hát: Một Trái Tim Một Quê Hương - Trần Hồn...   PT5M6S   \n",
       "3493   Bài hát: Con Thuyền Không Bến - Ái Xuân\\n\\nĐêm...  PT6M15S   \n",
       "14785  - Hiện chưa có lời bài hát nào cho Twenty-five...  PT4M47S   \n",
       "\n",
       "                 genre    origin  \n",
       "12968            Indie     ÂU MỸ  \n",
       "9342   R&B/Hip Hop/Rap     ÂU MỸ  \n",
       "3896        Tiền Chiến  VIỆT NAM  \n",
       "3493        Tiền Chiến  VIỆT NAM  \n",
       "14785         Nhạc Hàn    CHÂU Á  "
      ]
     },
     "execution_count": 200,
     "metadata": {},
     "output_type": "execute_result"
    }
   ],
   "source": [
    "raw_df = pd.DataFrame(all_songs)\n",
    "raw_df.sample(5)"
   ]
  },
  {
   "cell_type": "markdown",
   "metadata": {},
   "source": [
    "Với bộ dữ liệu này và vì mục đích của nhóm là trực quan hóa và phân tích về xu hướng âm nhạc nên nhóm sẽ thu thập dữ liệu bảng xếp hạng bài hát vì không thể thu thập được số lượt nghe của bài."
   ]
  },
  {
   "cell_type": "code",
   "execution_count": 86,
   "metadata": {},
   "outputs": [
    {
     "data": {
      "text/html": [
       "<div>\n",
       "<style scoped>\n",
       "    .dataframe tbody tr th:only-of-type {\n",
       "        vertical-align: middle;\n",
       "    }\n",
       "\n",
       "    .dataframe tbody tr th {\n",
       "        vertical-align: top;\n",
       "    }\n",
       "\n",
       "    .dataframe thead th {\n",
       "        text-align: right;\n",
       "    }\n",
       "</style>\n",
       "<table border=\"1\" class=\"dataframe\">\n",
       "  <thead>\n",
       "    <tr style=\"text-align: right;\">\n",
       "      <th></th>\n",
       "      <th>rank</th>\n",
       "      <th>name</th>\n",
       "      <th>artist</th>\n",
       "      <th>url</th>\n",
       "    </tr>\n",
       "  </thead>\n",
       "  <tbody>\n",
       "    <tr>\n",
       "      <th>21</th>\n",
       "      <td>22</td>\n",
       "      <td>ANH TRAI HIP HOP</td>\n",
       "      <td>RAP VIỆT, B Ray, Hustlang Robber, Gill</td>\n",
       "      <td>https://v11.nhaccuatui.com/bai-hat/anh-trai-hi...</td>\n",
       "    </tr>\n",
       "    <tr>\n",
       "      <th>33</th>\n",
       "      <td>34</td>\n",
       "      <td>APT.</td>\n",
       "      <td>ROSÉ, Bruno Mars</td>\n",
       "      <td>https://v11.nhaccuatui.com/bai-hat/apt-rose-br...</td>\n",
       "    </tr>\n",
       "    <tr>\n",
       "      <th>39</th>\n",
       "      <td>40</td>\n",
       "      <td>TÌNH ĐẦU QUÁ CHÉN</td>\n",
       "      <td>ANH TRAI \"SAY HI\", Quang Hùng MasterD, Negav, ...</td>\n",
       "      <td>https://v11.nhaccuatui.com/bai-hat/tinh-dau-qu...</td>\n",
       "    </tr>\n",
       "    <tr>\n",
       "      <th>5</th>\n",
       "      <td>6</td>\n",
       "      <td>Mất Kết Nối</td>\n",
       "      <td>Dương Domic</td>\n",
       "      <td>https://v11.nhaccuatui.com/bai-hat/mat-ket-noi...</td>\n",
       "    </tr>\n",
       "    <tr>\n",
       "      <th>17</th>\n",
       "      <td>18</td>\n",
       "      <td>Thương Thì Thôi (Ciray Remix)</td>\n",
       "      <td>Jank</td>\n",
       "      <td>https://v11.nhaccuatui.com/bai-hat/thuong-thi-...</td>\n",
       "    </tr>\n",
       "  </tbody>\n",
       "</table>\n",
       "</div>"
      ],
      "text/plain": [
       "   rank                           name  \\\n",
       "21   22               ANH TRAI HIP HOP   \n",
       "33   34                           APT.   \n",
       "39   40              TÌNH ĐẦU QUÁ CHÉN   \n",
       "5     6                    Mất Kết Nối   \n",
       "17   18  Thương Thì Thôi (Ciray Remix)   \n",
       "\n",
       "                                               artist  \\\n",
       "21             RAP VIỆT, B Ray, Hustlang Robber, Gill   \n",
       "33                                   ROSÉ, Bruno Mars   \n",
       "39  ANH TRAI \"SAY HI\", Quang Hùng MasterD, Negav, ...   \n",
       "5                                         Dương Domic   \n",
       "17                                               Jank   \n",
       "\n",
       "                                                  url  \n",
       "21  https://v11.nhaccuatui.com/bai-hat/anh-trai-hi...  \n",
       "33  https://v11.nhaccuatui.com/bai-hat/apt-rose-br...  \n",
       "39  https://v11.nhaccuatui.com/bai-hat/tinh-dau-qu...  \n",
       "5   https://v11.nhaccuatui.com/bai-hat/mat-ket-noi...  \n",
       "17  https://v11.nhaccuatui.com/bai-hat/thuong-thi-...  "
      ]
     },
     "execution_count": 86,
     "metadata": {},
     "output_type": "execute_result"
    }
   ],
   "source": [
    "url = 'https://v11.nhaccuatui.com/bai-hat/top-20.1-5-d55-2025.html'\n",
    "\n",
    "response = requests.get(url)\n",
    "response.raise_for_status()\n",
    "\n",
    "soup = BeautifulSoup(response.content, 'html.parser')\n",
    "\n",
    "# Tìm list của bài hát\n",
    "list_songs = soup.find_all('div', class_='list_chart_page')[0].find('div', class_='box_resource_slide')\n",
    "songs = list_songs.find_all('ul', class_='list_show_chart')[0].find_all('li')\n",
    "\n",
    "# Lấy từng bài một\n",
    "song_chart = []\n",
    "for song in songs:\n",
    "    rank = song.find('span', class_='chart_tw').text.strip()\n",
    "    name = song.find('a', class_='name_song').text.strip()\n",
    "    artist = song.find('h4', class_='list_name_singer').text.strip()\n",
    "    song_url = song.find('a', class_='name_song')['href']\n",
    "    \n",
    "    song_chart.append({\n",
    "        'rank': rank,\n",
    "        'name': name,\n",
    "        'artist': artist,\n",
    "        'url': song_url\n",
    "    })\n",
    "    \n",
    "# Chuyển dữ liệu về dataframe\n",
    "chart_50_df = pd.DataFrame(song_chart)\n",
    "chart_50_df.sample(5)"
   ]
  },
  {
   "cell_type": "markdown",
   "metadata": {},
   "source": [
    "Để tái sử dụng dữ liệu, chúng ta sẽ xuất `raw_df` và `chart_50` vào file csv"
   ]
  },
  {
   "cell_type": "code",
   "execution_count": null,
   "metadata": {},
   "outputs": [],
   "source": [
    "raw_df.to_csv('../data/raw_data.csv', index=False, encoding='utf-8', errors='surrogatepass')\n",
    "chart_50_df.to_csv('../data/top_50_chart_vn.csv', index=False)"
   ]
  },
  {
   "cell_type": "markdown",
   "metadata": {},
   "source": [
    "<a id=\"eda\"></a>\n",
    "# **IV. Khám phá dữ liệu**\n",
    "\n",
    "Trước khi đến phần khám phá dữ liệu, chúng ta sẽ đọc dữ liệu từ file `raw_data.csv` đã lưu ở phần trước và bắt đầu khám phá."
   ]
  },
  {
   "cell_type": "code",
   "execution_count": 10,
   "metadata": {},
   "outputs": [
    {
     "data": {
      "text/html": [
       "<div>\n",
       "<style scoped>\n",
       "    .dataframe tbody tr th:only-of-type {\n",
       "        vertical-align: middle;\n",
       "    }\n",
       "\n",
       "    .dataframe tbody tr th {\n",
       "        vertical-align: top;\n",
       "    }\n",
       "\n",
       "    .dataframe thead th {\n",
       "        text-align: right;\n",
       "    }\n",
       "</style>\n",
       "<table border=\"1\" class=\"dataframe\">\n",
       "  <thead>\n",
       "    <tr style=\"text-align: right;\">\n",
       "      <th></th>\n",
       "      <th>url</th>\n",
       "      <th>name</th>\n",
       "      <th>artist</th>\n",
       "      <th>composer</th>\n",
       "      <th>lyrics</th>\n",
       "      <th>duration</th>\n",
       "      <th>genre</th>\n",
       "      <th>origin</th>\n",
       "    </tr>\n",
       "  </thead>\n",
       "  <tbody>\n",
       "    <tr>\n",
       "      <th>11433</th>\n",
       "      <td>https://www.nhaccuatui.com/bai-hat/read-the-bi...</td>\n",
       "      <td>Read the Bible Every Day</td>\n",
       "      <td>Sons Of The Pioneers</td>\n",
       "      <td>NaN</td>\n",
       "      <td>- Hiện chưa có lời bài hát nào cho Read the Bi...</td>\n",
       "      <td>PT2M49S</td>\n",
       "      <td>Country</td>\n",
       "      <td>ÂU MỸ</td>\n",
       "    </tr>\n",
       "    <tr>\n",
       "      <th>1485</th>\n",
       "      <td>https://www.nhaccuatui.com/bai-hat/waiting-for...</td>\n",
       "      <td>Waiting For You (Fun Beach Festival Anthem)</td>\n",
       "      <td>Hoaprox</td>\n",
       "      <td>NaN</td>\n",
       "      <td>- Hiện chưa có lời bài hát nào cho Waiting For...</td>\n",
       "      <td>PT5M42S</td>\n",
       "      <td>Remix Việt</td>\n",
       "      <td>VIỆT NAM</td>\n",
       "    </tr>\n",
       "    <tr>\n",
       "      <th>13124</th>\n",
       "      <td>https://www.nhaccuatui.com/bai-hat/true-lovers...</td>\n",
       "      <td>True Lovers (Live At Lone Star)</td>\n",
       "      <td>Holy Holy</td>\n",
       "      <td>NaN</td>\n",
       "      <td>- Hiện chưa có lời bài hát nào cho True Lovers...</td>\n",
       "      <td>PT4M11S</td>\n",
       "      <td>Indie</td>\n",
       "      <td>ÂU MỸ</td>\n",
       "    </tr>\n",
       "    <tr>\n",
       "      <th>12712</th>\n",
       "      <td>https://www.nhaccuatui.com/bai-hat/el-campo-gr...</td>\n",
       "      <td>El Campo Grande</td>\n",
       "      <td>Los Olimarenos</td>\n",
       "      <td>NaN</td>\n",
       "      <td>- Hiện chưa có lời bài hát nào cho El Campo Gr...</td>\n",
       "      <td>PT2M13S</td>\n",
       "      <td>Latin</td>\n",
       "      <td>ÂU MỸ</td>\n",
       "    </tr>\n",
       "    <tr>\n",
       "      <th>1631</th>\n",
       "      <td>https://www.nhaccuatui.com/bai-hat/bat-coc-con...</td>\n",
       "      <td>Bắt Cóc Con Tim (Bum Remix)</td>\n",
       "      <td>Lou Hoàng</td>\n",
       "      <td>NaN</td>\n",
       "      <td>- Hiện chưa có lời bài hát nào cho Bắt Cóc Con...</td>\n",
       "      <td>PT3M38S</td>\n",
       "      <td>Remix Việt</td>\n",
       "      <td>VIỆT NAM</td>\n",
       "    </tr>\n",
       "  </tbody>\n",
       "</table>\n",
       "</div>"
      ],
      "text/plain": [
       "                                                     url  \\\n",
       "11433  https://www.nhaccuatui.com/bai-hat/read-the-bi...   \n",
       "1485   https://www.nhaccuatui.com/bai-hat/waiting-for...   \n",
       "13124  https://www.nhaccuatui.com/bai-hat/true-lovers...   \n",
       "12712  https://www.nhaccuatui.com/bai-hat/el-campo-gr...   \n",
       "1631   https://www.nhaccuatui.com/bai-hat/bat-coc-con...   \n",
       "\n",
       "                                              name                artist  \\\n",
       "11433                     Read the Bible Every Day  Sons Of The Pioneers   \n",
       "1485   Waiting For You (Fun Beach Festival Anthem)               Hoaprox   \n",
       "13124              True Lovers (Live At Lone Star)             Holy Holy   \n",
       "12712                              El Campo Grande        Los Olimarenos   \n",
       "1631                   Bắt Cóc Con Tim (Bum Remix)             Lou Hoàng   \n",
       "\n",
       "      composer                                             lyrics duration  \\\n",
       "11433      NaN  - Hiện chưa có lời bài hát nào cho Read the Bi...  PT2M49S   \n",
       "1485       NaN  - Hiện chưa có lời bài hát nào cho Waiting For...  PT5M42S   \n",
       "13124      NaN  - Hiện chưa có lời bài hát nào cho True Lovers...  PT4M11S   \n",
       "12712      NaN  - Hiện chưa có lời bài hát nào cho El Campo Gr...  PT2M13S   \n",
       "1631       NaN  - Hiện chưa có lời bài hát nào cho Bắt Cóc Con...  PT3M38S   \n",
       "\n",
       "            genre    origin  \n",
       "11433     Country     ÂU MỸ  \n",
       "1485   Remix Việt  VIỆT NAM  \n",
       "13124       Indie     ÂU MỸ  \n",
       "12712       Latin     ÂU MỸ  \n",
       "1631   Remix Việt  VIỆT NAM  "
      ]
     },
     "execution_count": 10,
     "metadata": {},
     "output_type": "execute_result"
    }
   ],
   "source": [
    "raw_df = pd.read_csv('../data/raw_data.csv', encoding='utf-8')\n",
    "raw_df.sample(5)"
   ]
  },
  {
   "cell_type": "code",
   "execution_count": 11,
   "metadata": {},
   "outputs": [
    {
     "data": {
      "text/html": [
       "<div>\n",
       "<style scoped>\n",
       "    .dataframe tbody tr th:only-of-type {\n",
       "        vertical-align: middle;\n",
       "    }\n",
       "\n",
       "    .dataframe tbody tr th {\n",
       "        vertical-align: top;\n",
       "    }\n",
       "\n",
       "    .dataframe thead th {\n",
       "        text-align: right;\n",
       "    }\n",
       "</style>\n",
       "<table border=\"1\" class=\"dataframe\">\n",
       "  <thead>\n",
       "    <tr style=\"text-align: right;\">\n",
       "      <th></th>\n",
       "      <th>rank</th>\n",
       "      <th>name</th>\n",
       "      <th>artist</th>\n",
       "      <th>url</th>\n",
       "    </tr>\n",
       "  </thead>\n",
       "  <tbody>\n",
       "    <tr>\n",
       "      <th>40</th>\n",
       "      <td>41</td>\n",
       "      <td>Mantra</td>\n",
       "      <td>JENNIE</td>\n",
       "      <td>https://v11.nhaccuatui.com/bai-hat/mantra-jenn...</td>\n",
       "    </tr>\n",
       "    <tr>\n",
       "      <th>20</th>\n",
       "      <td>21</td>\n",
       "      <td>Trương Đình Hoàng (SS x AM Remix)</td>\n",
       "      <td>Lil Van</td>\n",
       "      <td>https://v11.nhaccuatui.com/bai-hat/truong-dinh...</td>\n",
       "    </tr>\n",
       "    <tr>\n",
       "      <th>2</th>\n",
       "      <td>3</td>\n",
       "      <td>earthquake</td>\n",
       "      <td>JISOO</td>\n",
       "      <td>https://v11.nhaccuatui.com/bai-hat/earthquake-...</td>\n",
       "    </tr>\n",
       "    <tr>\n",
       "      <th>6</th>\n",
       "      <td>7</td>\n",
       "      <td>Ánh Mắt Biết Cười</td>\n",
       "      <td>Quang Hùng MasterD, Tăng Duy Tân</td>\n",
       "      <td>https://v11.nhaccuatui.com/bai-hat/anh-mat-bie...</td>\n",
       "    </tr>\n",
       "    <tr>\n",
       "      <th>41</th>\n",
       "      <td>42</td>\n",
       "      <td>Đi Giữa Trời Rực Rỡ (From \"Đi Giữa Trời Rực Rỡ\")</td>\n",
       "      <td>Ngô Lan Hương</td>\n",
       "      <td>https://v11.nhaccuatui.com/bai-hat/di-giua-tro...</td>\n",
       "    </tr>\n",
       "  </tbody>\n",
       "</table>\n",
       "</div>"
      ],
      "text/plain": [
       "    rank                                              name  \\\n",
       "40    41                                            Mantra   \n",
       "20    21                 Trương Đình Hoàng (SS x AM Remix)   \n",
       "2      3                                        earthquake   \n",
       "6      7                                 Ánh Mắt Biết Cười   \n",
       "41    42  Đi Giữa Trời Rực Rỡ (From \"Đi Giữa Trời Rực Rỡ\")   \n",
       "\n",
       "                              artist  \\\n",
       "40                            JENNIE   \n",
       "20                           Lil Van   \n",
       "2                              JISOO   \n",
       "6   Quang Hùng MasterD, Tăng Duy Tân   \n",
       "41                     Ngô Lan Hương   \n",
       "\n",
       "                                                  url  \n",
       "40  https://v11.nhaccuatui.com/bai-hat/mantra-jenn...  \n",
       "20  https://v11.nhaccuatui.com/bai-hat/truong-dinh...  \n",
       "2   https://v11.nhaccuatui.com/bai-hat/earthquake-...  \n",
       "6   https://v11.nhaccuatui.com/bai-hat/anh-mat-bie...  \n",
       "41  https://v11.nhaccuatui.com/bai-hat/di-giua-tro...  "
      ]
     },
     "execution_count": 11,
     "metadata": {},
     "output_type": "execute_result"
    }
   ],
   "source": [
    "top_50_df = pd.read_csv('../data/top_50_chart_vn.csv', encoding='utf-8')\n",
    "top_50_df.sample(5)"
   ]
  },
  {
   "cell_type": "markdown",
   "metadata": {},
   "source": [
    "<a id=\"eda1\"></a>\n",
    "## **1. Tổng quan về dữ liệu**"
   ]
  },
  {
   "cell_type": "markdown",
   "metadata": {},
   "source": [
    "<div id='eda11'></div>\n",
    "\n",
    "### **Đối với `raw_df`**\n",
    "Ở phần này thì chúng ta sẽ khám phá về cấu trúc của dữ liệu. Đầu tiên, chúng ta sẽ kiểm tra số dòng và số cột của dữ liệu để chắc rằng dữ liệu phù hợp với yêu cầu về cấu trúc của bài (hơn 3000 dòng trước tiền xử lí).\n",
    "\n",
    "**Kích thước dữ liệu:**"
   ]
  },
  {
   "cell_type": "code",
   "execution_count": 12,
   "metadata": {},
   "outputs": [
    {
     "name": "stdout",
     "output_type": "stream",
     "text": [
      "Number of rows: 20276\n",
      "Number of columns: 8\n"
     ]
    }
   ],
   "source": [
    "print(f\"Number of rows: {raw_df.shape[0]}\")\n",
    "print(f\"Number of columns: {raw_df.shape[1]}\")"
   ]
  },
  {
   "cell_type": "markdown",
   "metadata": {},
   "source": [
    "Tiếp theo, chúng ta sẽ kiểm tra xem kiểu dữ liệu của các cột trong dữ liệu để biết được cần phải xử lí kiểu dữ liệu của các cột nào trong dữ liệu ở phần tiền xử lí.\n",
    "\n",
    "**Kiểu dữ liệu của các cột:**"
   ]
  },
  {
   "cell_type": "code",
   "execution_count": 13,
   "metadata": {},
   "outputs": [
    {
     "name": "stdout",
     "output_type": "stream",
     "text": [
      "<class 'pandas.core.frame.DataFrame'>\n",
      "RangeIndex: 20276 entries, 0 to 20275\n",
      "Data columns (total 8 columns):\n",
      " #   Column    Non-Null Count  Dtype \n",
      "---  ------    --------------  ----- \n",
      " 0   url       20276 non-null  object\n",
      " 1   name      20276 non-null  object\n",
      " 2   artist    20270 non-null  object\n",
      " 3   composer  3303 non-null   object\n",
      " 4   lyrics    19938 non-null  object\n",
      " 5   duration  20276 non-null  object\n",
      " 6   genre     20275 non-null  object\n",
      " 7   origin    20275 non-null  object\n",
      "dtypes: object(8)\n",
      "memory usage: 1.2+ MB\n"
     ]
    }
   ],
   "source": [
    "raw_df.info()"
   ]
  },
  {
   "cell_type": "markdown",
   "metadata": {},
   "source": [
    "**Thông tin về các cột trong dữ liệu**\n",
    "\n",
    "Chúng ta có 8 cột trong dữ liệu, với tất cả các cột đều có kiểu dữ liệu là kiểu dữ liệu phân loại (object).\n",
    "Ý nghĩa của các cột trong dữ liệu như sau:\n",
    "- `url`: Đường dẫn của bài hát.\n",
    "- `name`: Tên của bài hát.\n",
    "- `artist`: Tên của ca sĩ.\n",
    "- `composer`: Tên của nhạc sĩ.\n",
    "- `lyrics`: Lời bài hát.\n",
    "- `duration`: Thời lượng của bài hát.\n",
    "- `genre`: Thể loại của bài hát.\n",
    "- `origin`: Xuất xứ của bài hát.\n",
    "\n",
    "Vậy cũng có nghĩa là, mỗi hàng trong dữ liệu sẽ chứa thông tin về một bài hát."
   ]
  },
  {
   "cell_type": "markdown",
   "metadata": {},
   "source": [
    "**Kiểm tra dữ liệu bị thiếu**\n",
    "\n",
    "Ở phần này, chúng ta sẽ kiểm tra xem dữ liệu có bị thiếu không, nếu có thì chúng ta sẽ xử lí dữ liệu bị thiếu ở phần tiền xử lí để làm sạch dữ liệu."
   ]
  },
  {
   "cell_type": "code",
   "execution_count": 14,
   "metadata": {},
   "outputs": [
    {
     "name": "stdout",
     "output_type": "stream",
     "text": [
      "Giá trị thiếu trong mỗi cột:\n",
      "url             0\n",
      "name            0\n",
      "artist          6\n",
      "composer    16973\n",
      "lyrics        338\n",
      "duration        0\n",
      "genre           1\n",
      "origin          1\n",
      "dtype: int64\n"
     ]
    }
   ],
   "source": [
    "print('Giá trị thiếu trong mỗi cột:')\n",
    "print(raw_df.isnull().sum())"
   ]
  },
  {
   "cell_type": "markdown",
   "metadata": {},
   "source": [
    "**Kiểm tra dữ liệu bị trùng**\n",
    "\n",
    "Ở phần này, chúng ta sẽ kiểm tra xem dữ liệu có bị trùng không, nếu có thì chúng ta sẽ xóa dữ liệu trùng."
   ]
  },
  {
   "cell_type": "code",
   "execution_count": 15,
   "metadata": {},
   "outputs": [
    {
     "name": "stdout",
     "output_type": "stream",
     "text": [
      "Dữ liệu trùng lặp:\n",
      "0\n"
     ]
    }
   ],
   "source": [
    "print('Dữ liệu trùng lặp:')\n",
    "print(raw_df.duplicated().sum())"
   ]
  },
  {
   "cell_type": "markdown",
   "metadata": {},
   "source": [
    "Vậy là giai đoạn thu thập dữ liệu làm khá tốt, không có dữ liệu bị trùng. Tiếp theo, chúng ta sẽ tiến hành khám phá xem có bao nhiêu giá trị khác nhau trong mỗi cột. Điều này nhằm giúp chúng ta hiểu rõ hơn về dữ liệu, đặc biệt là về `name`, `artist`, `composer`, `genre` và `origin`. Chúng ta không cần phải khám phá về `url` vì mỗi bài hát sẽ có một url riêng. Tương tự với `lyrics`, còn `duration` có vẻ sẽ cần tiền xử lí để chuyển về dạng số giây để dễ xử lí hơn, nên chúng ta sẽ không khám phá về `duration` ở đây."
   ]
  },
  {
   "cell_type": "code",
   "execution_count": 16,
   "metadata": {},
   "outputs": [
    {
     "name": "stdout",
     "output_type": "stream",
     "text": [
      "name: 18443 giá trị khác nhau\n",
      "artist: 6739 giá trị khác nhau\n",
      "composer: 1622 giá trị khác nhau\n",
      "genre: 24 giá trị khác nhau\n",
      "origin: 4 giá trị khác nhau\n"
     ]
    }
   ],
   "source": [
    "for col in ['name', 'artist', 'composer', 'genre', 'origin']:\n",
    "    print(f\"{col}: {raw_df[col].nunique()} giá trị khác nhau\")"
   ]
  },
  {
   "cell_type": "markdown",
   "metadata": {},
   "source": [
    "### **Đối với `top_50_df`**\n",
    "<div id='eda12'></div>\n",
    "Tương tự như trên, chúng ta sẽ kiểm tra số lượng dòng, cột của dữ liệu.\n",
    "\n",
    "**Kích thước dữ liệu:**"
   ]
  },
  {
   "cell_type": "code",
   "execution_count": 17,
   "metadata": {},
   "outputs": [
    {
     "name": "stdout",
     "output_type": "stream",
     "text": [
      "Number of rows: 50\n",
      "Number of columns: 4\n"
     ]
    }
   ],
   "source": [
    "print(f\"Number of rows: {top_50_df.shape[0]}\")\n",
    "print(f\"Number of columns: {top_50_df.shape[1]}\")"
   ]
  },
  {
   "cell_type": "markdown",
   "metadata": {},
   "source": [
    "Tiếp theo, chúng ta sẽ kiểm tra xem kiểu dữ liệu của các cột trong dữ liệu để biết được cần phải xử lí kiểu dữ liệu của các cột nào trong dữ liệu ở phần tiền xử lí.\n",
    "\n",
    "**Kiểu dữ liệu của các cột:**"
   ]
  },
  {
   "cell_type": "code",
   "execution_count": 18,
   "metadata": {},
   "outputs": [
    {
     "name": "stdout",
     "output_type": "stream",
     "text": [
      "<class 'pandas.core.frame.DataFrame'>\n",
      "RangeIndex: 50 entries, 0 to 49\n",
      "Data columns (total 4 columns):\n",
      " #   Column  Non-Null Count  Dtype \n",
      "---  ------  --------------  ----- \n",
      " 0   rank    50 non-null     int64 \n",
      " 1   name    50 non-null     object\n",
      " 2   artist  50 non-null     object\n",
      " 3   url     50 non-null     object\n",
      "dtypes: int64(1), object(3)\n",
      "memory usage: 1.7+ KB\n"
     ]
    }
   ],
   "source": [
    "top_50_df.info()"
   ]
  },
  {
   "cell_type": "markdown",
   "metadata": {},
   "source": [
    "**Thông tin về các cột trong dữ liệu**\n",
    "\n",
    "Chúng ta có 4 cột trong dữ liệu, với tất cả các cột đều có kiểu dữ liệu là kiểu dữ liệu phân loại (object) ngoại trừ `rank` có kiểu dữ liệu là int64.\n",
    "Ý nghĩa của các cột trong dữ liệu như sau:\n",
    "- `rank`: Thứ hạng của bài hát.\n",
    "- `name`: Tên của bài hát.\n",
    "- `artist`: Tên của ca sĩ.\n",
    "- `url`: Đường dẫn của bài hát.\n",
    "\n",
    "Vậy cũng có nghĩa là, mỗi hàng trong dữ liệu sẽ chứa thông tin về một bài hát."
   ]
  },
  {
   "cell_type": "markdown",
   "metadata": {},
   "source": [
    "**Kiểm tra dữ liệu bị thiếu**\n",
    "\n",
    "Ở phần này, chúng ta sẽ kiểm tra xem dữ liệu có bị thiếu không, nếu có thì chúng ta sẽ xử lí dữ liệu bị thiếu ở phần tiền xử lí để làm sạch dữ liệu."
   ]
  },
  {
   "cell_type": "code",
   "execution_count": 19,
   "metadata": {},
   "outputs": [
    {
     "data": {
      "text/plain": [
       "rank      0\n",
       "name      0\n",
       "artist    0\n",
       "url       0\n",
       "dtype: int64"
      ]
     },
     "execution_count": 19,
     "metadata": {},
     "output_type": "execute_result"
    }
   ],
   "source": [
    "top_50_df.isna().sum()"
   ]
  },
  {
   "cell_type": "markdown",
   "metadata": {},
   "source": [
    "Vậy là không có trường nào thiếu dữ liệu. Tiếp theo chúng ta sẽ kiểm tra trùng lặp.\n",
    "\n",
    "**Kiểm tra trùng lặp**"
   ]
  },
  {
   "cell_type": "code",
   "execution_count": 20,
   "metadata": {},
   "outputs": [
    {
     "name": "stdout",
     "output_type": "stream",
     "text": [
      "Dữ liệu trùng lặp:\n",
      "0\n"
     ]
    }
   ],
   "source": [
    "print('Dữ liệu trùng lặp:')\n",
    "print(top_50_df.duplicated().sum())"
   ]
  },
  {
   "cell_type": "markdown",
   "metadata": {},
   "source": [
    "Tập dữ liệu này cũng không có dữ liệu trùng lặp"
   ]
  },
  {
   "cell_type": "markdown",
   "metadata": {},
   "source": [
    "<a id=\"eda2\"></a>\n",
    "## **2. EDA và Tiền xử lí dữ liệu (`raw_df`)**"
   ]
  },
  {
   "cell_type": "markdown",
   "metadata": {},
   "source": [
    "Phần này chúng ta sẽ phân tích sâu hơn về tập dữ liệu để khám phá mẫu, phân phối và mối quan hệ giữa các biến.\n",
    "\n",
    "Đầu tiên, chúng ta sẽ đảm bảo rằng các trường dữ liệu được chuyển sang kiểu dữ liệu hợp lí của nó. Như đã xem xét ở phần trên, toàn bộ các trường dữ liệu đều thuộc kiểu phân loại. Tuy nhiên, liệu tất cả các trường đều thích hợp với kiểu dữ liệu phân loại không? Để trả lời câu hỏi này, chúng ta sẽ xem lại dữ liệu."
   ]
  },
  {
   "cell_type": "code",
   "execution_count": 21,
   "metadata": {},
   "outputs": [
    {
     "data": {
      "text/html": [
       "<div>\n",
       "<style scoped>\n",
       "    .dataframe tbody tr th:only-of-type {\n",
       "        vertical-align: middle;\n",
       "    }\n",
       "\n",
       "    .dataframe tbody tr th {\n",
       "        vertical-align: top;\n",
       "    }\n",
       "\n",
       "    .dataframe thead th {\n",
       "        text-align: right;\n",
       "    }\n",
       "</style>\n",
       "<table border=\"1\" class=\"dataframe\">\n",
       "  <thead>\n",
       "    <tr style=\"text-align: right;\">\n",
       "      <th></th>\n",
       "      <th>url</th>\n",
       "      <th>name</th>\n",
       "      <th>artist</th>\n",
       "      <th>composer</th>\n",
       "      <th>lyrics</th>\n",
       "      <th>duration</th>\n",
       "      <th>genre</th>\n",
       "      <th>origin</th>\n",
       "    </tr>\n",
       "  </thead>\n",
       "  <tbody>\n",
       "    <tr>\n",
       "      <th>0</th>\n",
       "      <td>https://www.nhaccuatui.com/bai-hat/re-ndm-wtra...</td>\n",
       "      <td>Rê NDM</td>\n",
       "      <td>Wtran</td>\n",
       "      <td>Wtran, Cà Nâu\\n                            \\n ...</td>\n",
       "      <td>Rê NDM – WTran ft. Cà Nâu\\n\\nWTran:\\nChú bé lo...</td>\n",
       "      <td>PT3M15S</td>\n",
       "      <td>Nhạc Trẻ</td>\n",
       "      <td>VIỆT NAM</td>\n",
       "    </tr>\n",
       "    <tr>\n",
       "      <th>1</th>\n",
       "      <td>https://www.nhaccuatui.com/bai-hat/yeu-di-chau...</td>\n",
       "      <td>Yêu Đi</td>\n",
       "      <td>Châu Khải Phong</td>\n",
       "      <td>NaN</td>\n",
       "      <td>- Hiện chưa có lời bài hát nào cho Yêu Đi do c...</td>\n",
       "      <td>PT4M32S</td>\n",
       "      <td>Nhạc Trẻ</td>\n",
       "      <td>VIỆT NAM</td>\n",
       "    </tr>\n",
       "    <tr>\n",
       "      <th>2</th>\n",
       "      <td>https://www.nhaccuatui.com/bai-hat/diem-xui-da...</td>\n",
       "      <td>Điềm Xui</td>\n",
       "      <td>Daduc</td>\n",
       "      <td>Daduc\\n                            \\n         ...</td>\n",
       "      <td>Daduc - Điềm Xui (We Broke Up Yesterday)\\n\\nth...</td>\n",
       "      <td>PT3M25S</td>\n",
       "      <td>Nhạc Trẻ</td>\n",
       "      <td>VIỆT NAM</td>\n",
       "    </tr>\n",
       "    <tr>\n",
       "      <th>3</th>\n",
       "      <td>https://www.nhaccuatui.com/bai-hat/mashup-we-d...</td>\n",
       "      <td>Mashup We Don't Talk Anymore, Để Em Rời Xa (Bi...</td>\n",
       "      <td>Đức Phúc</td>\n",
       "      <td>NaN</td>\n",
       "      <td>NaN</td>\n",
       "      <td>PT4M58S</td>\n",
       "      <td>Nhạc Trẻ</td>\n",
       "      <td>VIỆT NAM</td>\n",
       "    </tr>\n",
       "    <tr>\n",
       "      <th>4</th>\n",
       "      <td>https://www.nhaccuatui.com/bai-hat/giu-em-that...</td>\n",
       "      <td>Giữ Em Thật Lâu</td>\n",
       "      <td>Naod</td>\n",
       "      <td>Naod\\n                            \\n          ...</td>\n",
       "      <td>Bài hát: Giữ Em Thật Lâu - Naod\\n\\nCòn điều gì...</td>\n",
       "      <td>PT4M14S</td>\n",
       "      <td>Nhạc Trẻ</td>\n",
       "      <td>VIỆT NAM</td>\n",
       "    </tr>\n",
       "  </tbody>\n",
       "</table>\n",
       "</div>"
      ],
      "text/plain": [
       "                                                 url  \\\n",
       "0  https://www.nhaccuatui.com/bai-hat/re-ndm-wtra...   \n",
       "1  https://www.nhaccuatui.com/bai-hat/yeu-di-chau...   \n",
       "2  https://www.nhaccuatui.com/bai-hat/diem-xui-da...   \n",
       "3  https://www.nhaccuatui.com/bai-hat/mashup-we-d...   \n",
       "4  https://www.nhaccuatui.com/bai-hat/giu-em-that...   \n",
       "\n",
       "                                                name           artist  \\\n",
       "0                                             Rê NDM            Wtran   \n",
       "1                                             Yêu Đi  Châu Khải Phong   \n",
       "2                                           Điềm Xui            Daduc   \n",
       "3  Mashup We Don't Talk Anymore, Để Em Rời Xa (Bi...         Đức Phúc   \n",
       "4                                    Giữ Em Thật Lâu             Naod   \n",
       "\n",
       "                                            composer  \\\n",
       "0  Wtran, Cà Nâu\\n                            \\n ...   \n",
       "1                                                NaN   \n",
       "2  Daduc\\n                            \\n         ...   \n",
       "3                                                NaN   \n",
       "4  Naod\\n                            \\n          ...   \n",
       "\n",
       "                                              lyrics duration     genre  \\\n",
       "0  Rê NDM – WTran ft. Cà Nâu\\n\\nWTran:\\nChú bé lo...  PT3M15S  Nhạc Trẻ   \n",
       "1  - Hiện chưa có lời bài hát nào cho Yêu Đi do c...  PT4M32S  Nhạc Trẻ   \n",
       "2  Daduc - Điềm Xui (We Broke Up Yesterday)\\n\\nth...  PT3M25S  Nhạc Trẻ   \n",
       "3                                                NaN  PT4M58S  Nhạc Trẻ   \n",
       "4  Bài hát: Giữ Em Thật Lâu - Naod\\n\\nCòn điều gì...  PT4M14S  Nhạc Trẻ   \n",
       "\n",
       "     origin  \n",
       "0  VIỆT NAM  \n",
       "1  VIỆT NAM  \n",
       "2  VIỆT NAM  \n",
       "3  VIỆT NAM  \n",
       "4  VIỆT NAM  "
      ]
     },
     "execution_count": 21,
     "metadata": {},
     "output_type": "execute_result"
    }
   ],
   "source": [
    "raw_df.head(5)"
   ]
  },
  {
   "cell_type": "markdown",
   "metadata": {},
   "source": [
    "Ta thấy rằng trường `duration` chứa thời lượng của bài hát với dạng chung là PT<phút>M<giây>S. Để dễ xử lí hơn, chúng ta sẽ chuyển trường `duration` về dạng int, đơn vị giây."
   ]
  },
  {
   "cell_type": "code",
   "execution_count": 22,
   "metadata": {},
   "outputs": [
    {
     "name": "stdout",
     "output_type": "stream",
     "text": [
      "<class 'pandas.core.frame.DataFrame'>\n",
      "RangeIndex: 20276 entries, 0 to 20275\n",
      "Data columns (total 8 columns):\n",
      " #   Column    Non-Null Count  Dtype \n",
      "---  ------    --------------  ----- \n",
      " 0   url       20276 non-null  object\n",
      " 1   name      20276 non-null  object\n",
      " 2   artist    20270 non-null  object\n",
      " 3   composer  3303 non-null   object\n",
      " 4   lyrics    19938 non-null  object\n",
      " 5   duration  20276 non-null  int64 \n",
      " 6   genre     20275 non-null  object\n",
      " 7   origin    20275 non-null  object\n",
      "dtypes: int64(1), object(7)\n",
      "memory usage: 1.2+ MB\n"
     ]
    },
    {
     "data": {
      "text/plain": [
       "None"
      ]
     },
     "metadata": {},
     "output_type": "display_data"
    }
   ],
   "source": [
    "def duration_to_seconds(duration):\n",
    "    match = re.match(r'PT(\\d+)M(\\d+)S', duration)\n",
    "    if match:\n",
    "        min = int(match.group(1))\n",
    "        sec = int(match.group(2))\n",
    "        return min * 60 + sec\n",
    "    return 0\n",
    "\n",
    "raw_df['duration'] = raw_df['duration'].apply(duration_to_seconds)\n",
    "raw_df.sample(5)\n",
    "display(raw_df.info())"
   ]
  },
  {
   "cell_type": "markdown",
   "metadata": {},
   "source": [
    "Như chúng ta đã kiểm tra ở phần trên `composer`, `lyrics` thiếu ra khá nhiều giá trị, `artist` cũng có thiếu nhưng ít hơn. Chúng ta sẽ xử lí dữ liệu bị thiếu ở phần này."
   ]
  },
  {
   "cell_type": "code",
   "execution_count": 23,
   "metadata": {},
   "outputs": [
    {
     "data": {
      "text/plain": [
       "url             0\n",
       "name            0\n",
       "artist          6\n",
       "composer    16973\n",
       "lyrics        338\n",
       "duration        0\n",
       "genre           1\n",
       "origin          1\n",
       "dtype: int64"
      ]
     },
     "execution_count": 23,
     "metadata": {},
     "output_type": "execute_result"
    }
   ],
   "source": [
    "raw_df.isna().sum()"
   ]
  },
  {
   "cell_type": "markdown",
   "metadata": {},
   "source": [
    "Đối với các trường này, nguyên nhân chính là do trang web cho phép nghệ sĩ hoặc cộng đồng cập nhật `artist`, `composer` và `lyrics` nên không phải lúc nào cũng có 2 trường này. Tuy nhiên dữ liệu bị thiếu không thể chỉ phát hiện bằng hàm `isna()` mà còn phải kiểm tra xem có dòng chữ `- Hiện chưa có lời bài hát nào` vì trường `lyrics` sẽ chứa dòng chữ này nếu không có lời bài hát. Còn đối với `composer` và `artist`, nếu không có tên nhạc sĩ thì trường `composer` và `artist`sẽ có thể có `Various Artists` hoặc `VA` hoặc `N/A`."
   ]
  },
  {
   "cell_type": "code",
   "execution_count": 24,
   "metadata": {},
   "outputs": [
    {
     "name": "stdout",
     "output_type": "stream",
     "text": [
      "Số bài hát thiếu lời: 13619\n",
      "Chiếm tỷ lệ: 67.17%\n",
      "Số bài hát không có nhạc sĩ: 16973\n",
      "Chiếm tỷ lệ: 83.71%\n",
      "Số bài hát không có nhạc sĩ: 574\n",
      "Chiếm tỷ lệ: 2.83%\n"
     ]
    }
   ],
   "source": [
    "def find_missing_lyrics_comp(col):\n",
    "    missing_lyrics_df = raw_df[raw_df['lyrics'].str.contains('- Hiện chưa có lời bài hát nào', na=False)]\n",
    "    missing_lyrics_num = missing_lyrics_df.shape[0] + raw_df['lyrics'].isna().sum()\n",
    "    print(f\"Số bài hát thiếu lời: {missing_lyrics_num}\")\n",
    "    print(f\"Chiếm tỷ lệ: {missing_lyrics_num / raw_df.shape[0] * 100:.2f}%\")\n",
    "\n",
    "    missing_composer_df = raw_df[raw_df['composer'].isin(['N/A', 'VA', 'Various Artists'])]\n",
    "    missing_composer_num = missing_composer_df.shape[0] + raw_df['composer'].isna().sum()\n",
    "    print(f\"Số bài hát không có nhạc sĩ: {missing_composer_num}\")\n",
    "    print(f\"Chiếm tỷ lệ: {missing_composer_num / raw_df.shape[0] * 100:.2f}%\")\n",
    "    \n",
    "    missing_artist_df = raw_df[raw_df['artist'].isin(['N/A', 'VA', 'Various Artists'])]\n",
    "    missing_artist_num = missing_artist_df.shape[0] + raw_df['artist'].isna().sum()\n",
    "    print(f\"Số bài hát không có nhạc sĩ: {missing_artist_num}\")\n",
    "    print(f\"Chiếm tỷ lệ: {missing_artist_num / raw_df.shape[0] * 100:.2f}%\")\n",
    "    \n",
    "find_missing_lyrics_comp(raw_df)"
   ]
  },
  {
   "cell_type": "markdown",
   "metadata": {},
   "source": [
    "Số lượng dữ liệu bị thiếu ở `composer` và `lyrics` khá nhiều, tuy thế vì mục đích của nhóm là phân tích xu hướng âm nhạc của thị trường Việt Nam nên nhóm sẽ không xóa sample bị thiếu ở `composer` và `lyrics` mà sẽ giữ nguyên dữ liệu. Tuy nhiên, các giá trị bị thiếu ở `composer` và `lyrics` sẽ được thay thế bằng `Unknown` để thống nhất dữ liệu và dễ xử lí hơn."
   ]
  },
  {
   "cell_type": "code",
   "execution_count": 25,
   "metadata": {},
   "outputs": [
    {
     "name": "stdout",
     "output_type": "stream",
     "text": [
      "Số bài hát thiếu lời: 0\n",
      "Chiếm tỷ lệ: 0.00%\n",
      "Số bài hát không có nhạc sĩ: 0\n",
      "Chiếm tỷ lệ: 0.00%\n",
      "Số bài hát không có nhạc sĩ: 574\n",
      "Chiếm tỷ lệ: 2.83%\n",
      "\n",
      "Ngoài ra, giá trị thiếu còn lại:\n"
     ]
    },
    {
     "data": {
      "text/plain": [
       "url         0\n",
       "name        0\n",
       "artist      6\n",
       "composer    0\n",
       "lyrics      0\n",
       "duration    0\n",
       "genre       1\n",
       "origin      1\n",
       "dtype: int64"
      ]
     },
     "metadata": {},
     "output_type": "display_data"
    }
   ],
   "source": [
    "raw_df['composer'] = raw_df['composer'].fillna('Unknown')\n",
    "raw_df['lyrics'] = raw_df['lyrics'].fillna('Unknown')\n",
    "raw_df.loc[raw_df['lyrics'].str.contains('- Hiện chưa có lời bài hát nào', na=False), 'lyrics'] = 'Unknown'\n",
    "find_missing_lyrics_comp(raw_df)\n",
    "print('\\nNgoài ra, giá trị thiếu còn lại:')\n",
    "display(raw_df.isna().sum())"
   ]
  },
  {
   "cell_type": "markdown",
   "metadata": {},
   "source": [
    "Đối với `artist`, chúng ta cũng làm tương tự. Tuy nhiên số lượng dữ liệu bị thiếu ít hơn nên nhóm cũng chuyển các giá trị `Various Artists`, `VA`, `N/A` thành `Unknown` và xóa các sample bị thiếu (isna)."
   ]
  },
  {
   "cell_type": "code",
   "execution_count": 26,
   "metadata": {},
   "outputs": [
    {
     "name": "stdout",
     "output_type": "stream",
     "text": [
      "Số bài hát thiếu lời: 0\n",
      "Chiếm tỷ lệ: 0.00%\n",
      "Số bài hát không có nhạc sĩ: 0\n",
      "Chiếm tỷ lệ: 0.00%\n",
      "Số bài hát không có nhạc sĩ: 0\n",
      "Chiếm tỷ lệ: 0.00%\n"
     ]
    },
    {
     "data": {
      "text/plain": [
       "url         0\n",
       "name        0\n",
       "artist      0\n",
       "composer    0\n",
       "lyrics      0\n",
       "duration    0\n",
       "genre       1\n",
       "origin      1\n",
       "dtype: int64"
      ]
     },
     "execution_count": 26,
     "metadata": {},
     "output_type": "execute_result"
    }
   ],
   "source": [
    "raw_df= raw_df.dropna(subset=['artist'])\n",
    "raw_df.loc[raw_df['artist'].str.contains('Various Artists', na=False), 'artist'] = 'Unknown'\n",
    "find_missing_lyrics_comp(raw_df)\n",
    "raw_df.isna().sum()"
   ]
  },
  {
   "cell_type": "markdown",
   "metadata": {},
   "source": [
    "Vậy là chúng ta đã xử lí xong dữ liệu bị thiếu, theo như đã tìm hiểu ở trên thì bộ dữ liệu cũng không có dữ liệu trùng nên chúng ta sẽ tiếp tục khám phá dữ liệu. Đầu tiên chúng ta sẽ xem lại dữ liệu sau khi xử lí."
   ]
  },
  {
   "cell_type": "code",
   "execution_count": 27,
   "metadata": {},
   "outputs": [
    {
     "data": {
      "text/html": [
       "<div>\n",
       "<style scoped>\n",
       "    .dataframe tbody tr th:only-of-type {\n",
       "        vertical-align: middle;\n",
       "    }\n",
       "\n",
       "    .dataframe tbody tr th {\n",
       "        vertical-align: top;\n",
       "    }\n",
       "\n",
       "    .dataframe thead th {\n",
       "        text-align: right;\n",
       "    }\n",
       "</style>\n",
       "<table border=\"1\" class=\"dataframe\">\n",
       "  <thead>\n",
       "    <tr style=\"text-align: right;\">\n",
       "      <th></th>\n",
       "      <th>url</th>\n",
       "      <th>name</th>\n",
       "      <th>artist</th>\n",
       "      <th>composer</th>\n",
       "      <th>lyrics</th>\n",
       "      <th>duration</th>\n",
       "      <th>genre</th>\n",
       "      <th>origin</th>\n",
       "    </tr>\n",
       "  </thead>\n",
       "  <tbody>\n",
       "    <tr>\n",
       "      <th>15427</th>\n",
       "      <td>https://www.nhaccuatui.com/bai-hat/sau-nay-cua...</td>\n",
       "      <td>Sau Này Của Chúng Ta / 后来的你我 (Dj Danh Long Bản)</td>\n",
       "      <td>Trương Hy Nhược (Zhang Xi Ruo)</td>\n",
       "      <td>Unknown</td>\n",
       "      <td>Unknown</td>\n",
       "      <td>293</td>\n",
       "      <td>Nhạc Hoa</td>\n",
       "      <td>CHÂU Á</td>\n",
       "    </tr>\n",
       "    <tr>\n",
       "      <th>14322</th>\n",
       "      <td>https://www.nhaccuatui.com/bai-hat/my-finale-t...</td>\n",
       "      <td>My Finale (The Fabulous Ost)</td>\n",
       "      <td>Seung Hee (Oh My Girl)</td>\n",
       "      <td>Unknown</td>\n",
       "      <td>Unknown</td>\n",
       "      <td>195</td>\n",
       "      <td>Nhạc Hàn</td>\n",
       "      <td>CHÂU Á</td>\n",
       "    </tr>\n",
       "    <tr>\n",
       "      <th>14595</th>\n",
       "      <td>https://www.nhaccuatui.com/bai-hat/back-to-the...</td>\n",
       "      <td>Back To The Beginning Cover</td>\n",
       "      <td>Momo (Twice)</td>\n",
       "      <td>Unknown</td>\n",
       "      <td>Unknown</td>\n",
       "      <td>158</td>\n",
       "      <td>Nhạc Hàn</td>\n",
       "      <td>CHÂU Á</td>\n",
       "    </tr>\n",
       "    <tr>\n",
       "      <th>1180</th>\n",
       "      <td>https://www.nhaccuatui.com/bai-hat/thuong-sao-...</td>\n",
       "      <td>Thương Sao Câu Hát Tình Quê</td>\n",
       "      <td>Hoàng Việt Trang</td>\n",
       "      <td>Unknown</td>\n",
       "      <td>Unknown</td>\n",
       "      <td>451</td>\n",
       "      <td>Trữ Tình</td>\n",
       "      <td>VIỆT NAM</td>\n",
       "    </tr>\n",
       "    <tr>\n",
       "      <th>4532</th>\n",
       "      <td>https://www.nhaccuatui.com/bai-hat/mot-coi-di-...</td>\n",
       "      <td>Một Cõi Đi Về</td>\n",
       "      <td>Thiên Phú</td>\n",
       "      <td>Unknown</td>\n",
       "      <td>Unknown</td>\n",
       "      <td>288</td>\n",
       "      <td>Nhạc Trịnh</td>\n",
       "      <td>VIỆT NAM</td>\n",
       "    </tr>\n",
       "  </tbody>\n",
       "</table>\n",
       "</div>"
      ],
      "text/plain": [
       "                                                     url  \\\n",
       "15427  https://www.nhaccuatui.com/bai-hat/sau-nay-cua...   \n",
       "14322  https://www.nhaccuatui.com/bai-hat/my-finale-t...   \n",
       "14595  https://www.nhaccuatui.com/bai-hat/back-to-the...   \n",
       "1180   https://www.nhaccuatui.com/bai-hat/thuong-sao-...   \n",
       "4532   https://www.nhaccuatui.com/bai-hat/mot-coi-di-...   \n",
       "\n",
       "                                                  name  \\\n",
       "15427  Sau Này Của Chúng Ta / 后来的你我 (Dj Danh Long Bản)   \n",
       "14322                     My Finale (The Fabulous Ost)   \n",
       "14595                      Back To The Beginning Cover   \n",
       "1180                       Thương Sao Câu Hát Tình Quê   \n",
       "4532                                     Một Cõi Đi Về   \n",
       "\n",
       "                               artist composer   lyrics  duration       genre  \\\n",
       "15427  Trương Hy Nhược (Zhang Xi Ruo)  Unknown  Unknown       293    Nhạc Hoa   \n",
       "14322          Seung Hee (Oh My Girl)  Unknown  Unknown       195    Nhạc Hàn   \n",
       "14595                    Momo (Twice)  Unknown  Unknown       158    Nhạc Hàn   \n",
       "1180                 Hoàng Việt Trang  Unknown  Unknown       451    Trữ Tình   \n",
       "4532                        Thiên Phú  Unknown  Unknown       288  Nhạc Trịnh   \n",
       "\n",
       "         origin  \n",
       "15427    CHÂU Á  \n",
       "14322    CHÂU Á  \n",
       "14595    CHÂU Á  \n",
       "1180   VIỆT NAM  \n",
       "4532   VIỆT NAM  "
      ]
     },
     "execution_count": 27,
     "metadata": {},
     "output_type": "execute_result"
    }
   ],
   "source": [
    "raw_df.sample(5)"
   ]
  },
  {
   "cell_type": "markdown",
   "metadata": {},
   "source": [
    "Có thể thấy ở `lyrics` và `composer`, có những kí tự đặc biệt như `\\n`, `\\r`, `\\t`, `...` nên chúng ta sẽ xử lí dữ liệu ở trường `lyrics` và `composer` để loại bỏ các kí tự đặc biệt này."
   ]
  },
  {
   "cell_type": "code",
   "execution_count": 28,
   "metadata": {},
   "outputs": [
    {
     "data": {
      "text/html": [
       "<div>\n",
       "<style scoped>\n",
       "    .dataframe tbody tr th:only-of-type {\n",
       "        vertical-align: middle;\n",
       "    }\n",
       "\n",
       "    .dataframe tbody tr th {\n",
       "        vertical-align: top;\n",
       "    }\n",
       "\n",
       "    .dataframe thead th {\n",
       "        text-align: right;\n",
       "    }\n",
       "</style>\n",
       "<table border=\"1\" class=\"dataframe\">\n",
       "  <thead>\n",
       "    <tr style=\"text-align: right;\">\n",
       "      <th></th>\n",
       "      <th>url</th>\n",
       "      <th>name</th>\n",
       "      <th>artist</th>\n",
       "      <th>composer</th>\n",
       "      <th>lyrics</th>\n",
       "      <th>duration</th>\n",
       "      <th>genre</th>\n",
       "      <th>origin</th>\n",
       "    </tr>\n",
       "  </thead>\n",
       "  <tbody>\n",
       "    <tr>\n",
       "      <th>0</th>\n",
       "      <td>https://www.nhaccuatui.com/bai-hat/re-ndm-wtra...</td>\n",
       "      <td>Rê NDM</td>\n",
       "      <td>Wtran</td>\n",
       "      <td>Wtran, Cà Nâu                                 ...</td>\n",
       "      <td>Rê NDM – WTran ft. Cà Nâu  WTran: Chú bé loắt ...</td>\n",
       "      <td>195</td>\n",
       "      <td>Nhạc Trẻ</td>\n",
       "      <td>VIỆT NAM</td>\n",
       "    </tr>\n",
       "    <tr>\n",
       "      <th>1</th>\n",
       "      <td>https://www.nhaccuatui.com/bai-hat/yeu-di-chau...</td>\n",
       "      <td>Yêu Đi</td>\n",
       "      <td>Châu Khải Phong</td>\n",
       "      <td>Unknown</td>\n",
       "      <td>Unknown</td>\n",
       "      <td>272</td>\n",
       "      <td>Nhạc Trẻ</td>\n",
       "      <td>VIỆT NAM</td>\n",
       "    </tr>\n",
       "    <tr>\n",
       "      <th>2</th>\n",
       "      <td>https://www.nhaccuatui.com/bai-hat/diem-xui-da...</td>\n",
       "      <td>Điềm Xui</td>\n",
       "      <td>Daduc</td>\n",
       "      <td>Daduc                                         ...</td>\n",
       "      <td>Daduc - Điềm Xui (We Broke Up Yesterday)  thôi...</td>\n",
       "      <td>205</td>\n",
       "      <td>Nhạc Trẻ</td>\n",
       "      <td>VIỆT NAM</td>\n",
       "    </tr>\n",
       "    <tr>\n",
       "      <th>3</th>\n",
       "      <td>https://www.nhaccuatui.com/bai-hat/mashup-we-d...</td>\n",
       "      <td>Mashup We Don't Talk Anymore, Để Em Rời Xa (Bi...</td>\n",
       "      <td>Đức Phúc</td>\n",
       "      <td>Unknown</td>\n",
       "      <td>Unknown</td>\n",
       "      <td>298</td>\n",
       "      <td>Nhạc Trẻ</td>\n",
       "      <td>VIỆT NAM</td>\n",
       "    </tr>\n",
       "    <tr>\n",
       "      <th>4</th>\n",
       "      <td>https://www.nhaccuatui.com/bai-hat/giu-em-that...</td>\n",
       "      <td>Giữ Em Thật Lâu</td>\n",
       "      <td>Naod</td>\n",
       "      <td>Naod                                          ...</td>\n",
       "      <td>Bài hát: Giữ Em Thật Lâu - Naod  Còn điều gì e...</td>\n",
       "      <td>254</td>\n",
       "      <td>Nhạc Trẻ</td>\n",
       "      <td>VIỆT NAM</td>\n",
       "    </tr>\n",
       "  </tbody>\n",
       "</table>\n",
       "</div>"
      ],
      "text/plain": [
       "                                                 url  \\\n",
       "0  https://www.nhaccuatui.com/bai-hat/re-ndm-wtra...   \n",
       "1  https://www.nhaccuatui.com/bai-hat/yeu-di-chau...   \n",
       "2  https://www.nhaccuatui.com/bai-hat/diem-xui-da...   \n",
       "3  https://www.nhaccuatui.com/bai-hat/mashup-we-d...   \n",
       "4  https://www.nhaccuatui.com/bai-hat/giu-em-that...   \n",
       "\n",
       "                                                name           artist  \\\n",
       "0                                             Rê NDM            Wtran   \n",
       "1                                             Yêu Đi  Châu Khải Phong   \n",
       "2                                           Điềm Xui            Daduc   \n",
       "3  Mashup We Don't Talk Anymore, Để Em Rời Xa (Bi...         Đức Phúc   \n",
       "4                                    Giữ Em Thật Lâu             Naod   \n",
       "\n",
       "                                            composer  \\\n",
       "0  Wtran, Cà Nâu                                 ...   \n",
       "1                                            Unknown   \n",
       "2  Daduc                                         ...   \n",
       "3                                            Unknown   \n",
       "4  Naod                                          ...   \n",
       "\n",
       "                                              lyrics  duration     genre  \\\n",
       "0  Rê NDM – WTran ft. Cà Nâu  WTran: Chú bé loắt ...       195  Nhạc Trẻ   \n",
       "1                                            Unknown       272  Nhạc Trẻ   \n",
       "2  Daduc - Điềm Xui (We Broke Up Yesterday)  thôi...       205  Nhạc Trẻ   \n",
       "3                                            Unknown       298  Nhạc Trẻ   \n",
       "4  Bài hát: Giữ Em Thật Lâu - Naod  Còn điều gì e...       254  Nhạc Trẻ   \n",
       "\n",
       "     origin  \n",
       "0  VIỆT NAM  \n",
       "1  VIỆT NAM  \n",
       "2  VIỆT NAM  \n",
       "3  VIỆT NAM  \n",
       "4  VIỆT NAM  "
      ]
     },
     "execution_count": 28,
     "metadata": {},
     "output_type": "execute_result"
    }
   ],
   "source": [
    "raw_df['lyrics'] = raw_df['lyrics'].str.replace(r'[\\n\\r\\t]', ' ', regex=True)\n",
    "raw_df['lyrics'] = raw_df['lyrics'].str.replace(r'\\.\\.\\.', '', regex=True)\n",
    "\n",
    "raw_df['composer'] = raw_df['composer'].str.replace(r'[\\n\\r\\t]', ' ', regex=True)\n",
    "raw_df['composer'] = raw_df['composer'].str.replace(r'\\.\\.\\.', '', regex=True)\n",
    "\n",
    "raw_df.head(5)"
   ]
  },
  {
   "cell_type": "markdown",
   "metadata": {},
   "source": [
    "Có một số kí tự trong `lyrics` và `composer` không phải là kí tự có thể encode `utf-8` (lí do khi lưu file ban đầu đã phải sử dụng `errors='surrogatepass'`) nên chúng ta sẽ xóa các kí tự này."
   ]
  },
  {
   "cell_type": "code",
   "execution_count": 29,
   "metadata": {},
   "outputs": [
    {
     "data": {
      "text/html": [
       "<div>\n",
       "<style scoped>\n",
       "    .dataframe tbody tr th:only-of-type {\n",
       "        vertical-align: middle;\n",
       "    }\n",
       "\n",
       "    .dataframe tbody tr th {\n",
       "        vertical-align: top;\n",
       "    }\n",
       "\n",
       "    .dataframe thead th {\n",
       "        text-align: right;\n",
       "    }\n",
       "</style>\n",
       "<table border=\"1\" class=\"dataframe\">\n",
       "  <thead>\n",
       "    <tr style=\"text-align: right;\">\n",
       "      <th></th>\n",
       "      <th>url</th>\n",
       "      <th>name</th>\n",
       "      <th>artist</th>\n",
       "      <th>composer</th>\n",
       "      <th>lyrics</th>\n",
       "      <th>duration</th>\n",
       "      <th>genre</th>\n",
       "      <th>origin</th>\n",
       "    </tr>\n",
       "  </thead>\n",
       "  <tbody>\n",
       "    <tr>\n",
       "      <th>4944</th>\n",
       "      <td>https://www.nhaccuatui.com/bai-hat/con-thay-ma...</td>\n",
       "      <td>Còn Thấy Mặt Người</td>\n",
       "      <td>Yoshi Imamura</td>\n",
       "      <td>Unknown</td>\n",
       "      <td>Unknown</td>\n",
       "      <td>306</td>\n",
       "      <td>Nhạc Trịnh</td>\n",
       "      <td>VIỆT NAM</td>\n",
       "    </tr>\n",
       "    <tr>\n",
       "      <th>921</th>\n",
       "      <td>https://www.nhaccuatui.com/bai-hat/lien-khuc-c...</td>\n",
       "      <td>Liên Khúc Cát Bụi</td>\n",
       "      <td>Diễm Ngân</td>\n",
       "      <td>Unknown</td>\n",
       "      <td>Unknown</td>\n",
       "      <td>403</td>\n",
       "      <td>Trữ Tình</td>\n",
       "      <td>VIỆT NAM</td>\n",
       "    </tr>\n",
       "    <tr>\n",
       "      <th>16629</th>\n",
       "      <td>https://www.nhaccuatui.com/bai-hat/girls-openi...</td>\n",
       "      <td>Girls (Opening Version)</td>\n",
       "      <td>Kana Nishino</td>\n",
       "      <td>Unknown</td>\n",
       "      <td>Unknown</td>\n",
       "      <td>90</td>\n",
       "      <td>Nhạc Nhật</td>\n",
       "      <td>CHÂU Á</td>\n",
       "    </tr>\n",
       "    <tr>\n",
       "      <th>764</th>\n",
       "      <td>https://www.nhaccuatui.com/bai-hat/ve-di-ut-oi...</td>\n",
       "      <td>Về Đi Út Ơi</td>\n",
       "      <td>Hương Lan</td>\n",
       "      <td>Unknown</td>\n",
       "      <td>Unknown</td>\n",
       "      <td>368</td>\n",
       "      <td>Trữ Tình</td>\n",
       "      <td>VIỆT NAM</td>\n",
       "    </tr>\n",
       "    <tr>\n",
       "      <th>255</th>\n",
       "      <td>https://www.nhaccuatui.com/bai-hat/quen-cach-y...</td>\n",
       "      <td>Quên Cách Yêu</td>\n",
       "      <td>Oanh Tạ</td>\n",
       "      <td>Unknown</td>\n",
       "      <td>Từ bao lâu không thể nhớ Em đã không nói yêu t...</td>\n",
       "      <td>256</td>\n",
       "      <td>Nhạc Trẻ</td>\n",
       "      <td>VIỆT NAM</td>\n",
       "    </tr>\n",
       "  </tbody>\n",
       "</table>\n",
       "</div>"
      ],
      "text/plain": [
       "                                                     url  \\\n",
       "4944   https://www.nhaccuatui.com/bai-hat/con-thay-ma...   \n",
       "921    https://www.nhaccuatui.com/bai-hat/lien-khuc-c...   \n",
       "16629  https://www.nhaccuatui.com/bai-hat/girls-openi...   \n",
       "764    https://www.nhaccuatui.com/bai-hat/ve-di-ut-oi...   \n",
       "255    https://www.nhaccuatui.com/bai-hat/quen-cach-y...   \n",
       "\n",
       "                          name         artist composer  \\\n",
       "4944        Còn Thấy Mặt Người  Yoshi Imamura  Unknown   \n",
       "921          Liên Khúc Cát Bụi      Diễm Ngân  Unknown   \n",
       "16629  Girls (Opening Version)   Kana Nishino  Unknown   \n",
       "764                Về Đi Út Ơi      Hương Lan  Unknown   \n",
       "255              Quên Cách Yêu        Oanh Tạ  Unknown   \n",
       "\n",
       "                                                  lyrics  duration  \\\n",
       "4944                                             Unknown       306   \n",
       "921                                              Unknown       403   \n",
       "16629                                            Unknown        90   \n",
       "764                                              Unknown       368   \n",
       "255    Từ bao lâu không thể nhớ Em đã không nói yêu t...       256   \n",
       "\n",
       "            genre    origin  \n",
       "4944   Nhạc Trịnh  VIỆT NAM  \n",
       "921      Trữ Tình  VIỆT NAM  \n",
       "16629   Nhạc Nhật    CHÂU Á  \n",
       "764      Trữ Tình  VIỆT NAM  \n",
       "255      Nhạc Trẻ  VIỆT NAM  "
      ]
     },
     "execution_count": 29,
     "metadata": {},
     "output_type": "execute_result"
    }
   ],
   "source": [
    "def remove_non_utf8(text):\n",
    "    return text.encode('utf-8', 'ignore').decode('utf-8')\n",
    "\n",
    "raw_df['lyrics'] = raw_df['lyrics'].apply(remove_non_utf8)\n",
    "raw_df['composer'] = raw_df['composer'].apply(remove_non_utf8)\n",
    "\n",
    "raw_df.sample(5)"
   ]
  },
  {
   "cell_type": "markdown",
   "metadata": {},
   "source": [
    "<a id=\"eda21\"></a>\n",
    "### **Thống kê mô tả**\n",
    "\n",
    "Tiếp theo, chúng ta sẽ phân tích sâu hơn về tập dữ liệu để khám phá mẫu, phân phối và mối quan hệ giữa các biến.\n",
    "\n",
    "Đầu tiên, chúng ta sẽ xem xét các thống kê mô tả cho các cột để có các giá trị: trung bình (mean), trung vị (median), giá trị nhỏ nhất (min), giá trị lớn nhất (max), tứ phân vị (quartile) của các cột dạng số. Chúng ta không cần lo lắng về giá trị bị thiếu ở các trường này vì đã xử lí ở phần trên."
   ]
  },
  {
   "cell_type": "code",
   "execution_count": 30,
   "metadata": {},
   "outputs": [
    {
     "data": {
      "text/html": [
       "<div>\n",
       "<style scoped>\n",
       "    .dataframe tbody tr th:only-of-type {\n",
       "        vertical-align: middle;\n",
       "    }\n",
       "\n",
       "    .dataframe tbody tr th {\n",
       "        vertical-align: top;\n",
       "    }\n",
       "\n",
       "    .dataframe thead th {\n",
       "        text-align: right;\n",
       "    }\n",
       "</style>\n",
       "<table border=\"1\" class=\"dataframe\">\n",
       "  <thead>\n",
       "    <tr style=\"text-align: right;\">\n",
       "      <th></th>\n",
       "      <th>duration</th>\n",
       "    </tr>\n",
       "  </thead>\n",
       "  <tbody>\n",
       "    <tr>\n",
       "      <th>count</th>\n",
       "      <td>20270.000000</td>\n",
       "    </tr>\n",
       "    <tr>\n",
       "      <th>mean</th>\n",
       "      <td>233.384312</td>\n",
       "    </tr>\n",
       "    <tr>\n",
       "      <th>std</th>\n",
       "      <td>119.957557</td>\n",
       "    </tr>\n",
       "    <tr>\n",
       "      <th>min</th>\n",
       "      <td>0.000000</td>\n",
       "    </tr>\n",
       "    <tr>\n",
       "      <th>25%</th>\n",
       "      <td>183.000000</td>\n",
       "    </tr>\n",
       "    <tr>\n",
       "      <th>50%</th>\n",
       "      <td>223.000000</td>\n",
       "    </tr>\n",
       "    <tr>\n",
       "      <th>75%</th>\n",
       "      <td>272.750000</td>\n",
       "    </tr>\n",
       "    <tr>\n",
       "      <th>max</th>\n",
       "      <td>3344.000000</td>\n",
       "    </tr>\n",
       "  </tbody>\n",
       "</table>\n",
       "</div>"
      ],
      "text/plain": [
       "           duration\n",
       "count  20270.000000\n",
       "mean     233.384312\n",
       "std      119.957557\n",
       "min        0.000000\n",
       "25%      183.000000\n",
       "50%      223.000000\n",
       "75%      272.750000\n",
       "max     3344.000000"
      ]
     },
     "execution_count": 30,
     "metadata": {},
     "output_type": "execute_result"
    }
   ],
   "source": [
    "raw_df.describe()"
   ]
  },
  {
   "cell_type": "markdown",
   "metadata": {},
   "source": [
    "<a id=\"eda22\"></a>\n",
    "### **Phân bố của dữ liệu dạng số**"
   ]
  },
  {
   "cell_type": "code",
   "execution_count": 31,
   "metadata": {},
   "outputs": [
    {
     "data": {
      "image/png": "[encoded data removed]",
      "text/plain": [
       "<Figure size 640x480 with 1 Axes>"
      ]
     },
     "metadata": {},
     "output_type": "display_data"
    },
    {
     "name": "stdout",
     "output_type": "stream",
     "text": [
      "Giá trị ngoại lai của duration:\n",
      "                                name  duration\n",
      "221               Nhớ Thương Làm Chi        26\n",
      "423                     Lk Chào Xuân       461\n",
      "424                          Lk Xuân      1059\n",
      "434    Liên Khúc: Chuyện Tình Bolero      1216\n",
      "436                Vui Tết Miệt Vườn       548\n",
      "...                              ...       ...\n",
      "20212                   Day To Night         7\n",
      "20213                     Kill Klesk         6\n",
      "20214                     Angry Save         6\n",
      "20222                        Pop Mix      1271\n",
      "20224                      Italo Mix      1941\n",
      "\n",
      "[637 rows x 2 columns]\n"
     ]
    }
   ],
   "source": [
    "sns.boxplot(x=raw_df['duration'])\n",
    "plt.title('Boxplot của duration')\n",
    "plt.show()\n",
    "\n",
    "# Calculate IQR for `duration` \n",
    "Q1 = raw_df['duration'].quantile(0.25)\n",
    "Q3 = raw_df['duration'].quantile(0.75)\n",
    "IQR = Q3 - Q1\n",
    "\n",
    "lower_bound = Q1 - 1.5 * IQR\n",
    "upper_bound = Q3 + 1.5 * IQR\n",
    "\n",
    "outliers_duration = raw_df[(raw_df['duration'] < lower_bound) | (raw_df['duration'] > upper_bound)]\n",
    "if not outliers_duration.empty:\n",
    "    print(\"Giá trị ngoại lai của duration:\")\n",
    "    print(outliers_duration[['name', 'duration']])\n",
    "else:\n",
    "    print(\"Không có giá trị ngoại lai nào tìm được\")"
   ]
  },
  {
   "cell_type": "markdown",
   "metadata": {},
   "source": [
    "Chúng ta có thể thấy dữ liệu có một trường dữ liệu dạng số hiện tại là `duration`. Với các giá trị ngoại lai như trên ta có thể thấy được các giá trị ngoại lai này có thể ảnh hưởng đến phân bố. Tuy nhiên là chúng ta sẽ không xử lí các giá trị ngoại lai (loại bỏ nó hay scale lại) này ở đây mà sẽ phân tích kĩ hơn ở phần sau."
   ]
  },
  {
   "cell_type": "markdown",
   "metadata": {},
   "source": [
    "<a id=\"eda23\"></a>\n",
    "### **Phân bố của dữ liệu dạng phân loại**"
   ]
  },
  {
   "cell_type": "markdown",
   "metadata": {},
   "source": [
    "Chúng ta đã kiểm tra dữ liệu thiếu ở phần trước nên phần này không phải bận tâm về nó nữa (missing_ratio = 0%). Đầu tiên chúng ta sẽ tính các giá trị như sau:\n",
    "- Số lượng giá trị khác nhau trong mỗi trường, không tính giá trị thiếu: `num_values`\n",
    "- Tỉ lệ các giá trị khác nhau trong mỗi trường, không tính giá trị thiếu: `value_ratios`"
   ]
  },
  {
   "cell_type": "code",
   "execution_count": 32,
   "metadata": {},
   "outputs": [
    {
     "data": {
      "text/html": [
       "<div>\n",
       "<style scoped>\n",
       "    .dataframe tbody tr th:only-of-type {\n",
       "        vertical-align: middle;\n",
       "    }\n",
       "\n",
       "    .dataframe tbody tr th {\n",
       "        vertical-align: top;\n",
       "    }\n",
       "\n",
       "    .dataframe thead th {\n",
       "        text-align: right;\n",
       "    }\n",
       "</style>\n",
       "<table border=\"1\" class=\"dataframe\">\n",
       "  <thead>\n",
       "    <tr style=\"text-align: right;\">\n",
       "      <th></th>\n",
       "      <th>num_values</th>\n",
       "      <th>value_ratio</th>\n",
       "    </tr>\n",
       "  </thead>\n",
       "  <tbody>\n",
       "    <tr>\n",
       "      <th>url</th>\n",
       "      <td>20270</td>\n",
       "      <td>{'https://www.nhaccuatui.com/bai-hat/re-ndm-wt...</td>\n",
       "    </tr>\n",
       "    <tr>\n",
       "      <th>name</th>\n",
       "      <td>18441</td>\n",
       "      <td>{'Diễm Xưa': 0.2, 'Biển Nhớ': 0.2, 'Còn Tuổi N...</td>\n",
       "    </tr>\n",
       "    <tr>\n",
       "      <th>artist</th>\n",
       "      <td>6738</td>\n",
       "      <td>{'Unknown': 2.8, 'Jimmie Rodgers': 0.7, 'Marco...</td>\n",
       "    </tr>\n",
       "    <tr>\n",
       "      <th>composer</th>\n",
       "      <td>1623</td>\n",
       "      <td>{'Unknown': 83.7, 'Trịnh Công Sơn             ...</td>\n",
       "    </tr>\n",
       "    <tr>\n",
       "      <th>lyrics</th>\n",
       "      <td>6443</td>\n",
       "      <td>{'Unknown': 67.2, 'Nụ cười son mắt biếc rạng n...</td>\n",
       "    </tr>\n",
       "    <tr>\n",
       "      <th>genre</th>\n",
       "      <td>24</td>\n",
       "      <td>{'Rap Việt': 5.0, 'Remix Việt': 5.0, 'Nhạc Hàn...</td>\n",
       "    </tr>\n",
       "    <tr>\n",
       "      <th>origin</th>\n",
       "      <td>4</td>\n",
       "      <td>{'VIỆT NAM': 36.7, 'ÂU MỸ': 32.0, 'CHÂU Á': 19...</td>\n",
       "    </tr>\n",
       "  </tbody>\n",
       "</table>\n",
       "</div>"
      ],
      "text/plain": [
       "         num_values                                        value_ratio\n",
       "url           20270  {'https://www.nhaccuatui.com/bai-hat/re-ndm-wt...\n",
       "name          18441  {'Diễm Xưa': 0.2, 'Biển Nhớ': 0.2, 'Còn Tuổi N...\n",
       "artist         6738  {'Unknown': 2.8, 'Jimmie Rodgers': 0.7, 'Marco...\n",
       "composer       1623  {'Unknown': 83.7, 'Trịnh Công Sơn             ...\n",
       "lyrics         6443  {'Unknown': 67.2, 'Nụ cười son mắt biếc rạng n...\n",
       "genre            24  {'Rap Việt': 5.0, 'Remix Việt': 5.0, 'Nhạc Hàn...\n",
       "origin            4  {'VIỆT NAM': 36.7, 'ÂU MỸ': 32.0, 'CHÂU Á': 19..."
      ]
     },
     "execution_count": 32,
     "metadata": {},
     "output_type": "execute_result"
    }
   ],
   "source": [
    "# Tìm các trường thuộc kiểu phân loại\n",
    "categorical_cols = raw_df.select_dtypes(include=['object']).columns.tolist()\n",
    "\n",
    "cat_col_info = {}\n",
    "\n",
    "# Tính toán\n",
    "for col in categorical_cols:    \n",
    "    num_values = raw_df[col].nunique(dropna = True)\n",
    "    \n",
    "    # Tính số các giá trị và tỉ lệ giá trị\n",
    "    value_ratio = (np.round(raw_df[col].value_counts(normalize=True, ascending=False) * 100, 1)).to_dict()\n",
    "    \n",
    "    cat_col_info[col] = {\n",
    "        \"num_values\": num_values,\n",
    "        \"value_ratio\": value_ratio\n",
    "    }\n",
    "    \n",
    "cat_col_info_df = pd.DataFrame(cat_col_info)\n",
    "cat_col_info_df.T"
   ]
  },
  {
   "cell_type": "markdown",
   "metadata": {},
   "source": [
    "Có vẻ như một bất thường trong dữ liệu. Từ dataframe trên, chúng ta có thể có được một số thông tin về bộ dữ liệu như sau:\n",
    "- Bất thường là có 20226 url khác nhau nhưng chỉ có 18392 tên bài hát.\n",
    "- Có 6719 nghệ sĩ khác nhau còn lại là các nghệ sĩ không biết tên tính là `Unknown`, chiếm 2.8%, khá nhỏ.\n",
    "- Có 1606 nhạc sĩ khác nhau. Trong đó đại đa số đều không có thông tin về nhạc sĩ chiếm 83.7%.\n",
    "- Về lời bài hát `lyrics`, chỉ có 6393 bài hát có lời bài hát, còn lại là không có lời bài hát (chiếm 67.3%).\n",
    "- Có 24 thể loại khác nhau.\n",
    "- Có 4 xuất xứ âm nhạc khác nhau, dẫn đầu là Việt Nam trong bộ dữ liệu này."
   ]
  },
  {
   "cell_type": "markdown",
   "metadata": {},
   "source": [
    "**Kiểm tra bất thường:**\n",
    "\n",
    "Ta có thể đoán rằng có lẽ là do có các bài hát trùng tên với nhau dẫn đến việc có số các tên bài khác nhau khác với số các url. Để kiểm tra giả thuyết này, chúng ta sẽ kiểm tra xem có bài hát nào trùng tên với nhau không."
   ]
  },
  {
   "cell_type": "code",
   "execution_count": 33,
   "metadata": {},
   "outputs": [
    {
     "name": "stdout",
     "output_type": "stream",
     "text": [
      "Tổng số các bài hát trùng tên: 2803\n",
      "Bài hát trùng tên và số lần trùng:\n",
      "                                    name  count\n",
      "34                       'Round Midnight      3\n",
      "69                             1, 2 Many      2\n",
      "366                            Afterlife      2\n",
      "376                            Agehachou      2\n",
      "400    Ai Rồi Cũng Sẽ Khác (Haozi Remix)      2\n",
      "...                                  ...    ...\n",
      "18208      Đời Gọi Em Biết Bao Nhiêu Lần      2\n",
      "18293                   Đừng Để Nhau Rơi      2\n",
      "18327                             Ướt Mi      9\n",
      "18376                  Ở Hai Đầu Nỗi Nhớ      2\n",
      "18382                              Ở Trọ     10\n",
      "\n",
      "[974 rows x 2 columns]\n"
     ]
    }
   ],
   "source": [
    "duplicate_names = raw_df[raw_df.duplicated('name', keep=False)]\n",
    "print(\"Tổng số các bài hát trùng tên:\", len(duplicate_names))\n",
    "\n",
    "duplicate_num = raw_df.groupby('name').size().reset_index(name='count')\n",
    "duplicate_num = duplicate_num[duplicate_num['count'] > 1]\n",
    "\n",
    "print(\"Bài hát trùng tên và số lần trùng:\")\n",
    "print(duplicate_num)"
   ]
  },
  {
   "cell_type": "markdown",
   "metadata": {},
   "source": [
    "Kiểm tra lại số liệu xem có khớp không"
   ]
  },
  {
   "cell_type": "code",
   "execution_count": 34,
   "metadata": {},
   "outputs": [
    {
     "name": "stdout",
     "output_type": "stream",
     "text": [
      "20221\n"
     ]
    }
   ],
   "source": [
    "print(len(duplicate_names) + 18392 - len(duplicate_num)) #18392 là số bài hát khác nhau"
   ]
  },
  {
   "cell_type": "markdown",
   "metadata": {},
   "source": [
    "Vậy lí do là do có nhiều bài hát trùng tên. Nên không có gì bất thường ở đây."
   ]
  },
  {
   "cell_type": "markdown",
   "metadata": {},
   "source": [
    "Vậy là đã khám phá và tiền xử lí dữ liệu xong. Bộ dữ liệu mới sẽ được lưu vào file csv để sử dụng ở phần tiếp theo."
   ]
  },
  {
   "cell_type": "code",
   "execution_count": 35,
   "metadata": {},
   "outputs": [
    {
     "data": {
      "text/html": [
       "<div>\n",
       "<style scoped>\n",
       "    .dataframe tbody tr th:only-of-type {\n",
       "        vertical-align: middle;\n",
       "    }\n",
       "\n",
       "    .dataframe tbody tr th {\n",
       "        vertical-align: top;\n",
       "    }\n",
       "\n",
       "    .dataframe thead th {\n",
       "        text-align: right;\n",
       "    }\n",
       "</style>\n",
       "<table border=\"1\" class=\"dataframe\">\n",
       "  <thead>\n",
       "    <tr style=\"text-align: right;\">\n",
       "      <th></th>\n",
       "      <th>url</th>\n",
       "      <th>name</th>\n",
       "      <th>artist</th>\n",
       "      <th>composer</th>\n",
       "      <th>lyrics</th>\n",
       "      <th>duration</th>\n",
       "      <th>genre</th>\n",
       "      <th>origin</th>\n",
       "    </tr>\n",
       "  </thead>\n",
       "  <tbody>\n",
       "    <tr>\n",
       "      <th>13578</th>\n",
       "      <td>https://www.nhaccuatui.com/bai-hat/easy-strand...</td>\n",
       "      <td>Easy Strand</td>\n",
       "      <td>Swimming Tapes</td>\n",
       "      <td>Unknown</td>\n",
       "      <td>Unknown</td>\n",
       "      <td>165</td>\n",
       "      <td>Indie</td>\n",
       "      <td>ÂU MỸ</td>\n",
       "    </tr>\n",
       "    <tr>\n",
       "      <th>14112</th>\n",
       "      <td>https://www.nhaccuatui.com/bai-hat/sad-snowman...</td>\n",
       "      <td>Sad Snowman</td>\n",
       "      <td>Ja Jung</td>\n",
       "      <td>Unknown</td>\n",
       "      <td>Unknown</td>\n",
       "      <td>228</td>\n",
       "      <td>Nhạc Hàn</td>\n",
       "      <td>CHÂU Á</td>\n",
       "    </tr>\n",
       "    <tr>\n",
       "      <th>2070</th>\n",
       "      <td>https://www.nhaccuatui.com/bai-hat/thuyen-bo-b...</td>\n",
       "      <td>Thuyền Bỏ Bến Xưa [remix]</td>\n",
       "      <td>Huỳnh Nhật Huy</td>\n",
       "      <td>Unknown</td>\n",
       "      <td>Ngy em p, con i m ng i Ngy em d yu d b v sm su...</td>\n",
       "      <td>275</td>\n",
       "      <td>Remix Việt</td>\n",
       "      <td>VIỆT NAM</td>\n",
       "    </tr>\n",
       "    <tr>\n",
       "      <th>17688</th>\n",
       "      <td>https://www.nhaccuatui.com/bai-hat/pa-wa-na-me...</td>\n",
       "      <td>Pa Wa Na / ภาวนา</td>\n",
       "      <td>MEYOU</td>\n",
       "      <td>Unknown</td>\n",
       "      <td></td>\n",
       "      <td>185</td>\n",
       "      <td>Nhạc Thái</td>\n",
       "      <td>CHÂU Á</td>\n",
       "    </tr>\n",
       "    <tr>\n",
       "      <th>743</th>\n",
       "      <td>https://www.nhaccuatui.com/bai-hat/me-oi-hay-y...</td>\n",
       "      <td>Mẹ Ơi Hãy Yêu Con Lần Nữa</td>\n",
       "      <td>Tôn Thất Sơn</td>\n",
       "      <td>Ngọc Thịnh                                    ...</td>\n",
       "      <td>* Mẹ ơi con đây, hôm nay con đã biết sai Khi x...</td>\n",
       "      <td>242</td>\n",
       "      <td>Trữ Tình</td>\n",
       "      <td>VIỆT NAM</td>\n",
       "    </tr>\n",
       "  </tbody>\n",
       "</table>\n",
       "</div>"
      ],
      "text/plain": [
       "                                                     url  \\\n",
       "13578  https://www.nhaccuatui.com/bai-hat/easy-strand...   \n",
       "14112  https://www.nhaccuatui.com/bai-hat/sad-snowman...   \n",
       "2070   https://www.nhaccuatui.com/bai-hat/thuyen-bo-b...   \n",
       "17688  https://www.nhaccuatui.com/bai-hat/pa-wa-na-me...   \n",
       "743    https://www.nhaccuatui.com/bai-hat/me-oi-hay-y...   \n",
       "\n",
       "                            name          artist  \\\n",
       "13578                Easy Strand  Swimming Tapes   \n",
       "14112                Sad Snowman         Ja Jung   \n",
       "2070   Thuyền Bỏ Bến Xưa [remix]  Huỳnh Nhật Huy   \n",
       "17688           Pa Wa Na / ภาวนา           MEYOU   \n",
       "743    Mẹ Ơi Hãy Yêu Con Lần Nữa    Tôn Thất Sơn   \n",
       "\n",
       "                                                composer  \\\n",
       "13578                                            Unknown   \n",
       "14112                                            Unknown   \n",
       "2070                                             Unknown   \n",
       "17688                                            Unknown   \n",
       "743    Ngọc Thịnh                                    ...   \n",
       "\n",
       "                                                  lyrics  duration  \\\n",
       "13578                                            Unknown       165   \n",
       "14112                                            Unknown       228   \n",
       "2070   Ngy em p, con i m ng i Ngy em d yu d b v sm su...       275   \n",
       "17688                                                          185   \n",
       "743    * Mẹ ơi con đây, hôm nay con đã biết sai Khi x...       242   \n",
       "\n",
       "            genre    origin  \n",
       "13578       Indie     ÂU MỸ  \n",
       "14112    Nhạc Hàn    CHÂU Á  \n",
       "2070   Remix Việt  VIỆT NAM  \n",
       "17688   Nhạc Thái    CHÂU Á  \n",
       "743      Trữ Tình  VIỆT NAM  "
      ]
     },
     "execution_count": 35,
     "metadata": {},
     "output_type": "execute_result"
    }
   ],
   "source": [
    "raw_df.to_csv('../data/cleaned_data.csv', index=False, encoding='utf-8')\n",
    "raw_df.sample(5)"
   ]
  },
  {
   "cell_type": "markdown",
   "metadata": {},
   "source": [
    "<div id='eda3'></div>\n",
    "\n",
    "## **3. EDA và Tiền xử lí dữ liệu (`top_50_df`)**"
   ]
  },
  {
   "cell_type": "markdown",
   "metadata": {},
   "source": [
    "Đây là bảng xếp hạng top 50 bài hát thịnh hành hiện nay nên chúng ta sẽ kiểm tra xem dữ liệu có bất thường không. Đầu tiên, chúng ta sẽ kiểm tra phân bố của các thứ hạng trong tập dữ liệu `rank` có hợp lệ không, nghĩa là có từ 1 đến 50 không."
   ]
  },
  {
   "cell_type": "code",
   "execution_count": 36,
   "metadata": {},
   "outputs": [
    {
     "data": {
      "text/html": [
       "<div>\n",
       "<style scoped>\n",
       "    .dataframe tbody tr th:only-of-type {\n",
       "        vertical-align: middle;\n",
       "    }\n",
       "\n",
       "    .dataframe tbody tr th {\n",
       "        vertical-align: top;\n",
       "    }\n",
       "\n",
       "    .dataframe thead th {\n",
       "        text-align: right;\n",
       "    }\n",
       "</style>\n",
       "<table border=\"1\" class=\"dataframe\">\n",
       "  <thead>\n",
       "    <tr style=\"text-align: right;\">\n",
       "      <th></th>\n",
       "      <th>rank</th>\n",
       "      <th>name</th>\n",
       "      <th>artist</th>\n",
       "      <th>url</th>\n",
       "    </tr>\n",
       "  </thead>\n",
       "  <tbody>\n",
       "  </tbody>\n",
       "</table>\n",
       "</div>"
      ],
      "text/plain": [
       "Empty DataFrame\n",
       "Columns: [rank, name, artist, url]\n",
       "Index: []"
      ]
     },
     "execution_count": 36,
     "metadata": {},
     "output_type": "execute_result"
    }
   ],
   "source": [
    "top_50_df[(top_50_df['rank'] < 1) | (top_50_df['rank'] > 50)]"
   ]
  },
  {
   "cell_type": "markdown",
   "metadata": {},
   "source": [
    "Ta thấy rằng, không có thứ hạng nào không hợp lệ. Tiếp theo chúng ta sẽ xem xét đến liệu có các bài hát nào trùng nhau trong bảng xếp hạng không. Tên có thể trùng nhưng id sẽ không trùng, nên chúng ta sẽ dùng trường `url` để kiểm tra."
   ]
  },
  {
   "cell_type": "code",
   "execution_count": 37,
   "metadata": {},
   "outputs": [
    {
     "data": {
      "text/html": [
       "<div>\n",
       "<style scoped>\n",
       "    .dataframe tbody tr th:only-of-type {\n",
       "        vertical-align: middle;\n",
       "    }\n",
       "\n",
       "    .dataframe tbody tr th {\n",
       "        vertical-align: top;\n",
       "    }\n",
       "\n",
       "    .dataframe thead th {\n",
       "        text-align: right;\n",
       "    }\n",
       "</style>\n",
       "<table border=\"1\" class=\"dataframe\">\n",
       "  <thead>\n",
       "    <tr style=\"text-align: right;\">\n",
       "      <th></th>\n",
       "      <th>url</th>\n",
       "      <th>count</th>\n",
       "    </tr>\n",
       "  </thead>\n",
       "  <tbody>\n",
       "  </tbody>\n",
       "</table>\n",
       "</div>"
      ],
      "text/plain": [
       "Empty DataFrame\n",
       "Columns: [url, count]\n",
       "Index: []"
      ]
     },
     "execution_count": 37,
     "metadata": {},
     "output_type": "execute_result"
    }
   ],
   "source": [
    "duplicate_urls = top_50_df[top_50_df.duplicated('url', keep=False)]\n",
    "dup_url_num = duplicate_urls.groupby('url').size().reset_index(name='count')\n",
    "dup_url_num = dup_url_num[dup_url_num['count'] > 1]\n",
    "dup_url_num"
   ]
  },
  {
   "cell_type": "markdown",
   "metadata": {},
   "source": [
    "Vậy là không có sự trùng lặp các bài hát trong bảng xếp hạng, chúng ta cũng đã kiểm tra ở phần trên cho thấy không có dữ liệu bị thiếu nào ở các trường của bảng xếp hạng. Có vẻ là bảng xếp hạng không có gì bất thường. Chúng ta sẽ sử dụng bảng xếp hạng này ở phần sau (không lưu file csv mới)."
   ]
  },
  {
   "cell_type": "markdown",
   "metadata": {},
   "source": [
    "<div id='analysis'></div>\n",
    "\n",
    "# **V. Phân tích dữ liệu và trực quan hóa**"
   ]
  },
  {
   "cell_type": "code",
   "execution_count": 38,
   "metadata": {},
   "outputs": [
    {
     "data": {
      "text/html": [
       "<div>\n",
       "<style scoped>\n",
       "    .dataframe tbody tr th:only-of-type {\n",
       "        vertical-align: middle;\n",
       "    }\n",
       "\n",
       "    .dataframe tbody tr th {\n",
       "        vertical-align: top;\n",
       "    }\n",
       "\n",
       "    .dataframe thead th {\n",
       "        text-align: right;\n",
       "    }\n",
       "</style>\n",
       "<table border=\"1\" class=\"dataframe\">\n",
       "  <thead>\n",
       "    <tr style=\"text-align: right;\">\n",
       "      <th></th>\n",
       "      <th>url</th>\n",
       "      <th>name</th>\n",
       "      <th>artist</th>\n",
       "      <th>composer</th>\n",
       "      <th>lyrics</th>\n",
       "      <th>duration</th>\n",
       "      <th>genre</th>\n",
       "      <th>origin</th>\n",
       "    </tr>\n",
       "  </thead>\n",
       "  <tbody>\n",
       "    <tr>\n",
       "      <th>0</th>\n",
       "      <td>https://www.nhaccuatui.com/bai-hat/re-ndm-wtra...</td>\n",
       "      <td>Rê NDM</td>\n",
       "      <td>Wtran</td>\n",
       "      <td>Wtran, Cà Nâu                                 ...</td>\n",
       "      <td>Rê NDM – WTran ft. Cà Nâu  WTran: Chú bé loắt ...</td>\n",
       "      <td>195</td>\n",
       "      <td>Nhạc Trẻ</td>\n",
       "      <td>VIỆT NAM</td>\n",
       "    </tr>\n",
       "    <tr>\n",
       "      <th>1</th>\n",
       "      <td>https://www.nhaccuatui.com/bai-hat/yeu-di-chau...</td>\n",
       "      <td>Yêu Đi</td>\n",
       "      <td>Châu Khải Phong</td>\n",
       "      <td>Unknown</td>\n",
       "      <td>Unknown</td>\n",
       "      <td>272</td>\n",
       "      <td>Nhạc Trẻ</td>\n",
       "      <td>VIỆT NAM</td>\n",
       "    </tr>\n",
       "    <tr>\n",
       "      <th>2</th>\n",
       "      <td>https://www.nhaccuatui.com/bai-hat/diem-xui-da...</td>\n",
       "      <td>Điềm Xui</td>\n",
       "      <td>Daduc</td>\n",
       "      <td>Daduc                                         ...</td>\n",
       "      <td>Daduc - Điềm Xui (We Broke Up Yesterday)  thôi...</td>\n",
       "      <td>205</td>\n",
       "      <td>Nhạc Trẻ</td>\n",
       "      <td>VIỆT NAM</td>\n",
       "    </tr>\n",
       "    <tr>\n",
       "      <th>3</th>\n",
       "      <td>https://www.nhaccuatui.com/bai-hat/mashup-we-d...</td>\n",
       "      <td>Mashup We Don't Talk Anymore, Để Em Rời Xa (Bi...</td>\n",
       "      <td>Đức Phúc</td>\n",
       "      <td>Unknown</td>\n",
       "      <td>Unknown</td>\n",
       "      <td>298</td>\n",
       "      <td>Nhạc Trẻ</td>\n",
       "      <td>VIỆT NAM</td>\n",
       "    </tr>\n",
       "    <tr>\n",
       "      <th>4</th>\n",
       "      <td>https://www.nhaccuatui.com/bai-hat/giu-em-that...</td>\n",
       "      <td>Giữ Em Thật Lâu</td>\n",
       "      <td>Naod</td>\n",
       "      <td>Naod                                          ...</td>\n",
       "      <td>Bài hát: Giữ Em Thật Lâu - Naod  Còn điều gì e...</td>\n",
       "      <td>254</td>\n",
       "      <td>Nhạc Trẻ</td>\n",
       "      <td>VIỆT NAM</td>\n",
       "    </tr>\n",
       "  </tbody>\n",
       "</table>\n",
       "</div>"
      ],
      "text/plain": [
       "                                                 url  \\\n",
       "0  https://www.nhaccuatui.com/bai-hat/re-ndm-wtra...   \n",
       "1  https://www.nhaccuatui.com/bai-hat/yeu-di-chau...   \n",
       "2  https://www.nhaccuatui.com/bai-hat/diem-xui-da...   \n",
       "3  https://www.nhaccuatui.com/bai-hat/mashup-we-d...   \n",
       "4  https://www.nhaccuatui.com/bai-hat/giu-em-that...   \n",
       "\n",
       "                                                name           artist  \\\n",
       "0                                             Rê NDM            Wtran   \n",
       "1                                             Yêu Đi  Châu Khải Phong   \n",
       "2                                           Điềm Xui            Daduc   \n",
       "3  Mashup We Don't Talk Anymore, Để Em Rời Xa (Bi...         Đức Phúc   \n",
       "4                                    Giữ Em Thật Lâu             Naod   \n",
       "\n",
       "                                            composer  \\\n",
       "0  Wtran, Cà Nâu                                 ...   \n",
       "1                                            Unknown   \n",
       "2  Daduc                                         ...   \n",
       "3                                            Unknown   \n",
       "4  Naod                                          ...   \n",
       "\n",
       "                                              lyrics  duration     genre  \\\n",
       "0  Rê NDM – WTran ft. Cà Nâu  WTran: Chú bé loắt ...       195  Nhạc Trẻ   \n",
       "1                                            Unknown       272  Nhạc Trẻ   \n",
       "2  Daduc - Điềm Xui (We Broke Up Yesterday)  thôi...       205  Nhạc Trẻ   \n",
       "3                                            Unknown       298  Nhạc Trẻ   \n",
       "4  Bài hát: Giữ Em Thật Lâu - Naod  Còn điều gì e...       254  Nhạc Trẻ   \n",
       "\n",
       "     origin  \n",
       "0  VIỆT NAM  \n",
       "1  VIỆT NAM  \n",
       "2  VIỆT NAM  \n",
       "3  VIỆT NAM  \n",
       "4  VIỆT NAM  "
      ]
     },
     "metadata": {},
     "output_type": "display_data"
    },
    {
     "data": {
      "text/html": [
       "<div>\n",
       "<style scoped>\n",
       "    .dataframe tbody tr th:only-of-type {\n",
       "        vertical-align: middle;\n",
       "    }\n",
       "\n",
       "    .dataframe tbody tr th {\n",
       "        vertical-align: top;\n",
       "    }\n",
       "\n",
       "    .dataframe thead th {\n",
       "        text-align: right;\n",
       "    }\n",
       "</style>\n",
       "<table border=\"1\" class=\"dataframe\">\n",
       "  <thead>\n",
       "    <tr style=\"text-align: right;\">\n",
       "      <th></th>\n",
       "      <th>rank</th>\n",
       "      <th>name</th>\n",
       "      <th>artist</th>\n",
       "      <th>url</th>\n",
       "    </tr>\n",
       "  </thead>\n",
       "  <tbody>\n",
       "    <tr>\n",
       "      <th>0</th>\n",
       "      <td>1</td>\n",
       "      <td>Dù Cho Tận Thế</td>\n",
       "      <td>ERIK</td>\n",
       "      <td>https://v11.nhaccuatui.com/bai-hat/du-cho-tan-...</td>\n",
       "    </tr>\n",
       "    <tr>\n",
       "      <th>1</th>\n",
       "      <td>2</td>\n",
       "      <td>Chăm Em Một Đời</td>\n",
       "      <td>Đức Phúc</td>\n",
       "      <td>https://v11.nhaccuatui.com/bai-hat/cham-em-mot...</td>\n",
       "    </tr>\n",
       "    <tr>\n",
       "      <th>2</th>\n",
       "      <td>3</td>\n",
       "      <td>earthquake</td>\n",
       "      <td>JISOO</td>\n",
       "      <td>https://v11.nhaccuatui.com/bai-hat/earthquake-...</td>\n",
       "    </tr>\n",
       "    <tr>\n",
       "      <th>3</th>\n",
       "      <td>4</td>\n",
       "      <td>8 Vạn 6 Ngàn Thương (H2O Remix)</td>\n",
       "      <td>Hạo Thiên</td>\n",
       "      <td>https://v11.nhaccuatui.com/bai-hat/8-van-6-nga...</td>\n",
       "    </tr>\n",
       "    <tr>\n",
       "      <th>4</th>\n",
       "      <td>5</td>\n",
       "      <td>Mình Lượn Lờ Làm Wen (NOVINA)</td>\n",
       "      <td>VCC Left Hand</td>\n",
       "      <td>https://v11.nhaccuatui.com/bai-hat/minh-luon-l...</td>\n",
       "    </tr>\n",
       "  </tbody>\n",
       "</table>\n",
       "</div>"
      ],
      "text/plain": [
       "   rank                             name         artist  \\\n",
       "0     1                   Dù Cho Tận Thế           ERIK   \n",
       "1     2                  Chăm Em Một Đời       Đức Phúc   \n",
       "2     3                       earthquake          JISOO   \n",
       "3     4  8 Vạn 6 Ngàn Thương (H2O Remix)      Hạo Thiên   \n",
       "4     5    Mình Lượn Lờ Làm Wen (NOVINA)  VCC Left Hand   \n",
       "\n",
       "                                                 url  \n",
       "0  https://v11.nhaccuatui.com/bai-hat/du-cho-tan-...  \n",
       "1  https://v11.nhaccuatui.com/bai-hat/cham-em-mot...  \n",
       "2  https://v11.nhaccuatui.com/bai-hat/earthquake-...  \n",
       "3  https://v11.nhaccuatui.com/bai-hat/8-van-6-nga...  \n",
       "4  https://v11.nhaccuatui.com/bai-hat/minh-luon-l...  "
      ]
     },
     "execution_count": 38,
     "metadata": {},
     "output_type": "execute_result"
    }
   ],
   "source": [
    "df = pd.read_csv('../data/cleaned_data.csv', encoding='utf-8')\n",
    "display(df.head(5))\n",
    "\n",
    "top_50_df = pd.read_csv('../data/top_50_chart_vn.csv', encoding='utf-8')\n",
    "top_50_df.head(5)"
   ]
  },
  {
   "cell_type": "markdown",
   "metadata": {},
   "source": [
    "Mục tiêu phân tích của nhóm như đã nêu từ đầu là xu hướng thị hiếu âm nhạc của người nghe ở thị trường Việt Nam. Để có thể có cái nhìn đúng về thị trường âm nhạc trực tuyến ở Việt Nam hiện nay, chúng ta phải biết được mối quan hệ giữa các yếu tố âm nhạc dẫn đến sự thịnh hành của các bài hát. Vì vậy, đầu tiên chúng ta sẽ xem xét liệu đâu là các thể loại nhạc phổ biến nhất ở Việt Nam bằng cách xem xét số lượng bài hát của từng thể loại nhạc.\n",
    "\n",
    "Để có thể làm điều này, chúng ta sẽ xem xét các bài hát nằm trong `top_50_df`, trích id - `url` của các bài hát này và so sánh với `raw_df` để xem xem bài hát nào nằm trong bảng xếp hạng. Sau đó, chúng ta sẽ xem xét số lượng bài hát của từng thể loại nhạc."
   ]
  },
  {
   "cell_type": "code",
   "execution_count": 39,
   "metadata": {},
   "outputs": [
    {
     "name": "stdout",
     "output_type": "stream",
     "text": [
      "Số lượng bài hát của từng thể loại nhạc:\n",
      "        genre  count\n",
      "0    Nhạc Trẻ     24\n",
      "1    Rap Việt     13\n",
      "2  Remix Việt      8\n",
      "3    Nhạc Hàn      3\n",
      "4         Pop      1\n"
     ]
    }
   ],
   "source": [
    "# Trích xuất các url của các bài hát trong top_50_df\n",
    "top_50_urls = top_50_df['url']\n",
    "\n",
    "# Chỉ lấy id của bài hát\n",
    "top_50_df['id'] = top_50_df['url'].str.replace('.html','').str.split('.').str[-1]\n",
    "df['id'] = df['url'].str.replace('.html','').str.split('.').str[-1]\n",
    "\n",
    "# Lấy các bài hát nằm trong bảng xếp hạng\n",
    "ranked_songs = df[df['id'].isin(top_50_df['id'])]\n",
    "\n",
    "# Tính số lượng bài hát của từng thể loại nhạc\n",
    "genre_counts = ranked_songs['genre'].value_counts().reset_index()\n",
    "genre_counts.columns = ['genre', 'count']\n",
    "\n",
    "print(\"Số lượng bài hát của từng thể loại nhạc:\")\n",
    "print(genre_counts)"
   ]
  },
  {
   "cell_type": "code",
   "execution_count": null,
   "metadata": {},
   "outputs": [
    {
     "name": "stdout",
     "output_type": "stream",
     "text": [
      "0     szDsaurUCtvX\n",
      "1     wY5LQV5BtkGc\n",
      "2     4dAg2kECgsOd\n",
      "3     PIh5h7dWXxkC\n",
      "4     BSASMTp7gXtE\n",
      "5     uJ8qLJzC9wH5\n",
      "6     xJL8WhSBAzKW\n",
      "7     5YGZBYdZMdQN\n",
      "8     a3mZLB73HbZ3\n",
      "9     0lTwDzgDWI2q\n",
      "10    N61jeXYZtsCX\n",
      "11    dyHwNKu52bax\n",
      "12    OkghssFs1f46\n",
      "13    jnvWyYqFjQkS\n",
      "14    m7lGmtL8YAbL\n",
      "15    g8I9trWM248C\n",
      "16    KSb5D2w6RGnG\n",
      "17    W29SGIlQ6vbj\n",
      "18    TEWCnn43IFu0\n",
      "19    ZJ79KkPo8cU2\n",
      "20    GvY1eSD2odQ7\n",
      "21    JA1ckllMIXdR\n",
      "22    Y5dpH4v6eV1e\n",
      "23    vR9ZLLyOma6r\n",
      "24    Sb4n5RZ46YPe\n",
      "25    GyjVePkLmy8Z\n",
      "26    HDdgbMFiFmCz\n",
      "27    CyLKD1v4vbsG\n",
      "28    8uPdufDbpDRT\n",
      "29    58zlb0WV5sp0\n",
      "30    xJW2XOUDdPau\n",
      "31    7ucwS2FUTATp\n",
      "32    pRWD2qnMLHNL\n",
      "33    eaFQ8IVnfq1x\n",
      "34    bCPTqDLmMjR4\n",
      "35    Sx4DMgqxRpxD\n",
      "36    aN8avC2wBVjC\n",
      "37    m3kUqJlhSxnG\n",
      "38    wUI1ftKF406O\n",
      "39    ZViQdtds3AH7\n",
      "40    7JIHT0ig3eW2\n",
      "41    ISY94SDm2hFh\n",
      "42    Y2SrSt7hTycp\n",
      "43    1Nr12dvjtPpl\n",
      "44    aYLxhJMqB1Wx\n",
      "45    I27zoLp2Ovzz\n",
      "46    zg8rqHWqlAkT\n",
      "47    9hVrZ2qY9XqD\n",
      "48    gwkZrcqfbbOI\n",
      "49    0U4Pr5esABDT\n",
      "Name: id, dtype: object\n"
     ]
    }
   ],
   "source": [
    "print(top_50_df['id'])"
   ]
  },
  {
   "cell_type": "code",
   "execution_count": null,
   "metadata": {},
   "outputs": [],
   "source": [
    " Chúng\n",
    "ta sẽ khám phá mối quan hệ giữa các yếu tố âm nhạc, xác định xu hướng thị trường và phát hiện những đặc\n",
    "điểm nổi bật trong hành vi nghe nhạc của người dùng bằng cách áp dụng các kỹ thuật xử lý dữ liệu, phân tích\n",
    "thống kê và trực quan hóa. Nhờ đó, xây dựng một bức tranh về thị trường âm nhạc trực tuyến tại Việt Nam."
   ]
  },
  {
   "cell_type": "markdown",
   "metadata": {},
   "source": []
  }
 ],
 "metadata": {
  "kernelspec": {
   "display_name": "Python 3",
   "language": "python",
   "name": "python3"
  },
  "language_info": {
   "codemirror_mode": {
    "name": "ipython",
    "version": 3
   },
   "file_extension": ".py",
   "mimetype": "text/x-python",
   "name": "python",
   "nbconvert_exporter": "python",
   "pygments_lexer": "ipython3",
   "version": "3.12.1"
  }
 },
 "nbformat": 4,
 "nbformat_minor": 2
}
