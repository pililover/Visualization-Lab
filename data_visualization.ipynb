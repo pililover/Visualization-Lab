{
 "cells": [
  {
   "cell_type": "markdown",
   "metadata": {},
   "source": [
    "<div style=\"font-family: Arial, Helvetica, sans-serif;\">\n",
    "    <div style=\"display: flex;padding-top: 20px\">\n",
    "        <div><strong>Môn học:</strong> Trực quan hóa dữ liệu</div>\n",
    "    </div>\n",
    "    <div style=\"display: flex;padding-top: 20px\">\n",
    "        <div style=\"padding-right: 10px;\"><strong>Lớp:</strong> 22KHDL</div>\n",
    "        <div></div>\n",
    "    </div>\n",
    "    <div>\n",
    "        <div style=\"display: flex;padding-top: 20px\">\n",
    "            <div style=\"padding-right: 10px;\"><strong>Thành viên:</strong></div>\n",
    "            <div></div>\n",
    "        </div>\n",
    "        <table style=\"font-size: 15px; display:flex;padding-top: 20px\">\n",
    "            <tr>\n",
    "                <th>No.</th>\n",
    "                <th>Student ID</th>\n",
    "                <th>Name</th>\n",
    "            </tr>\n",
    "            <tr>\n",
    "                <td>1</td>\n",
    "                <td>22127008</td>\n",
    "                <td style=\"text-align:left;\">Đặng Châu Anh</td>\n",
    "            </tr>\n",
    "            <tr>\n",
    "                <td>2</td>\n",
    "                <td>22127014</td>\n",
    "                <td style=\"text-align:left;\">Nguyễn Kim Anh</td>\n",
    "            </tr>\n",
    "            <tr>\n",
    "                <td>4</td>\n",
    "                <td>22127170</td>\n",
    "                <td style=\"text-align:left;\">Trần Dịu Huyền</td>\n",
    "            </tr>\n",
    "        </table>\n",
    "    </div>\n",
    "    <div style=\"font-size: 25px ;font-weight: 800; text-align: center;padding-top: 20px;\">LAB 02</div>\n",
    "    <div style=\"font-size: 20px ;font-weight: 800; text-align: center;padding-top: 20px;\">KHAI THÁC VÀ TRỰC QUAN HÓA DỮ LIỆU</div>\n",
    "</div>"
   ]
  },
  {
   "cell_type": "markdown",
   "metadata": {},
   "source": [
    "# **Mục lục**\n",
    "\n",
    "- [**Giới thiệu**](#intro)\n",
    "    - [Mục tiêu đồ án](#objectives)\n",
    "    - [Thông tin dữ liệu](#data)\n",
    "- [**Thư viện sử dụng**](#packages)\n",
    "- [**Thu thập dữ liệu**](#collect)\n",
    "- [**Khám phá dữ liệu**](#eda)\n",
    "    - [Tổng quan về dữ liệu](#eda1)\n",
    "    - [EDA và tiền xử lí dữ liệu](#eda2)\n",
    "        - [Thống kê mô tả](#eda21)\n",
    "        - [Phân bố của dữ liệu dạng số](#eda22)\n",
    "        - [Phân bố của dữ liệu dạng phân loại](#eda23)\n",
    "    - [EDA và tiền xử lí dữ liệu](#eda3)\n",
    "- [**Phân tích dữ liệu và trực quan hóa**](#analysis)\n",
    "    - [1. Mức độ ảnh hưởng của thể loại âm nhạc đến sự thịnh hành của bài hát](#a1)\n",
    "        - [1.1. Các thể loại nhạc nào thịnh hành nhất ở Việt Nam](#a11)\n",
    "        - [1.2. Sự hiện diện của các thể loại âm nhạc trên thị trường âm nhạc Việt Nam](#a12)\n",
    "    - [2. Nhạc Việt hay Nhạc Ngoại: Tổng quan thị trường nhạc Việt hiện nay?](#a2)\n",
    "    - [3. Thời lượng như thế nào là tối ưu hiện tại?](#a3)\n",
    "    - [4. Nghệ sĩ nào đang thống trị thị trường âm nhạc Việt Nam?](#a4)\n",
    "        - [4.1. Nhạc Việt và nhạc ngoại: Xu hướng nghe nhạc nhghieeng về bên ngào ở thời điểm hiện tại? Và các nghệ sĩ nào đang thống trị nền âm nhạc?](#a41)\n",
    "    - [5. Colab hay Solo: Đâu là xu hướng hiện nay?](#a5)\n",
    "        - [5.1. So sánh giữa số lượng bài hát solo và bài hát hợp tác trên bảng xếp hạng](#a51)\n",
    "        - [5. 2. Có phải nghệ sĩ càng nổi tiếng thì càng nhiều người muốn hợp tác không?](#a52)\n",
    "    - [6. Xô đổ kỉ lục có khó không: Có phải càng về sau, thời gian để bức phá tiến vào bảng xếp hạng càng rút ngắn?](#a6)\n",
    "- [**Kết luận**](#conclusion)\n",
    "- [**Trích dẫn**](#references)\n"
   ]
  },
  {
   "cell_type": "markdown",
   "metadata": {},
   "source": [
    "<a id=\"intro\"></a>\n",
    "# **I. Giới thiệu**"
   ]
  },
  {
   "cell_type": "markdown",
   "metadata": {},
   "source": [
    "<a id=\"objectives\"></a>\n",
    "## **1. Mục tiêu phân tích:**"
   ]
  },
  {
   "cell_type": "markdown",
   "metadata": {},
   "source": [
    "Từ nguồn World Development Indicators của World Bank, nhóm quyết định sẽ phân tích về chủ đề \"Tình hình kinh tế - xã hội Việt Nam qua các năm (2011 - 2023)\", từ đó đưa ra bức tranh toàn cảnh về tình hình kinh tế - xã hội của Việt Nam thông qua các nhận xét được đưa ra từ việc phân tích.\n",
    "\n",
    "Sở dĩ nhóm chọn chủ đề này vì nhóm muốn xem xét kể từ Đại hội Đại biểu toàn quốc lần thứ XI của Đảng (2011) đến năm cuối cùng dữ liệu được cập nhật hiện tại (2023), nước ta đã có những thay đổi, tiến bộ như thế nào trong các lĩnh vực kinh tế - xã hội. Các chiến lược được đề ra đã thực sự đem lại hiệu quả hay chưa, từ đó đưa ra những nhận xét, đánh giá và đề xuất giải pháp phù hợp cho tương lai."
   ]
  },
  {
   "cell_type": "markdown",
   "metadata": {},
   "source": [
    "<a id=\"data\"></a>\n",
    "## **2. Thông tin dữ liệu:**"
   ]
  },
  {
   "cell_type": "markdown",
   "metadata": {},
   "source": [
    "<a id=\"packages\"></a>\n",
    "# **II. Thư viện sử dụng**"
   ]
  },
  {
   "cell_type": "code",
   "execution_count": 1,
   "metadata": {},
   "outputs": [],
   "source": [
    "import pandas as pd\n",
    "import numpy as np"
   ]
  },
  {
   "cell_type": "markdown",
   "metadata": {},
   "source": [
    "<a id=\"collect\"></a>\n",
    "# **III. Thu thập dữ liệu**"
   ]
  },
  {
   "cell_type": "markdown",
   "metadata": {},
   "source": [
    "Để phục vụ mục tiêu phân tích nhóm quyết định sẽ lấy các dữ liệu như sau từ World Development Indicators (WDI) và World Bank Open Data:\n",
    "- Quốc gia - `Country`: Viet Nam\n",
    "- Chỉ số - `Series`:\n",
    "    + 1. GDP (current US$)\n",
    "    + 2. GDP per capita (current US$)\n",
    "    + 3. Agriculture, forestry, and fishing, value added (% of GDP)\n",
    "    + 4. Manufacturing, value added (% of GDP)\n",
    "    + 5. Industry (including construction), value added (% of GDP)\n",
    "    + 6. Services, value added (% of GDP)\n",
    "    + 7. Imports of goods and services (constant 2015 US$)\n",
    "    + 8. Imports of goods and services (current US$)\n",
    "    + 9. Exports of goods and services (constant 2015 US$)\n",
    "    + 10. Exports of goods and services (current US$)\n",
    "    + 11. Foreign direct investment, net inflows (BoP, current US$)\n",
    "    + 12. Consumer price index (2010 = 100)\n",
    "    + 13. Inflation, consumer prices (annual %)\n",
    "    + 14. Population, total\n",
    "    + 15. Population ages 0-14, total\n",
    "    + 16. Population ages 15-64, total\n",
    "    + 17. Population ages 65 and above, total\n",
    "    + 18. Unemployment, total (% of total labor force) (national estimate)\n",
    "    + 19. International tourism, number of arrivals\n",
    "    + 20. International tourism, expenditures (current US$)\n",
    "    + 21. Carbon dioxide (CO2) emissions from Agriculture (Mt CO2e)\n",
    "    + 22. Carbon dioxide (CO2) emissions from Building (Energy) (Mt CO2e)\n",
    "    + 23. Carbon dioxide (CO2) emissions from Fugitive Emissions (Energy) (Mt CO2e)\n",
    "    + 24. Carbon dioxide (CO2) emissions from Industrial Combustion (Energy) (Mt CO2e)\n",
    "    + 25. Carbon dioxide (CO2) emissions from Industrial Processes (Mt CO2e)\n",
    "    + 26. Carbon dioxide (CO2) emissions from Power Industry (Energy) (Mt CO2e)\n",
    "    + 27. Carbon dioxide (CO2) emissions from Transport (Energy) (Mt CO2e)\n",
    "    + 28. Carbon dioxide (CO2) emissions from Waste (Mt CO2e)\n",
    "    + 29. Carbon dioxide (CO2) emissions (total) excluding LULUCF (Mt CO2e)\n",
    "- Thời gian - `Year`: 2011 - 2023"
   ]
  },
  {
   "cell_type": "markdown",
   "metadata": {},
   "source": [
    "<a id=\"eda\"></a>\n",
    "# **IV. EDA - Tiền xử lí**"
   ]
  },
  {
   "cell_type": "markdown",
   "metadata": {},
   "source": [
    "Đầu tiên chúng ta sẽ đọc file dữ liệu và xem qua các thông tin cơ bản của dữ liệu."
   ]
  },
  {
   "cell_type": "code",
   "execution_count": 2,
   "metadata": {},
   "outputs": [
    {
     "data": {
      "text/html": [
       "<div>\n",
       "<style scoped>\n",
       "    .dataframe tbody tr th:only-of-type {\n",
       "        vertical-align: middle;\n",
       "    }\n",
       "\n",
       "    .dataframe tbody tr th {\n",
       "        vertical-align: top;\n",
       "    }\n",
       "\n",
       "    .dataframe thead th {\n",
       "        text-align: right;\n",
       "    }\n",
       "</style>\n",
       "<table border=\"1\" class=\"dataframe\">\n",
       "  <thead>\n",
       "    <tr style=\"text-align: right;\">\n",
       "      <th></th>\n",
       "      <th>Country Name</th>\n",
       "      <th>Country Code</th>\n",
       "      <th>Series Name</th>\n",
       "      <th>Series Code</th>\n",
       "      <th>2011 [YR2011]</th>\n",
       "      <th>2012 [YR2012]</th>\n",
       "      <th>2013 [YR2013]</th>\n",
       "      <th>2014 [YR2014]</th>\n",
       "      <th>2015 [YR2015]</th>\n",
       "      <th>2016 [YR2016]</th>\n",
       "      <th>2017 [YR2017]</th>\n",
       "      <th>2018 [YR2018]</th>\n",
       "      <th>2019 [YR2019]</th>\n",
       "      <th>2020 [YR2020]</th>\n",
       "      <th>2021 [YR2021]</th>\n",
       "      <th>2022 [YR2022]</th>\n",
       "      <th>2023 [YR2023]</th>\n",
       "    </tr>\n",
       "  </thead>\n",
       "  <tbody>\n",
       "    <tr>\n",
       "      <th>0</th>\n",
       "      <td>Viet Nam</td>\n",
       "      <td>VNM</td>\n",
       "      <td>Agriculture, forestry, and fishing, value adde...</td>\n",
       "      <td>NV.AGR.TOTL.ZS</td>\n",
       "      <td>1.625915e+01</td>\n",
       "      <td>1.619951e+01</td>\n",
       "      <td>1.521561e+01</td>\n",
       "      <td>1.488035e+01</td>\n",
       "      <td>1.447473e+01</td>\n",
       "      <td>1.381826e+01</td>\n",
       "      <td>1.292988e+01</td>\n",
       "      <td>1.230667e+01</td>\n",
       "      <td>1.178453e+01</td>\n",
       "      <td>1.265540e+01</td>\n",
       "      <td>12.6030904652746</td>\n",
       "      <td>11.9555291630892</td>\n",
       "      <td>11.9604858170749</td>\n",
       "    </tr>\n",
       "    <tr>\n",
       "      <th>1</th>\n",
       "      <td>Viet Nam</td>\n",
       "      <td>VNM</td>\n",
       "      <td>GDP per capita (current US$)</td>\n",
       "      <td>NY.GDP.PCAP.CD</td>\n",
       "      <td>1.950925e+03</td>\n",
       "      <td>2.185118e+03</td>\n",
       "      <td>2.359517e+03</td>\n",
       "      <td>2.546385e+03</td>\n",
       "      <td>2.577569e+03</td>\n",
       "      <td>2.735060e+03</td>\n",
       "      <td>2.956110e+03</td>\n",
       "      <td>3.222310e+03</td>\n",
       "      <td>3.440900e+03</td>\n",
       "      <td>3.534040e+03</td>\n",
       "      <td>3704.1935590038</td>\n",
       "      <td>4116.38576094153</td>\n",
       "      <td>4282.08851724506</td>\n",
       "    </tr>\n",
       "    <tr>\n",
       "      <th>2</th>\n",
       "      <td>Viet Nam</td>\n",
       "      <td>VNM</td>\n",
       "      <td>Manufacturing, value added (% of GDP)</td>\n",
       "      <td>NV.IND.MANF.ZS</td>\n",
       "      <td>1.869415e+01</td>\n",
       "      <td>2.027409e+01</td>\n",
       "      <td>2.068745e+01</td>\n",
       "      <td>2.037123e+01</td>\n",
       "      <td>2.096009e+01</td>\n",
       "      <td>2.148825e+01</td>\n",
       "      <td>2.262712e+01</td>\n",
       "      <td>2.336717e+01</td>\n",
       "      <td>2.378672e+01</td>\n",
       "      <td>2.394724e+01</td>\n",
       "      <td>24.4593726835113</td>\n",
       "      <td>24.5795734424262</td>\n",
       "      <td>23.8827677952544</td>\n",
       "    </tr>\n",
       "    <tr>\n",
       "      <th>3</th>\n",
       "      <td>Viet Nam</td>\n",
       "      <td>VNM</td>\n",
       "      <td>Services, value added (% of GDP)</td>\n",
       "      <td>NV.SRV.TOTL.ZS</td>\n",
       "      <td>3.890701e+01</td>\n",
       "      <td>3.911884e+01</td>\n",
       "      <td>4.054201e+01</td>\n",
       "      <td>4.092361e+01</td>\n",
       "      <td>4.219301e+01</td>\n",
       "      <td>4.285449e+01</td>\n",
       "      <td>4.258072e+01</td>\n",
       "      <td>4.217092e+01</td>\n",
       "      <td>4.246872e+01</td>\n",
       "      <td>4.183116e+01</td>\n",
       "      <td>41.2574400803722</td>\n",
       "      <td>41.3223541577905</td>\n",
       "      <td>42.5369982260521</td>\n",
       "    </tr>\n",
       "    <tr>\n",
       "      <th>4</th>\n",
       "      <td>Viet Nam</td>\n",
       "      <td>VNM</td>\n",
       "      <td>GDP (current US$)</td>\n",
       "      <td>NY.GDP.MKTP.CD</td>\n",
       "      <td>1.725950e+11</td>\n",
       "      <td>1.955907e+11</td>\n",
       "      <td>2.137088e+11</td>\n",
       "      <td>2.334515e+11</td>\n",
       "      <td>2.392583e+11</td>\n",
       "      <td>2.570960e+11</td>\n",
       "      <td>2.813536e+11</td>\n",
       "      <td>3.101065e+11</td>\n",
       "      <td>3.343653e+11</td>\n",
       "      <td>3.466157e+11</td>\n",
       "      <td>366474752771.009</td>\n",
       "      <td>410324028883.325</td>\n",
       "      <td>429716969043.572</td>\n",
       "    </tr>\n",
       "  </tbody>\n",
       "</table>\n",
       "</div>"
      ],
      "text/plain": [
       "  Country Name Country Code  \\\n",
       "0     Viet Nam          VNM   \n",
       "1     Viet Nam          VNM   \n",
       "2     Viet Nam          VNM   \n",
       "3     Viet Nam          VNM   \n",
       "4     Viet Nam          VNM   \n",
       "\n",
       "                                         Series Name     Series Code  \\\n",
       "0  Agriculture, forestry, and fishing, value adde...  NV.AGR.TOTL.ZS   \n",
       "1                       GDP per capita (current US$)  NY.GDP.PCAP.CD   \n",
       "2              Manufacturing, value added (% of GDP)  NV.IND.MANF.ZS   \n",
       "3                   Services, value added (% of GDP)  NV.SRV.TOTL.ZS   \n",
       "4                                  GDP (current US$)  NY.GDP.MKTP.CD   \n",
       "\n",
       "   2011 [YR2011]  2012 [YR2012]  2013 [YR2013]  2014 [YR2014]  2015 [YR2015]  \\\n",
       "0   1.625915e+01   1.619951e+01   1.521561e+01   1.488035e+01   1.447473e+01   \n",
       "1   1.950925e+03   2.185118e+03   2.359517e+03   2.546385e+03   2.577569e+03   \n",
       "2   1.869415e+01   2.027409e+01   2.068745e+01   2.037123e+01   2.096009e+01   \n",
       "3   3.890701e+01   3.911884e+01   4.054201e+01   4.092361e+01   4.219301e+01   \n",
       "4   1.725950e+11   1.955907e+11   2.137088e+11   2.334515e+11   2.392583e+11   \n",
       "\n",
       "   2016 [YR2016]  2017 [YR2017]  2018 [YR2018]  2019 [YR2019]  2020 [YR2020]  \\\n",
       "0   1.381826e+01   1.292988e+01   1.230667e+01   1.178453e+01   1.265540e+01   \n",
       "1   2.735060e+03   2.956110e+03   3.222310e+03   3.440900e+03   3.534040e+03   \n",
       "2   2.148825e+01   2.262712e+01   2.336717e+01   2.378672e+01   2.394724e+01   \n",
       "3   4.285449e+01   4.258072e+01   4.217092e+01   4.246872e+01   4.183116e+01   \n",
       "4   2.570960e+11   2.813536e+11   3.101065e+11   3.343653e+11   3.466157e+11   \n",
       "\n",
       "      2021 [YR2021]     2022 [YR2022]     2023 [YR2023]  \n",
       "0  12.6030904652746  11.9555291630892  11.9604858170749  \n",
       "1   3704.1935590038  4116.38576094153  4282.08851724506  \n",
       "2  24.4593726835113  24.5795734424262  23.8827677952544  \n",
       "3  41.2574400803722  41.3223541577905  42.5369982260521  \n",
       "4  366474752771.009  410324028883.325  429716969043.572  "
      ]
     },
     "execution_count": 2,
     "metadata": {},
     "output_type": "execute_result"
    }
   ],
   "source": [
    "raw_df = pd.read_csv('./data/data_only.csv')\n",
    "raw_df.head()"
   ]
  },
  {
   "cell_type": "markdown",
   "metadata": {},
   "source": [
    "<a id=\"eda1\"></a>\n",
    "## **1. Tổng quan về dữ liệu**"
   ]
  },
  {
   "cell_type": "markdown",
   "metadata": {},
   "source": [
    "Ở phần này thì chúng ta sẽ khám phá về cấu trúc của dữ liệu. Đầu tiên, chúng ta sẽ kiểm tra số dòng và số cột của dữ liệu.\n",
    "\n",
    "**Kích thước dữ liệu:**"
   ]
  },
  {
   "cell_type": "code",
   "execution_count": 3,
   "metadata": {},
   "outputs": [
    {
     "name": "stdout",
     "output_type": "stream",
     "text": [
      "Number of rows: 34\n",
      "Number of columns: 17\n"
     ]
    }
   ],
   "source": [
    "print(f\"Number of rows: {raw_df.shape[0]}\")\n",
    "print(f\"Number of columns: {raw_df.shape[1]}\")"
   ]
  },
  {
   "cell_type": "markdown",
   "metadata": {},
   "source": [
    "Dữ liệu đáng ra có số dòng tương ứng với số chỉ số quyết định lấy và số cột tương ứng với thông tin dữ liệu (Tên nước - `Country Name`, mã nước - `Country Code`, tên chỉ số - `Series Name` và mã của chỉ số - `Series Code`) và các năm từ 2011 đến 2023.\n",
    "\n",
    "Tuy nhiên, số dòng lại lớn hơn số chỉ số quyết định lấy (29 chỉ số) vì mỗi chỉ số lại có nhiều năm tương ứng. Vì vậy, chúng ta sẽ kiểm tra lại ở các phần sau."
   ]
  },
  {
   "cell_type": "markdown",
   "metadata": {},
   "source": [
    "Tiếp theo, chúng ta sẽ kiểm tra xem kiểu dữ liệu của các cột trong dữ liệu để biết được cần phải xử lí kiểu dữ liệu của các cột nào trong dữ liệu ở phần tiền xử lí.\n",
    "\n",
    "**Kiểu dữ liệu của các cột:**"
   ]
  },
  {
   "cell_type": "code",
   "execution_count": 4,
   "metadata": {},
   "outputs": [
    {
     "name": "stdout",
     "output_type": "stream",
     "text": [
      "<class 'pandas.core.frame.DataFrame'>\n",
      "RangeIndex: 34 entries, 0 to 33\n",
      "Data columns (total 17 columns):\n",
      " #   Column         Non-Null Count  Dtype  \n",
      "---  ------         --------------  -----  \n",
      " 0   Country Name   31 non-null     object \n",
      " 1   Country Code   29 non-null     object \n",
      " 2   Series Name    29 non-null     object \n",
      " 3   Series Code    29 non-null     object \n",
      " 4   2011 [YR2011]  29 non-null     float64\n",
      " 5   2012 [YR2012]  29 non-null     float64\n",
      " 6   2013 [YR2013]  29 non-null     float64\n",
      " 7   2014 [YR2014]  29 non-null     float64\n",
      " 8   2015 [YR2015]  29 non-null     float64\n",
      " 9   2016 [YR2016]  29 non-null     float64\n",
      " 10  2017 [YR2017]  29 non-null     float64\n",
      " 11  2018 [YR2018]  29 non-null     float64\n",
      " 12  2019 [YR2019]  29 non-null     float64\n",
      " 13  2020 [YR2020]  29 non-null     float64\n",
      " 14  2021 [YR2021]  29 non-null     object \n",
      " 15  2022 [YR2022]  29 non-null     object \n",
      " 16  2023 [YR2023]  29 non-null     object \n",
      "dtypes: float64(10), object(7)\n",
      "memory usage: 4.6+ KB\n"
     ]
    }
   ],
   "source": [
    "raw_df.info()"
   ]
  },
  {
   "cell_type": "markdown",
   "metadata": {},
   "source": [
    "**Thông tin về các cột trong dữ liệu**\n",
    "\n",
    "Chúng ta có 16 cột trong dữ liệu, với tất cả các cột đều có kiểu dữ liệu khác nhau:\n",
    "Ý nghĩa của các cột trong dữ liệu như sau:\n",
    "| Tên cột     | Ý nghĩa                           | Kiểu dữ liệu       |\n",
    "|-----------------|---------------------------------------|-----------------|\n",
    "| Country Name   | Tên quốc gia                         | object          |\n",
    "| Country Code   | Mã quốc gia                          | object          |\n",
    "| Series Name    | Tên chỉ số                          | object          |\n",
    "| Series Code    | Mã chỉ số                           | object          |\n",
    "| 2011 [YR2011]  | Dữ liệu năm 2011                     | float64         |\n",
    "| 2012 [YR2012]  | Dữ liệu năm 2012                     | float64         |\n",
    "| 2013 [YR2013]  | Dữ liệu năm 2013                     | float64         |\n",
    "| 2014 [YR2014]  | Dữ liệu năm 2014                     | float64         |\n",
    "| 2015 [YR2015]  | Dữ liệu năm 2015                     | float64         |\n",
    "| 2016 [YR2016]  | Dữ liệu năm 2016                     | float64         |\n",
    "| 2017 [YR2017]  | Dữ liệu năm 2017                     | float64         |\n",
    "| 2018 [YR2018]  | Dữ liệu năm 2018                     | float64         |\n",
    "| 2019 [YR2019]  | Dữ liệu năm 2019                     | float64         |\n",
    "| 2020 [YR2020]  | Dữ liệu năm 2020                     | float64         |\n",
    "| 2021 [YR2021]  | Dữ liệu năm 2021                     | float64         |\n",
    "| 2022 [YR2022]  | Dữ liệu năm 2022                     | float64         |\n",
    "| 2023 [YR2023]  | Dữ liệu năm 2023                     | float64         |\n",
    "\n",
    "Vậy cũng có nghĩa là, mỗi hàng trong dữ liệu sẽ chứa thông tin về một chỉ số khác nhau của bộ dữ liệu và giá trị của chỉ số đó từ năm 2011 đến 2023."
   ]
  },
  {
   "cell_type": "markdown",
   "metadata": {},
   "source": [
    "## **2. Kiểm tra dữ liệu bị thiếu**\n",
    "\n",
    "Ở phần này, chúng ta sẽ kiểm tra xem dữ liệu có bị thiếu không, nếu có thì chúng ta sẽ xử lí dữ liệu bị thiếu ở phần tiền xử lí để làm sạch dữ liệu."
   ]
  },
  {
   "cell_type": "code",
   "execution_count": 5,
   "metadata": {},
   "outputs": [
    {
     "name": "stdout",
     "output_type": "stream",
     "text": [
      "Giá trị thiếu trong mỗi cột:\n",
      "Country Name     3\n",
      "Country Code     5\n",
      "Series Name      5\n",
      "Series Code      5\n",
      "2011 [YR2011]    5\n",
      "2012 [YR2012]    5\n",
      "2013 [YR2013]    5\n",
      "2014 [YR2014]    5\n",
      "2015 [YR2015]    5\n",
      "2016 [YR2016]    5\n",
      "2017 [YR2017]    5\n",
      "2018 [YR2018]    5\n",
      "2019 [YR2019]    5\n",
      "2020 [YR2020]    5\n",
      "2021 [YR2021]    5\n",
      "2022 [YR2022]    5\n",
      "2023 [YR2023]    5\n",
      "dtype: int64\n"
     ]
    }
   ],
   "source": [
    "print('Giá trị thiếu trong mỗi cột:')\n",
    "print(raw_df.isnull().sum())"
   ]
  },
  {
   "cell_type": "markdown",
   "metadata": {},
   "source": [
    "Các dữ liệu bị thiếu có vẻ đồng đều về số lượng, không quá nhiều, chúng ta sẽ xử lí sau."
   ]
  },
  {
   "cell_type": "markdown",
   "metadata": {},
   "source": [
    "## **3. Kiểm tra dữ liệu bị trùng**\n",
    "\n",
    "Ở phần này, chúng ta sẽ kiểm tra xem dữ liệu có bị trùng không, nếu có thì chúng ta sẽ xóa dữ liệu trùng."
   ]
  },
  {
   "cell_type": "code",
   "execution_count": 6,
   "metadata": {},
   "outputs": [
    {
     "name": "stdout",
     "output_type": "stream",
     "text": [
      "Dữ liệu trùng lặp:\n",
      "2\n"
     ]
    }
   ],
   "source": [
    "print('Dữ liệu trùng lặp:')\n",
    "print(raw_df.duplicated().sum())"
   ]
  },
  {
   "cell_type": "markdown",
   "metadata": {},
   "source": [
    "Không may là chúng ta có 2 dữ liệu trùng lặp. Nhưng mỗi mẫu tương ứng với một chỉ số khác nhau nên chúng ta sẽ xem xét các giá trị khác nhau ở mỗi trường dữ liệu."
   ]
  },
  {
   "cell_type": "code",
   "execution_count": 7,
   "metadata": {},
   "outputs": [
    {
     "name": "stdout",
     "output_type": "stream",
     "text": [
      "Country Name: 3 giá trị khác nhau\n",
      "Country Code: 1 giá trị khác nhau\n",
      "Series Name: 29 giá trị khác nhau\n",
      "Series Code: 29 giá trị khác nhau\n",
      "2011 [YR2011]: 29 giá trị khác nhau\n",
      "2012 [YR2012]: 29 giá trị khác nhau\n",
      "2013 [YR2013]: 29 giá trị khác nhau\n",
      "2014 [YR2014]: 29 giá trị khác nhau\n",
      "2015 [YR2015]: 27 giá trị khác nhau\n",
      "2016 [YR2016]: 29 giá trị khác nhau\n",
      "2017 [YR2017]: 29 giá trị khác nhau\n",
      "2018 [YR2018]: 29 giá trị khác nhau\n",
      "2019 [YR2019]: 29 giá trị khác nhau\n",
      "2020 [YR2020]: 29 giá trị khác nhau\n",
      "2021 [YR2021]: 28 giá trị khác nhau\n",
      "2022 [YR2022]: 28 giá trị khác nhau\n",
      "2023 [YR2023]: 28 giá trị khác nhau\n"
     ]
    }
   ],
   "source": [
    "for col in raw_df.columns:\n",
    "    print(f\"{col}: {raw_df[col].nunique()} giá trị khác nhau\")"
   ]
  },
  {
   "cell_type": "markdown",
   "metadata": {},
   "source": [
    "Chúng ta có 29 chỉ số khác nhau về 1 quốc gia, nên `Country Code` chỉ có 1 giá trị khác nhau và `Series Name`, `Series Code` có 29 giá trị khác nhau là bình thường. Tương tự, với các năm: 2011 - 2014, 2016 - 2020 có 29 giá trị khác nhau là bình thường.\n",
    "\n",
    "Ngược lại với các năm 2015 và 2021 - 2023, chúng ta có 28 giá trị khác nhau, đây có thể là giá trị bị thiếu chúng ta đã kiểm tra ở trên. Chúng ta sẽ xử lí nó sau. Nhưng điều khó hiểu là `Country Code` chỉ có 1 giá trị khác nhau mà `Country Name` lại có 3 giá trị khác nhau. Chúng ta sẽ kiểm tra xem `Country Name` có các giá trị khác nhau nào?"
   ]
  },
  {
   "cell_type": "code",
   "execution_count": 8,
   "metadata": {},
   "outputs": [
    {
     "data": {
      "text/plain": [
       "Country Name\n",
       "Viet Nam                                            29\n",
       "Data from database: World Development Indicators     1\n",
       "Last Updated: 01/28/2025                             1\n",
       "Name: count, dtype: int64"
      ]
     },
     "execution_count": 8,
     "metadata": {},
     "output_type": "execute_result"
    }
   ],
   "source": [
    "raw_df['Country Name'].value_counts()"
   ]
  },
  {
   "cell_type": "markdown",
   "metadata": {},
   "source": [
    "Vậy là ngoại trừ Việt Nam xuất hiện 29 mẫu, còn có 2 giá trị của trường `Country Name` không phải là nước mà là thông tin của bộ dữ liệu, chúng ta sẽ kiểm tra xem 2 mẫu chứa 2 giá trị này là gì?"
   ]
  },
  {
   "cell_type": "code",
   "execution_count": 9,
   "metadata": {},
   "outputs": [
    {
     "data": {
      "text/html": [
       "<div>\n",
       "<style scoped>\n",
       "    .dataframe tbody tr th:only-of-type {\n",
       "        vertical-align: middle;\n",
       "    }\n",
       "\n",
       "    .dataframe tbody tr th {\n",
       "        vertical-align: top;\n",
       "    }\n",
       "\n",
       "    .dataframe thead th {\n",
       "        text-align: right;\n",
       "    }\n",
       "</style>\n",
       "<table border=\"1\" class=\"dataframe\">\n",
       "  <thead>\n",
       "    <tr style=\"text-align: right;\">\n",
       "      <th></th>\n",
       "      <th>Country Name</th>\n",
       "      <th>Country Code</th>\n",
       "      <th>Series Name</th>\n",
       "      <th>Series Code</th>\n",
       "      <th>2011 [YR2011]</th>\n",
       "      <th>2012 [YR2012]</th>\n",
       "      <th>2013 [YR2013]</th>\n",
       "      <th>2014 [YR2014]</th>\n",
       "      <th>2015 [YR2015]</th>\n",
       "      <th>2016 [YR2016]</th>\n",
       "      <th>2017 [YR2017]</th>\n",
       "      <th>2018 [YR2018]</th>\n",
       "      <th>2019 [YR2019]</th>\n",
       "      <th>2020 [YR2020]</th>\n",
       "      <th>2021 [YR2021]</th>\n",
       "      <th>2022 [YR2022]</th>\n",
       "      <th>2023 [YR2023]</th>\n",
       "    </tr>\n",
       "  </thead>\n",
       "  <tbody>\n",
       "    <tr>\n",
       "      <th>29</th>\n",
       "      <td>NaN</td>\n",
       "      <td>NaN</td>\n",
       "      <td>NaN</td>\n",
       "      <td>NaN</td>\n",
       "      <td>NaN</td>\n",
       "      <td>NaN</td>\n",
       "      <td>NaN</td>\n",
       "      <td>NaN</td>\n",
       "      <td>NaN</td>\n",
       "      <td>NaN</td>\n",
       "      <td>NaN</td>\n",
       "      <td>NaN</td>\n",
       "      <td>NaN</td>\n",
       "      <td>NaN</td>\n",
       "      <td>NaN</td>\n",
       "      <td>NaN</td>\n",
       "      <td>NaN</td>\n",
       "    </tr>\n",
       "    <tr>\n",
       "      <th>30</th>\n",
       "      <td>NaN</td>\n",
       "      <td>NaN</td>\n",
       "      <td>NaN</td>\n",
       "      <td>NaN</td>\n",
       "      <td>NaN</td>\n",
       "      <td>NaN</td>\n",
       "      <td>NaN</td>\n",
       "      <td>NaN</td>\n",
       "      <td>NaN</td>\n",
       "      <td>NaN</td>\n",
       "      <td>NaN</td>\n",
       "      <td>NaN</td>\n",
       "      <td>NaN</td>\n",
       "      <td>NaN</td>\n",
       "      <td>NaN</td>\n",
       "      <td>NaN</td>\n",
       "      <td>NaN</td>\n",
       "    </tr>\n",
       "    <tr>\n",
       "      <th>31</th>\n",
       "      <td>NaN</td>\n",
       "      <td>NaN</td>\n",
       "      <td>NaN</td>\n",
       "      <td>NaN</td>\n",
       "      <td>NaN</td>\n",
       "      <td>NaN</td>\n",
       "      <td>NaN</td>\n",
       "      <td>NaN</td>\n",
       "      <td>NaN</td>\n",
       "      <td>NaN</td>\n",
       "      <td>NaN</td>\n",
       "      <td>NaN</td>\n",
       "      <td>NaN</td>\n",
       "      <td>NaN</td>\n",
       "      <td>NaN</td>\n",
       "      <td>NaN</td>\n",
       "      <td>NaN</td>\n",
       "    </tr>\n",
       "    <tr>\n",
       "      <th>32</th>\n",
       "      <td>Data from database: World Development Indicators</td>\n",
       "      <td>NaN</td>\n",
       "      <td>NaN</td>\n",
       "      <td>NaN</td>\n",
       "      <td>NaN</td>\n",
       "      <td>NaN</td>\n",
       "      <td>NaN</td>\n",
       "      <td>NaN</td>\n",
       "      <td>NaN</td>\n",
       "      <td>NaN</td>\n",
       "      <td>NaN</td>\n",
       "      <td>NaN</td>\n",
       "      <td>NaN</td>\n",
       "      <td>NaN</td>\n",
       "      <td>NaN</td>\n",
       "      <td>NaN</td>\n",
       "      <td>NaN</td>\n",
       "    </tr>\n",
       "    <tr>\n",
       "      <th>33</th>\n",
       "      <td>Last Updated: 01/28/2025</td>\n",
       "      <td>NaN</td>\n",
       "      <td>NaN</td>\n",
       "      <td>NaN</td>\n",
       "      <td>NaN</td>\n",
       "      <td>NaN</td>\n",
       "      <td>NaN</td>\n",
       "      <td>NaN</td>\n",
       "      <td>NaN</td>\n",
       "      <td>NaN</td>\n",
       "      <td>NaN</td>\n",
       "      <td>NaN</td>\n",
       "      <td>NaN</td>\n",
       "      <td>NaN</td>\n",
       "      <td>NaN</td>\n",
       "      <td>NaN</td>\n",
       "      <td>NaN</td>\n",
       "    </tr>\n",
       "  </tbody>\n",
       "</table>\n",
       "</div>"
      ],
      "text/plain": [
       "                                        Country Name Country Code Series Name  \\\n",
       "29                                               NaN          NaN         NaN   \n",
       "30                                               NaN          NaN         NaN   \n",
       "31                                               NaN          NaN         NaN   \n",
       "32  Data from database: World Development Indicators          NaN         NaN   \n",
       "33                          Last Updated: 01/28/2025          NaN         NaN   \n",
       "\n",
       "   Series Code  2011 [YR2011]  2012 [YR2012]  2013 [YR2013]  2014 [YR2014]  \\\n",
       "29         NaN            NaN            NaN            NaN            NaN   \n",
       "30         NaN            NaN            NaN            NaN            NaN   \n",
       "31         NaN            NaN            NaN            NaN            NaN   \n",
       "32         NaN            NaN            NaN            NaN            NaN   \n",
       "33         NaN            NaN            NaN            NaN            NaN   \n",
       "\n",
       "    2015 [YR2015]  2016 [YR2016]  2017 [YR2017]  2018 [YR2018]  2019 [YR2019]  \\\n",
       "29            NaN            NaN            NaN            NaN            NaN   \n",
       "30            NaN            NaN            NaN            NaN            NaN   \n",
       "31            NaN            NaN            NaN            NaN            NaN   \n",
       "32            NaN            NaN            NaN            NaN            NaN   \n",
       "33            NaN            NaN            NaN            NaN            NaN   \n",
       "\n",
       "    2020 [YR2020] 2021 [YR2021] 2022 [YR2022] 2023 [YR2023]  \n",
       "29            NaN           NaN           NaN           NaN  \n",
       "30            NaN           NaN           NaN           NaN  \n",
       "31            NaN           NaN           NaN           NaN  \n",
       "32            NaN           NaN           NaN           NaN  \n",
       "33            NaN           NaN           NaN           NaN  "
      ]
     },
     "execution_count": 9,
     "metadata": {},
     "output_type": "execute_result"
    }
   ],
   "source": [
    "raw_df[raw_df['Country Name'] != 'Viet Nam']"
   ]
  },
  {
   "cell_type": "markdown",
   "metadata": {},
   "source": [
    "Xem ra là đây có thể là những mẫu thông tin gây ra các dữ liệu thiếu và trùng lặp. Chúng ta sẽ xử lí nó ở phần sau đây."
   ]
  },
  {
   "cell_type": "markdown",
   "metadata": {},
   "source": [
    "## **4. Xử lí dữ liệu bị thiếu và trùng lặp**"
   ]
  }
 ],
 "metadata": {
  "kernelspec": {
   "display_name": "Python 3",
   "language": "python",
   "name": "python3"
  },
  "language_info": {
   "codemirror_mode": {
    "name": "ipython",
    "version": 3
   },
   "file_extension": ".py",
   "mimetype": "text/x-python",
   "name": "python",
   "nbconvert_exporter": "python",
   "pygments_lexer": "ipython3",
   "version": "3.12.1"
  }
 },
 "nbformat": 4,
 "nbformat_minor": 2
}
